{
 "cells": [
  {
   "cell_type": "code",
   "execution_count": 2,
   "metadata": {},
   "outputs": [],
   "source": [
    "#importacion de libraries\n",
    "import pandas as pd \n",
    "import numpy as np\n",
    "import matplotlib.pyplot as plt\n",
    "import seaborn as sns"
   ]
  },
  {
   "cell_type": "code",
   "execution_count": 3,
   "metadata": {},
   "outputs": [],
   "source": [
    "#carga de datasets\n",
    "#Le especifico el tipo a algunas columnas porque sino me tira un warning, podria especificar el verdadero tipo tambien\n",
    "todoSet = pd.read_csv(\"/home/jonathan/Escritorio/orgaDeDatos/fiuba-trocafone-tp2-final-set/events_up_to_01062018.csv\",\\\n",
    "                   dtype = {3: object,5: object,\n",
    "                    6: object,7: object,\n",
    "                    8: object,9: object,\n",
    "                    10: object,11: object,\n",
    "                    12: object,13: object,\n",
    "                    14: object,15: object,\n",
    "                    16: object,17: object,\n",
    "                    18: object,19: object,\n",
    "                    20: object,21: object,\n",
    "                    22: object})\n",
    "trainSet = pd.read_csv(\"/home/jonathan/Escritorio/orgaDeDatos/fiuba-trocafone-tp2-final-set/labels_training_set.csv\")\n",
    "#usersJunioSet = pd.read_csv(\"/home/jonathan/Escritorio/orgaDeDatos/fiuba-trocafone-tp2-final-set/trocafone_kaggle_test.csv\")"
   ]
  },
  {
   "cell_type": "code",
   "execution_count": 3,
   "metadata": {},
   "outputs": [
    {
     "data": {
      "text/html": [
       "<div>\n",
       "<style scoped>\n",
       "    .dataframe tbody tr th:only-of-type {\n",
       "        vertical-align: middle;\n",
       "    }\n",
       "\n",
       "    .dataframe tbody tr th {\n",
       "        vertical-align: top;\n",
       "    }\n",
       "\n",
       "    .dataframe thead th {\n",
       "        text-align: right;\n",
       "    }\n",
       "</style>\n",
       "<table border=\"1\" class=\"dataframe\">\n",
       "  <thead>\n",
       "    <tr style=\"text-align: right;\">\n",
       "      <th></th>\n",
       "      <th>timestamp</th>\n",
       "      <th>event</th>\n",
       "      <th>person</th>\n",
       "      <th>url</th>\n",
       "      <th>sku</th>\n",
       "      <th>model</th>\n",
       "      <th>condition</th>\n",
       "      <th>storage</th>\n",
       "      <th>color</th>\n",
       "      <th>skus</th>\n",
       "      <th>...</th>\n",
       "      <th>search_engine</th>\n",
       "      <th>channel</th>\n",
       "      <th>new_vs_returning</th>\n",
       "      <th>city</th>\n",
       "      <th>region</th>\n",
       "      <th>country</th>\n",
       "      <th>device_type</th>\n",
       "      <th>screen_resolution</th>\n",
       "      <th>operating_system_version</th>\n",
       "      <th>browser_version</th>\n",
       "    </tr>\n",
       "  </thead>\n",
       "  <tbody>\n",
       "    <tr>\n",
       "      <th>0</th>\n",
       "      <td>2018-05-18 00:11:59</td>\n",
       "      <td>viewed product</td>\n",
       "      <td>4886f805</td>\n",
       "      <td>NaN</td>\n",
       "      <td>9288.0</td>\n",
       "      <td>Samsung Galaxy J7 Prime</td>\n",
       "      <td>Excelente</td>\n",
       "      <td>32GB</td>\n",
       "      <td>Dourado</td>\n",
       "      <td>NaN</td>\n",
       "      <td>...</td>\n",
       "      <td>NaN</td>\n",
       "      <td>NaN</td>\n",
       "      <td>NaN</td>\n",
       "      <td>NaN</td>\n",
       "      <td>NaN</td>\n",
       "      <td>NaN</td>\n",
       "      <td>NaN</td>\n",
       "      <td>NaN</td>\n",
       "      <td>NaN</td>\n",
       "      <td>NaN</td>\n",
       "    </tr>\n",
       "    <tr>\n",
       "      <th>1</th>\n",
       "      <td>2018-05-18 00:11:27</td>\n",
       "      <td>viewed product</td>\n",
       "      <td>ad93850f</td>\n",
       "      <td>NaN</td>\n",
       "      <td>304.0</td>\n",
       "      <td>iPhone 5s</td>\n",
       "      <td>Muito Bom</td>\n",
       "      <td>32GB</td>\n",
       "      <td>Cinza espacial</td>\n",
       "      <td>NaN</td>\n",
       "      <td>...</td>\n",
       "      <td>NaN</td>\n",
       "      <td>NaN</td>\n",
       "      <td>NaN</td>\n",
       "      <td>NaN</td>\n",
       "      <td>NaN</td>\n",
       "      <td>NaN</td>\n",
       "      <td>NaN</td>\n",
       "      <td>NaN</td>\n",
       "      <td>NaN</td>\n",
       "      <td>NaN</td>\n",
       "    </tr>\n",
       "    <tr>\n",
       "      <th>2</th>\n",
       "      <td>2018-05-18 00:11:16</td>\n",
       "      <td>viewed product</td>\n",
       "      <td>0297fc1e</td>\n",
       "      <td>NaN</td>\n",
       "      <td>6888.0</td>\n",
       "      <td>iPhone 6S</td>\n",
       "      <td>Muito Bom</td>\n",
       "      <td>64GB</td>\n",
       "      <td>Prateado</td>\n",
       "      <td>NaN</td>\n",
       "      <td>...</td>\n",
       "      <td>NaN</td>\n",
       "      <td>NaN</td>\n",
       "      <td>NaN</td>\n",
       "      <td>NaN</td>\n",
       "      <td>NaN</td>\n",
       "      <td>NaN</td>\n",
       "      <td>NaN</td>\n",
       "      <td>NaN</td>\n",
       "      <td>NaN</td>\n",
       "      <td>NaN</td>\n",
       "    </tr>\n",
       "    <tr>\n",
       "      <th>3</th>\n",
       "      <td>2018-05-18 00:11:14</td>\n",
       "      <td>viewed product</td>\n",
       "      <td>2d681dd8</td>\n",
       "      <td>NaN</td>\n",
       "      <td>11890.0</td>\n",
       "      <td>iPhone 7</td>\n",
       "      <td>Bom</td>\n",
       "      <td>128GB</td>\n",
       "      <td>Vermelho</td>\n",
       "      <td>NaN</td>\n",
       "      <td>...</td>\n",
       "      <td>NaN</td>\n",
       "      <td>NaN</td>\n",
       "      <td>NaN</td>\n",
       "      <td>NaN</td>\n",
       "      <td>NaN</td>\n",
       "      <td>NaN</td>\n",
       "      <td>NaN</td>\n",
       "      <td>NaN</td>\n",
       "      <td>NaN</td>\n",
       "      <td>NaN</td>\n",
       "    </tr>\n",
       "    <tr>\n",
       "      <th>4</th>\n",
       "      <td>2018-05-18 00:11:09</td>\n",
       "      <td>viewed product</td>\n",
       "      <td>cccea85e</td>\n",
       "      <td>NaN</td>\n",
       "      <td>7517.0</td>\n",
       "      <td>LG G4 H818P</td>\n",
       "      <td>Excelente</td>\n",
       "      <td>32GB</td>\n",
       "      <td>Branco</td>\n",
       "      <td>NaN</td>\n",
       "      <td>...</td>\n",
       "      <td>NaN</td>\n",
       "      <td>NaN</td>\n",
       "      <td>NaN</td>\n",
       "      <td>NaN</td>\n",
       "      <td>NaN</td>\n",
       "      <td>NaN</td>\n",
       "      <td>NaN</td>\n",
       "      <td>NaN</td>\n",
       "      <td>NaN</td>\n",
       "      <td>NaN</td>\n",
       "    </tr>\n",
       "  </tbody>\n",
       "</table>\n",
       "<p>5 rows × 23 columns</p>\n",
       "</div>"
      ],
      "text/plain": [
       "             timestamp           event    person  url      sku  \\\n",
       "0  2018-05-18 00:11:59  viewed product  4886f805  NaN   9288.0   \n",
       "1  2018-05-18 00:11:27  viewed product  ad93850f  NaN    304.0   \n",
       "2  2018-05-18 00:11:16  viewed product  0297fc1e  NaN   6888.0   \n",
       "3  2018-05-18 00:11:14  viewed product  2d681dd8  NaN  11890.0   \n",
       "4  2018-05-18 00:11:09  viewed product  cccea85e  NaN   7517.0   \n",
       "\n",
       "                     model  condition storage           color skus  \\\n",
       "0  Samsung Galaxy J7 Prime  Excelente    32GB         Dourado  NaN   \n",
       "1                iPhone 5s  Muito Bom    32GB  Cinza espacial  NaN   \n",
       "2                iPhone 6S  Muito Bom    64GB        Prateado  NaN   \n",
       "3                 iPhone 7        Bom   128GB        Vermelho  NaN   \n",
       "4              LG G4 H818P  Excelente    32GB          Branco  NaN   \n",
       "\n",
       "        ...       search_engine channel new_vs_returning city region country  \\\n",
       "0       ...                 NaN     NaN              NaN  NaN    NaN     NaN   \n",
       "1       ...                 NaN     NaN              NaN  NaN    NaN     NaN   \n",
       "2       ...                 NaN     NaN              NaN  NaN    NaN     NaN   \n",
       "3       ...                 NaN     NaN              NaN  NaN    NaN     NaN   \n",
       "4       ...                 NaN     NaN              NaN  NaN    NaN     NaN   \n",
       "\n",
       "  device_type screen_resolution operating_system_version browser_version  \n",
       "0         NaN               NaN                      NaN             NaN  \n",
       "1         NaN               NaN                      NaN             NaN  \n",
       "2         NaN               NaN                      NaN             NaN  \n",
       "3         NaN               NaN                      NaN             NaN  \n",
       "4         NaN               NaN                      NaN             NaN  \n",
       "\n",
       "[5 rows x 23 columns]"
      ]
     },
     "execution_count": 3,
     "metadata": {},
     "output_type": "execute_result"
    }
   ],
   "source": [
    "todoSet.head()"
   ]
  },
  {
   "cell_type": "code",
   "execution_count": 4,
   "metadata": {},
   "outputs": [
    {
     "data": {
      "text/html": [
       "<div>\n",
       "<style scoped>\n",
       "    .dataframe tbody tr th:only-of-type {\n",
       "        vertical-align: middle;\n",
       "    }\n",
       "\n",
       "    .dataframe tbody tr th {\n",
       "        vertical-align: top;\n",
       "    }\n",
       "\n",
       "    .dataframe thead th {\n",
       "        text-align: right;\n",
       "    }\n",
       "</style>\n",
       "<table border=\"1\" class=\"dataframe\">\n",
       "  <thead>\n",
       "    <tr style=\"text-align: right;\">\n",
       "      <th></th>\n",
       "      <th>person</th>\n",
       "      <th>label</th>\n",
       "    </tr>\n",
       "  </thead>\n",
       "  <tbody>\n",
       "    <tr>\n",
       "      <th>0</th>\n",
       "      <td>0566e9c1</td>\n",
       "      <td>0</td>\n",
       "    </tr>\n",
       "    <tr>\n",
       "      <th>1</th>\n",
       "      <td>6ec7ee77</td>\n",
       "      <td>0</td>\n",
       "    </tr>\n",
       "    <tr>\n",
       "      <th>2</th>\n",
       "      <td>abe7a2fb</td>\n",
       "      <td>0</td>\n",
       "    </tr>\n",
       "    <tr>\n",
       "      <th>3</th>\n",
       "      <td>34728364</td>\n",
       "      <td>0</td>\n",
       "    </tr>\n",
       "    <tr>\n",
       "      <th>4</th>\n",
       "      <td>87ed62de</td>\n",
       "      <td>0</td>\n",
       "    </tr>\n",
       "  </tbody>\n",
       "</table>\n",
       "</div>"
      ],
      "text/plain": [
       "     person  label\n",
       "0  0566e9c1      0\n",
       "1  6ec7ee77      0\n",
       "2  abe7a2fb      0\n",
       "3  34728364      0\n",
       "4  87ed62de      0"
      ]
     },
     "execution_count": 4,
     "metadata": {},
     "output_type": "execute_result"
    }
   ],
   "source": [
    "trainSet.head()"
   ]
  },
  {
   "cell_type": "code",
   "execution_count": 5,
   "metadata": {},
   "outputs": [
    {
     "data": {
      "text/html": [
       "<div>\n",
       "<style scoped>\n",
       "    .dataframe tbody tr th:only-of-type {\n",
       "        vertical-align: middle;\n",
       "    }\n",
       "\n",
       "    .dataframe tbody tr th {\n",
       "        vertical-align: top;\n",
       "    }\n",
       "\n",
       "    .dataframe thead th {\n",
       "        text-align: right;\n",
       "    }\n",
       "</style>\n",
       "<table border=\"1\" class=\"dataframe\">\n",
       "  <thead>\n",
       "    <tr style=\"text-align: right;\">\n",
       "      <th></th>\n",
       "      <th>person</th>\n",
       "    </tr>\n",
       "  </thead>\n",
       "  <tbody>\n",
       "    <tr>\n",
       "      <th>0</th>\n",
       "      <td>4886f805</td>\n",
       "    </tr>\n",
       "    <tr>\n",
       "      <th>1</th>\n",
       "      <td>0297fc1e</td>\n",
       "    </tr>\n",
       "    <tr>\n",
       "      <th>2</th>\n",
       "      <td>2d681dd8</td>\n",
       "    </tr>\n",
       "    <tr>\n",
       "      <th>3</th>\n",
       "      <td>cccea85e</td>\n",
       "    </tr>\n",
       "    <tr>\n",
       "      <th>4</th>\n",
       "      <td>4c8a8b93</td>\n",
       "    </tr>\n",
       "  </tbody>\n",
       "</table>\n",
       "</div>"
      ],
      "text/plain": [
       "     person\n",
       "0  4886f805\n",
       "1  0297fc1e\n",
       "2  2d681dd8\n",
       "3  cccea85e\n",
       "4  4c8a8b93"
      ]
     },
     "execution_count": 5,
     "metadata": {},
     "output_type": "execute_result"
    }
   ],
   "source": [
    "#usersJunioSet.head()"
   ]
  },
  {
   "cell_type": "code",
   "execution_count": 6,
   "metadata": {},
   "outputs": [
    {
     "data": {
      "text/plain": [
       "timestamp                    object\n",
       "event                        object\n",
       "person                       object\n",
       "url                          object\n",
       "sku                         float64\n",
       "model                        object\n",
       "condition                    object\n",
       "storage                      object\n",
       "color                        object\n",
       "skus                         object\n",
       "search_term                  object\n",
       "staticpage                   object\n",
       "campaign_source              object\n",
       "search_engine                object\n",
       "channel                      object\n",
       "new_vs_returning             object\n",
       "city                         object\n",
       "region                       object\n",
       "country                      object\n",
       "device_type                  object\n",
       "screen_resolution            object\n",
       "operating_system_version     object\n",
       "browser_version              object\n",
       "dtype: object"
      ]
     },
     "execution_count": 6,
     "metadata": {},
     "output_type": "execute_result"
    }
   ],
   "source": [
    "todoSet.dtypes"
   ]
  },
  {
   "cell_type": "code",
   "execution_count": 6,
   "metadata": {},
   "outputs": [],
   "source": [
    "#conversion de Object a datetime\n",
    "todoSet['timestamp'] = pd.to_datetime(todoSet['timestamp'])"
   ]
  },
  {
   "cell_type": "markdown",
   "metadata": {},
   "source": [
    "# Feature Engineering"
   ]
  },
  {
   "cell_type": "code",
   "execution_count": 7,
   "metadata": {},
   "outputs": [],
   "source": [
    "#Comienzo buscando features sobre la cantidad de eventos por usuario"
   ]
  },
  {
   "cell_type": "code",
   "execution_count": 8,
   "metadata": {},
   "outputs": [],
   "source": [
    "#Me quedo con los usuarios que convirtieron en junio(los de train)\n",
    "usersTrain = pd.merge(todoSet,trainSet,how = 'inner',on='person')"
   ]
  },
  {
   "cell_type": "code",
   "execution_count": null,
   "metadata": {},
   "outputs": [],
   "source": []
  },
  {
   "cell_type": "code",
   "execution_count": 9,
   "metadata": {},
   "outputs": [],
   "source": [
    "#Creo una columna con solo fecha sin tiempo\n",
    "usersTrain['fecha'] = usersTrain['timestamp'].dt.date"
   ]
  },
  {
   "cell_type": "markdown",
   "metadata": {},
   "source": [
    "### Features numericos"
   ]
  },
  {
   "cell_type": "code",
   "execution_count": 10,
   "metadata": {},
   "outputs": [
    {
     "data": {
      "text/plain": [
       "viewed product       629233\n",
       "brand listing        105993\n",
       "visited site         102299\n",
       "ad campaign hit       94998\n",
       "generic listing       80453\n",
       "searched products     63887\n",
       "search engine hit     52829\n",
       "checkout              32539\n",
       "staticpage             5660\n",
       "conversion             3564\n",
       "lead                    431\n",
       "Name: event, dtype: int64"
      ]
     },
     "execution_count": 10,
     "metadata": {},
     "output_type": "execute_result"
    }
   ],
   "source": [
    "usersTrain['event'].value_counts()"
   ]
  },
  {
   "cell_type": "code",
   "execution_count": 11,
   "metadata": {},
   "outputs": [],
   "source": [
    "def agruparPorPersonaFecha(dataframe,evento,nuevoNombreEvento):\n",
    "    feature = dataframe[dataframe['event'] == evento].sort_values(by = 'fecha')\n",
    "    feature = dataframe.groupby(['fecha','person'])['event'].size()\n",
    "    feature = pd.DataFrame(data = feature)\\\n",
    "                        .rename(columns = {'event' : nuevoNombreEvento})\n",
    "    feature = feature.sort_values(by = ['fecha','person']).reset_index()\n",
    "    feature['fecha'] = pd.to_datetime(feature['fecha'])\n",
    "    feature['mes'] = feature['fecha'].dt.month\n",
    "    feature = feature[['mes','person',nuevoNombreEvento]]\n",
    "    feature = pd.DataFrame(data = feature.groupby(['mes','person'])[nuevoNombreEvento]\\\n",
    "                             .size()).unstack('mes',0).reset_index('person')\n",
    "    feature = pd.merge(feature,trainSet,on='person',how='inner')\\\n",
    "                             .drop(('person', ''),1).rename(columns = {\\\n",
    "                                (nuevoNombreEvento, 1) : 'Enero - ' + nuevoNombreEvento,\\\n",
    "                                (nuevoNombreEvento, 2) : 'Febrero - ' + nuevoNombreEvento,\\\n",
    "                                 (nuevoNombreEvento, 3) : 'Marzo - ' + nuevoNombreEvento,\\\n",
    "                                 (nuevoNombreEvento, 4) : 'Abril - ' + nuevoNombreEvento,\\\n",
    "                                (nuevoNombreEvento, 5) : 'Mayo - ' + nuevoNombreEvento})\n",
    "    return feature"
   ]
  },
  {
   "cell_type": "code",
   "execution_count": 12,
   "metadata": {},
   "outputs": [
    {
     "name": "stderr",
     "output_type": "stream",
     "text": [
      "/home/jonathan/anaconda3/lib/python3.6/site-packages/pandas/core/reshape/merge.py:543: UserWarning: merging between different levels can give an unintended result (2 levels on the left, 1 on the right)\n",
      "  warnings.warn(msg, UserWarning)\n"
     ]
    },
    {
     "data": {
      "text/html": [
       "<div>\n",
       "<style scoped>\n",
       "    .dataframe tbody tr th:only-of-type {\n",
       "        vertical-align: middle;\n",
       "    }\n",
       "\n",
       "    .dataframe tbody tr th {\n",
       "        vertical-align: top;\n",
       "    }\n",
       "\n",
       "    .dataframe thead th {\n",
       "        text-align: right;\n",
       "    }\n",
       "</style>\n",
       "<table border=\"1\" class=\"dataframe\">\n",
       "  <thead>\n",
       "    <tr style=\"text-align: right;\">\n",
       "      <th></th>\n",
       "      <th>person</th>\n",
       "      <th>Enero - cantidadEventos</th>\n",
       "      <th>Febrero - cantidadEventos</th>\n",
       "      <th>Marzo - cantidadEventos</th>\n",
       "      <th>Abril - cantidadEventos</th>\n",
       "      <th>Mayo - cantidadEventos</th>\n",
       "      <th>label</th>\n",
       "    </tr>\n",
       "  </thead>\n",
       "  <tbody>\n",
       "    <tr>\n",
       "      <th>0</th>\n",
       "      <td>0008ed71</td>\n",
       "      <td>0</td>\n",
       "      <td>0</td>\n",
       "      <td>0</td>\n",
       "      <td>0</td>\n",
       "      <td>1</td>\n",
       "      <td>0</td>\n",
       "    </tr>\n",
       "    <tr>\n",
       "      <th>1</th>\n",
       "      <td>000c79fe</td>\n",
       "      <td>0</td>\n",
       "      <td>0</td>\n",
       "      <td>0</td>\n",
       "      <td>0</td>\n",
       "      <td>1</td>\n",
       "      <td>0</td>\n",
       "    </tr>\n",
       "    <tr>\n",
       "      <th>2</th>\n",
       "      <td>001802e4</td>\n",
       "      <td>0</td>\n",
       "      <td>0</td>\n",
       "      <td>0</td>\n",
       "      <td>0</td>\n",
       "      <td>1</td>\n",
       "      <td>0</td>\n",
       "    </tr>\n",
       "    <tr>\n",
       "      <th>3</th>\n",
       "      <td>0019e639</td>\n",
       "      <td>1</td>\n",
       "      <td>3</td>\n",
       "      <td>0</td>\n",
       "      <td>1</td>\n",
       "      <td>9</td>\n",
       "      <td>0</td>\n",
       "    </tr>\n",
       "    <tr>\n",
       "      <th>4</th>\n",
       "      <td>001b0bf9</td>\n",
       "      <td>0</td>\n",
       "      <td>0</td>\n",
       "      <td>0</td>\n",
       "      <td>0</td>\n",
       "      <td>1</td>\n",
       "      <td>0</td>\n",
       "    </tr>\n",
       "  </tbody>\n",
       "</table>\n",
       "</div>"
      ],
      "text/plain": [
       "     person  Enero - cantidadEventos  Febrero - cantidadEventos  \\\n",
       "0  0008ed71                        0                          0   \n",
       "1  000c79fe                        0                          0   \n",
       "2  001802e4                        0                          0   \n",
       "3  0019e639                        1                          3   \n",
       "4  001b0bf9                        0                          0   \n",
       "\n",
       "   Marzo - cantidadEventos  Abril - cantidadEventos  Mayo - cantidadEventos  \\\n",
       "0                        0                        0                       1   \n",
       "1                        0                        0                       1   \n",
       "2                        0                        0                       1   \n",
       "3                        0                        1                       9   \n",
       "4                        0                        0                       1   \n",
       "\n",
       "   label  \n",
       "0      0  \n",
       "1      0  \n",
       "2      0  \n",
       "3      0  \n",
       "4      0  "
      ]
     },
     "execution_count": 12,
     "metadata": {},
     "output_type": "execute_result"
    }
   ],
   "source": [
    "# 1er feature: Cantidad de eventos por usuario\n",
    "eventosPorUserTrain = usersTrain.groupby(['fecha','person'])['event'].size()\n",
    "eventosPorUserTrain = pd.DataFrame(data = eventosPorUserTrain)\\\n",
    "                        .rename(columns = {'event' : 'cantEventos'})\n",
    "eventosPorFechaTrain = eventosPorUserTrain.sort_values(by = ['fecha','person']).reset_index()\n",
    "eventosPorFechaTrain['fecha'] = pd.to_datetime(eventosPorFechaTrain['fecha'])\n",
    "eventosPorFechaTrain['mes'] = eventosPorFechaTrain['fecha'].dt.month\n",
    "eventosPorFechaTrain = eventosPorFechaTrain[['mes','person','cantEventos']]\n",
    "eventosPorFechaTrain = pd.DataFrame(data = eventosPorFechaTrain.groupby(['mes','person'])['cantEventos']\\\n",
    "                             .size()).unstack('mes',0).reset_index('person')\n",
    "eventosPorFechaTrain = pd.merge(eventosPorFechaTrain,trainSet,on='person',how='inner').drop(('person', ''),1)\\\n",
    "    .rename(columns = {\\\n",
    "                        ('cantEventos', 1) : 'Enero - cantidadEventos',\\\n",
    "                        ('cantEventos', 2) : 'Febrero - cantidadEventos',\\\n",
    "                         ('cantEventos', 3) : 'Marzo - cantidadEventos',\\\n",
    "                         ('cantEventos', 4) : 'Abril - cantidadEventos',\\\n",
    "                        ('cantEventos', 5) : 'Mayo - cantidadEventos'\\\n",
    "})\n",
    "eventosPorFechaTrain.head()"
   ]
  },
  {
   "cell_type": "code",
   "execution_count": 13,
   "metadata": {},
   "outputs": [
    {
     "name": "stderr",
     "output_type": "stream",
     "text": [
      "/home/jonathan/anaconda3/lib/python3.6/site-packages/pandas/core/reshape/merge.py:543: UserWarning: merging between different levels can give an unintended result (2 levels on the left, 1 on the right)\n",
      "  warnings.warn(msg, UserWarning)\n"
     ]
    }
   ],
   "source": [
    "#2do feature: cantidad de checkouts por user por dia \n",
    "\n",
    "usersChecks = agruparPorPersonaFecha(usersTrain,'checkout','checkouts')\n"
   ]
  },
  {
   "cell_type": "code",
   "execution_count": 14,
   "metadata": {},
   "outputs": [
    {
     "name": "stderr",
     "output_type": "stream",
     "text": [
      "/home/jonathan/anaconda3/lib/python3.6/site-packages/pandas/core/reshape/merge.py:543: UserWarning: merging between different levels can give an unintended result (2 levels on the left, 1 on the right)\n",
      "  warnings.warn(msg, UserWarning)\n"
     ]
    }
   ],
   "source": [
    "#3er feature: cantidad de leads por mes por user\n",
    "usersLeads = agruparPorPersonaFecha(usersTrain,'lead','leads')\n"
   ]
  },
  {
   "cell_type": "code",
   "execution_count": 15,
   "metadata": {},
   "outputs": [
    {
     "name": "stderr",
     "output_type": "stream",
     "text": [
      "/home/jonathan/anaconda3/lib/python3.6/site-packages/pandas/core/reshape/merge.py:543: UserWarning: merging between different levels can give an unintended result (2 levels on the left, 1 on the right)\n",
      "  warnings.warn(msg, UserWarning)\n"
     ]
    }
   ],
   "source": [
    "#4to feature: cantidad de conversiones por mes por user\n",
    "usersConversions = agruparPorPersonaFecha(usersTrain,'conversion','conversiones')\n"
   ]
  },
  {
   "cell_type": "code",
   "execution_count": 16,
   "metadata": {},
   "outputs": [
    {
     "name": "stderr",
     "output_type": "stream",
     "text": [
      "/home/jonathan/anaconda3/lib/python3.6/site-packages/pandas/core/reshape/merge.py:543: UserWarning: merging between different levels can give an unintended result (2 levels on the left, 1 on the right)\n",
      "  warnings.warn(msg, UserWarning)\n"
     ]
    }
   ],
   "source": [
    "#5to feature: cantidad de staticPages visitadas por dia por user\n",
    "usersStaticPages = agruparPorPersonaFecha(usersTrain,'staticpage','staticPageVisitadas')\n"
   ]
  },
  {
   "cell_type": "code",
   "execution_count": 17,
   "metadata": {},
   "outputs": [
    {
     "name": "stderr",
     "output_type": "stream",
     "text": [
      "/home/jonathan/anaconda3/lib/python3.6/site-packages/pandas/core/reshape/merge.py:543: UserWarning: merging between different levels can give an unintended result (2 levels on the left, 1 on the right)\n",
      "  warnings.warn(msg, UserWarning)\n"
     ]
    }
   ],
   "source": [
    "#6to feature: cantidad de viewed product por mes por usuario\n",
    "usersViewedProducts = agruparPorPersonaFecha(usersTrain,'viewed product','ProductosVistosPorUser')\n"
   ]
  },
  {
   "cell_type": "code",
   "execution_count": 18,
   "metadata": {},
   "outputs": [
    {
     "name": "stderr",
     "output_type": "stream",
     "text": [
      "/home/jonathan/anaconda3/lib/python3.6/site-packages/pandas/core/reshape/merge.py:543: UserWarning: merging between different levels can give an unintended result (2 levels on the left, 1 on the right)\n",
      "  warnings.warn(msg, UserWarning)\n"
     ]
    }
   ],
   "source": [
    "#7mo feature: cantidad de listados visitados por usuario por mes\n",
    "usersBrandListing = agruparPorPersonaFecha(usersTrain,'brand listing','listadosVisitados')"
   ]
  },
  {
   "cell_type": "code",
   "execution_count": 19,
   "metadata": {},
   "outputs": [
    {
     "name": "stderr",
     "output_type": "stream",
     "text": [
      "/home/jonathan/anaconda3/lib/python3.6/site-packages/pandas/core/reshape/merge.py:543: UserWarning: merging between different levels can give an unintended result (2 levels on the left, 1 on the right)\n",
      "  warnings.warn(msg, UserWarning)\n"
     ]
    }
   ],
   "source": [
    "#8vo feature: numero de recurrencias por usuario\n",
    "usersRecurrencias = agruparPorPersonaFecha(usersTrain,'new_vs_returning','recurrencias')"
   ]
  },
  {
   "cell_type": "code",
   "execution_count": 20,
   "metadata": {},
   "outputs": [
    {
     "name": "stderr",
     "output_type": "stream",
     "text": [
      "/home/jonathan/anaconda3/lib/python3.6/site-packages/pandas/core/reshape/merge.py:543: UserWarning: merging between different levels can give an unintended result (2 levels on the left, 1 on the right)\n",
      "  warnings.warn(msg, UserWarning)\n"
     ]
    }
   ],
   "source": [
    "#9no feature: cantidad de searched products\n",
    "usersSearchProduct = agruparPorPersonaFecha(usersTrain,'searched products','productosBuscados')"
   ]
  },
  {
   "cell_type": "code",
   "execution_count": 21,
   "metadata": {},
   "outputs": [
    {
     "name": "stderr",
     "output_type": "stream",
     "text": [
      "/home/jonathan/anaconda3/lib/python3.6/site-packages/pandas/core/reshape/merge.py:543: UserWarning: merging between different levels can give an unintended result (2 levels on the left, 1 on the right)\n",
      "  warnings.warn(msg, UserWarning)\n"
     ]
    }
   ],
   "source": [
    "#10mo feature: cantidad de veces que el usuario ingresa al sitio mediante campania de marketing online\n",
    "usersCampaignMarketing = agruparPorPersonaFecha(usersTrain,'ad campaign hit','accesos por marketing online')\n"
   ]
  },
  {
   "cell_type": "code",
   "execution_count": 22,
   "metadata": {},
   "outputs": [
    {
     "name": "stderr",
     "output_type": "stream",
     "text": [
      "/home/jonathan/anaconda3/lib/python3.6/site-packages/pandas/core/reshape/merge.py:543: UserWarning: merging between different levels can give an unintended result (2 levels on the left, 1 on the right)\n",
      "  warnings.warn(msg, UserWarning)\n"
     ]
    }
   ],
   "source": [
    "#11 feature: cantidad de veces que el user ingresa al sitio mediante search engine\n",
    "usersSearchEngine =  agruparPorPersonaFecha(usersTrain,'search engine hit','searchEngine')\n"
   ]
  },
  {
   "cell_type": "code",
   "execution_count": 23,
   "metadata": {},
   "outputs": [
    {
     "name": "stderr",
     "output_type": "stream",
     "text": [
      "/home/jonathan/anaconda3/lib/python3.6/site-packages/pandas/core/reshape/merge.py:543: UserWarning: merging between different levels can give an unintended result (2 levels on the left, 1 on the right)\n",
      "  warnings.warn(msg, UserWarning)\n"
     ]
    }
   ],
   "source": [
    "#12 feature: cantidad de veces que el usuario visita la homepage\n",
    "usersHomePage = agruparPorPersonaFecha(usersTrain,'generic listing','accesos a la homepage')"
   ]
  },
  {
   "cell_type": "markdown",
   "metadata": {},
   "source": [
    "#### Armado de la matriz de features numericos\n",
    "Entiendo tiene mas sentido tomar peridos mensuales en lugar de diariamente entonces tendria n columnas de features numericos multiplicado por m donde m=cantidad de periodos tomados en este caso m=5"
   ]
  },
  {
   "cell_type": "code",
   "execution_count": 24,
   "metadata": {},
   "outputs": [],
   "source": [
    "#Hago el join \n",
    "join1 = pd.merge(eventosPorFechaTrain,usersChecks, on=['person','label'],how='left')\n",
    "join2 = pd.merge(usersLeads, usersConversions, on=['person','label'],how='left')\n",
    "join3 = pd.merge(usersStaticPages, usersViewedProducts, on=['person','label'],how='left')\n",
    "join4 = pd.merge(usersBrandListing, usersRecurrencias, on=['person','label'],how='left')\n",
    "join5 = pd.merge(usersSearchProduct, usersCampaignMarketing, on=['person','label'],how='left')\n",
    "join6 = pd.merge(usersSearchEngine, usersHomePage, on=['person','label'],how='left')\n",
    "\n",
    "join12 = pd.merge(join1,join2, on=['person','label'],how='left')\n",
    "join34 = pd.merge(join3,join4, on=['person','label'],how='left')\n",
    "join56 = pd.merge(join5,join6, on=['person','label'],how='left')\n",
    "\n",
    "join12n34 = pd.merge(join12,join34, on=['person','label'],how='left')\n",
    "matrizDatosNumericos = pd.merge(join12n34,join56, on=['person','label'],how='left').fillna(0)\n"
   ]
  },
  {
   "cell_type": "code",
   "execution_count": 25,
   "metadata": {},
   "outputs": [
    {
     "data": {
      "text/html": [
       "<div>\n",
       "<style scoped>\n",
       "    .dataframe tbody tr th:only-of-type {\n",
       "        vertical-align: middle;\n",
       "    }\n",
       "\n",
       "    .dataframe tbody tr th {\n",
       "        vertical-align: top;\n",
       "    }\n",
       "\n",
       "    .dataframe thead th {\n",
       "        text-align: right;\n",
       "    }\n",
       "</style>\n",
       "<table border=\"1\" class=\"dataframe\">\n",
       "  <thead>\n",
       "    <tr style=\"text-align: right;\">\n",
       "      <th></th>\n",
       "      <th>person</th>\n",
       "      <th>Enero - cantidadEventos</th>\n",
       "      <th>Febrero - cantidadEventos</th>\n",
       "      <th>Marzo - cantidadEventos</th>\n",
       "      <th>Abril - cantidadEventos</th>\n",
       "      <th>Mayo - cantidadEventos</th>\n",
       "      <th>Enero - checkouts</th>\n",
       "      <th>Febrero - checkouts</th>\n",
       "      <th>Marzo - checkouts</th>\n",
       "      <th>Abril - checkouts</th>\n",
       "      <th>...</th>\n",
       "      <th>Febrero - searchEngine</th>\n",
       "      <th>Marzo - searchEngine</th>\n",
       "      <th>Abril - searchEngine</th>\n",
       "      <th>Mayo - searchEngine</th>\n",
       "      <th>Enero - accesos a la homepage</th>\n",
       "      <th>Febrero - accesos a la homepage</th>\n",
       "      <th>Marzo - accesos a la homepage</th>\n",
       "      <th>Abril - accesos a la homepage</th>\n",
       "      <th>Mayo - accesos a la homepage</th>\n",
       "      <th>label</th>\n",
       "    </tr>\n",
       "  </thead>\n",
       "  <tbody>\n",
       "    <tr>\n",
       "      <th>0</th>\n",
       "      <td>0008ed71</td>\n",
       "      <td>0</td>\n",
       "      <td>0</td>\n",
       "      <td>0</td>\n",
       "      <td>0</td>\n",
       "      <td>1</td>\n",
       "      <td>0</td>\n",
       "      <td>0</td>\n",
       "      <td>0</td>\n",
       "      <td>0</td>\n",
       "      <td>...</td>\n",
       "      <td>0</td>\n",
       "      <td>0</td>\n",
       "      <td>0</td>\n",
       "      <td>1</td>\n",
       "      <td>0</td>\n",
       "      <td>0</td>\n",
       "      <td>0</td>\n",
       "      <td>0</td>\n",
       "      <td>1</td>\n",
       "      <td>0</td>\n",
       "    </tr>\n",
       "    <tr>\n",
       "      <th>1</th>\n",
       "      <td>000c79fe</td>\n",
       "      <td>0</td>\n",
       "      <td>0</td>\n",
       "      <td>0</td>\n",
       "      <td>0</td>\n",
       "      <td>1</td>\n",
       "      <td>0</td>\n",
       "      <td>0</td>\n",
       "      <td>0</td>\n",
       "      <td>0</td>\n",
       "      <td>...</td>\n",
       "      <td>0</td>\n",
       "      <td>0</td>\n",
       "      <td>0</td>\n",
       "      <td>1</td>\n",
       "      <td>0</td>\n",
       "      <td>0</td>\n",
       "      <td>0</td>\n",
       "      <td>0</td>\n",
       "      <td>1</td>\n",
       "      <td>0</td>\n",
       "    </tr>\n",
       "    <tr>\n",
       "      <th>2</th>\n",
       "      <td>001802e4</td>\n",
       "      <td>0</td>\n",
       "      <td>0</td>\n",
       "      <td>0</td>\n",
       "      <td>0</td>\n",
       "      <td>1</td>\n",
       "      <td>0</td>\n",
       "      <td>0</td>\n",
       "      <td>0</td>\n",
       "      <td>0</td>\n",
       "      <td>...</td>\n",
       "      <td>0</td>\n",
       "      <td>0</td>\n",
       "      <td>0</td>\n",
       "      <td>1</td>\n",
       "      <td>0</td>\n",
       "      <td>0</td>\n",
       "      <td>0</td>\n",
       "      <td>0</td>\n",
       "      <td>1</td>\n",
       "      <td>0</td>\n",
       "    </tr>\n",
       "    <tr>\n",
       "      <th>3</th>\n",
       "      <td>0019e639</td>\n",
       "      <td>1</td>\n",
       "      <td>3</td>\n",
       "      <td>0</td>\n",
       "      <td>1</td>\n",
       "      <td>9</td>\n",
       "      <td>1</td>\n",
       "      <td>3</td>\n",
       "      <td>0</td>\n",
       "      <td>1</td>\n",
       "      <td>...</td>\n",
       "      <td>3</td>\n",
       "      <td>0</td>\n",
       "      <td>1</td>\n",
       "      <td>9</td>\n",
       "      <td>1</td>\n",
       "      <td>3</td>\n",
       "      <td>0</td>\n",
       "      <td>1</td>\n",
       "      <td>9</td>\n",
       "      <td>0</td>\n",
       "    </tr>\n",
       "    <tr>\n",
       "      <th>4</th>\n",
       "      <td>001b0bf9</td>\n",
       "      <td>0</td>\n",
       "      <td>0</td>\n",
       "      <td>0</td>\n",
       "      <td>0</td>\n",
       "      <td>1</td>\n",
       "      <td>0</td>\n",
       "      <td>0</td>\n",
       "      <td>0</td>\n",
       "      <td>0</td>\n",
       "      <td>...</td>\n",
       "      <td>0</td>\n",
       "      <td>0</td>\n",
       "      <td>0</td>\n",
       "      <td>1</td>\n",
       "      <td>0</td>\n",
       "      <td>0</td>\n",
       "      <td>0</td>\n",
       "      <td>0</td>\n",
       "      <td>1</td>\n",
       "      <td>0</td>\n",
       "    </tr>\n",
       "  </tbody>\n",
       "</table>\n",
       "<p>5 rows × 62 columns</p>\n",
       "</div>"
      ],
      "text/plain": [
       "     person  Enero - cantidadEventos  Febrero - cantidadEventos  \\\n",
       "0  0008ed71                        0                          0   \n",
       "1  000c79fe                        0                          0   \n",
       "2  001802e4                        0                          0   \n",
       "3  0019e639                        1                          3   \n",
       "4  001b0bf9                        0                          0   \n",
       "\n",
       "   Marzo - cantidadEventos  Abril - cantidadEventos  Mayo - cantidadEventos  \\\n",
       "0                        0                        0                       1   \n",
       "1                        0                        0                       1   \n",
       "2                        0                        0                       1   \n",
       "3                        0                        1                       9   \n",
       "4                        0                        0                       1   \n",
       "\n",
       "   Enero - checkouts  Febrero - checkouts  Marzo - checkouts  \\\n",
       "0                  0                    0                  0   \n",
       "1                  0                    0                  0   \n",
       "2                  0                    0                  0   \n",
       "3                  1                    3                  0   \n",
       "4                  0                    0                  0   \n",
       "\n",
       "   Abril - checkouts  ...    Febrero - searchEngine  Marzo - searchEngine  \\\n",
       "0                  0  ...                         0                     0   \n",
       "1                  0  ...                         0                     0   \n",
       "2                  0  ...                         0                     0   \n",
       "3                  1  ...                         3                     0   \n",
       "4                  0  ...                         0                     0   \n",
       "\n",
       "   Abril - searchEngine  Mayo - searchEngine  Enero - accesos a la homepage  \\\n",
       "0                     0                    1                              0   \n",
       "1                     0                    1                              0   \n",
       "2                     0                    1                              0   \n",
       "3                     1                    9                              1   \n",
       "4                     0                    1                              0   \n",
       "\n",
       "   Febrero - accesos a la homepage  Marzo - accesos a la homepage  \\\n",
       "0                                0                              0   \n",
       "1                                0                              0   \n",
       "2                                0                              0   \n",
       "3                                3                              0   \n",
       "4                                0                              0   \n",
       "\n",
       "   Abril - accesos a la homepage  Mayo - accesos a la homepage  label  \n",
       "0                              0                             1      0  \n",
       "1                              0                             1      0  \n",
       "2                              0                             1      0  \n",
       "3                              1                             9      0  \n",
       "4                              0                             1      0  \n",
       "\n",
       "[5 rows x 62 columns]"
      ]
     },
     "execution_count": 25,
     "metadata": {},
     "output_type": "execute_result"
    }
   ],
   "source": [
    "def change_column_order(df, col_name, index):\n",
    "    cols = df.columns.tolist()\n",
    "    cols.remove(col_name)\n",
    "    cols.insert(index, col_name)\n",
    "    return df[cols]\n",
    "\n",
    "matrizDatosNumericos = change_column_order(matrizDatosNumericos, 'label', 62)\n",
    "matrizDatosNumericos.head()"
   ]
  },
  {
   "cell_type": "code",
   "execution_count": 26,
   "metadata": {},
   "outputs": [],
   "source": [
    "matrizDatosNumericos.to_csv('matrizDatosNumericos.csv')"
   ]
  },
  {
   "cell_type": "markdown",
   "metadata": {},
   "source": [
    "### Features categoricos"
   ]
  },
  {
   "cell_type": "code",
   "execution_count": 27,
   "metadata": {},
   "outputs": [],
   "source": [
    "usersTrain['fecha'] = pd.to_datetime(usersTrain['fecha'])\n"
   ]
  },
  {
   "cell_type": "code",
   "execution_count": 28,
   "metadata": {},
   "outputs": [
    {
     "data": {
      "text/plain": [
       "Index(['timestamp', 'event', 'person', 'url', 'sku', 'model', 'condition',\n",
       "       'storage', 'color', 'skus', 'search_term', 'staticpage',\n",
       "       'campaign_source', 'search_engine', 'channel', 'new_vs_returning',\n",
       "       'city', 'region', 'country', 'device_type', 'screen_resolution',\n",
       "       'operating_system_version', 'browser_version', 'label', 'fecha'],\n",
       "      dtype='object')"
      ]
     },
     "execution_count": 28,
     "metadata": {},
     "output_type": "execute_result"
    }
   ],
   "source": [
    "usersTrain.columns"
   ]
  },
  {
   "cell_type": "markdown",
   "metadata": {},
   "source": [
    "### Encoding : Expanding Mean"
   ]
  },
  {
   "cell_type": "code",
   "execution_count": 34,
   "metadata": {},
   "outputs": [],
   "source": [
    "\n",
    "def agruparYaplicarExpandingMean(train, evento, feature, nuevoNombre):\n",
    "    dataframe = train[train['event'] == evento]\\\n",
    "              [['fecha','person',feature,'label']].rename(columns = {feature: nuevoNombre})\\\n",
    "            .sort_values(by=['fecha','person'])\n",
    "\n",
    "    cumsum = dataframe.groupby(nuevoNombre)['label'].cumsum() - dataframe['label']\n",
    "    cumcount = dataframe.groupby(nuevoNombre).cumcount()\n",
    "    dataframe[nuevoNombre+'_mean_target'] = cumsum/cumcount\n",
    "    dataframe.fecha = dataframe.fecha.dt.month\n",
    "    dataframe = dataframe.rename(columns = {'fecha' : 'mes'}).drop(columns = nuevoNombre)\n",
    "    return dataframe\n"
   ]
  },
  {
   "cell_type": "code",
   "execution_count": 37,
   "metadata": {},
   "outputs": [],
   "source": [
    "#13mo feature: colores vistos por usuarios\n",
    "usersColors = agruparYaplicarExpandingMean(usersTrain,'viewed product','color','colorViewed')"
   ]
  },
  {
   "cell_type": "code",
   "execution_count": 38,
   "metadata": {},
   "outputs": [],
   "source": [
    "#14mo feature: colores comprados por el usuario por dia\n",
    "usersColorsConversions = agruparYaplicarExpandingMean(usersTrain,'conversion','color','colorConversions')"
   ]
  },
  {
   "cell_type": "code",
   "execution_count": 40,
   "metadata": {},
   "outputs": [],
   "source": [
    "#15mo feature: colores que llegan al checkout por usuario por dia\n",
    "usersColorsCheckouts = agruparYaplicarExpandingMean(usersTrain,'checkout','color','colorCheckouts')"
   ]
  },
  {
   "cell_type": "code",
   "execution_count": 46,
   "metadata": {},
   "outputs": [],
   "source": [
    "#16mo feature: condition de modelos con checkouts por usuario por dia\n",
    "usersConditionCheckouts =  agruparYaplicarExpandingMean(usersTrain,'checkout','condition','conditionCheckouts')"
   ]
  },
  {
   "cell_type": "code",
   "execution_count": 47,
   "metadata": {},
   "outputs": [],
   "source": [
    "#17mo feature: condition de modelos con conversiones por usuario por dia\n",
    "usersConditionConversions = agruparYaplicarExpandingMean(usersTrain,'conversion','condition','conditionConversions')            "
   ]
  },
  {
   "cell_type": "code",
   "execution_count": 48,
   "metadata": {},
   "outputs": [],
   "source": [
    "#18mo feature: condition de modelos vistos por usuario por dia\n",
    "usersConditionViewed = agruparYaplicarExpandingMean(usersTrain,'viewed product','condition','conditionViewed') "
   ]
  },
  {
   "cell_type": "code",
   "execution_count": 49,
   "metadata": {},
   "outputs": [],
   "source": [
    "#19mo feature: modelo visto por usuario por dia \n",
    "usersModelosVistos = agruparYaplicarExpandingMean(usersTrain,'viewed product','model','modelViewed') "
   ]
  },
  {
   "cell_type": "code",
   "execution_count": 17,
   "metadata": {},
   "outputs": [],
   "source": [
    "#20mo feature: modelo con checkouts por usuario por dia\n",
    "usersModelsCheckouts = agruparYaplicarExpandingMean(usersTrain,'checkout','model','modelCheckout') "
   ]
  },
  {
   "cell_type": "code",
   "execution_count": 50,
   "metadata": {},
   "outputs": [],
   "source": [
    "#21mo feature: modelo con conversiones por usuario por dia\n",
    "usersModelsConversions =  agruparYaplicarExpandingMean(usersTrain,'conversion','model','modelConversion') \n"
   ]
  },
  {
   "cell_type": "code",
   "execution_count": 53,
   "metadata": {},
   "outputs": [],
   "source": [
    "#22mo feature: skus vistos en cierta busqueda en el site por usuario por dia\n",
    "usersSkusViewedInSearchedProducts = agruparYaplicarExpandingMean(usersTrain,'searched products','skus','skusViewed')"
   ]
  },
  {
   "cell_type": "code",
   "execution_count": 54,
   "metadata": {},
   "outputs": [],
   "source": [
    "#23mo feature: skus vistos en la home page por user por dia\n",
    "usersSkusViewedHomePage = agruparYaplicarExpandingMean(usersTrain,'generic listing','skus','skuViewedGenericListing')"
   ]
  },
  {
   "cell_type": "code",
   "execution_count": 55,
   "metadata": {},
   "outputs": [],
   "source": [
    "#24mo feature: skus vistos en un listado especifico de una marca por user por dia\n",
    "usersSkusViewedBrandListing = agruparYaplicarExpandingMean(usersTrain,'brand listing','skus','skusViewedBrandListing')"
   ]
  },
  {
   "cell_type": "code",
   "execution_count": 56,
   "metadata": {},
   "outputs": [],
   "source": [
    "#25mo feature: search terms por usuario por dia\n",
    "usersSearchTerms = agruparYaplicarExpandingMean(usersTrain,'searched products','search_term','searchs')\n"
   ]
  },
  {
   "cell_type": "code",
   "execution_count": 59,
   "metadata": {},
   "outputs": [],
   "source": [
    "#26mo feature: screen resolution por usuario por dia \n",
    "usersScreenResolution = agruparYaplicarExpandingMean(usersTrain,'visited site','screen_resolution','screen_resolution')"
   ]
  },
  {
   "cell_type": "code",
   "execution_count": 60,
   "metadata": {},
   "outputs": [],
   "source": [
    "#27mo feature: storage de dispositivos convertidos por usuario por dia\n",
    "usersStorageConversion =agruparYaplicarExpandingMean(usersTrain,'conversion','storage','storageConverted')\n"
   ]
  },
  {
   "cell_type": "code",
   "execution_count": 61,
   "metadata": {},
   "outputs": [],
   "source": [
    "#28mo feature: campaign source por user por dia\n",
    "usersCampaignSource =  agruparYaplicarExpandingMean(usersTrain,'ad campaign hit','campaign_source','campaign_source')"
   ]
  },
  {
   "cell_type": "code",
   "execution_count": 62,
   "metadata": {},
   "outputs": [],
   "source": [
    "#29mo feature: country access user\n",
    "usersCountry = agruparYaplicarExpandingMean(usersTrain, 'visited site','country','countryAccess')"
   ]
  },
  {
   "cell_type": "code",
   "execution_count": 27,
   "metadata": {},
   "outputs": [],
   "source": [
    "#30mo feature: city access user\n",
    "usersCity = agruparYaplicarExpandingMean(usersTrain,'visited site','city','cityAccess')\n"
   ]
  },
  {
   "cell_type": "code",
   "execution_count": 28,
   "metadata": {},
   "outputs": [],
   "source": [
    "#31mo feature: region access user\n",
    "usersRegionAccess = agruparYaplicarExpandingMean(usersTrain,'visited site','region','skusViewed')"
   ]
  },
  {
   "cell_type": "code",
   "execution_count": 63,
   "metadata": {},
   "outputs": [],
   "source": [
    "#32mo feature: device type visited site users\n",
    "usersDevicesTypes = agruparYaplicarExpandingMean(usersTrain,'visited site','device_type','device_type_Visitantes')"
   ]
  },
  {
   "cell_type": "markdown",
   "metadata": {},
   "source": []
  },
  {
   "cell_type": "code",
   "execution_count": 30,
   "metadata": {},
   "outputs": [],
   "source": []
  },
  {
   "cell_type": "code",
   "execution_count": null,
   "metadata": {},
   "outputs": [],
   "source": []
  },
  {
   "cell_type": "code",
   "execution_count": null,
   "metadata": {},
   "outputs": [],
   "source": []
  },
  {
   "cell_type": "code",
   "execution_count": null,
   "metadata": {},
   "outputs": [],
   "source": []
  },
  {
   "cell_type": "code",
   "execution_count": null,
   "metadata": {},
   "outputs": [],
   "source": []
  },
  {
   "cell_type": "code",
   "execution_count": null,
   "metadata": {},
   "outputs": [],
   "source": []
  },
  {
   "cell_type": "code",
   "execution_count": null,
   "metadata": {},
   "outputs": [],
   "source": []
  },
  {
   "cell_type": "code",
   "execution_count": null,
   "metadata": {},
   "outputs": [],
   "source": []
  },
  {
   "cell_type": "code",
   "execution_count": null,
   "metadata": {},
   "outputs": [],
   "source": []
  },
  {
   "cell_type": "code",
   "execution_count": null,
   "metadata": {},
   "outputs": [],
   "source": []
  },
  {
   "cell_type": "code",
   "execution_count": null,
   "metadata": {},
   "outputs": [],
   "source": []
  },
  {
   "cell_type": "code",
   "execution_count": null,
   "metadata": {},
   "outputs": [],
   "source": []
  }
 ],
 "metadata": {
  "kernelspec": {
   "display_name": "Python 3",
   "language": "python",
   "name": "python3"
  },
  "language_info": {
   "codemirror_mode": {
    "name": "ipython",
    "version": 3
   },
   "file_extension": ".py",
   "mimetype": "text/x-python",
   "name": "python",
   "nbconvert_exporter": "python",
   "pygments_lexer": "ipython3",
   "version": "3.6.5"
  }
 },
 "nbformat": 4,
 "nbformat_minor": 2
}

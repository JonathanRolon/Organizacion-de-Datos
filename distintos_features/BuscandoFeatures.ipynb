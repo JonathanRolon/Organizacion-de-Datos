{
 "cells": [
  {
   "cell_type": "code",
   "execution_count": 1,
   "metadata": {},
   "outputs": [],
   "source": [
    "import pandas as pd\n",
    "import numpy as np"
   ]
  },
  {
   "cell_type": "code",
   "execution_count": 2,
   "metadata": {},
   "outputs": [],
   "source": [
    "trocafone =  pd.read_csv(\"trocafone_kaggle_test.csv\")\n",
    "events = pd.read_csv(\"events_up_to_01062018.csv\",dtype = {3: object,5: object,\n",
    "                    6: object,7: object,\n",
    "                    8: object,9: object,\n",
    "                    10: object,11: object,\n",
    "                    12: object,13: object,\n",
    "                    14: object,15: object,\n",
    "                    16: object,17: object,\n",
    "                    18: object,19: object,\n",
    "                    20: object,21: object,\n",
    "                    22: object})\n",
    "labels = pd.read_csv(\"labels_training_set.csv\")"
   ]
  },
  {
   "cell_type": "code",
   "execution_count": 3,
   "metadata": {},
   "outputs": [
    {
     "data": {
      "text/html": [
       "<div>\n",
       "<style scoped>\n",
       "    .dataframe tbody tr th:only-of-type {\n",
       "        vertical-align: middle;\n",
       "    }\n",
       "\n",
       "    .dataframe tbody tr th {\n",
       "        vertical-align: top;\n",
       "    }\n",
       "\n",
       "    .dataframe thead th {\n",
       "        text-align: right;\n",
       "    }\n",
       "</style>\n",
       "<table border=\"1\" class=\"dataframe\">\n",
       "  <thead>\n",
       "    <tr style=\"text-align: right;\">\n",
       "      <th></th>\n",
       "      <th>timestamp</th>\n",
       "      <th>event</th>\n",
       "      <th>person</th>\n",
       "      <th>url</th>\n",
       "      <th>sku</th>\n",
       "      <th>model</th>\n",
       "      <th>condition</th>\n",
       "      <th>storage</th>\n",
       "      <th>color</th>\n",
       "      <th>skus</th>\n",
       "      <th>...</th>\n",
       "      <th>search_engine</th>\n",
       "      <th>channel</th>\n",
       "      <th>new_vs_returning</th>\n",
       "      <th>city</th>\n",
       "      <th>region</th>\n",
       "      <th>country</th>\n",
       "      <th>device_type</th>\n",
       "      <th>screen_resolution</th>\n",
       "      <th>operating_system_version</th>\n",
       "      <th>browser_version</th>\n",
       "    </tr>\n",
       "  </thead>\n",
       "  <tbody>\n",
       "    <tr>\n",
       "      <th>0</th>\n",
       "      <td>2018-05-18 00:11:59</td>\n",
       "      <td>viewed product</td>\n",
       "      <td>4886f805</td>\n",
       "      <td>NaN</td>\n",
       "      <td>9288.0</td>\n",
       "      <td>Samsung Galaxy J7 Prime</td>\n",
       "      <td>Excelente</td>\n",
       "      <td>32GB</td>\n",
       "      <td>Dourado</td>\n",
       "      <td>NaN</td>\n",
       "      <td>...</td>\n",
       "      <td>NaN</td>\n",
       "      <td>NaN</td>\n",
       "      <td>NaN</td>\n",
       "      <td>NaN</td>\n",
       "      <td>NaN</td>\n",
       "      <td>NaN</td>\n",
       "      <td>NaN</td>\n",
       "      <td>NaN</td>\n",
       "      <td>NaN</td>\n",
       "      <td>NaN</td>\n",
       "    </tr>\n",
       "    <tr>\n",
       "      <th>1</th>\n",
       "      <td>2018-05-18 00:11:27</td>\n",
       "      <td>viewed product</td>\n",
       "      <td>ad93850f</td>\n",
       "      <td>NaN</td>\n",
       "      <td>304.0</td>\n",
       "      <td>iPhone 5s</td>\n",
       "      <td>Muito Bom</td>\n",
       "      <td>32GB</td>\n",
       "      <td>Cinza espacial</td>\n",
       "      <td>NaN</td>\n",
       "      <td>...</td>\n",
       "      <td>NaN</td>\n",
       "      <td>NaN</td>\n",
       "      <td>NaN</td>\n",
       "      <td>NaN</td>\n",
       "      <td>NaN</td>\n",
       "      <td>NaN</td>\n",
       "      <td>NaN</td>\n",
       "      <td>NaN</td>\n",
       "      <td>NaN</td>\n",
       "      <td>NaN</td>\n",
       "    </tr>\n",
       "    <tr>\n",
       "      <th>2</th>\n",
       "      <td>2018-05-18 00:11:16</td>\n",
       "      <td>viewed product</td>\n",
       "      <td>0297fc1e</td>\n",
       "      <td>NaN</td>\n",
       "      <td>6888.0</td>\n",
       "      <td>iPhone 6S</td>\n",
       "      <td>Muito Bom</td>\n",
       "      <td>64GB</td>\n",
       "      <td>Prateado</td>\n",
       "      <td>NaN</td>\n",
       "      <td>...</td>\n",
       "      <td>NaN</td>\n",
       "      <td>NaN</td>\n",
       "      <td>NaN</td>\n",
       "      <td>NaN</td>\n",
       "      <td>NaN</td>\n",
       "      <td>NaN</td>\n",
       "      <td>NaN</td>\n",
       "      <td>NaN</td>\n",
       "      <td>NaN</td>\n",
       "      <td>NaN</td>\n",
       "    </tr>\n",
       "    <tr>\n",
       "      <th>3</th>\n",
       "      <td>2018-05-18 00:11:14</td>\n",
       "      <td>viewed product</td>\n",
       "      <td>2d681dd8</td>\n",
       "      <td>NaN</td>\n",
       "      <td>11890.0</td>\n",
       "      <td>iPhone 7</td>\n",
       "      <td>Bom</td>\n",
       "      <td>128GB</td>\n",
       "      <td>Vermelho</td>\n",
       "      <td>NaN</td>\n",
       "      <td>...</td>\n",
       "      <td>NaN</td>\n",
       "      <td>NaN</td>\n",
       "      <td>NaN</td>\n",
       "      <td>NaN</td>\n",
       "      <td>NaN</td>\n",
       "      <td>NaN</td>\n",
       "      <td>NaN</td>\n",
       "      <td>NaN</td>\n",
       "      <td>NaN</td>\n",
       "      <td>NaN</td>\n",
       "    </tr>\n",
       "    <tr>\n",
       "      <th>4</th>\n",
       "      <td>2018-05-18 00:11:09</td>\n",
       "      <td>viewed product</td>\n",
       "      <td>cccea85e</td>\n",
       "      <td>NaN</td>\n",
       "      <td>7517.0</td>\n",
       "      <td>LG G4 H818P</td>\n",
       "      <td>Excelente</td>\n",
       "      <td>32GB</td>\n",
       "      <td>Branco</td>\n",
       "      <td>NaN</td>\n",
       "      <td>...</td>\n",
       "      <td>NaN</td>\n",
       "      <td>NaN</td>\n",
       "      <td>NaN</td>\n",
       "      <td>NaN</td>\n",
       "      <td>NaN</td>\n",
       "      <td>NaN</td>\n",
       "      <td>NaN</td>\n",
       "      <td>NaN</td>\n",
       "      <td>NaN</td>\n",
       "      <td>NaN</td>\n",
       "    </tr>\n",
       "  </tbody>\n",
       "</table>\n",
       "<p>5 rows × 23 columns</p>\n",
       "</div>"
      ],
      "text/plain": [
       "             timestamp           event    person  url      sku  \\\n",
       "0  2018-05-18 00:11:59  viewed product  4886f805  NaN   9288.0   \n",
       "1  2018-05-18 00:11:27  viewed product  ad93850f  NaN    304.0   \n",
       "2  2018-05-18 00:11:16  viewed product  0297fc1e  NaN   6888.0   \n",
       "3  2018-05-18 00:11:14  viewed product  2d681dd8  NaN  11890.0   \n",
       "4  2018-05-18 00:11:09  viewed product  cccea85e  NaN   7517.0   \n",
       "\n",
       "                     model  condition storage           color skus  \\\n",
       "0  Samsung Galaxy J7 Prime  Excelente    32GB         Dourado  NaN   \n",
       "1                iPhone 5s  Muito Bom    32GB  Cinza espacial  NaN   \n",
       "2                iPhone 6S  Muito Bom    64GB        Prateado  NaN   \n",
       "3                 iPhone 7        Bom   128GB        Vermelho  NaN   \n",
       "4              LG G4 H818P  Excelente    32GB          Branco  NaN   \n",
       "\n",
       "        ...       search_engine channel new_vs_returning city region country  \\\n",
       "0       ...                 NaN     NaN              NaN  NaN    NaN     NaN   \n",
       "1       ...                 NaN     NaN              NaN  NaN    NaN     NaN   \n",
       "2       ...                 NaN     NaN              NaN  NaN    NaN     NaN   \n",
       "3       ...                 NaN     NaN              NaN  NaN    NaN     NaN   \n",
       "4       ...                 NaN     NaN              NaN  NaN    NaN     NaN   \n",
       "\n",
       "  device_type screen_resolution operating_system_version browser_version  \n",
       "0         NaN               NaN                      NaN             NaN  \n",
       "1         NaN               NaN                      NaN             NaN  \n",
       "2         NaN               NaN                      NaN             NaN  \n",
       "3         NaN               NaN                      NaN             NaN  \n",
       "4         NaN               NaN                      NaN             NaN  \n",
       "\n",
       "[5 rows x 23 columns]"
      ]
     },
     "execution_count": 3,
     "metadata": {},
     "output_type": "execute_result"
    }
   ],
   "source": [
    "events.head()"
   ]
  },
  {
   "cell_type": "markdown",
   "metadata": {},
   "source": [
    "# TRAIN"
   ]
  },
  {
   "cell_type": "code",
   "execution_count": 3,
   "metadata": {},
   "outputs": [],
   "source": [
    "converted = pd.merge(events,labels,on=\"person\",how=\"inner\")"
   ]
  },
  {
   "cell_type": "code",
   "execution_count": 4,
   "metadata": {},
   "outputs": [],
   "source": [
    "converted[\"timestamp\"] = pd.to_datetime(converted[\"timestamp\"])"
   ]
  },
  {
   "cell_type": "code",
   "execution_count": 6,
   "metadata": {},
   "outputs": [],
   "source": [
    "def change_column_order(df, col_name, index):\n",
    "    cols = df.columns.tolist()\n",
    "    cols.remove(col_name)\n",
    "    cols.insert(index, col_name)\n",
    "    return df[cols]"
   ]
  },
  {
   "cell_type": "markdown",
   "metadata": {},
   "source": [
    "## Features sobre visited site"
   ]
  },
  {
   "cell_type": "code",
   "execution_count": 123,
   "metadata": {},
   "outputs": [],
   "source": [
    "Ft_visited_site = pd.concat([converted[converted[\"event\"] == \"visited site\"].iloc[:,:3],\\\n",
    "                         converted[converted[\"event\"] == \"visited site\"].iloc[:,14:]],axis =1)"
   ]
  },
  {
   "cell_type": "code",
   "execution_count": 124,
   "metadata": {},
   "outputs": [
    {
     "data": {
      "text/html": [
       "<div>\n",
       "<style scoped>\n",
       "    .dataframe tbody tr th:only-of-type {\n",
       "        vertical-align: middle;\n",
       "    }\n",
       "\n",
       "    .dataframe tbody tr th {\n",
       "        vertical-align: top;\n",
       "    }\n",
       "\n",
       "    .dataframe thead th {\n",
       "        text-align: right;\n",
       "    }\n",
       "</style>\n",
       "<table border=\"1\" class=\"dataframe\">\n",
       "  <thead>\n",
       "    <tr style=\"text-align: right;\">\n",
       "      <th></th>\n",
       "      <th>timestamp</th>\n",
       "      <th>event</th>\n",
       "      <th>person</th>\n",
       "      <th>channel</th>\n",
       "      <th>new_vs_returning</th>\n",
       "      <th>city</th>\n",
       "      <th>region</th>\n",
       "      <th>country</th>\n",
       "      <th>device_type</th>\n",
       "      <th>screen_resolution</th>\n",
       "      <th>operating_system_version</th>\n",
       "      <th>browser_version</th>\n",
       "      <th>label</th>\n",
       "    </tr>\n",
       "  </thead>\n",
       "  <tbody>\n",
       "    <tr>\n",
       "      <th>60</th>\n",
       "      <td>2018-05-14 23:50:22</td>\n",
       "      <td>visited site</td>\n",
       "      <td>ad93850f</td>\n",
       "      <td>Organic</td>\n",
       "      <td>New</td>\n",
       "      <td>São Paulo</td>\n",
       "      <td>Sao Paulo</td>\n",
       "      <td>Brazil</td>\n",
       "      <td>Smartphone</td>\n",
       "      <td>360x640</td>\n",
       "      <td>Android 5.1.1</td>\n",
       "      <td>Chrome Mobile 66.0</td>\n",
       "      <td>0</td>\n",
       "    </tr>\n",
       "    <tr>\n",
       "      <th>61</th>\n",
       "      <td>2018-05-16 02:48:13</td>\n",
       "      <td>visited site</td>\n",
       "      <td>ad93850f</td>\n",
       "      <td>Paid</td>\n",
       "      <td>Returning</td>\n",
       "      <td>São Paulo</td>\n",
       "      <td>Sao Paulo</td>\n",
       "      <td>Brazil</td>\n",
       "      <td>Smartphone</td>\n",
       "      <td>360x640</td>\n",
       "      <td>Android 5.1.1</td>\n",
       "      <td>Chrome Mobile 66.0</td>\n",
       "      <td>0</td>\n",
       "    </tr>\n",
       "    <tr>\n",
       "      <th>62</th>\n",
       "      <td>2018-05-18 00:11:26</td>\n",
       "      <td>visited site</td>\n",
       "      <td>ad93850f</td>\n",
       "      <td>Paid</td>\n",
       "      <td>Returning</td>\n",
       "      <td>São Paulo</td>\n",
       "      <td>Sao Paulo</td>\n",
       "      <td>Brazil</td>\n",
       "      <td>Smartphone</td>\n",
       "      <td>360x640</td>\n",
       "      <td>Android 5.1.1</td>\n",
       "      <td>Chrome Mobile 66.0</td>\n",
       "      <td>0</td>\n",
       "    </tr>\n",
       "    <tr>\n",
       "      <th>63</th>\n",
       "      <td>2018-05-18 22:11:46</td>\n",
       "      <td>visited site</td>\n",
       "      <td>ad93850f</td>\n",
       "      <td>Paid</td>\n",
       "      <td>Returning</td>\n",
       "      <td>São Paulo</td>\n",
       "      <td>Sao Paulo</td>\n",
       "      <td>Brazil</td>\n",
       "      <td>Smartphone</td>\n",
       "      <td>360x640</td>\n",
       "      <td>Android 5.1.1</td>\n",
       "      <td>Chrome Mobile 66.0</td>\n",
       "      <td>0</td>\n",
       "    </tr>\n",
       "    <tr>\n",
       "      <th>64</th>\n",
       "      <td>2018-05-22 22:41:31</td>\n",
       "      <td>visited site</td>\n",
       "      <td>ad93850f</td>\n",
       "      <td>Paid</td>\n",
       "      <td>Returning</td>\n",
       "      <td>São Paulo</td>\n",
       "      <td>Sao Paulo</td>\n",
       "      <td>Brazil</td>\n",
       "      <td>Smartphone</td>\n",
       "      <td>360x640</td>\n",
       "      <td>Android 5.1.1</td>\n",
       "      <td>Chrome Mobile 66.0</td>\n",
       "      <td>0</td>\n",
       "    </tr>\n",
       "  </tbody>\n",
       "</table>\n",
       "</div>"
      ],
      "text/plain": [
       "             timestamp         event    person  channel new_vs_returning  \\\n",
       "60 2018-05-14 23:50:22  visited site  ad93850f  Organic              New   \n",
       "61 2018-05-16 02:48:13  visited site  ad93850f     Paid        Returning   \n",
       "62 2018-05-18 00:11:26  visited site  ad93850f     Paid        Returning   \n",
       "63 2018-05-18 22:11:46  visited site  ad93850f     Paid        Returning   \n",
       "64 2018-05-22 22:41:31  visited site  ad93850f     Paid        Returning   \n",
       "\n",
       "         city     region country device_type screen_resolution  \\\n",
       "60  São Paulo  Sao Paulo  Brazil  Smartphone           360x640   \n",
       "61  São Paulo  Sao Paulo  Brazil  Smartphone           360x640   \n",
       "62  São Paulo  Sao Paulo  Brazil  Smartphone           360x640   \n",
       "63  São Paulo  Sao Paulo  Brazil  Smartphone           360x640   \n",
       "64  São Paulo  Sao Paulo  Brazil  Smartphone           360x640   \n",
       "\n",
       "   operating_system_version     browser_version  label  \n",
       "60            Android 5.1.1  Chrome Mobile 66.0      0  \n",
       "61            Android 5.1.1  Chrome Mobile 66.0      0  \n",
       "62            Android 5.1.1  Chrome Mobile 66.0      0  \n",
       "63            Android 5.1.1  Chrome Mobile 66.0      0  \n",
       "64            Android 5.1.1  Chrome Mobile 66.0      0  "
      ]
     },
     "execution_count": 124,
     "metadata": {},
     "output_type": "execute_result"
    }
   ],
   "source": [
    "Ft_visited_site.head()"
   ]
  },
  {
   "cell_type": "markdown",
   "metadata": {},
   "source": [
    "####  countries populares"
   ]
  },
  {
   "cell_type": "code",
   "execution_count": 125,
   "metadata": {},
   "outputs": [],
   "source": [
    "popular_countries = Ft_visited_site[\"country\"].value_counts().nlargest(10).index"
   ]
  },
  {
   "cell_type": "code",
   "execution_count": 126,
   "metadata": {},
   "outputs": [],
   "source": [
    "for country in popular_countries:\n",
    "    Ft_visited_site[country] = (Ft_visited_site['country'] == country).astype(bool)"
   ]
  },
  {
   "cell_type": "code",
   "execution_count": 127,
   "metadata": {},
   "outputs": [],
   "source": [
    "Ft_visited_site.drop(columns = \"country\",inplace = True)"
   ]
  },
  {
   "cell_type": "markdown",
   "metadata": {},
   "source": [
    "#### Filtrar por channel"
   ]
  },
  {
   "cell_type": "code",
   "execution_count": 128,
   "metadata": {},
   "outputs": [],
   "source": [
    "Ft_visited_site = Ft_visited_site[Ft_visited_site[\"channel\"] != \"Unknown\"]"
   ]
  },
  {
   "cell_type": "code",
   "execution_count": 129,
   "metadata": {},
   "outputs": [
    {
     "data": {
      "text/plain": [
       "Paid        45632\n",
       "Direct      25593\n",
       "Referral    17167\n",
       "Organic     13050\n",
       "Social        689\n",
       "Email         167\n",
       "Name: channel, dtype: int64"
      ]
     },
     "execution_count": 129,
     "metadata": {},
     "output_type": "execute_result"
    }
   ],
   "source": [
    "Ft_visited_site[\"channel\"].value_counts()"
   ]
  },
  {
   "cell_type": "code",
   "execution_count": 130,
   "metadata": {},
   "outputs": [],
   "source": [
    "channels = Ft_visited_site[\"channel\"].value_counts().index"
   ]
  },
  {
   "cell_type": "code",
   "execution_count": 131,
   "metadata": {},
   "outputs": [],
   "source": [
    "for channel in channels:\n",
    "    Ft_visited_site[channel] = (Ft_visited_site['channel'] == channel).astype(bool)"
   ]
  },
  {
   "cell_type": "code",
   "execution_count": 132,
   "metadata": {},
   "outputs": [],
   "source": [
    "Ft_visited_site = Ft_visited_site.drop(columns = \"channel\")"
   ]
  },
  {
   "cell_type": "markdown",
   "metadata": {},
   "source": [
    "####  browser\n",
    "\n"
   ]
  },
  {
   "cell_type": "code",
   "execution_count": 133,
   "metadata": {},
   "outputs": [],
   "source": [
    "popular_browsers = Ft_visited_site[\"browser_version\"].value_counts().nlargest(10).index"
   ]
  },
  {
   "cell_type": "code",
   "execution_count": 134,
   "metadata": {},
   "outputs": [
    {
     "data": {
      "text/plain": [
       "Index(['Chrome 66.0', 'Chrome Mobile 66.0', 'Chrome Mobile 65.0',\n",
       "       'Chrome 65.0', 'Chrome Mobile 64.0', 'Chrome 64.0', 'Mobile Safari 11',\n",
       "       'Chrome Mobile 63.0', 'Chrome 63.0', 'Samsung Internet 6.4'],\n",
       "      dtype='object')"
      ]
     },
     "execution_count": 134,
     "metadata": {},
     "output_type": "execute_result"
    }
   ],
   "source": [
    "popular_browsers"
   ]
  },
  {
   "cell_type": "code",
   "execution_count": 135,
   "metadata": {},
   "outputs": [],
   "source": [
    "for browser in popular_browsers:\n",
    "    Ft_visited_site[browser] = (Ft_visited_site['browser_version'] == channel).astype(bool)"
   ]
  },
  {
   "cell_type": "code",
   "execution_count": 136,
   "metadata": {},
   "outputs": [
    {
     "data": {
      "text/plain": [
       "(102298,)"
      ]
     },
     "execution_count": 136,
     "metadata": {},
     "output_type": "execute_result"
    }
   ],
   "source": [
    "Ft_visited_site[\"browser_version\"].shape"
   ]
  },
  {
   "cell_type": "code",
   "execution_count": 137,
   "metadata": {},
   "outputs": [],
   "source": [
    "Ft_visited_site = Ft_visited_site.drop(columns = \"browser_version\")"
   ]
  },
  {
   "cell_type": "markdown",
   "metadata": {},
   "source": [
    "#### Filtrar por nuevo vs recurrente"
   ]
  },
  {
   "cell_type": "code",
   "execution_count": 138,
   "metadata": {},
   "outputs": [],
   "source": [
    "recurrencias = Ft_visited_site[\"new_vs_returning\"].value_counts().index"
   ]
  },
  {
   "cell_type": "code",
   "execution_count": 139,
   "metadata": {},
   "outputs": [],
   "source": [
    "for recurrencia in recurrencias:\n",
    "    Ft_visited_site[recurrencia] = (Ft_visited_site['new_vs_returning'] == recurrencia).astype(bool)"
   ]
  },
  {
   "cell_type": "code",
   "execution_count": 140,
   "metadata": {},
   "outputs": [],
   "source": [
    "Ft_visited_site = Ft_visited_site.drop(columns = [\"city\",\"region\",\"new_vs_returning\"])"
   ]
  },
  {
   "cell_type": "markdown",
   "metadata": {},
   "source": [
    "#### screen_resolution"
   ]
  },
  {
   "cell_type": "code",
   "execution_count": 141,
   "metadata": {},
   "outputs": [],
   "source": [
    "populars_resolutions = Ft_visited_site[\"screen_resolution\"].value_counts().nlargest(10).index"
   ]
  },
  {
   "cell_type": "code",
   "execution_count": 142,
   "metadata": {},
   "outputs": [],
   "source": [
    "for resolution in populars_resolutions:\n",
    "    Ft_visited_site[resolution] = (Ft_visited_site['screen_resolution'] == resolution).astype(bool)"
   ]
  },
  {
   "cell_type": "code",
   "execution_count": 143,
   "metadata": {},
   "outputs": [
    {
     "data": {
      "text/html": [
       "<div>\n",
       "<style scoped>\n",
       "    .dataframe tbody tr th:only-of-type {\n",
       "        vertical-align: middle;\n",
       "    }\n",
       "\n",
       "    .dataframe tbody tr th {\n",
       "        vertical-align: top;\n",
       "    }\n",
       "\n",
       "    .dataframe thead th {\n",
       "        text-align: right;\n",
       "    }\n",
       "</style>\n",
       "<table border=\"1\" class=\"dataframe\">\n",
       "  <thead>\n",
       "    <tr style=\"text-align: right;\">\n",
       "      <th></th>\n",
       "      <th>timestamp</th>\n",
       "      <th>event</th>\n",
       "      <th>person</th>\n",
       "      <th>device_type</th>\n",
       "      <th>screen_resolution</th>\n",
       "      <th>operating_system_version</th>\n",
       "      <th>label</th>\n",
       "      <th>Brazil</th>\n",
       "      <th>Unknown</th>\n",
       "      <th>United States</th>\n",
       "      <th>...</th>\n",
       "      <th>360x640</th>\n",
       "      <th>1366x768</th>\n",
       "      <th>1920x1080</th>\n",
       "      <th>320x534</th>\n",
       "      <th>1600x900</th>\n",
       "      <th>1360x768</th>\n",
       "      <th>1440x900</th>\n",
       "      <th>320x570</th>\n",
       "      <th>1024x768</th>\n",
       "      <th>320x568</th>\n",
       "    </tr>\n",
       "  </thead>\n",
       "  <tbody>\n",
       "    <tr>\n",
       "      <th>60</th>\n",
       "      <td>2018-05-14 23:50:22</td>\n",
       "      <td>visited site</td>\n",
       "      <td>ad93850f</td>\n",
       "      <td>Smartphone</td>\n",
       "      <td>360x640</td>\n",
       "      <td>Android 5.1.1</td>\n",
       "      <td>0</td>\n",
       "      <td>True</td>\n",
       "      <td>False</td>\n",
       "      <td>False</td>\n",
       "      <td>...</td>\n",
       "      <td>True</td>\n",
       "      <td>False</td>\n",
       "      <td>False</td>\n",
       "      <td>False</td>\n",
       "      <td>False</td>\n",
       "      <td>False</td>\n",
       "      <td>False</td>\n",
       "      <td>False</td>\n",
       "      <td>False</td>\n",
       "      <td>False</td>\n",
       "    </tr>\n",
       "    <tr>\n",
       "      <th>61</th>\n",
       "      <td>2018-05-16 02:48:13</td>\n",
       "      <td>visited site</td>\n",
       "      <td>ad93850f</td>\n",
       "      <td>Smartphone</td>\n",
       "      <td>360x640</td>\n",
       "      <td>Android 5.1.1</td>\n",
       "      <td>0</td>\n",
       "      <td>True</td>\n",
       "      <td>False</td>\n",
       "      <td>False</td>\n",
       "      <td>...</td>\n",
       "      <td>True</td>\n",
       "      <td>False</td>\n",
       "      <td>False</td>\n",
       "      <td>False</td>\n",
       "      <td>False</td>\n",
       "      <td>False</td>\n",
       "      <td>False</td>\n",
       "      <td>False</td>\n",
       "      <td>False</td>\n",
       "      <td>False</td>\n",
       "    </tr>\n",
       "    <tr>\n",
       "      <th>62</th>\n",
       "      <td>2018-05-18 00:11:26</td>\n",
       "      <td>visited site</td>\n",
       "      <td>ad93850f</td>\n",
       "      <td>Smartphone</td>\n",
       "      <td>360x640</td>\n",
       "      <td>Android 5.1.1</td>\n",
       "      <td>0</td>\n",
       "      <td>True</td>\n",
       "      <td>False</td>\n",
       "      <td>False</td>\n",
       "      <td>...</td>\n",
       "      <td>True</td>\n",
       "      <td>False</td>\n",
       "      <td>False</td>\n",
       "      <td>False</td>\n",
       "      <td>False</td>\n",
       "      <td>False</td>\n",
       "      <td>False</td>\n",
       "      <td>False</td>\n",
       "      <td>False</td>\n",
       "      <td>False</td>\n",
       "    </tr>\n",
       "    <tr>\n",
       "      <th>63</th>\n",
       "      <td>2018-05-18 22:11:46</td>\n",
       "      <td>visited site</td>\n",
       "      <td>ad93850f</td>\n",
       "      <td>Smartphone</td>\n",
       "      <td>360x640</td>\n",
       "      <td>Android 5.1.1</td>\n",
       "      <td>0</td>\n",
       "      <td>True</td>\n",
       "      <td>False</td>\n",
       "      <td>False</td>\n",
       "      <td>...</td>\n",
       "      <td>True</td>\n",
       "      <td>False</td>\n",
       "      <td>False</td>\n",
       "      <td>False</td>\n",
       "      <td>False</td>\n",
       "      <td>False</td>\n",
       "      <td>False</td>\n",
       "      <td>False</td>\n",
       "      <td>False</td>\n",
       "      <td>False</td>\n",
       "    </tr>\n",
       "    <tr>\n",
       "      <th>64</th>\n",
       "      <td>2018-05-22 22:41:31</td>\n",
       "      <td>visited site</td>\n",
       "      <td>ad93850f</td>\n",
       "      <td>Smartphone</td>\n",
       "      <td>360x640</td>\n",
       "      <td>Android 5.1.1</td>\n",
       "      <td>0</td>\n",
       "      <td>True</td>\n",
       "      <td>False</td>\n",
       "      <td>False</td>\n",
       "      <td>...</td>\n",
       "      <td>True</td>\n",
       "      <td>False</td>\n",
       "      <td>False</td>\n",
       "      <td>False</td>\n",
       "      <td>False</td>\n",
       "      <td>False</td>\n",
       "      <td>False</td>\n",
       "      <td>False</td>\n",
       "      <td>False</td>\n",
       "      <td>False</td>\n",
       "    </tr>\n",
       "  </tbody>\n",
       "</table>\n",
       "<p>5 rows × 45 columns</p>\n",
       "</div>"
      ],
      "text/plain": [
       "             timestamp         event    person device_type screen_resolution  \\\n",
       "60 2018-05-14 23:50:22  visited site  ad93850f  Smartphone           360x640   \n",
       "61 2018-05-16 02:48:13  visited site  ad93850f  Smartphone           360x640   \n",
       "62 2018-05-18 00:11:26  visited site  ad93850f  Smartphone           360x640   \n",
       "63 2018-05-18 22:11:46  visited site  ad93850f  Smartphone           360x640   \n",
       "64 2018-05-22 22:41:31  visited site  ad93850f  Smartphone           360x640   \n",
       "\n",
       "   operating_system_version  label  Brazil  Unknown  United States   ...     \\\n",
       "60            Android 5.1.1      0    True    False          False   ...      \n",
       "61            Android 5.1.1      0    True    False          False   ...      \n",
       "62            Android 5.1.1      0    True    False          False   ...      \n",
       "63            Android 5.1.1      0    True    False          False   ...      \n",
       "64            Android 5.1.1      0    True    False          False   ...      \n",
       "\n",
       "    360x640  1366x768  1920x1080  320x534  1600x900  1360x768  1440x900  \\\n",
       "60     True     False      False    False     False     False     False   \n",
       "61     True     False      False    False     False     False     False   \n",
       "62     True     False      False    False     False     False     False   \n",
       "63     True     False      False    False     False     False     False   \n",
       "64     True     False      False    False     False     False     False   \n",
       "\n",
       "    320x570  1024x768  320x568  \n",
       "60    False     False    False  \n",
       "61    False     False    False  \n",
       "62    False     False    False  \n",
       "63    False     False    False  \n",
       "64    False     False    False  \n",
       "\n",
       "[5 rows x 45 columns]"
      ]
     },
     "execution_count": 143,
     "metadata": {},
     "output_type": "execute_result"
    }
   ],
   "source": [
    "Ft_visited_site.head()"
   ]
  },
  {
   "cell_type": "code",
   "execution_count": 144,
   "metadata": {},
   "outputs": [],
   "source": [
    "Ft_visited_site = Ft_visited_site.drop(columns = [\"screen_resolution\",\"operating_system_version\"])"
   ]
  },
  {
   "cell_type": "markdown",
   "metadata": {},
   "source": [
    "#### device_type"
   ]
  },
  {
   "cell_type": "code",
   "execution_count": 145,
   "metadata": {},
   "outputs": [],
   "source": [
    "tipoDisp = Ft_visited_site[\"device_type\"].value_counts().index"
   ]
  },
  {
   "cell_type": "code",
   "execution_count": 146,
   "metadata": {},
   "outputs": [],
   "source": [
    "for dispositivo in tipoDisp:\n",
    "    Ft_visited_site[dispositivo] = (Ft_visited_site['device_type'] == dispositivo).astype(bool)"
   ]
  },
  {
   "cell_type": "code",
   "execution_count": 147,
   "metadata": {},
   "outputs": [],
   "source": [
    "Ft_visited_site = Ft_visited_site.drop(columns = [\"device_type\",\"event\"])\\\n",
    "                    .rename(columns = {\"Unknown\" : \"Unknown_country\"})"
   ]
  },
  {
   "cell_type": "code",
   "execution_count": null,
   "metadata": {},
   "outputs": [],
   "source": []
  },
  {
   "cell_type": "code",
   "execution_count": 148,
   "metadata": {},
   "outputs": [],
   "source": [
    "Ft_visited_site[\"mes\"] = Ft_visited_site[\"timestamp\"].dt.month\n",
    "Ft_visited_site.drop(columns = \"timestamp\", inplace =True)"
   ]
  },
  {
   "cell_type": "code",
   "execution_count": 149,
   "metadata": {},
   "outputs": [
    {
     "data": {
      "text/plain": [
       "(102298, 44)"
      ]
     },
     "execution_count": 149,
     "metadata": {},
     "output_type": "execute_result"
    }
   ],
   "source": [
    "Ft_visited_site.shape"
   ]
  },
  {
   "cell_type": "code",
   "execution_count": null,
   "metadata": {},
   "outputs": [],
   "source": []
  },
  {
   "cell_type": "code",
   "execution_count": 4,
   "metadata": {},
   "outputs": [],
   "source": []
  },
  {
   "cell_type": "code",
   "execution_count": 151,
   "metadata": {},
   "outputs": [],
   "source": [
    "Ft_visited_site = change_column_order(Ft_visited_site,\"mes\",0).drop(columns = \"label\")"
   ]
  },
  {
   "cell_type": "code",
   "execution_count": 152,
   "metadata": {},
   "outputs": [],
   "source": [
    "Ft_visited_site = Ft_visited_site.sort_values(by=\"mes\")\n"
   ]
  },
  {
   "cell_type": "code",
   "execution_count": 153,
   "metadata": {},
   "outputs": [],
   "source": [
    "Ft_visited_site = Ft_visited_site.groupby([\"mes\",\"person\"]).sum().reset_index()\n"
   ]
  },
  {
   "cell_type": "code",
   "execution_count": 154,
   "metadata": {},
   "outputs": [],
   "source": [
    "Ft_visited_site.to_csv('FT_visited_site_train.csv',index = False)"
   ]
  },
  {
   "cell_type": "code",
   "execution_count": null,
   "metadata": {},
   "outputs": [],
   "source": []
  },
  {
   "cell_type": "markdown",
   "metadata": {},
   "source": [
    "## Features sobre viewed product\n"
   ]
  },
  {
   "cell_type": "code",
   "execution_count": 155,
   "metadata": {},
   "outputs": [],
   "source": [
    "Ft_viewed_product = converted[converted[\"event\"] == \"viewed product\"].iloc[:,0:9]\\\n",
    "                    .drop(columns = [\"event\",\"url\"])"
   ]
  },
  {
   "cell_type": "code",
   "execution_count": 156,
   "metadata": {},
   "outputs": [],
   "source": [
    "Ft_viewed_product[\"mes\"] = Ft_viewed_product[\"timestamp\"].dt.month"
   ]
  },
  {
   "cell_type": "code",
   "execution_count": 157,
   "metadata": {},
   "outputs": [],
   "source": [
    "Ft_viewed_product.drop(columns = \"timestamp\",inplace = True)"
   ]
  },
  {
   "cell_type": "code",
   "execution_count": 158,
   "metadata": {},
   "outputs": [],
   "source": [
    "Ft_viewed_product = change_column_order(Ft_viewed_product,\"mes\",0)"
   ]
  },
  {
   "cell_type": "code",
   "execution_count": 159,
   "metadata": {},
   "outputs": [
    {
     "data": {
      "text/html": [
       "<div>\n",
       "<style scoped>\n",
       "    .dataframe tbody tr th:only-of-type {\n",
       "        vertical-align: middle;\n",
       "    }\n",
       "\n",
       "    .dataframe tbody tr th {\n",
       "        vertical-align: top;\n",
       "    }\n",
       "\n",
       "    .dataframe thead th {\n",
       "        text-align: right;\n",
       "    }\n",
       "</style>\n",
       "<table border=\"1\" class=\"dataframe\">\n",
       "  <thead>\n",
       "    <tr style=\"text-align: right;\">\n",
       "      <th></th>\n",
       "      <th>mes</th>\n",
       "      <th>person</th>\n",
       "      <th>sku</th>\n",
       "      <th>model</th>\n",
       "      <th>condition</th>\n",
       "      <th>storage</th>\n",
       "      <th>color</th>\n",
       "    </tr>\n",
       "  </thead>\n",
       "  <tbody>\n",
       "    <tr>\n",
       "      <th>649409</th>\n",
       "      <td>1</td>\n",
       "      <td>30ec9daf</td>\n",
       "      <td>3396.0</td>\n",
       "      <td>Samsung Galaxy Note Edge</td>\n",
       "      <td>Muito Bom</td>\n",
       "      <td>32GB</td>\n",
       "      <td>Preto</td>\n",
       "    </tr>\n",
       "    <tr>\n",
       "      <th>342604</th>\n",
       "      <td>1</td>\n",
       "      <td>6d4e29bb</td>\n",
       "      <td>2929.0</td>\n",
       "      <td>Motorola Moto MAXX</td>\n",
       "      <td>Excelente</td>\n",
       "      <td>64GB</td>\n",
       "      <td>Preto</td>\n",
       "    </tr>\n",
       "    <tr>\n",
       "      <th>342603</th>\n",
       "      <td>1</td>\n",
       "      <td>6d4e29bb</td>\n",
       "      <td>8485.0</td>\n",
       "      <td>Samsung Galaxy S7</td>\n",
       "      <td>Bom</td>\n",
       "      <td>32GB</td>\n",
       "      <td>Dourado</td>\n",
       "    </tr>\n",
       "    <tr>\n",
       "      <th>342602</th>\n",
       "      <td>1</td>\n",
       "      <td>6d4e29bb</td>\n",
       "      <td>10352.0</td>\n",
       "      <td>Motorola Moto G4 Plus</td>\n",
       "      <td>Excelente</td>\n",
       "      <td>32GB</td>\n",
       "      <td>Preto</td>\n",
       "    </tr>\n",
       "    <tr>\n",
       "      <th>342601</th>\n",
       "      <td>1</td>\n",
       "      <td>6d4e29bb</td>\n",
       "      <td>2976.0</td>\n",
       "      <td>Samsung Galaxy A7</td>\n",
       "      <td>Muito Bom</td>\n",
       "      <td>16GB</td>\n",
       "      <td>Branco</td>\n",
       "    </tr>\n",
       "  </tbody>\n",
       "</table>\n",
       "</div>"
      ],
      "text/plain": [
       "        mes    person      sku                     model  condition storage  \\\n",
       "649409    1  30ec9daf   3396.0  Samsung Galaxy Note Edge  Muito Bom    32GB   \n",
       "342604    1  6d4e29bb   2929.0       Motorola Moto MAXX   Excelente    64GB   \n",
       "342603    1  6d4e29bb   8485.0         Samsung Galaxy S7        Bom    32GB   \n",
       "342602    1  6d4e29bb  10352.0     Motorola Moto G4 Plus  Excelente    32GB   \n",
       "342601    1  6d4e29bb   2976.0         Samsung Galaxy A7  Muito Bom    16GB   \n",
       "\n",
       "          color  \n",
       "649409    Preto  \n",
       "342604    Preto  \n",
       "342603  Dourado  \n",
       "342602    Preto  \n",
       "342601   Branco  "
      ]
     },
     "execution_count": 159,
     "metadata": {},
     "output_type": "execute_result"
    }
   ],
   "source": [
    "Ft_viewed_product = Ft_viewed_product.sort_values(by=\"mes\")\n",
    "Ft_viewed_product.head()"
   ]
  },
  {
   "cell_type": "markdown",
   "metadata": {},
   "source": [
    "### model"
   ]
  },
  {
   "cell_type": "code",
   "execution_count": 160,
   "metadata": {},
   "outputs": [],
   "source": [
    "modelos_populares = Ft_viewed_product[\"model\"].value_counts().nlargest(15).index"
   ]
  },
  {
   "cell_type": "code",
   "execution_count": 161,
   "metadata": {},
   "outputs": [
    {
     "data": {
      "text/plain": [
       "array(['iPhone 6', 'iPhone 5s', 'iPhone 6S', 'iPhone 7',\n",
       "       'Samsung Galaxy S7 Edge', 'iPhone 7 Plus', 'Samsung Galaxy S7',\n",
       "       'iPhone 6S Plus', 'iPhone SE', 'Samsung Galaxy S8',\n",
       "       'Samsung Galaxy S6 Edge', 'iPhone 6 Plus', 'iPhone 5c',\n",
       "       'Samsung Galaxy J5', 'Samsung Galaxy S6 Flat'], dtype=object)"
      ]
     },
     "execution_count": 161,
     "metadata": {},
     "output_type": "execute_result"
    }
   ],
   "source": [
    "modelos_populares = pd.Series(modelos_populares).values\n",
    "modelos_populares"
   ]
  },
  {
   "cell_type": "code",
   "execution_count": 162,
   "metadata": {},
   "outputs": [],
   "source": [
    "for modelo in modelos_populares:\n",
    "    Ft_viewed_product[modelo] = (Ft_viewed_product['model'] == modelo).astype(bool)"
   ]
  },
  {
   "cell_type": "code",
   "execution_count": 163,
   "metadata": {},
   "outputs": [],
   "source": [
    "modelosView = pd.Series(modelos_populares).apply(lambda x: x +\"_view\").values\n",
    "Ft_viewed_product.rename(columns=dict(zip(Ft_viewed_product.iloc[:,7:], modelosView)),inplace=True)"
   ]
  },
  {
   "cell_type": "code",
   "execution_count": 164,
   "metadata": {},
   "outputs": [
    {
     "data": {
      "text/html": [
       "<div>\n",
       "<style scoped>\n",
       "    .dataframe tbody tr th:only-of-type {\n",
       "        vertical-align: middle;\n",
       "    }\n",
       "\n",
       "    .dataframe tbody tr th {\n",
       "        vertical-align: top;\n",
       "    }\n",
       "\n",
       "    .dataframe thead th {\n",
       "        text-align: right;\n",
       "    }\n",
       "</style>\n",
       "<table border=\"1\" class=\"dataframe\">\n",
       "  <thead>\n",
       "    <tr style=\"text-align: right;\">\n",
       "      <th></th>\n",
       "      <th>mes</th>\n",
       "      <th>person</th>\n",
       "      <th>sku</th>\n",
       "      <th>condition</th>\n",
       "      <th>storage</th>\n",
       "      <th>color</th>\n",
       "      <th>iPhone 6_view</th>\n",
       "      <th>iPhone 5s_view</th>\n",
       "      <th>iPhone 6S_view</th>\n",
       "      <th>iPhone 7_view</th>\n",
       "      <th>...</th>\n",
       "      <th>iPhone 7 Plus_view</th>\n",
       "      <th>Samsung Galaxy S7_view</th>\n",
       "      <th>iPhone 6S Plus_view</th>\n",
       "      <th>iPhone SE_view</th>\n",
       "      <th>Samsung Galaxy S8_view</th>\n",
       "      <th>Samsung Galaxy S6 Edge_view</th>\n",
       "      <th>iPhone 6 Plus_view</th>\n",
       "      <th>iPhone 5c_view</th>\n",
       "      <th>Samsung Galaxy J5_view</th>\n",
       "      <th>Samsung Galaxy S6 Flat_view</th>\n",
       "    </tr>\n",
       "  </thead>\n",
       "  <tbody>\n",
       "    <tr>\n",
       "      <th>649409</th>\n",
       "      <td>1</td>\n",
       "      <td>30ec9daf</td>\n",
       "      <td>3396.0</td>\n",
       "      <td>Muito Bom</td>\n",
       "      <td>32GB</td>\n",
       "      <td>Preto</td>\n",
       "      <td>False</td>\n",
       "      <td>False</td>\n",
       "      <td>False</td>\n",
       "      <td>False</td>\n",
       "      <td>...</td>\n",
       "      <td>False</td>\n",
       "      <td>False</td>\n",
       "      <td>False</td>\n",
       "      <td>False</td>\n",
       "      <td>False</td>\n",
       "      <td>False</td>\n",
       "      <td>False</td>\n",
       "      <td>False</td>\n",
       "      <td>False</td>\n",
       "      <td>False</td>\n",
       "    </tr>\n",
       "    <tr>\n",
       "      <th>342604</th>\n",
       "      <td>1</td>\n",
       "      <td>6d4e29bb</td>\n",
       "      <td>2929.0</td>\n",
       "      <td>Excelente</td>\n",
       "      <td>64GB</td>\n",
       "      <td>Preto</td>\n",
       "      <td>False</td>\n",
       "      <td>False</td>\n",
       "      <td>False</td>\n",
       "      <td>False</td>\n",
       "      <td>...</td>\n",
       "      <td>False</td>\n",
       "      <td>False</td>\n",
       "      <td>False</td>\n",
       "      <td>False</td>\n",
       "      <td>False</td>\n",
       "      <td>False</td>\n",
       "      <td>False</td>\n",
       "      <td>False</td>\n",
       "      <td>False</td>\n",
       "      <td>False</td>\n",
       "    </tr>\n",
       "    <tr>\n",
       "      <th>342603</th>\n",
       "      <td>1</td>\n",
       "      <td>6d4e29bb</td>\n",
       "      <td>8485.0</td>\n",
       "      <td>Bom</td>\n",
       "      <td>32GB</td>\n",
       "      <td>Dourado</td>\n",
       "      <td>False</td>\n",
       "      <td>False</td>\n",
       "      <td>False</td>\n",
       "      <td>False</td>\n",
       "      <td>...</td>\n",
       "      <td>False</td>\n",
       "      <td>True</td>\n",
       "      <td>False</td>\n",
       "      <td>False</td>\n",
       "      <td>False</td>\n",
       "      <td>False</td>\n",
       "      <td>False</td>\n",
       "      <td>False</td>\n",
       "      <td>False</td>\n",
       "      <td>False</td>\n",
       "    </tr>\n",
       "    <tr>\n",
       "      <th>342602</th>\n",
       "      <td>1</td>\n",
       "      <td>6d4e29bb</td>\n",
       "      <td>10352.0</td>\n",
       "      <td>Excelente</td>\n",
       "      <td>32GB</td>\n",
       "      <td>Preto</td>\n",
       "      <td>False</td>\n",
       "      <td>False</td>\n",
       "      <td>False</td>\n",
       "      <td>False</td>\n",
       "      <td>...</td>\n",
       "      <td>False</td>\n",
       "      <td>False</td>\n",
       "      <td>False</td>\n",
       "      <td>False</td>\n",
       "      <td>False</td>\n",
       "      <td>False</td>\n",
       "      <td>False</td>\n",
       "      <td>False</td>\n",
       "      <td>False</td>\n",
       "      <td>False</td>\n",
       "    </tr>\n",
       "    <tr>\n",
       "      <th>342601</th>\n",
       "      <td>1</td>\n",
       "      <td>6d4e29bb</td>\n",
       "      <td>2976.0</td>\n",
       "      <td>Muito Bom</td>\n",
       "      <td>16GB</td>\n",
       "      <td>Branco</td>\n",
       "      <td>False</td>\n",
       "      <td>False</td>\n",
       "      <td>False</td>\n",
       "      <td>False</td>\n",
       "      <td>...</td>\n",
       "      <td>False</td>\n",
       "      <td>False</td>\n",
       "      <td>False</td>\n",
       "      <td>False</td>\n",
       "      <td>False</td>\n",
       "      <td>False</td>\n",
       "      <td>False</td>\n",
       "      <td>False</td>\n",
       "      <td>False</td>\n",
       "      <td>False</td>\n",
       "    </tr>\n",
       "  </tbody>\n",
       "</table>\n",
       "<p>5 rows × 21 columns</p>\n",
       "</div>"
      ],
      "text/plain": [
       "        mes    person      sku  condition storage    color  iPhone 6_view  \\\n",
       "649409    1  30ec9daf   3396.0  Muito Bom    32GB    Preto          False   \n",
       "342604    1  6d4e29bb   2929.0  Excelente    64GB    Preto          False   \n",
       "342603    1  6d4e29bb   8485.0        Bom    32GB  Dourado          False   \n",
       "342602    1  6d4e29bb  10352.0  Excelente    32GB    Preto          False   \n",
       "342601    1  6d4e29bb   2976.0  Muito Bom    16GB   Branco          False   \n",
       "\n",
       "        iPhone 5s_view  iPhone 6S_view  iPhone 7_view  \\\n",
       "649409           False           False          False   \n",
       "342604           False           False          False   \n",
       "342603           False           False          False   \n",
       "342602           False           False          False   \n",
       "342601           False           False          False   \n",
       "\n",
       "                   ...               iPhone 7 Plus_view  \\\n",
       "649409             ...                            False   \n",
       "342604             ...                            False   \n",
       "342603             ...                            False   \n",
       "342602             ...                            False   \n",
       "342601             ...                            False   \n",
       "\n",
       "        Samsung Galaxy S7_view  iPhone 6S Plus_view  iPhone SE_view  \\\n",
       "649409                   False                False           False   \n",
       "342604                   False                False           False   \n",
       "342603                    True                False           False   \n",
       "342602                   False                False           False   \n",
       "342601                   False                False           False   \n",
       "\n",
       "        Samsung Galaxy S8_view  Samsung Galaxy S6 Edge_view  \\\n",
       "649409                   False                        False   \n",
       "342604                   False                        False   \n",
       "342603                   False                        False   \n",
       "342602                   False                        False   \n",
       "342601                   False                        False   \n",
       "\n",
       "        iPhone 6 Plus_view  iPhone 5c_view  Samsung Galaxy J5_view  \\\n",
       "649409               False           False                   False   \n",
       "342604               False           False                   False   \n",
       "342603               False           False                   False   \n",
       "342602               False           False                   False   \n",
       "342601               False           False                   False   \n",
       "\n",
       "        Samsung Galaxy S6 Flat_view  \n",
       "649409                        False  \n",
       "342604                        False  \n",
       "342603                        False  \n",
       "342602                        False  \n",
       "342601                        False  \n",
       "\n",
       "[5 rows x 21 columns]"
      ]
     },
     "execution_count": 164,
     "metadata": {},
     "output_type": "execute_result"
    }
   ],
   "source": [
    "Ft_viewed_product.drop(columns = \"model\",inplace = True)\n",
    "Ft_viewed_product.head()"
   ]
  },
  {
   "cell_type": "markdown",
   "metadata": {},
   "source": [
    "### colorView"
   ]
  },
  {
   "cell_type": "code",
   "execution_count": 165,
   "metadata": {},
   "outputs": [
    {
     "data": {
      "text/plain": [
       "Index(['Preto', 'Dourado', 'Cinza espacial', 'Branco', 'Prateado', 'Ouro Rosa',\n",
       "       'Rosa', 'Prata', 'Preto Matte', 'Azul', 'Platinum', 'Preto Brilhante',\n",
       "       'Ametista', 'Ouro', 'Vermelho'],\n",
       "      dtype='object')"
      ]
     },
     "execution_count": 165,
     "metadata": {},
     "output_type": "execute_result"
    }
   ],
   "source": [
    "#15 mas vistos\n",
    "colores = Ft_viewed_product[\"color\"].value_counts().nlargest(15).index\n",
    "colores"
   ]
  },
  {
   "cell_type": "code",
   "execution_count": 166,
   "metadata": {},
   "outputs": [],
   "source": [
    "for color in colores:\n",
    "    Ft_viewed_product[color] = (Ft_viewed_product['color'] == color).astype(bool)"
   ]
  },
  {
   "cell_type": "code",
   "execution_count": 167,
   "metadata": {},
   "outputs": [],
   "source": [
    "Ft_viewed_product.drop(columns = \"color\",inplace = True)"
   ]
  },
  {
   "cell_type": "code",
   "execution_count": 168,
   "metadata": {},
   "outputs": [],
   "source": [
    "Ft_viewed_product.drop(columns = \"sku\",inplace = True)"
   ]
  },
  {
   "cell_type": "code",
   "execution_count": 169,
   "metadata": {},
   "outputs": [],
   "source": [
    "coloresView = pd.Series(colores).apply(lambda x: x +\"_view\").values\n",
    "Ft_viewed_product.rename(columns=dict(zip(Ft_viewed_product.iloc[:,19:], coloresView)),inplace=True)"
   ]
  },
  {
   "cell_type": "code",
   "execution_count": null,
   "metadata": {},
   "outputs": [],
   "source": []
  },
  {
   "cell_type": "code",
   "execution_count": 170,
   "metadata": {},
   "outputs": [],
   "source": [
    "#En el tp1 no influyo demasiado en las conversiones el buen storage, los usuarios compraban modelos a bajo costo \n",
    "#sacrificando el almacenamiento, tampoco se puede decir que las conversiones se inclinan al almacenamiento bajo\n",
    "#Si el dia de maniana sale un telefono con bajo costo y almacenamiento alto esto influria diferente en el algoritmo\n",
    "#Lo descarto"
   ]
  },
  {
   "cell_type": "code",
   "execution_count": 171,
   "metadata": {},
   "outputs": [],
   "source": [
    "Ft_viewed_product.drop(columns = \"storage\",inplace = True)"
   ]
  },
  {
   "cell_type": "markdown",
   "metadata": {},
   "source": [
    "### condition"
   ]
  },
  {
   "cell_type": "code",
   "execution_count": 172,
   "metadata": {},
   "outputs": [],
   "source": [
    "condiciones = Ft_viewed_product.condition.value_counts().index"
   ]
  },
  {
   "cell_type": "code",
   "execution_count": 173,
   "metadata": {},
   "outputs": [],
   "source": [
    "for condition in condiciones:\n",
    "    Ft_viewed_product[condition] = (Ft_viewed_product['condition'] == condition).astype(bool)"
   ]
  },
  {
   "cell_type": "code",
   "execution_count": null,
   "metadata": {},
   "outputs": [],
   "source": []
  },
  {
   "cell_type": "code",
   "execution_count": 174,
   "metadata": {},
   "outputs": [],
   "source": [
    "conditionView = pd.Series(condiciones).apply(lambda x: x +\"_view\").values\n",
    "Ft_viewed_product.rename(columns=dict(zip(Ft_viewed_product.iloc[:,33:], conditionView)),inplace=True)"
   ]
  },
  {
   "cell_type": "code",
   "execution_count": 175,
   "metadata": {},
   "outputs": [],
   "source": [
    "Ft_viewed_product.drop(columns = \"condition\",inplace = True)"
   ]
  },
  {
   "cell_type": "code",
   "execution_count": 176,
   "metadata": {},
   "outputs": [
    {
     "data": {
      "text/html": [
       "<div>\n",
       "<style scoped>\n",
       "    .dataframe tbody tr th:only-of-type {\n",
       "        vertical-align: middle;\n",
       "    }\n",
       "\n",
       "    .dataframe tbody tr th {\n",
       "        vertical-align: top;\n",
       "    }\n",
       "\n",
       "    .dataframe thead th {\n",
       "        text-align: right;\n",
       "    }\n",
       "</style>\n",
       "<table border=\"1\" class=\"dataframe\">\n",
       "  <thead>\n",
       "    <tr style=\"text-align: right;\">\n",
       "      <th></th>\n",
       "      <th>mes</th>\n",
       "      <th>person</th>\n",
       "      <th>iPhone 6_view</th>\n",
       "      <th>iPhone 5s_view</th>\n",
       "      <th>iPhone 6S_view</th>\n",
       "      <th>iPhone 7_view</th>\n",
       "      <th>Samsung Galaxy S7 Edge_view</th>\n",
       "      <th>iPhone 7 Plus_view</th>\n",
       "      <th>Samsung Galaxy S7_view</th>\n",
       "      <th>iPhone 6S Plus_view</th>\n",
       "      <th>...</th>\n",
       "      <th>Platinum_view</th>\n",
       "      <th>Preto Brilhante_view</th>\n",
       "      <th>Ametista_view</th>\n",
       "      <th>Ouro_view</th>\n",
       "      <th>Vermelho_view</th>\n",
       "      <th>Bom_view</th>\n",
       "      <th>Excelente_view</th>\n",
       "      <th>Muito Bom_view</th>\n",
       "      <th>Bom - Sem Touch ID_view</th>\n",
       "      <th>Novo_view</th>\n",
       "    </tr>\n",
       "  </thead>\n",
       "  <tbody>\n",
       "    <tr>\n",
       "      <th>649409</th>\n",
       "      <td>1</td>\n",
       "      <td>30ec9daf</td>\n",
       "      <td>False</td>\n",
       "      <td>False</td>\n",
       "      <td>False</td>\n",
       "      <td>False</td>\n",
       "      <td>False</td>\n",
       "      <td>False</td>\n",
       "      <td>False</td>\n",
       "      <td>False</td>\n",
       "      <td>...</td>\n",
       "      <td>False</td>\n",
       "      <td>False</td>\n",
       "      <td>False</td>\n",
       "      <td>False</td>\n",
       "      <td>False</td>\n",
       "      <td>False</td>\n",
       "      <td>False</td>\n",
       "      <td>True</td>\n",
       "      <td>False</td>\n",
       "      <td>False</td>\n",
       "    </tr>\n",
       "    <tr>\n",
       "      <th>342604</th>\n",
       "      <td>1</td>\n",
       "      <td>6d4e29bb</td>\n",
       "      <td>False</td>\n",
       "      <td>False</td>\n",
       "      <td>False</td>\n",
       "      <td>False</td>\n",
       "      <td>False</td>\n",
       "      <td>False</td>\n",
       "      <td>False</td>\n",
       "      <td>False</td>\n",
       "      <td>...</td>\n",
       "      <td>False</td>\n",
       "      <td>False</td>\n",
       "      <td>False</td>\n",
       "      <td>False</td>\n",
       "      <td>False</td>\n",
       "      <td>False</td>\n",
       "      <td>True</td>\n",
       "      <td>False</td>\n",
       "      <td>False</td>\n",
       "      <td>False</td>\n",
       "    </tr>\n",
       "    <tr>\n",
       "      <th>342603</th>\n",
       "      <td>1</td>\n",
       "      <td>6d4e29bb</td>\n",
       "      <td>False</td>\n",
       "      <td>False</td>\n",
       "      <td>False</td>\n",
       "      <td>False</td>\n",
       "      <td>False</td>\n",
       "      <td>False</td>\n",
       "      <td>True</td>\n",
       "      <td>False</td>\n",
       "      <td>...</td>\n",
       "      <td>False</td>\n",
       "      <td>False</td>\n",
       "      <td>False</td>\n",
       "      <td>False</td>\n",
       "      <td>False</td>\n",
       "      <td>True</td>\n",
       "      <td>False</td>\n",
       "      <td>False</td>\n",
       "      <td>False</td>\n",
       "      <td>False</td>\n",
       "    </tr>\n",
       "    <tr>\n",
       "      <th>342602</th>\n",
       "      <td>1</td>\n",
       "      <td>6d4e29bb</td>\n",
       "      <td>False</td>\n",
       "      <td>False</td>\n",
       "      <td>False</td>\n",
       "      <td>False</td>\n",
       "      <td>False</td>\n",
       "      <td>False</td>\n",
       "      <td>False</td>\n",
       "      <td>False</td>\n",
       "      <td>...</td>\n",
       "      <td>False</td>\n",
       "      <td>False</td>\n",
       "      <td>False</td>\n",
       "      <td>False</td>\n",
       "      <td>False</td>\n",
       "      <td>False</td>\n",
       "      <td>True</td>\n",
       "      <td>False</td>\n",
       "      <td>False</td>\n",
       "      <td>False</td>\n",
       "    </tr>\n",
       "    <tr>\n",
       "      <th>342601</th>\n",
       "      <td>1</td>\n",
       "      <td>6d4e29bb</td>\n",
       "      <td>False</td>\n",
       "      <td>False</td>\n",
       "      <td>False</td>\n",
       "      <td>False</td>\n",
       "      <td>False</td>\n",
       "      <td>False</td>\n",
       "      <td>False</td>\n",
       "      <td>False</td>\n",
       "      <td>...</td>\n",
       "      <td>False</td>\n",
       "      <td>False</td>\n",
       "      <td>False</td>\n",
       "      <td>False</td>\n",
       "      <td>False</td>\n",
       "      <td>False</td>\n",
       "      <td>False</td>\n",
       "      <td>True</td>\n",
       "      <td>False</td>\n",
       "      <td>False</td>\n",
       "    </tr>\n",
       "  </tbody>\n",
       "</table>\n",
       "<p>5 rows × 37 columns</p>\n",
       "</div>"
      ],
      "text/plain": [
       "        mes    person  iPhone 6_view  iPhone 5s_view  iPhone 6S_view  \\\n",
       "649409    1  30ec9daf          False           False           False   \n",
       "342604    1  6d4e29bb          False           False           False   \n",
       "342603    1  6d4e29bb          False           False           False   \n",
       "342602    1  6d4e29bb          False           False           False   \n",
       "342601    1  6d4e29bb          False           False           False   \n",
       "\n",
       "        iPhone 7_view  Samsung Galaxy S7 Edge_view  iPhone 7 Plus_view  \\\n",
       "649409          False                        False               False   \n",
       "342604          False                        False               False   \n",
       "342603          False                        False               False   \n",
       "342602          False                        False               False   \n",
       "342601          False                        False               False   \n",
       "\n",
       "        Samsung Galaxy S7_view  iPhone 6S Plus_view    ...      Platinum_view  \\\n",
       "649409                   False                False    ...              False   \n",
       "342604                   False                False    ...              False   \n",
       "342603                    True                False    ...              False   \n",
       "342602                   False                False    ...              False   \n",
       "342601                   False                False    ...              False   \n",
       "\n",
       "        Preto Brilhante_view  Ametista_view  Ouro_view  Vermelho_view  \\\n",
       "649409                 False          False      False          False   \n",
       "342604                 False          False      False          False   \n",
       "342603                 False          False      False          False   \n",
       "342602                 False          False      False          False   \n",
       "342601                 False          False      False          False   \n",
       "\n",
       "        Bom_view  Excelente_view  Muito Bom_view  Bom - Sem Touch ID_view  \\\n",
       "649409     False           False            True                    False   \n",
       "342604     False            True           False                    False   \n",
       "342603      True           False           False                    False   \n",
       "342602     False            True           False                    False   \n",
       "342601     False           False            True                    False   \n",
       "\n",
       "        Novo_view  \n",
       "649409      False  \n",
       "342604      False  \n",
       "342603      False  \n",
       "342602      False  \n",
       "342601      False  \n",
       "\n",
       "[5 rows x 37 columns]"
      ]
     },
     "execution_count": 176,
     "metadata": {},
     "output_type": "execute_result"
    }
   ],
   "source": [
    "Ft_viewed_product.head()\n"
   ]
  },
  {
   "cell_type": "code",
   "execution_count": null,
   "metadata": {},
   "outputs": [],
   "source": []
  },
  {
   "cell_type": "code",
   "execution_count": 177,
   "metadata": {},
   "outputs": [],
   "source": [
    "Ft_viewed_product = Ft_viewed_product.groupby([\"mes\",\"person\"]).sum().reset_index()\n",
    "Ft_viewed_product.to_csv('FT_viewed_product_train.csv',index = False)"
   ]
  },
  {
   "cell_type": "markdown",
   "metadata": {},
   "source": [
    "## Features sobre brand listing"
   ]
  },
  {
   "cell_type": "code",
   "execution_count": 178,
   "metadata": {},
   "outputs": [
    {
     "data": {
      "text/html": [
       "<div>\n",
       "<style scoped>\n",
       "    .dataframe tbody tr th:only-of-type {\n",
       "        vertical-align: middle;\n",
       "    }\n",
       "\n",
       "    .dataframe tbody tr th {\n",
       "        vertical-align: top;\n",
       "    }\n",
       "\n",
       "    .dataframe thead th {\n",
       "        text-align: right;\n",
       "    }\n",
       "</style>\n",
       "<table border=\"1\" class=\"dataframe\">\n",
       "  <thead>\n",
       "    <tr style=\"text-align: right;\">\n",
       "      <th></th>\n",
       "      <th>timestamp</th>\n",
       "      <th>event</th>\n",
       "      <th>person</th>\n",
       "      <th>url</th>\n",
       "      <th>sku</th>\n",
       "      <th>model</th>\n",
       "      <th>condition</th>\n",
       "      <th>storage</th>\n",
       "      <th>color</th>\n",
       "      <th>skus</th>\n",
       "      <th>...</th>\n",
       "      <th>channel</th>\n",
       "      <th>new_vs_returning</th>\n",
       "      <th>city</th>\n",
       "      <th>region</th>\n",
       "      <th>country</th>\n",
       "      <th>device_type</th>\n",
       "      <th>screen_resolution</th>\n",
       "      <th>operating_system_version</th>\n",
       "      <th>browser_version</th>\n",
       "      <th>label</th>\n",
       "    </tr>\n",
       "  </thead>\n",
       "  <tbody>\n",
       "    <tr>\n",
       "      <th>39</th>\n",
       "      <td>2018-05-14 23:50:44</td>\n",
       "      <td>brand listing</td>\n",
       "      <td>ad93850f</td>\n",
       "      <td>NaN</td>\n",
       "      <td>NaN</td>\n",
       "      <td>NaN</td>\n",
       "      <td>NaN</td>\n",
       "      <td>NaN</td>\n",
       "      <td>NaN</td>\n",
       "      <td>5904,6248,2697,6023,6250,6011,5907,2696,333</td>\n",
       "      <td>...</td>\n",
       "      <td>NaN</td>\n",
       "      <td>NaN</td>\n",
       "      <td>NaN</td>\n",
       "      <td>NaN</td>\n",
       "      <td>NaN</td>\n",
       "      <td>NaN</td>\n",
       "      <td>NaN</td>\n",
       "      <td>NaN</td>\n",
       "      <td>NaN</td>\n",
       "      <td>0</td>\n",
       "    </tr>\n",
       "  </tbody>\n",
       "</table>\n",
       "<p>1 rows × 24 columns</p>\n",
       "</div>"
      ],
      "text/plain": [
       "             timestamp          event    person  url  sku model condition  \\\n",
       "39 2018-05-14 23:50:44  brand listing  ad93850f  NaN  NaN   NaN       NaN   \n",
       "\n",
       "   storage color                                         skus  ...  channel  \\\n",
       "39     NaN   NaN  5904,6248,2697,6023,6250,6011,5907,2696,333  ...      NaN   \n",
       "\n",
       "   new_vs_returning city region country device_type screen_resolution  \\\n",
       "39              NaN  NaN    NaN     NaN         NaN               NaN   \n",
       "\n",
       "   operating_system_version browser_version label  \n",
       "39                      NaN             NaN     0  \n",
       "\n",
       "[1 rows x 24 columns]"
      ]
     },
     "execution_count": 178,
     "metadata": {},
     "output_type": "execute_result"
    }
   ],
   "source": [
    "converted[converted['event'] == \"brand listing\"].head(1)"
   ]
  },
  {
   "cell_type": "code",
   "execution_count": 179,
   "metadata": {},
   "outputs": [],
   "source": [
    "#Por el momento no uso el evento, solo contiene skus"
   ]
  },
  {
   "cell_type": "markdown",
   "metadata": {},
   "source": [
    "## Features sobre ad campaign hit"
   ]
  },
  {
   "cell_type": "code",
   "execution_count": null,
   "metadata": {},
   "outputs": [],
   "source": []
  },
  {
   "cell_type": "code",
   "execution_count": 180,
   "metadata": {},
   "outputs": [],
   "source": [
    "#Este evento contiene la plataforma de campania desde la cual el usuario accede\n",
    "Ft_campaign_source = converted[converted[\"event\"] == \"ad campaign hit\"][[\"timestamp\",\"person\",\"campaign_source\"]]"
   ]
  },
  {
   "cell_type": "code",
   "execution_count": 181,
   "metadata": {},
   "outputs": [],
   "source": [
    "Ft_campaign_source[\"mes\"] = converted[\"timestamp\"].dt.month"
   ]
  },
  {
   "cell_type": "code",
   "execution_count": 182,
   "metadata": {},
   "outputs": [],
   "source": [
    "Ft_campaign_source.drop(columns = \"timestamp\",inplace = True)"
   ]
  },
  {
   "cell_type": "code",
   "execution_count": 183,
   "metadata": {},
   "outputs": [],
   "source": [
    "Ft_campaign_source =  Ft_campaign_source.sort_values(by = \"mes\")"
   ]
  },
  {
   "cell_type": "code",
   "execution_count": 184,
   "metadata": {},
   "outputs": [],
   "source": [
    "Ft_campaign_source = change_column_order(Ft_campaign_source,\"mes\",0)"
   ]
  },
  {
   "cell_type": "code",
   "execution_count": 185,
   "metadata": {},
   "outputs": [],
   "source": [
    "top_Campaigns = Ft_campaign_source[\"campaign_source\"].value_counts().nlargest(10).index"
   ]
  },
  {
   "cell_type": "code",
   "execution_count": 186,
   "metadata": {},
   "outputs": [],
   "source": [
    "for campaign in top_Campaigns:\n",
    "    Ft_campaign_source[campaign] = (Ft_campaign_source['campaign_source'] == campaign).astype(bool)"
   ]
  },
  {
   "cell_type": "code",
   "execution_count": 187,
   "metadata": {},
   "outputs": [],
   "source": [
    "Ft_campaign_source.drop(columns =\"campaign_source\",inplace=True)"
   ]
  },
  {
   "cell_type": "code",
   "execution_count": 188,
   "metadata": {},
   "outputs": [],
   "source": [
    "Ft_campaign_source = Ft_campaign_source.groupby([\"mes\",\"person\"]).sum().reset_index()\n",
    "Ft_campaign_source.to_csv('Ft_campaign_source_train.csv',index = False)"
   ]
  },
  {
   "cell_type": "markdown",
   "metadata": {},
   "source": [
    "## Features sobre search engine"
   ]
  },
  {
   "cell_type": "code",
   "execution_count": null,
   "metadata": {},
   "outputs": [],
   "source": []
  },
  {
   "cell_type": "code",
   "execution_count": 189,
   "metadata": {},
   "outputs": [],
   "source": [
    "#Este evento contiene la buscador desde el cual el user accede\n",
    "Ft_search_engine = converted[converted[\"event\"] == \"search engine hit\"][[\"timestamp\",\"person\",\"search_engine\"]]"
   ]
  },
  {
   "cell_type": "code",
   "execution_count": 190,
   "metadata": {},
   "outputs": [],
   "source": [
    "Ft_search_engine[\"mes\"] = converted[\"timestamp\"].dt.month\n",
    "Ft_search_engine.drop(columns = \"timestamp\",inplace = True)\n",
    "Ft_search_engine =  Ft_search_engine.sort_values(by = \"mes\")\n",
    "Ft_search_engine = change_column_order(Ft_search_engine,\"mes\",0)\n",
    "Ft_search_engine =  Ft_search_engine.sort_values(by = \"mes\")\n",
    "top_search_engines = Ft_search_engine[\"search_engine\"].value_counts().index"
   ]
  },
  {
   "cell_type": "code",
   "execution_count": 191,
   "metadata": {},
   "outputs": [],
   "source": [
    "for engine in top_search_engines:\n",
    "    Ft_search_engine[engine] = (Ft_search_engine['search_engine'] == engine).astype(bool)"
   ]
  },
  {
   "cell_type": "code",
   "execution_count": 192,
   "metadata": {},
   "outputs": [],
   "source": [
    "Ft_search_engine.drop(columns =\"search_engine\",inplace=True)"
   ]
  },
  {
   "cell_type": "code",
   "execution_count": 193,
   "metadata": {},
   "outputs": [],
   "source": [
    "Ft_search_engine = Ft_search_engine.groupby([\"mes\",\"person\"]).sum().reset_index()\n",
    "Ft_search_engine.to_csv('Ft_search_engine_train.csv',index = False)"
   ]
  },
  {
   "cell_type": "code",
   "execution_count": null,
   "metadata": {},
   "outputs": [],
   "source": []
  },
  {
   "cell_type": "markdown",
   "metadata": {},
   "source": [
    "## Features sobre checkout"
   ]
  },
  {
   "cell_type": "code",
   "execution_count": 194,
   "metadata": {},
   "outputs": [],
   "source": [
    "Ft_checkout = converted[converted[\"event\"] == \"checkout\"].iloc[:,:9].drop(columns = [\"sku\",\"url\"])"
   ]
  },
  {
   "cell_type": "code",
   "execution_count": 195,
   "metadata": {},
   "outputs": [],
   "source": [
    "Ft_checkout[\"mes\"] = Ft_checkout[\"timestamp\"].dt.month\n",
    "Ft_checkout.drop(columns = \"timestamp\",inplace = True)"
   ]
  },
  {
   "cell_type": "code",
   "execution_count": 196,
   "metadata": {},
   "outputs": [],
   "source": [
    "Ft_checkout  = change_column_order(Ft_checkout,\"mes\",0)"
   ]
  },
  {
   "cell_type": "code",
   "execution_count": 197,
   "metadata": {},
   "outputs": [],
   "source": [
    "Ft_checkout = Ft_checkout.sort_values(by=\"mes\").drop(columns = \"event\")\n"
   ]
  },
  {
   "cell_type": "code",
   "execution_count": 198,
   "metadata": {},
   "outputs": [
    {
     "data": {
      "text/plain": [
       "array(['iPhone 5s', 'iPhone 6', 'iPhone 6S', 'Samsung Galaxy J5',\n",
       "       'Samsung Galaxy S7', 'Samsung Galaxy J7 Prime', 'iPhone 7 Plus',\n",
       "       'iPhone 7', 'Motorola Moto G2 3G Dual', 'Samsung Galaxy S8',\n",
       "       'Samsung Galaxy S7 Edge', 'Samsung Galaxy S6 Flat',\n",
       "       'Motorola Moto G4 Plus', 'iPhone 6 Plus', 'iPhone 6S Plus'],\n",
       "      dtype=object)"
      ]
     },
     "execution_count": 198,
     "metadata": {},
     "output_type": "execute_result"
    }
   ],
   "source": [
    "modelos_populares = Ft_checkout[\"model\"].value_counts().nlargest(15).index\n",
    "modelos_populares = pd.Series(modelos_populares).values\n",
    "modelos_populares "
   ]
  },
  {
   "cell_type": "code",
   "execution_count": 199,
   "metadata": {},
   "outputs": [],
   "source": [
    "for model in modelos_populares:\n",
    "    Ft_checkout[model] = (Ft_checkout['model'] == model).astype(bool)"
   ]
  },
  {
   "cell_type": "code",
   "execution_count": 200,
   "metadata": {},
   "outputs": [],
   "source": [
    "Ft_checkout.drop(columns = [\"model\"],inplace = True)"
   ]
  },
  {
   "cell_type": "code",
   "execution_count": 201,
   "metadata": {},
   "outputs": [],
   "source": [
    "modelos_populares = pd.Series(modelos_populares).apply(lambda x: x +\"_checkouts\").values\n",
    "Ft_checkout.rename(columns=dict(zip(Ft_checkout.iloc[:,5:], modelos_populares)),inplace=True)"
   ]
  },
  {
   "cell_type": "code",
   "execution_count": null,
   "metadata": {},
   "outputs": [],
   "source": []
  },
  {
   "cell_type": "code",
   "execution_count": 202,
   "metadata": {},
   "outputs": [
    {
     "data": {
      "text/plain": [
       "array(['Preto', 'Dourado', 'Branco', 'Cinza espacial', 'Prateado',\n",
       "       'Ouro Rosa', 'Rosa', 'Prata', 'Preto Matte', 'Platinum', 'Azul',\n",
       "       'Ametista', 'Cinza', 'Ouro', 'Preto Brilhante'], dtype=object)"
      ]
     },
     "execution_count": 202,
     "metadata": {},
     "output_type": "execute_result"
    }
   ],
   "source": [
    "#colores\n",
    "coloresPopulares = Ft_checkout[\"color\"].value_counts().nlargest(15).index\n",
    "coloresPopulares = pd.Series(coloresPopulares).values\n",
    "coloresPopulares "
   ]
  },
  {
   "cell_type": "code",
   "execution_count": 203,
   "metadata": {},
   "outputs": [],
   "source": [
    "for color in coloresPopulares:\n",
    "    Ft_checkout[color] = (Ft_checkout['color'] == color).astype(bool)"
   ]
  },
  {
   "cell_type": "code",
   "execution_count": 204,
   "metadata": {},
   "outputs": [],
   "source": [
    "Ft_checkout.drop(columns = [\"color\"],inplace = True)"
   ]
  },
  {
   "cell_type": "code",
   "execution_count": 205,
   "metadata": {},
   "outputs": [],
   "source": [
    "coloresPopulares = pd.Series(coloresPopulares).apply(lambda x: x +\"_checkouts\").values\n",
    "Ft_checkout.rename(columns=dict(zip(Ft_checkout.iloc[:,19:], coloresPopulares)),inplace=True)"
   ]
  },
  {
   "cell_type": "code",
   "execution_count": 206,
   "metadata": {},
   "outputs": [],
   "source": [
    "#condiciones\n",
    "for condition in condiciones:\n",
    "    Ft_checkout[condition] = (Ft_checkout['condition'] == condition).astype(bool)"
   ]
  },
  {
   "cell_type": "code",
   "execution_count": 207,
   "metadata": {},
   "outputs": [],
   "source": [
    "conditionChecks = pd.Series(condiciones).apply(lambda x: x +\"_checkouts\").values\n",
    "Ft_checkout.rename(columns=dict(zip(Ft_checkout.iloc[:,34:], conditionChecks)),inplace=True)"
   ]
  },
  {
   "cell_type": "code",
   "execution_count": 208,
   "metadata": {},
   "outputs": [],
   "source": [
    "Ft_checkout.drop(columns = [\"condition\",\"storage\"],inplace = True)"
   ]
  },
  {
   "cell_type": "code",
   "execution_count": 209,
   "metadata": {},
   "outputs": [],
   "source": [
    "Ft_checkout = Ft_checkout.groupby([\"mes\",\"person\"]).sum().reset_index()\n",
    "Ft_checkout.to_csv('Ft_checkout_train.csv',index = False)"
   ]
  },
  {
   "cell_type": "code",
   "execution_count": null,
   "metadata": {},
   "outputs": [],
   "source": []
  },
  {
   "cell_type": "markdown",
   "metadata": {},
   "source": [
    "## Features sobre conversion"
   ]
  },
  {
   "cell_type": "code",
   "execution_count": 210,
   "metadata": {},
   "outputs": [],
   "source": [
    "Ft_conversion = converted[converted[\"event\"] == \"conversion\"].iloc[:,:9].drop(columns = [\"sku\",\"url\"])"
   ]
  },
  {
   "cell_type": "code",
   "execution_count": 211,
   "metadata": {},
   "outputs": [],
   "source": [
    "Ft_conversion[\"mes\"] = Ft_conversion[\"timestamp\"].dt.month\n",
    "Ft_conversion.drop(columns = \"timestamp\",inplace = True)"
   ]
  },
  {
   "cell_type": "code",
   "execution_count": 212,
   "metadata": {},
   "outputs": [],
   "source": [
    "Ft_conversion  = change_column_order(Ft_conversion,\"mes\",0)"
   ]
  },
  {
   "cell_type": "code",
   "execution_count": 213,
   "metadata": {},
   "outputs": [],
   "source": [
    "Ft_conversion = Ft_conversion.sort_values(by=\"mes\").drop(columns = \"event\")"
   ]
  },
  {
   "cell_type": "code",
   "execution_count": 214,
   "metadata": {},
   "outputs": [
    {
     "data": {
      "text/plain": [
       "array(['iPhone 5s', 'Samsung Galaxy J5', 'iPhone 6',\n",
       "       'Motorola Moto G2 3G Dual', 'iPhone 6S', 'Samsung Galaxy J7 Prime',\n",
       "       'Motorola Moto G4 Plus', 'Samsung Galaxy S7',\n",
       "       'Samsung Galaxy S6 Flat', 'iPhone 4S', 'Samsung Galaxy S7 Edge',\n",
       "       'Samsung Galaxy S5', 'Samsung Galaxy J2 Prime TV',\n",
       "       'Samsung Galaxy Gran Prime Duos TV', 'Samsung Galaxy S6 Edge'],\n",
       "      dtype=object)"
      ]
     },
     "execution_count": 214,
     "metadata": {},
     "output_type": "execute_result"
    }
   ],
   "source": [
    "modelos_populares = Ft_conversion[\"model\"].value_counts().nlargest(15).index\n",
    "modelos_populares = pd.Series(modelos_populares).values\n",
    "modelos_populares "
   ]
  },
  {
   "cell_type": "code",
   "execution_count": 215,
   "metadata": {},
   "outputs": [],
   "source": [
    "for model in modelos_populares:\n",
    "    Ft_conversion[model] = (Ft_conversion['model'] == model).astype(bool)"
   ]
  },
  {
   "cell_type": "code",
   "execution_count": 216,
   "metadata": {},
   "outputs": [],
   "source": [
    "Ft_conversion.drop(columns = [\"model\"],inplace = True)"
   ]
  },
  {
   "cell_type": "code",
   "execution_count": 217,
   "metadata": {},
   "outputs": [],
   "source": [
    "modelos_populares = pd.Series(modelos_populares).apply(lambda x: x +\"_conversiones\").values\n",
    "Ft_conversion.rename(columns=dict(zip(Ft_conversion.iloc[:,5:], modelos_populares)),inplace=True)\n"
   ]
  },
  {
   "cell_type": "code",
   "execution_count": 218,
   "metadata": {},
   "outputs": [],
   "source": [
    "for color in coloresPopulares:\n",
    "    Ft_conversion[color] = (Ft_conversion['color'] == color).astype(bool)"
   ]
  },
  {
   "cell_type": "code",
   "execution_count": 219,
   "metadata": {},
   "outputs": [],
   "source": [
    "Ft_conversion.drop(columns = [\"color\"],inplace = True)"
   ]
  },
  {
   "cell_type": "code",
   "execution_count": null,
   "metadata": {},
   "outputs": [],
   "source": []
  },
  {
   "cell_type": "code",
   "execution_count": 220,
   "metadata": {},
   "outputs": [],
   "source": [
    "coloresPopulares = pd.Series(coloresPopulares).apply(lambda x: x +\"_conversiones\").values\n",
    "Ft_conversion.rename(columns=dict(zip(Ft_conversion.iloc[:,19:], coloresPopulares)),inplace=True)"
   ]
  },
  {
   "cell_type": "code",
   "execution_count": 221,
   "metadata": {},
   "outputs": [],
   "source": [
    "#condiciones\n",
    "for condition in condiciones:\n",
    "    Ft_conversion[condition] = (Ft_conversion['condition'] == condition).astype(bool)"
   ]
  },
  {
   "cell_type": "code",
   "execution_count": 222,
   "metadata": {},
   "outputs": [],
   "source": [
    "conditionConv = pd.Series(condiciones).apply(lambda x: x +\"_conversiones\").values\n",
    "Ft_conversion.rename(columns=dict(zip(Ft_conversion.iloc[:,34:], conditionConv)),inplace=True)"
   ]
  },
  {
   "cell_type": "code",
   "execution_count": 223,
   "metadata": {},
   "outputs": [],
   "source": [
    "Ft_conversion.drop(columns = [\"condition\",\"storage\"],inplace = True)"
   ]
  },
  {
   "cell_type": "code",
   "execution_count": 224,
   "metadata": {},
   "outputs": [],
   "source": [
    "Ft_conversion = Ft_conversion.groupby([\"mes\",\"person\"]).sum().reset_index()\n",
    "Ft_conversion.to_csv('Ft_conversion_train.csv',index = False)"
   ]
  },
  {
   "cell_type": "markdown",
   "metadata": {},
   "source": [
    "## Feature sobre cantidad de eventos por user"
   ]
  },
  {
   "cell_type": "code",
   "execution_count": 10,
   "metadata": {},
   "outputs": [],
   "source": [
    "converted[\"mes\"] = converted[\"timestamp\"].dt.month\n",
    "Ft_cant_eventos = converted.groupby([\"person\",\"mes\"])[\"event\"].size()\n",
    "Ft_cant_eventos = pd.DataFrame(data = Ft_cant_eventos)\\\n",
    "                    .rename(columns = {'event' : 'cantidad_eventos'}).reset_index().sort_values(by=\"mes\")"
   ]
  },
  {
   "cell_type": "code",
   "execution_count": 11,
   "metadata": {},
   "outputs": [],
   "source": [
    "Ft_cant_eventos.to_csv(\"Ft_cant_eventos_train.csv\")"
   ]
  },
  {
   "cell_type": "code",
   "execution_count": null,
   "metadata": {},
   "outputs": [],
   "source": []
  },
  {
   "cell_type": "code",
   "execution_count": null,
   "metadata": {},
   "outputs": [],
   "source": []
  },
  {
   "cell_type": "markdown",
   "metadata": {},
   "source": [
    "# TEST"
   ]
  },
  {
   "cell_type": "code",
   "execution_count": 4,
   "metadata": {},
   "outputs": [],
   "source": [
    "usuarios = pd.merge(events,trocafone,on=\"person\",how=\"inner\")\n",
    "usuarios[\"timestamp\"] = pd.to_datetime(usuarios[\"timestamp\"])"
   ]
  },
  {
   "cell_type": "code",
   "execution_count": null,
   "metadata": {},
   "outputs": [],
   "source": []
  },
  {
   "cell_type": "markdown",
   "metadata": {},
   "source": [
    "## Features sobre visited site"
   ]
  },
  {
   "cell_type": "code",
   "execution_count": 16,
   "metadata": {},
   "outputs": [],
   "source": [
    "Ft_visited_site = pd.concat([usuarios[usuarios[\"event\"] == \"visited site\"].iloc[:,:3],\\\n",
    "                         usuarios[usuarios[\"event\"] == \"visited site\"].iloc[:,14:]],axis =1)"
   ]
  },
  {
   "cell_type": "code",
   "execution_count": 17,
   "metadata": {},
   "outputs": [],
   "source": [
    "popular_countries = Ft_visited_site[\"country\"].value_counts().nlargest(10).index\n",
    "\n",
    "for country in popular_countries:\n",
    "    Ft_visited_site[country] = (Ft_visited_site['country'] == country).astype(bool)\n",
    "    \n",
    "Ft_visited_site.drop(columns = \"country\",inplace = True)\n",
    "\n",
    "Ft_visited_site = Ft_visited_site[Ft_visited_site[\"channel\"] != \"Unknown\"]\n",
    "\n",
    "Ft_visited_site[\"channel\"].value_counts()\n",
    "\n",
    "channels = Ft_visited_site[\"channel\"].value_counts().index\n",
    "\n",
    "for channel in channels:\n",
    "    Ft_visited_site[channel] = (Ft_visited_site['channel'] == channel).astype(bool)\n",
    "\n",
    "Ft_visited_site = Ft_visited_site.drop(columns = \"channel\")\n",
    "\n",
    "popular_browsers = Ft_visited_site[\"browser_version\"].value_counts().nlargest(10).index\n",
    "\n",
    "for browser in popular_browsers:\n",
    "    Ft_visited_site[browser] = (Ft_visited_site['browser_version'] == channel).astype(bool)\n",
    "\n",
    "Ft_visited_site = Ft_visited_site.drop(columns = \"browser_version\")\n",
    "\n",
    "recurrencias = Ft_visited_site[\"new_vs_returning\"].value_counts().index\n",
    "\n",
    "for recurrencia in recurrencias:\n",
    "    Ft_visited_site[recurrencia] = (Ft_visited_site['new_vs_returning'] == recurrencia).astype(bool)\n",
    "    \n",
    "Ft_visited_site = Ft_visited_site.drop(columns = [\"city\",\"region\",\"new_vs_returning\"])\n",
    "\n",
    "populars_resolutions = Ft_visited_site[\"screen_resolution\"].value_counts().nlargest(10).index\n",
    "\n",
    "for resolution in populars_resolutions:\n",
    "    Ft_visited_site[resolution] = (Ft_visited_site['screen_resolution'] == resolution).astype(bool)\n",
    "    \n",
    "Ft_visited_site = Ft_visited_site.drop(columns = [\"screen_resolution\",\"operating_system_version\"])\n",
    "\n",
    "\n",
    "tipoDisp = Ft_visited_site[\"device_type\"].value_counts().index\n",
    "\n",
    "for dispositivo in tipoDisp:\n",
    "    Ft_visited_site[dispositivo] = (Ft_visited_site['device_type'] == dispositivo).astype(bool)\n",
    "    \n",
    "Ft_visited_site = Ft_visited_site.drop(columns = [\"device_type\",\"event\"])\\\n",
    "                    .rename(columns = {\"Unknown\" : \"Unknown_country\"})\n",
    "\n",
    "Ft_visited_site[\"mes\"] = Ft_visited_site[\"timestamp\"].dt.month\n",
    "Ft_visited_site.drop(columns = \"timestamp\", inplace =True)\n",
    "\n",
    "def change_column_order(df, col_name, index):\n",
    "    cols = df.columns.tolist()\n",
    "    cols.remove(col_name)\n",
    "    cols.insert(index, col_name)\n",
    "    return df[cols]\n",
    "\n",
    "Ft_visited_site = change_column_order(Ft_visited_site,\"mes\",0)\n",
    "\n",
    "Ft_visited_site = Ft_visited_site.sort_values(by=\"mes\")\n",
    "\n",
    "Ft_visited_site = Ft_visited_site.groupby([\"mes\",\"person\"]).sum().reset_index()\n",
    "\n",
    "Ft_visited_site.to_csv('Ft_visited_site_test.csv',index = False)\n"
   ]
  },
  {
   "cell_type": "markdown",
   "metadata": {},
   "source": [
    "## Features sobre view products"
   ]
  },
  {
   "cell_type": "code",
   "execution_count": 18,
   "metadata": {},
   "outputs": [],
   "source": [
    "Ft_viewed_product = usuarios[usuarios[\"event\"] == \"viewed product\"].iloc[:,0:9]\\\n",
    "                    .drop(columns = [\"event\",\"url\"])\n",
    "\n",
    "Ft_viewed_product[\"mes\"] = Ft_viewed_product[\"timestamp\"].dt.month\n",
    "\n",
    "Ft_viewed_product.drop(columns = \"timestamp\",inplace = True)\n",
    "\n",
    "Ft_viewed_product = change_column_order(Ft_viewed_product,\"mes\",0)\n",
    "\n",
    "Ft_viewed_product = Ft_viewed_product.sort_values(by=\"mes\")\n",
    "\n",
    "modelos_populares = Ft_viewed_product[\"model\"].value_counts().nlargest(15).index\n",
    "\n",
    "modelos_populares = pd.Series(modelos_populares).values\n",
    "\n",
    "for modelo in modelos_populares:\n",
    "    Ft_viewed_product[modelo] = (Ft_viewed_product['model'] == modelo).astype(bool)\n",
    "\n",
    "modelosView = pd.Series(modelos_populares).apply(lambda x: x +\"_view\").values\n",
    "Ft_viewed_product.rename(columns=dict(zip(Ft_viewed_product.iloc[:,7:], modelosView)),inplace=True)\n",
    "\n",
    "Ft_viewed_product.drop(columns = \"model\",inplace = True)\n",
    "\n",
    "#15 mas vistos\n",
    "colores = Ft_viewed_product[\"color\"].value_counts().nlargest(15).index\n",
    "\n",
    "for color in colores:\n",
    "    Ft_viewed_product[color] = (Ft_viewed_product['color'] == color).astype(bool)\n",
    "    \n",
    "Ft_viewed_product.drop(columns = \"color\",inplace = True)\n",
    "\n",
    "Ft_viewed_product.drop(columns = \"sku\",inplace = True)\n",
    "\n",
    "coloresView = pd.Series(colores).apply(lambda x: x +\"_view\").values\n",
    "Ft_viewed_product.rename(columns=dict(zip(Ft_viewed_product.iloc[:,19:], coloresView)),inplace=True)\n",
    "\n",
    "Ft_viewed_product.drop(columns = \"storage\",inplace = True)\n",
    "\n",
    "condiciones = Ft_viewed_product.condition.value_counts().index\n",
    "\n",
    "for condition in condiciones:\n",
    "    Ft_viewed_product[condition] = (Ft_viewed_product['condition'] == condition).astype(bool)\n",
    "    \n",
    "conditionView = pd.Series(condiciones).apply(lambda x: x +\"_view\").values\n",
    "Ft_viewed_product.rename(columns=dict(zip(Ft_viewed_product.iloc[:,33:], conditionView)),inplace=True)\n",
    "\n",
    "Ft_viewed_product.drop(columns = \"condition\",inplace = True)\n",
    "\n",
    "Ft_viewed_product = Ft_viewed_product.groupby([\"mes\",\"person\"]).sum().reset_index()\n",
    "Ft_viewed_product.to_csv('FT_viewed_product_test.csv',index = False)\n"
   ]
  },
  {
   "cell_type": "markdown",
   "metadata": {},
   "source": [
    "## Features sobre ad campaign hit"
   ]
  },
  {
   "cell_type": "code",
   "execution_count": 19,
   "metadata": {},
   "outputs": [],
   "source": [
    "Ft_campaign_source = usuarios[usuarios[\"event\"] == \"ad campaign hit\"][[\"timestamp\",\"person\",\"campaign_source\"]]\n",
    "\n",
    "Ft_campaign_source[\"mes\"] = usuarios[\"timestamp\"].dt.month\n",
    "\n",
    "Ft_campaign_source.drop(columns = \"timestamp\",inplace = True)\n",
    "\n",
    "Ft_campaign_source =  Ft_campaign_source.sort_values(by = \"mes\")\n",
    "\n",
    "Ft_campaign_source = change_column_order(Ft_campaign_source,\"mes\",0)\n",
    "\n",
    "top_Campaigns = Ft_campaign_source[\"campaign_source\"].value_counts().nlargest(10).index\n",
    "\n",
    "for campaign in top_Campaigns:\n",
    "    Ft_campaign_source[campaign] = (Ft_campaign_source['campaign_source'] == campaign).astype(bool)\n",
    "    \n",
    "Ft_campaign_source.drop(columns =\"campaign_source\",inplace=True)\n",
    "\n",
    "Ft_campaign_source = Ft_campaign_source.groupby([\"mes\",\"person\"]).sum().reset_index()\n",
    "Ft_campaign_source.to_csv('Ft_campaign_source_test.csv',index = False)"
   ]
  },
  {
   "cell_type": "markdown",
   "metadata": {},
   "source": [
    "## Features sobre search engine hit"
   ]
  },
  {
   "cell_type": "code",
   "execution_count": 20,
   "metadata": {},
   "outputs": [],
   "source": [
    "Ft_search_engine = usuarios[usuarios[\"event\"] == \"search engine hit\"][[\"timestamp\",\"person\",\"search_engine\"]]\n",
    "\n",
    "Ft_search_engine[\"mes\"] = usuarios[\"timestamp\"].dt.month\n",
    "Ft_search_engine.drop(columns = \"timestamp\",inplace = True)\n",
    "Ft_search_engine =  Ft_search_engine.sort_values(by = \"mes\")\n",
    "Ft_search_engine = change_column_order(Ft_search_engine,\"mes\",0)\n",
    "Ft_search_engine =  Ft_search_engine.sort_values(by = \"mes\")\n",
    "top_search_engines = Ft_search_engine[\"search_engine\"].value_counts().index\n",
    "\n",
    "for engine in top_search_engines:\n",
    "    Ft_search_engine[engine] = (Ft_search_engine['search_engine'] == engine).astype(bool)\n",
    "    \n",
    "Ft_search_engine.drop(columns =\"search_engine\",inplace=True)\n",
    "\n",
    "Ft_search_engine = Ft_search_engine.groupby([\"mes\",\"person\"]).sum().reset_index()\n",
    "Ft_search_engine.to_csv('Ft_search_engine_test.csv',index = False)\n"
   ]
  },
  {
   "cell_type": "markdown",
   "metadata": {},
   "source": [
    "## Features sobre checkout"
   ]
  },
  {
   "cell_type": "code",
   "execution_count": 21,
   "metadata": {},
   "outputs": [],
   "source": [
    "Ft_checkout = usuarios[usuarios[\"event\"] == \"checkout\"].iloc[:,:9].drop(columns = [\"sku\",\"url\"])\n",
    "\n",
    "Ft_checkout[\"mes\"] = Ft_checkout[\"timestamp\"].dt.month\n",
    "\n",
    "Ft_checkout.drop(columns = \"timestamp\",inplace = True)\n",
    "\n",
    "Ft_checkout  = change_column_order(Ft_checkout,\"mes\",0)\n",
    "\n",
    "Ft_checkout = Ft_checkout.sort_values(by=\"mes\").drop(columns = \"event\")\n",
    "\n",
    "modelos_populares = Ft_checkout[\"model\"].value_counts().nlargest(15).index\n",
    "modelos_populares = pd.Series(modelos_populares).values\n",
    "\n",
    "for model in modelos_populares:\n",
    "    Ft_checkout[model] = (Ft_checkout['model'] == model).astype(bool)\n",
    "    \n",
    "Ft_checkout.drop(columns = [\"model\"],inplace = True)\n",
    "\n",
    "modelos_populares = pd.Series(modelos_populares).apply(lambda x: x +\"_checkouts\").values\n",
    "Ft_checkout.rename(columns=dict(zip(Ft_checkout.iloc[:,5:], modelos_populares)),inplace=True)\n",
    "\n",
    "#colores\n",
    "coloresPopulares = Ft_checkout[\"color\"].value_counts().nlargest(15).index\n",
    "coloresPopulares = pd.Series(coloresPopulares).values\n",
    "\n",
    "for color in coloresPopulares:\n",
    "    Ft_checkout[color] = (Ft_checkout['color'] == color).astype(bool)\n",
    "    \n",
    "Ft_checkout.drop(columns = [\"color\"],inplace = True)\n",
    "\n",
    "coloresPopulares = pd.Series(coloresPopulares).apply(lambda x: x +\"_checkouts\").values\n",
    "Ft_checkout.rename(columns=dict(zip(Ft_checkout.iloc[:,19:], coloresPopulares)),inplace=True)\n",
    "\n",
    "#condiciones\n",
    "for condition in condiciones:\n",
    "    Ft_checkout[condition] = (Ft_checkout['condition'] == condition).astype(bool)\n",
    "    \n",
    "conditionChecks = pd.Series(condiciones).apply(lambda x: x +\"_checkouts\").values\n",
    "Ft_checkout.rename(columns=dict(zip(Ft_checkout.iloc[:,34:], conditionChecks)),inplace=True)\n",
    "\n",
    "Ft_checkout.drop(columns = [\"condition\",\"storage\"],inplace = True)\n",
    "\n",
    "Ft_checkout = Ft_checkout.groupby([\"mes\",\"person\"]).sum().reset_index()\n",
    "Ft_checkout.to_csv('Ft_checkout_test.csv',index = False)"
   ]
  },
  {
   "cell_type": "markdown",
   "metadata": {},
   "source": [
    "## Features sobre conversion"
   ]
  },
  {
   "cell_type": "code",
   "execution_count": 22,
   "metadata": {},
   "outputs": [],
   "source": [
    "Ft_conversion = usuarios[usuarios[\"event\"] == \"conversion\"].iloc[:,:9].drop(columns = [\"sku\",\"url\"])\n",
    "\n",
    "Ft_conversion[\"mes\"] = Ft_conversion[\"timestamp\"].dt.month\n",
    "\n",
    "Ft_conversion.drop(columns = \"timestamp\",inplace = True)\n",
    "\n",
    "Ft_conversion  = change_column_order(Ft_conversion,\"mes\",0)\n",
    "\n",
    "Ft_conversion = Ft_conversion.sort_values(by=\"mes\").drop(columns = \"event\")\n",
    "\n",
    "modelos_populares = Ft_conversion[\"model\"].value_counts().nlargest(15).index\n",
    "modelos_populares = pd.Series(modelos_populares).values\n",
    "\n",
    "for model in modelos_populares:\n",
    "    Ft_conversion[model] = (Ft_conversion['model'] == model).astype(bool)\n",
    "    \n",
    "Ft_conversion.drop(columns = [\"model\"],inplace = True)\n",
    "\n",
    "modelos_populares = pd.Series(modelos_populares).apply(lambda x: x +\"_conversiones\").values\n",
    "Ft_conversion.rename(columns=dict(zip(Ft_conversion.iloc[:,5:], modelos_populares)),inplace=True)\n",
    "\n",
    "for color in coloresPopulares:\n",
    "    Ft_conversion[color] = (Ft_conversion['color'] == color).astype(bool)\n",
    "    \n",
    "Ft_conversion.drop(columns = [\"color\"],inplace = True)\n",
    "\n",
    "#condiciones\n",
    "for condition in condiciones:\n",
    "    Ft_conversion[condition] = (Ft_conversion['condition'] == condition).astype(bool)\n",
    "    \n",
    "conditionConv = pd.Series(condiciones).apply(lambda x: x +\"_conversiones\").values\n",
    "Ft_conversion.rename(columns=dict(zip(Ft_conversion.iloc[:,34:], conditionConv)),inplace=True)\n",
    "\n",
    "Ft_conversion.drop(columns = [\"condition\",\"storage\"],inplace = True)\n",
    "\n",
    "Ft_conversion = Ft_conversion.groupby([\"mes\",\"person\"]).sum().reset_index()\n",
    "Ft_conversion.to_csv('Ft_conversion_test.csv',index = False)"
   ]
  },
  {
   "cell_type": "markdown",
   "metadata": {},
   "source": [
    "### Feature sobre cantidad de eventos por user"
   ]
  },
  {
   "cell_type": "code",
   "execution_count": 6,
   "metadata": {},
   "outputs": [],
   "source": [
    "usuarios[\"mes\"] = usuarios[\"timestamp\"].dt.month\n",
    "Ft_cant_eventos = usuarios.groupby([\"mes\",\"person\"])[\"event\"].size()\n",
    "Ft_cant_eventos = pd.DataFrame(data = Ft_cant_eventos)\\\n",
    "                    .rename(columns = {'event' : 'cantidad_eventos'}).reset_index()\n",
    "Ft_cant_eventos.to_csv(\"Ft_cant_eventos_test.csv\")"
   ]
  },
  {
   "cell_type": "code",
   "execution_count": 128,
   "metadata": {},
   "outputs": [],
   "source": []
  },
  {
   "cell_type": "code",
   "execution_count": null,
   "metadata": {},
   "outputs": [],
   "source": []
  },
  {
   "cell_type": "code",
   "execution_count": null,
   "metadata": {},
   "outputs": [],
   "source": []
  },
  {
   "cell_type": "code",
   "execution_count": 79,
   "metadata": {},
   "outputs": [],
   "source": [
    "\n"
   ]
  },
  {
   "cell_type": "code",
   "execution_count": null,
   "metadata": {},
   "outputs": [],
   "source": []
  },
  {
   "cell_type": "code",
   "execution_count": null,
   "metadata": {},
   "outputs": [],
   "source": []
  },
  {
   "cell_type": "code",
   "execution_count": null,
   "metadata": {},
   "outputs": [],
   "source": []
  },
  {
   "cell_type": "code",
   "execution_count": null,
   "metadata": {},
   "outputs": [],
   "source": []
  },
  {
   "cell_type": "code",
   "execution_count": null,
   "metadata": {},
   "outputs": [],
   "source": []
  },
  {
   "cell_type": "code",
   "execution_count": null,
   "metadata": {},
   "outputs": [],
   "source": []
  },
  {
   "cell_type": "code",
   "execution_count": null,
   "metadata": {},
   "outputs": [],
   "source": []
  },
  {
   "cell_type": "code",
   "execution_count": null,
   "metadata": {},
   "outputs": [],
   "source": []
  },
  {
   "cell_type": "code",
   "execution_count": null,
   "metadata": {},
   "outputs": [],
   "source": []
  },
  {
   "cell_type": "code",
   "execution_count": null,
   "metadata": {},
   "outputs": [],
   "source": [
    "\n"
   ]
  },
  {
   "cell_type": "code",
   "execution_count": null,
   "metadata": {},
   "outputs": [],
   "source": []
  },
  {
   "cell_type": "code",
   "execution_count": null,
   "metadata": {},
   "outputs": [],
   "source": []
  },
  {
   "cell_type": "code",
   "execution_count": null,
   "metadata": {},
   "outputs": [],
   "source": []
  },
  {
   "cell_type": "code",
   "execution_count": 23,
   "metadata": {},
   "outputs": [],
   "source": [
    "\n"
   ]
  },
  {
   "cell_type": "code",
   "execution_count": null,
   "metadata": {},
   "outputs": [],
   "source": []
  },
  {
   "cell_type": "code",
   "execution_count": null,
   "metadata": {},
   "outputs": [],
   "source": []
  },
  {
   "cell_type": "code",
   "execution_count": null,
   "metadata": {},
   "outputs": [],
   "source": []
  },
  {
   "cell_type": "code",
   "execution_count": null,
   "metadata": {},
   "outputs": [],
   "source": []
  },
  {
   "cell_type": "code",
   "execution_count": null,
   "metadata": {},
   "outputs": [],
   "source": []
  },
  {
   "cell_type": "code",
   "execution_count": null,
   "metadata": {},
   "outputs": [],
   "source": []
  },
  {
   "cell_type": "code",
   "execution_count": null,
   "metadata": {},
   "outputs": [],
   "source": []
  },
  {
   "cell_type": "code",
   "execution_count": null,
   "metadata": {},
   "outputs": [],
   "source": []
  },
  {
   "cell_type": "code",
   "execution_count": null,
   "metadata": {},
   "outputs": [],
   "source": []
  },
  {
   "cell_type": "code",
   "execution_count": null,
   "metadata": {},
   "outputs": [],
   "source": []
  },
  {
   "cell_type": "code",
   "execution_count": null,
   "metadata": {},
   "outputs": [],
   "source": []
  },
  {
   "cell_type": "code",
   "execution_count": null,
   "metadata": {},
   "outputs": [],
   "source": []
  },
  {
   "cell_type": "code",
   "execution_count": null,
   "metadata": {},
   "outputs": [],
   "source": []
  },
  {
   "cell_type": "code",
   "execution_count": null,
   "metadata": {},
   "outputs": [],
   "source": []
  },
  {
   "cell_type": "code",
   "execution_count": null,
   "metadata": {},
   "outputs": [],
   "source": []
  },
  {
   "cell_type": "code",
   "execution_count": null,
   "metadata": {},
   "outputs": [],
   "source": []
  },
  {
   "cell_type": "code",
   "execution_count": null,
   "metadata": {},
   "outputs": [],
   "source": []
  },
  {
   "cell_type": "code",
   "execution_count": null,
   "metadata": {},
   "outputs": [],
   "source": []
  },
  {
   "cell_type": "code",
   "execution_count": null,
   "metadata": {},
   "outputs": [],
   "source": []
  },
  {
   "cell_type": "code",
   "execution_count": null,
   "metadata": {},
   "outputs": [],
   "source": []
  },
  {
   "cell_type": "code",
   "execution_count": null,
   "metadata": {},
   "outputs": [],
   "source": []
  },
  {
   "cell_type": "code",
   "execution_count": null,
   "metadata": {},
   "outputs": [],
   "source": []
  },
  {
   "cell_type": "code",
   "execution_count": null,
   "metadata": {},
   "outputs": [],
   "source": []
  },
  {
   "cell_type": "code",
   "execution_count": null,
   "metadata": {},
   "outputs": [],
   "source": []
  },
  {
   "cell_type": "code",
   "execution_count": null,
   "metadata": {},
   "outputs": [],
   "source": []
  },
  {
   "cell_type": "code",
   "execution_count": null,
   "metadata": {},
   "outputs": [],
   "source": []
  },
  {
   "cell_type": "code",
   "execution_count": null,
   "metadata": {},
   "outputs": [],
   "source": []
  },
  {
   "cell_type": "code",
   "execution_count": null,
   "metadata": {},
   "outputs": [],
   "source": []
  },
  {
   "cell_type": "code",
   "execution_count": null,
   "metadata": {},
   "outputs": [],
   "source": []
  }
 ],
 "metadata": {
  "kernelspec": {
   "display_name": "Python 3",
   "language": "python",
   "name": "python3"
  },
  "language_info": {
   "codemirror_mode": {
    "name": "ipython",
    "version": 3
   },
   "file_extension": ".py",
   "mimetype": "text/x-python",
   "name": "python",
   "nbconvert_exporter": "python",
   "pygments_lexer": "ipython3",
   "version": "3.6.5"
  }
 },
 "nbformat": 4,
 "nbformat_minor": 2
}

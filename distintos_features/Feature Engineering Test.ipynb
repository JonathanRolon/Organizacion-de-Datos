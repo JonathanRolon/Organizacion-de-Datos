{
 "cells": [
  {
   "cell_type": "code",
   "execution_count": 2,
   "metadata": {},
   "outputs": [],
   "source": [
    "#importacion de libraries\n",
    "import pandas as pd \n",
    "import numpy as np\n",
    "import matplotlib.pyplot as plt\n",
    "import seaborn as sns"
   ]
  },
  {
   "cell_type": "code",
   "execution_count": 3,
   "metadata": {},
   "outputs": [],
   "source": [
    "#carga de datasets\n",
    "#Le especifico el tipo a algunas columnas porque sino me tira un warning, podria especificar el verdadero tipo tambien\n",
    "todoSet = pd.read_csv(\"/home/jonathan/Escritorio/orgaDeDatos/fiuba-trocafone-tp2-final-set/events_up_to_01062018.csv\",\\\n",
    "                   dtype = {3: object,5: object,\n",
    "                    6: object,7: object,\n",
    "                    8: object,9: object,\n",
    "                    10: object,11: object,\n",
    "                    12: object,13: object,\n",
    "                    14: object,15: object,\n",
    "                    16: object,17: object,\n",
    "                    18: object,19: object,\n",
    "                    20: object,21: object,\n",
    "                    22: object})\n",
    "usersJunioSet = pd.read_csv(\"/home/jonathan/Escritorio/orgaDeDatos/fiuba-trocafone-tp2-final-set/trocafone_kaggle_test.csv\")"
   ]
  },
  {
   "cell_type": "code",
   "execution_count": 4,
   "metadata": {},
   "outputs": [
    {
     "data": {
      "text/html": [
       "<div>\n",
       "<style scoped>\n",
       "    .dataframe tbody tr th:only-of-type {\n",
       "        vertical-align: middle;\n",
       "    }\n",
       "\n",
       "    .dataframe tbody tr th {\n",
       "        vertical-align: top;\n",
       "    }\n",
       "\n",
       "    .dataframe thead th {\n",
       "        text-align: right;\n",
       "    }\n",
       "</style>\n",
       "<table border=\"1\" class=\"dataframe\">\n",
       "  <thead>\n",
       "    <tr style=\"text-align: right;\">\n",
       "      <th></th>\n",
       "      <th>person</th>\n",
       "    </tr>\n",
       "  </thead>\n",
       "  <tbody>\n",
       "    <tr>\n",
       "      <th>0</th>\n",
       "      <td>4886f805</td>\n",
       "    </tr>\n",
       "    <tr>\n",
       "      <th>1</th>\n",
       "      <td>0297fc1e</td>\n",
       "    </tr>\n",
       "    <tr>\n",
       "      <th>2</th>\n",
       "      <td>2d681dd8</td>\n",
       "    </tr>\n",
       "    <tr>\n",
       "      <th>3</th>\n",
       "      <td>cccea85e</td>\n",
       "    </tr>\n",
       "    <tr>\n",
       "      <th>4</th>\n",
       "      <td>4c8a8b93</td>\n",
       "    </tr>\n",
       "  </tbody>\n",
       "</table>\n",
       "</div>"
      ],
      "text/plain": [
       "     person\n",
       "0  4886f805\n",
       "1  0297fc1e\n",
       "2  2d681dd8\n",
       "3  cccea85e\n",
       "4  4c8a8b93"
      ]
     },
     "execution_count": 4,
     "metadata": {},
     "output_type": "execute_result"
    }
   ],
   "source": [
    "usersJunioSet.head()"
   ]
  },
  {
   "cell_type": "code",
   "execution_count": 12,
   "metadata": {},
   "outputs": [],
   "source": [
    "#Merge\n",
    "usersTest = todoSet[todoSet['person'].isin(usersJunioSet['person'])]"
   ]
  },
  {
   "cell_type": "code",
   "execution_count": 18,
   "metadata": {},
   "outputs": [
    {
     "name": "stderr",
     "output_type": "stream",
     "text": [
      "/home/jonathan/anaconda3/lib/python3.6/site-packages/ipykernel_launcher.py:1: SettingWithCopyWarning: \n",
      "A value is trying to be set on a copy of a slice from a DataFrame.\n",
      "Try using .loc[row_indexer,col_indexer] = value instead\n",
      "\n",
      "See the caveats in the documentation: http://pandas.pydata.org/pandas-docs/stable/indexing.html#indexing-view-versus-copy\n",
      "  \"\"\"Entry point for launching an IPython kernel.\n",
      "/home/jonathan/anaconda3/lib/python3.6/site-packages/ipykernel_launcher.py:3: SettingWithCopyWarning: \n",
      "A value is trying to be set on a copy of a slice from a DataFrame.\n",
      "Try using .loc[row_indexer,col_indexer] = value instead\n",
      "\n",
      "See the caveats in the documentation: http://pandas.pydata.org/pandas-docs/stable/indexing.html#indexing-view-versus-copy\n",
      "  This is separate from the ipykernel package so we can avoid doing imports until\n"
     ]
    }
   ],
   "source": [
    "usersTest['timestamp'] = pd.to_datetime(usersTest['timestamp'])\n",
    "#Creo una columna con solo fecha sin tiempo\n",
    "usersTest['fecha'] = usersTest['timestamp'].dt.date"
   ]
  },
  {
   "cell_type": "code",
   "execution_count": 128,
   "metadata": {},
   "outputs": [],
   "source": [
    "def change_column_order(df, col_name, index):\n",
    "    cols = df.columns.tolist()\n",
    "    cols.remove(col_name)\n",
    "    cols.insert(index, col_name)\n",
    "    return df[cols]"
   ]
  },
  {
   "cell_type": "code",
   "execution_count": 151,
   "metadata": {},
   "outputs": [],
   "source": [
    "def agruparPorPersonaFecha(dataframe,evento,nuevoNombreEvento):\n",
    "    feature = dataframe[dataframe['event'] == evento].sort_values(by = 'fecha')\n",
    "    feature = feature.groupby(['fecha','person'])['event'].size()\n",
    "    feature = pd.DataFrame(data = feature)\\\n",
    "                        .rename(columns = {'event' : nuevoNombreEvento})\n",
    "    feature = feature.sort_values(by = ['fecha','person']).reset_index()\n",
    "    feature['fecha'] = pd.to_datetime(feature['fecha'])\n",
    "    feature['mes'] = feature['fecha'].dt.month\n",
    "    feature = feature[['mes','person',nuevoNombreEvento]]\n",
    "    feature = pd.DataFrame(data = feature.groupby(['mes','person'])[nuevoNombreEvento]\\\n",
    "                             .size()).unstack('mes',0).reset_index('person')\n",
    "    array = feature[nuevoNombreEvento].iloc[:,:5].values\n",
    "    dataset = pd.DataFrame({'Enero'+'_'+nuevoNombreEvento:array[:,-5],'Febrero'+'_'+nuevoNombreEvento:array[:,-4]\\\n",
    "                        ,'Marzo'+'_'+nuevoNombreEvento:array[:,-3],'Abril'+'_'+nuevoNombreEvento:array[:,-2],\\\n",
    "                        'Mayo'+'_'+nuevoNombreEvento:array[:,-1]})\n",
    "    dataset['person'] = feature['person']\n",
    "\n",
    "    dataset = change_column_order(dataset, 'person', 0)\n",
    "    \n",
    "    return dataset"
   ]
  },
  {
   "cell_type": "code",
   "execution_count": 172,
   "metadata": {},
   "outputs": [
    {
     "data": {
      "text/html": [
       "<div>\n",
       "<style scoped>\n",
       "    .dataframe tbody tr th:only-of-type {\n",
       "        vertical-align: middle;\n",
       "    }\n",
       "\n",
       "    .dataframe tbody tr th {\n",
       "        vertical-align: top;\n",
       "    }\n",
       "\n",
       "    .dataframe thead th {\n",
       "        text-align: right;\n",
       "    }\n",
       "</style>\n",
       "<table border=\"1\" class=\"dataframe\">\n",
       "  <thead>\n",
       "    <tr style=\"text-align: right;\">\n",
       "      <th></th>\n",
       "      <th>person</th>\n",
       "      <th>Enero_cantEventos</th>\n",
       "      <th>Febrero_cantEventos</th>\n",
       "      <th>Marzo_cantEventos</th>\n",
       "      <th>Abril_cantEventos</th>\n",
       "      <th>Mayo_cantEventos</th>\n",
       "    </tr>\n",
       "  </thead>\n",
       "  <tbody>\n",
       "    <tr>\n",
       "      <th>0</th>\n",
       "      <td>00091926</td>\n",
       "      <td>0</td>\n",
       "      <td>0</td>\n",
       "      <td>0</td>\n",
       "      <td>0</td>\n",
       "      <td>22</td>\n",
       "    </tr>\n",
       "    <tr>\n",
       "      <th>1</th>\n",
       "      <td>00091a7a</td>\n",
       "      <td>0</td>\n",
       "      <td>0</td>\n",
       "      <td>1</td>\n",
       "      <td>0</td>\n",
       "      <td>0</td>\n",
       "    </tr>\n",
       "    <tr>\n",
       "      <th>2</th>\n",
       "      <td>000ba417</td>\n",
       "      <td>0</td>\n",
       "      <td>0</td>\n",
       "      <td>0</td>\n",
       "      <td>0</td>\n",
       "      <td>3</td>\n",
       "    </tr>\n",
       "    <tr>\n",
       "      <th>3</th>\n",
       "      <td>000e4d9e</td>\n",
       "      <td>0</td>\n",
       "      <td>0</td>\n",
       "      <td>0</td>\n",
       "      <td>0</td>\n",
       "      <td>9</td>\n",
       "    </tr>\n",
       "    <tr>\n",
       "      <th>4</th>\n",
       "      <td>000e619d</td>\n",
       "      <td>0</td>\n",
       "      <td>0</td>\n",
       "      <td>0</td>\n",
       "      <td>0</td>\n",
       "      <td>4</td>\n",
       "    </tr>\n",
       "  </tbody>\n",
       "</table>\n",
       "</div>"
      ],
      "text/plain": [
       "     person  Enero_cantEventos  Febrero_cantEventos  Marzo_cantEventos  \\\n",
       "0  00091926                  0                    0                  0   \n",
       "1  00091a7a                  0                    0                  1   \n",
       "2  000ba417                  0                    0                  0   \n",
       "3  000e4d9e                  0                    0                  0   \n",
       "4  000e619d                  0                    0                  0   \n",
       "\n",
       "   Abril_cantEventos  Mayo_cantEventos  \n",
       "0                  0                22  \n",
       "1                  0                 0  \n",
       "2                  0                 3  \n",
       "3                  0                 9  \n",
       "4                  0                 4  "
      ]
     },
     "execution_count": 172,
     "metadata": {},
     "output_type": "execute_result"
    }
   ],
   "source": [
    "# 1er feature: Cantidad de eventos por usuario\n",
    "eventosPorUserTest = usersTest.groupby(['fecha','person'])['event'].size()\n",
    "eventosPorUserTest = pd.DataFrame(data = eventosPorUserTest)\\\n",
    "                        .rename(columns = {'event' : 'cantEventos'})\n",
    "eventosPorUserTest = eventosPorUserTest.sort_values(by = ['fecha','person']).reset_index()\n",
    "eventosPorUserTest['fecha'] = pd.to_datetime(eventosPorUserTest['fecha'])\n",
    "eventosPorUserTest['mes'] = eventosPorUserTest['fecha'].dt.month\n",
    "\n",
    "eventosPorUserTest = eventosPorUserTest[['mes','person','cantEventos']]\n",
    "eventosPorUserTest = pd.DataFrame(data = eventosPorUserTest.groupby(['mes','person'])['cantEventos']\\\n",
    "                             .size()).unstack('mes',0).reset_index('person')\n",
    "array = eventosPorUserTest['cantEventos'].iloc[:,:5].values\n",
    "dataset = pd.DataFrame({'Enero'+'_'+'cantEventos':array[:,-5],'Febrero'+'_'+'cantEventos':array[:,-4]\\\n",
    "                        ,'Marzo'+'_'+'cantEventos':array[:,-3],'Abril'+'_'+'cantEventos':array[:,-2],\\\n",
    "                        'Mayo'+'_'+'cantEventos':array[:,-1]})\n",
    "dataset['person'] = eventosPorUserTest['person']\n",
    "\n",
    "dataset = change_column_order(dataset, 'person', 0)\n",
    "eventosPorUserTest = dataset\n",
    "eventosPorUserTest.head()"
   ]
  },
  {
   "cell_type": "code",
   "execution_count": 171,
   "metadata": {},
   "outputs": [],
   "source": [
    "#2do feature: cantidad de checkouts por user por mes\n",
    "\n",
    "usersChecks = agruparPorPersonaFecha(usersTest,'checkout','checkouts')"
   ]
  },
  {
   "cell_type": "code",
   "execution_count": 155,
   "metadata": {},
   "outputs": [],
   "source": [
    "#3er feature: cantidad de leads por mes por user\n",
    "usersLeads = agruparPorPersonaFecha(usersTest,'lead','leads')"
   ]
  },
  {
   "cell_type": "code",
   "execution_count": 157,
   "metadata": {},
   "outputs": [],
   "source": [
    "#4to feature: cantidad de conversiones por mes por user\n",
    "usersConversions = agruparPorPersonaFecha(usersTest,'conversion','conversiones')"
   ]
  },
  {
   "cell_type": "code",
   "execution_count": 158,
   "metadata": {},
   "outputs": [],
   "source": [
    "#5to feature: cantidad de staticPages visitadas por dia por user\n",
    "usersStaticPages = agruparPorPersonaFecha(usersTest,'staticpage','staticPageVisitadas')"
   ]
  },
  {
   "cell_type": "code",
   "execution_count": 159,
   "metadata": {},
   "outputs": [],
   "source": [
    "#6to feature: cantidad de viewed product por mes por usuario\n",
    "usersViewedProducts = agruparPorPersonaFecha(usersTest,'viewed product','ProductosVistosPorUser')"
   ]
  },
  {
   "cell_type": "code",
   "execution_count": 160,
   "metadata": {},
   "outputs": [],
   "source": [
    "#7mo feature: cantidad de listados visitados por usuario por mes\n",
    "usersBrandListing = agruparPorPersonaFecha(usersTest,'brand listing','listadosVisitados')"
   ]
  },
  {
   "cell_type": "code",
   "execution_count": 162,
   "metadata": {},
   "outputs": [],
   "source": [
    "#9no feature: cantidad de searched products\n",
    "usersSearchProduct = agruparPorPersonaFecha(usersTest,'searched products','productosBuscados')"
   ]
  },
  {
   "cell_type": "code",
   "execution_count": 163,
   "metadata": {},
   "outputs": [],
   "source": [
    "#10mo feature: cantidad de veces que el usuario ingresa al sitio mediante campania de marketing online\n",
    "usersCampaignMarketing = agruparPorPersonaFecha(usersTest,'ad campaign hit','accesos por marketing online')"
   ]
  },
  {
   "cell_type": "code",
   "execution_count": 164,
   "metadata": {},
   "outputs": [],
   "source": [
    "#11 feature: cantidad de veces que el user ingresa al sitio mediante search engine\n",
    "usersSearchEngine =  agruparPorPersonaFecha(usersTest,'search engine hit','searchEngine')\n"
   ]
  },
  {
   "cell_type": "code",
   "execution_count": 165,
   "metadata": {},
   "outputs": [],
   "source": [
    "#12 feature: cantidad de veces que el usuario visita la homepage\n",
    "usersHomePage = agruparPorPersonaFecha(usersTest,'generic listing','accesos a la homepage')"
   ]
  },
  {
   "cell_type": "markdown",
   "metadata": {},
   "source": [
    "#### Armado de la matriz de features numericos\n",
    "Entiendo tiene mas sentido tomar peridos mensuales en lugar de diariamente entonces tendria n columnas de features numericos multiplicado por m donde m=cantidad de periodos tomados en este caso m=5"
   ]
  },
  {
   "cell_type": "code",
   "execution_count": 174,
   "metadata": {},
   "outputs": [],
   "source": [
    "#Hago el join \n",
    "join1 = pd.merge(eventosPorUserTest,usersChecks, on='person',how='left')\n",
    "join2 = pd.merge(usersLeads, usersConversions, on='person',how='left')\n",
    "join3 = pd.merge(usersStaticPages, usersViewedProducts, on='person',how='left')\n",
    "join5 = pd.merge(usersSearchProduct, usersCampaignMarketing, on='person',how='left')\n",
    "join6 = pd.merge(usersSearchEngine, usersHomePage, on='person',how='left')\n",
    "\n",
    "join12 = pd.merge(join1,join2, on='person',how='left')\n",
    "join34 = pd.merge(join3,join5, on='person',how='left')\n",
    "join56 = pd.merge(join6,usersBrandListing, on='person',how='left')\n",
    "\n",
    "join12n34 = pd.merge(join12,join34, on='person',how='left')\n",
    "datosNumericosTest = pd.merge(join12n34,join56, on='person',how='left').fillna(0)\n"
   ]
  },
  {
   "cell_type": "code",
   "execution_count": 177,
   "metadata": {},
   "outputs": [],
   "source": [
    "datosNumericosTest.to_csv('matrizDatosNumericos.csv')"
   ]
  },
  {
   "cell_type": "code",
   "execution_count": null,
   "metadata": {},
   "outputs": [],
   "source": []
  }
 ],
 "metadata": {
  "kernelspec": {
   "display_name": "Python 3",
   "language": "python",
   "name": "python3"
  },
  "language_info": {
   "codemirror_mode": {
    "name": "ipython",
    "version": 3
   },
   "file_extension": ".py",
   "mimetype": "text/x-python",
   "name": "python",
   "nbconvert_exporter": "python",
   "pygments_lexer": "ipython3",
   "version": "3.6.5"
  }
 },
 "nbformat": 4,
 "nbformat_minor": 2
}

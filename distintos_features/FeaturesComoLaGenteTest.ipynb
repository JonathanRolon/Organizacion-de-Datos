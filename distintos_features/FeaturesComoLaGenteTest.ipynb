{
 "cells": [
  {
   "cell_type": "code",
   "execution_count": 2,
   "metadata": {},
   "outputs": [],
   "source": [
    "import datetime\n",
    "import numpy as np\n",
    "import pandas as pd\n",
    "from dateutil.parser import parse\n",
    "import pytz"
   ]
  },
  {
   "cell_type": "code",
   "execution_count": 2,
   "metadata": {},
   "outputs": [],
   "source": [
    "trocafone =  pd.read_csv(\"trocafone_kaggle_test.csv\")\n",
    "events = pd.read_csv(\"events_up_to_01062018.csv\",dtype = {3: object,5: object,\n",
    "                    6: object,7: object,\n",
    "                    8: object,9: object,\n",
    "                    10: object,11: object,\n",
    "                    12: object,13: object,\n",
    "                    14: object,15: object,\n",
    "                    16: object,17: object,\n",
    "                    18: object,19: object,\n",
    "                    20: object,21: object,\n",
    "                    22: object})"
   ]
  },
  {
   "cell_type": "code",
   "execution_count": 3,
   "metadata": {},
   "outputs": [],
   "source": [
    "aPredecir = pd.merge(trocafone,events,on=\"person\",how = \"inner\")"
   ]
  },
  {
   "cell_type": "code",
   "execution_count": 4,
   "metadata": {},
   "outputs": [],
   "source": [
    "aPredecir[\"timestamp\"] = pd.to_datetime(aPredecir[\"timestamp\"])"
   ]
  },
  {
   "cell_type": "code",
   "execution_count": 5,
   "metadata": {},
   "outputs": [],
   "source": [
    "aPredecir['mes'] = aPredecir['timestamp'].apply(lambda d: d.month)"
   ]
  },
  {
   "cell_type": "code",
   "execution_count": 6,
   "metadata": {},
   "outputs": [],
   "source": [
    "def change_column_order(df, col_name, index):\n",
    "    cols = df.columns.tolist()\n",
    "    cols.remove(col_name)\n",
    "    cols.insert(index, col_name)\n",
    "    return df[cols]"
   ]
  },
  {
   "cell_type": "code",
   "execution_count": 8,
   "metadata": {},
   "outputs": [],
   "source": [
    "aPredecir = change_column_order(aPredecir,\"mes\",0)"
   ]
  },
  {
   "cell_type": "code",
   "execution_count": null,
   "metadata": {},
   "outputs": [],
   "source": []
  },
  {
   "cell_type": "code",
   "execution_count": 2,
   "metadata": {},
   "outputs": [
    {
     "ename": "NameError",
     "evalue": "name 'aPredecir' is not defined",
     "output_type": "error",
     "traceback": [
      "\u001b[0;31m---------------------------------------------------------------------------\u001b[0m",
      "\u001b[0;31mNameError\u001b[0m                                 Traceback (most recent call last)",
      "\u001b[0;32m<ipython-input-2-8a644fb55fb2>\u001b[0m in \u001b[0;36m<module>\u001b[0;34m()\u001b[0m\n\u001b[0;32m----> 1\u001b[0;31m \u001b[0maPredecir\u001b[0m\u001b[0;34m.\u001b[0m\u001b[0mto_csv\u001b[0m\u001b[0;34m(\u001b[0m\u001b[0;34m\"aPredecir.csv\"\u001b[0m\u001b[0;34m,\u001b[0m\u001b[0mindex\u001b[0m \u001b[0;34m=\u001b[0m \u001b[0;32mFalse\u001b[0m\u001b[0;34m)\u001b[0m\u001b[0;34m\u001b[0m\u001b[0m\n\u001b[0m",
      "\u001b[0;31mNameError\u001b[0m: name 'aPredecir' is not defined"
     ]
    }
   ],
   "source": [
    "aPredecir.to_csv(\"aPredecir.csv\",index = False)"
   ]
  },
  {
   "cell_type": "code",
   "execution_count": 23,
   "metadata": {},
   "outputs": [],
   "source": [
    "#Promedio de conversiones pasadas por cada usuario\n",
    "#sku mas comprados\n",
    "#agregar columna date block num que indique en donde estamos parados\n",
    "#Cantidad de unidades vendidas promedio por periodo de tiempo elegido\n",
    "#ranking de celulares mas vendidos\n",
    "#ranking de colores mas vistos"
   ]
  },
  {
   "cell_type": "code",
   "execution_count": 21,
   "metadata": {},
   "outputs": [],
   "source": [
    "#aPredecir.to_csv(\"backup_aPredecir\",index = False)"
   ]
  },
  {
   "cell_type": "code",
   "execution_count": 24,
   "metadata": {},
   "outputs": [],
   "source": [
    "#aPredecir = aPredecir.sort_values(by = [\"month\",\"day of week\", \"hour\"])"
   ]
  },
  {
   "cell_type": "code",
   "execution_count": 17,
   "metadata": {},
   "outputs": [],
   "source": [
    "#aPredecir = pd.read_csv(\"aPredecir.csv\").drop(columns = [\"hour\"])"
   ]
  },
  {
   "cell_type": "code",
   "execution_count": 19,
   "metadata": {},
   "outputs": [],
   "source": [
    "#Solo una parte de los que convierten antes de junio convierten tambien en junio  y esto es de esperarse"
   ]
  },
  {
   "cell_type": "code",
   "execution_count": 4,
   "metadata": {},
   "outputs": [
    {
     "data": {
      "text/plain": [
       "(3564, 24)"
      ]
     },
     "execution_count": 4,
     "metadata": {},
     "output_type": "execute_result"
    }
   ],
   "source": [
    "aPredecir[aPredecir[\"event\"] == \"conversion\"].shape"
   ]
  },
  {
   "cell_type": "code",
   "execution_count": 3,
   "metadata": {},
   "outputs": [],
   "source": [
    "aPredecir = pd.read_csv(\"aPredecir.csv\")"
   ]
  },
  {
   "cell_type": "code",
   "execution_count": 4,
   "metadata": {},
   "outputs": [
    {
     "data": {
      "text/html": [
       "<div>\n",
       "<style scoped>\n",
       "    .dataframe tbody tr th:only-of-type {\n",
       "        vertical-align: middle;\n",
       "    }\n",
       "\n",
       "    .dataframe tbody tr th {\n",
       "        vertical-align: top;\n",
       "    }\n",
       "\n",
       "    .dataframe thead th {\n",
       "        text-align: right;\n",
       "    }\n",
       "</style>\n",
       "<table border=\"1\" class=\"dataframe\">\n",
       "  <thead>\n",
       "    <tr style=\"text-align: right;\">\n",
       "      <th></th>\n",
       "      <th>mes</th>\n",
       "      <th>person</th>\n",
       "      <th>timestamp</th>\n",
       "      <th>event</th>\n",
       "      <th>url</th>\n",
       "      <th>sku</th>\n",
       "      <th>model</th>\n",
       "      <th>condition</th>\n",
       "      <th>storage</th>\n",
       "      <th>color</th>\n",
       "      <th>...</th>\n",
       "      <th>search_engine</th>\n",
       "      <th>channel</th>\n",
       "      <th>new_vs_returning</th>\n",
       "      <th>city</th>\n",
       "      <th>region</th>\n",
       "      <th>country</th>\n",
       "      <th>device_type</th>\n",
       "      <th>screen_resolution</th>\n",
       "      <th>operating_system_version</th>\n",
       "      <th>browser_version</th>\n",
       "    </tr>\n",
       "  </thead>\n",
       "  <tbody>\n",
       "    <tr>\n",
       "      <th>0</th>\n",
       "      <td>5</td>\n",
       "      <td>4886f805</td>\n",
       "      <td>2018-05-18 00:11:59</td>\n",
       "      <td>viewed product</td>\n",
       "      <td>NaN</td>\n",
       "      <td>9288.0</td>\n",
       "      <td>Samsung Galaxy J7 Prime</td>\n",
       "      <td>Excelente</td>\n",
       "      <td>32GB</td>\n",
       "      <td>Dourado</td>\n",
       "      <td>...</td>\n",
       "      <td>NaN</td>\n",
       "      <td>NaN</td>\n",
       "      <td>NaN</td>\n",
       "      <td>NaN</td>\n",
       "      <td>NaN</td>\n",
       "      <td>NaN</td>\n",
       "      <td>NaN</td>\n",
       "      <td>NaN</td>\n",
       "      <td>NaN</td>\n",
       "      <td>NaN</td>\n",
       "    </tr>\n",
       "    <tr>\n",
       "      <th>1</th>\n",
       "      <td>5</td>\n",
       "      <td>4886f805</td>\n",
       "      <td>2018-05-18 00:30:30</td>\n",
       "      <td>viewed product</td>\n",
       "      <td>NaN</td>\n",
       "      <td>9288.0</td>\n",
       "      <td>Samsung Galaxy J7 Prime</td>\n",
       "      <td>Excelente</td>\n",
       "      <td>32GB</td>\n",
       "      <td>Dourado</td>\n",
       "      <td>...</td>\n",
       "      <td>NaN</td>\n",
       "      <td>NaN</td>\n",
       "      <td>NaN</td>\n",
       "      <td>NaN</td>\n",
       "      <td>NaN</td>\n",
       "      <td>NaN</td>\n",
       "      <td>NaN</td>\n",
       "      <td>NaN</td>\n",
       "      <td>NaN</td>\n",
       "      <td>NaN</td>\n",
       "    </tr>\n",
       "    <tr>\n",
       "      <th>2</th>\n",
       "      <td>5</td>\n",
       "      <td>4886f805</td>\n",
       "      <td>2018-05-18 00:07:23</td>\n",
       "      <td>search engine hit</td>\n",
       "      <td>NaN</td>\n",
       "      <td>NaN</td>\n",
       "      <td>NaN</td>\n",
       "      <td>NaN</td>\n",
       "      <td>NaN</td>\n",
       "      <td>NaN</td>\n",
       "      <td>...</td>\n",
       "      <td>Google</td>\n",
       "      <td>NaN</td>\n",
       "      <td>NaN</td>\n",
       "      <td>NaN</td>\n",
       "      <td>NaN</td>\n",
       "      <td>NaN</td>\n",
       "      <td>NaN</td>\n",
       "      <td>NaN</td>\n",
       "      <td>NaN</td>\n",
       "      <td>NaN</td>\n",
       "    </tr>\n",
       "    <tr>\n",
       "      <th>3</th>\n",
       "      <td>5</td>\n",
       "      <td>4886f805</td>\n",
       "      <td>2018-05-18 00:11:56</td>\n",
       "      <td>checkout</td>\n",
       "      <td>NaN</td>\n",
       "      <td>9288.0</td>\n",
       "      <td>Samsung Galaxy J7 Prime</td>\n",
       "      <td>Excelente</td>\n",
       "      <td>32GB</td>\n",
       "      <td>Dourado</td>\n",
       "      <td>...</td>\n",
       "      <td>NaN</td>\n",
       "      <td>NaN</td>\n",
       "      <td>NaN</td>\n",
       "      <td>NaN</td>\n",
       "      <td>NaN</td>\n",
       "      <td>NaN</td>\n",
       "      <td>NaN</td>\n",
       "      <td>NaN</td>\n",
       "      <td>NaN</td>\n",
       "      <td>NaN</td>\n",
       "    </tr>\n",
       "    <tr>\n",
       "      <th>4</th>\n",
       "      <td>5</td>\n",
       "      <td>4886f805</td>\n",
       "      <td>2018-05-18 00:11:35</td>\n",
       "      <td>viewed product</td>\n",
       "      <td>NaN</td>\n",
       "      <td>9287.0</td>\n",
       "      <td>Samsung Galaxy J7 Prime</td>\n",
       "      <td>Muito Bom</td>\n",
       "      <td>32GB</td>\n",
       "      <td>Dourado</td>\n",
       "      <td>...</td>\n",
       "      <td>NaN</td>\n",
       "      <td>NaN</td>\n",
       "      <td>NaN</td>\n",
       "      <td>NaN</td>\n",
       "      <td>NaN</td>\n",
       "      <td>NaN</td>\n",
       "      <td>NaN</td>\n",
       "      <td>NaN</td>\n",
       "      <td>NaN</td>\n",
       "      <td>NaN</td>\n",
       "    </tr>\n",
       "  </tbody>\n",
       "</table>\n",
       "<p>5 rows × 24 columns</p>\n",
       "</div>"
      ],
      "text/plain": [
       "   mes    person            timestamp              event  url     sku  \\\n",
       "0    5  4886f805  2018-05-18 00:11:59     viewed product  NaN  9288.0   \n",
       "1    5  4886f805  2018-05-18 00:30:30     viewed product  NaN  9288.0   \n",
       "2    5  4886f805  2018-05-18 00:07:23  search engine hit  NaN     NaN   \n",
       "3    5  4886f805  2018-05-18 00:11:56           checkout  NaN  9288.0   \n",
       "4    5  4886f805  2018-05-18 00:11:35     viewed product  NaN  9287.0   \n",
       "\n",
       "                     model  condition storage    color       ...        \\\n",
       "0  Samsung Galaxy J7 Prime  Excelente    32GB  Dourado       ...         \n",
       "1  Samsung Galaxy J7 Prime  Excelente    32GB  Dourado       ...         \n",
       "2                      NaN        NaN     NaN      NaN       ...         \n",
       "3  Samsung Galaxy J7 Prime  Excelente    32GB  Dourado       ...         \n",
       "4  Samsung Galaxy J7 Prime  Muito Bom    32GB  Dourado       ...         \n",
       "\n",
       "  search_engine channel new_vs_returning city region country device_type  \\\n",
       "0           NaN     NaN              NaN  NaN    NaN     NaN         NaN   \n",
       "1           NaN     NaN              NaN  NaN    NaN     NaN         NaN   \n",
       "2        Google     NaN              NaN  NaN    NaN     NaN         NaN   \n",
       "3           NaN     NaN              NaN  NaN    NaN     NaN         NaN   \n",
       "4           NaN     NaN              NaN  NaN    NaN     NaN         NaN   \n",
       "\n",
       "  screen_resolution operating_system_version browser_version  \n",
       "0               NaN                      NaN             NaN  \n",
       "1               NaN                      NaN             NaN  \n",
       "2               NaN                      NaN             NaN  \n",
       "3               NaN                      NaN             NaN  \n",
       "4               NaN                      NaN             NaN  \n",
       "\n",
       "[5 rows x 24 columns]"
      ]
     },
     "execution_count": 4,
     "metadata": {},
     "output_type": "execute_result"
    }
   ],
   "source": [
    "aPredecir.head()"
   ]
  },
  {
   "cell_type": "code",
   "execution_count": 31,
   "metadata": {},
   "outputs": [],
   "source": []
  },
  {
   "cell_type": "code",
   "execution_count": null,
   "metadata": {},
   "outputs": [],
   "source": []
  },
  {
   "cell_type": "code",
   "execution_count": null,
   "metadata": {},
   "outputs": [],
   "source": []
  },
  {
   "cell_type": "code",
   "execution_count": null,
   "metadata": {},
   "outputs": [],
   "source": []
  },
  {
   "cell_type": "code",
   "execution_count": null,
   "metadata": {},
   "outputs": [],
   "source": []
  },
  {
   "cell_type": "code",
   "execution_count": null,
   "metadata": {},
   "outputs": [],
   "source": []
  },
  {
   "cell_type": "markdown",
   "metadata": {},
   "source": [
    "## 1. Cantidad promedio de visitas al sitio por mes"
   ]
  },
  {
   "cell_type": "code",
   "execution_count": 5,
   "metadata": {},
   "outputs": [],
   "source": [
    "visitasPromedio = aPredecir[aPredecir[\"event\"] == \"visited site\"].sort_values(by=[\"timestamp\"])"
   ]
  },
  {
   "cell_type": "code",
   "execution_count": 7,
   "metadata": {},
   "outputs": [],
   "source": [
    "visitasPromedio = visitasPromedio[[\"timestamp\",\"mes\",\"person\",\"event\"]]"
   ]
  },
  {
   "cell_type": "code",
   "execution_count": 8,
   "metadata": {},
   "outputs": [],
   "source": [
    "enero = visitasPromedio[visitasPromedio[\"mes\"] == 1][\"event\"].size\n",
    "febrero = visitasPromedio[visitasPromedio[\"mes\"] == 2][\"event\"].size\n",
    "marzo = visitasPromedio[visitasPromedio[\"mes\"] == 3][\"event\"].size\n",
    "abril = visitasPromedio[visitasPromedio[\"mes\"] == 4][\"event\"].size\n",
    "mayo = visitasPromedio[visitasPromedio[\"mes\"] == 5][\"event\"].size"
   ]
  },
  {
   "cell_type": "code",
   "execution_count": 9,
   "metadata": {},
   "outputs": [],
   "source": [
    "eneroPersons = pd.DataFrame(visitasPromedio[visitasPromedio[\"mes\"]==1].groupby(\"person\")[\"event\"].size().index)\n",
    "eneroValues =  pd.DataFrame(visitasPromedio.groupby([\"mes\",\"person\"])[\"event\"].size()[1].values/enero)"
   ]
  },
  {
   "cell_type": "code",
   "execution_count": 10,
   "metadata": {},
   "outputs": [],
   "source": [
    "febreroPersons = pd.DataFrame(visitasPromedio[visitasPromedio[\"mes\"]==2].groupby(\"person\")[\"event\"].size().index)\n",
    "febreroValues =  pd.DataFrame(visitasPromedio.groupby([\"mes\",\"person\"])[\"event\"].size()[2].values/febrero)"
   ]
  },
  {
   "cell_type": "code",
   "execution_count": 11,
   "metadata": {},
   "outputs": [],
   "source": [
    "marzoPersons = pd.DataFrame(visitasPromedio[visitasPromedio[\"mes\"]==3].groupby(\"person\")[\"event\"].size().index)\n",
    "marzoValues =  pd.DataFrame(visitasPromedio.groupby([\"mes\",\"person\"])[\"event\"].size()[3].values/marzo)"
   ]
  },
  {
   "cell_type": "code",
   "execution_count": 12,
   "metadata": {},
   "outputs": [],
   "source": [
    "abrilPersons = pd.DataFrame(visitasPromedio[visitasPromedio[\"mes\"]==4].groupby(\"person\")[\"event\"].size().index)\n",
    "abrilValues =  pd.DataFrame(visitasPromedio.groupby([\"mes\",\"person\"])[\"event\"].size()[4].values/abril)"
   ]
  },
  {
   "cell_type": "code",
   "execution_count": 13,
   "metadata": {},
   "outputs": [],
   "source": [
    "mayoPersons = pd.DataFrame(visitasPromedio[visitasPromedio[\"mes\"]==5].groupby(\"person\")[\"event\"].size().index)\n",
    "mayoValues =  pd.DataFrame(visitasPromedio.groupby([\"mes\",\"person\"])[\"event\"].size()[5].values/mayo)"
   ]
  },
  {
   "cell_type": "code",
   "execution_count": 14,
   "metadata": {},
   "outputs": [],
   "source": [
    "#concatenacion y guardado "
   ]
  },
  {
   "cell_type": "code",
   "execution_count": 15,
   "metadata": {},
   "outputs": [],
   "source": [
    "visitasMeanEnero_test = pd.concat([eneroPersons,eneroValues], axis = 1).rename(columns = {0:'visitasPromedio_enero'})\n",
    "visitasMeanEnero_test.to_csv(\"visitasMeanEnero_test.csv\",index = False)"
   ]
  },
  {
   "cell_type": "code",
   "execution_count": 16,
   "metadata": {},
   "outputs": [],
   "source": [
    "visitasMeanFebrero_test = pd.concat([febreroPersons,febreroValues], axis = 1).rename(columns = {0:'visitasPromedio_febrero'})\n",
    "visitasMeanFebrero_test.to_csv(\"visitasMeanFebrero_test.csv\",index = False)"
   ]
  },
  {
   "cell_type": "code",
   "execution_count": 17,
   "metadata": {},
   "outputs": [],
   "source": [
    "visitasMeanMarzo_test = pd.concat([marzoPersons,marzoValues], axis = 1).rename(columns = {0:'visitasPromedio_marzo'})\n",
    "visitasMeanMarzo_test.to_csv(\"visitasMeanMarzo_test.csv\",index = False)"
   ]
  },
  {
   "cell_type": "code",
   "execution_count": 18,
   "metadata": {},
   "outputs": [],
   "source": [
    "visitasMeanAbril_test = pd.concat([abrilPersons, abrilValues], axis = 1).rename(columns = {0:'visitasPromedio_abril'})\n",
    "visitasMeanAbril_test.to_csv(\"visitasMeanAbril_test.csv\",index = False)"
   ]
  },
  {
   "cell_type": "code",
   "execution_count": 19,
   "metadata": {},
   "outputs": [],
   "source": [
    "visitasMeanMayo_test = pd.concat([mayoPersons,mayoValues], axis = 1).rename(columns = {0:'visitasPromedio_mayo'})\n",
    "visitasMeanMayo_test.to_csv(\"visitasMeanMayo_test.csv\",index = False)"
   ]
  },
  {
   "cell_type": "markdown",
   "metadata": {},
   "source": [
    "## 2. Cantidad promedio de listados visitados por mes"
   ]
  },
  {
   "cell_type": "code",
   "execution_count": 20,
   "metadata": {},
   "outputs": [],
   "source": [
    "listadosVisitadosPromedio = aPredecir[aPredecir[\"event\"] == \"brand listing\"].sort_values(by= \"timestamp\")"
   ]
  },
  {
   "cell_type": "code",
   "execution_count": 22,
   "metadata": {},
   "outputs": [],
   "source": [
    "listadosVisitadosPromedio = listadosVisitadosPromedio[[\"timestamp\",\"mes\",\"person\",\"event\"]]"
   ]
  },
  {
   "cell_type": "code",
   "execution_count": 23,
   "metadata": {},
   "outputs": [],
   "source": [
    "enero = listadosVisitadosPromedio[listadosVisitadosPromedio[\"mes\"] == 1][\"event\"].size\n",
    "febrero = listadosVisitadosPromedio[listadosVisitadosPromedio[\"mes\"] == 2][\"event\"].size\n",
    "marzo = listadosVisitadosPromedio[listadosVisitadosPromedio[\"mes\"] == 3][\"event\"].size\n",
    "abril = listadosVisitadosPromedio[listadosVisitadosPromedio[\"mes\"] == 4][\"event\"].size\n",
    "mayo = listadosVisitadosPromedio[listadosVisitadosPromedio[\"mes\"] == 5][\"event\"].size"
   ]
  },
  {
   "cell_type": "code",
   "execution_count": 24,
   "metadata": {},
   "outputs": [],
   "source": [
    "eneroPersons = pd.DataFrame(listadosVisitadosPromedio[listadosVisitadosPromedio[\"mes\"]==1].groupby(\"person\")[\"event\"].size().index)\n",
    "eneroValues =  pd.DataFrame(listadosVisitadosPromedio.groupby([\"mes\",\"person\"])[\"event\"].size()[1].values/enero)\n",
    "\n",
    "febreroPersons = pd.DataFrame(listadosVisitadosPromedio[listadosVisitadosPromedio[\"mes\"]==2].groupby(\"person\")[\"event\"].size().index)\n",
    "febreroValues =  pd.DataFrame(listadosVisitadosPromedio.groupby([\"mes\",\"person\"])[\"event\"].size()[2].values/febrero)\n",
    "\n",
    "marzoPersons = pd.DataFrame(listadosVisitadosPromedio[listadosVisitadosPromedio[\"mes\"]==3].groupby(\"person\")[\"event\"].size().index)\n",
    "marzoValues =  pd.DataFrame(listadosVisitadosPromedio.groupby([\"mes\",\"person\"])[\"event\"].size()[3].values/marzo)\n",
    "\n",
    "abrilPersons = pd.DataFrame(listadosVisitadosPromedio[listadosVisitadosPromedio[\"mes\"]==4].groupby(\"person\")[\"event\"].size().index)\n",
    "abrilValues =  pd.DataFrame(listadosVisitadosPromedio.groupby([\"mes\",\"person\"])[\"event\"].size()[4].values/abril)\n",
    "\n",
    "mayoPersons = pd.DataFrame(listadosVisitadosPromedio[listadosVisitadosPromedio[\"mes\"]==5].groupby(\"person\")[\"event\"].size().index)\n",
    "mayoValues =  pd.DataFrame(listadosVisitadosPromedio.groupby([\"mes\",\"person\"])[\"event\"].size()[5].values/mayo)"
   ]
  },
  {
   "cell_type": "code",
   "execution_count": 25,
   "metadata": {},
   "outputs": [],
   "source": [
    "listadosMeanEnero_test = pd.concat([eneroPersons,eneroValues], axis = 1).rename(columns = {0:'listadosPromedio_enero'})\n",
    "listadosMeanEnero_test.to_csv(\"listadosMeanEnero_test.csv\",index = False)\n",
    "\n",
    "listadosMeanFebrero_test = pd.concat([febreroPersons,febreroValues], axis = 1).rename(columns = {0:'listadosPromedio_febrero'})\n",
    "listadosMeanFebrero_test.to_csv(\"listadosMeanFebrero_test.csv\",index = False)\n",
    "\n",
    "listadosMeanMarzo_test = pd.concat([marzoPersons,marzoValues], axis = 1).rename(columns = {0:'listadosPromedio_marzo'})\n",
    "listadosMeanMarzo_test.to_csv(\"listadosMeanMarzo_test.csv\",index = False)\n",
    "\n",
    "listadosMeanAbril_test = pd.concat([abrilPersons, abrilValues], axis = 1).rename(columns = {0:'listadosPromedio_abril'})\n",
    "listadosMeanAbril_test.to_csv(\"listadosMeanAbril_test.csv\",index = False)\n",
    "\n",
    "listadosMeanMayo_test = pd.concat([mayoPersons,mayoValues], axis = 1).rename(columns = {0:'listadosPromedio_mayo'})\n",
    "listadosMeanMayo_test.to_csv(\"listadosMeanMayo_test.csv\",index = False)"
   ]
  },
  {
   "cell_type": "markdown",
   "metadata": {},
   "source": [
    "## 3: Cantidad promedio de productos vistos en el sitio por mes"
   ]
  },
  {
   "cell_type": "code",
   "execution_count": 27,
   "metadata": {},
   "outputs": [],
   "source": [
    "vistosPromedio = aPredecir[aPredecir[\"event\"] == \"viewed product\"].sort_values(by= \"timestamp\")\n",
    "\n",
    "vistosPromedio = vistosPromedio[[\"timestamp\",\"mes\",\"person\",\"event\"]]\n"
   ]
  },
  {
   "cell_type": "code",
   "execution_count": 28,
   "metadata": {},
   "outputs": [],
   "source": [
    "enero = vistosPromedio[vistosPromedio[\"mes\"] == 1][\"event\"].size\n",
    "febrero = vistosPromedio[vistosPromedio[\"mes\"] == 2][\"event\"].size\n",
    "marzo = vistosPromedio[vistosPromedio[\"mes\"] == 3][\"event\"].size\n",
    "abril = vistosPromedio[vistosPromedio[\"mes\"] == 4][\"event\"].size\n",
    "mayo = vistosPromedio[vistosPromedio[\"mes\"] == 5][\"event\"].size"
   ]
  },
  {
   "cell_type": "code",
   "execution_count": 29,
   "metadata": {},
   "outputs": [],
   "source": [
    "eneroPersons = pd.DataFrame(vistosPromedio[vistosPromedio[\"mes\"]==1].groupby(\"person\")[\"event\"].size().index)\n",
    "eneroValues =  pd.DataFrame(vistosPromedio.groupby([\"mes\",\"person\"])[\"event\"].size()[1].values/enero)\n",
    "\n",
    "febreroPersons = pd.DataFrame(vistosPromedio[vistosPromedio[\"mes\"]==2].groupby(\"person\")[\"event\"].size().index)\n",
    "febreroValues =  pd.DataFrame(vistosPromedio.groupby([\"mes\",\"person\"])[\"event\"].size()[2].values/febrero)\n",
    "\n",
    "marzoPersons = pd.DataFrame(vistosPromedio[vistosPromedio[\"mes\"]==3].groupby(\"person\")[\"event\"].size().index)\n",
    "marzoValues =  pd.DataFrame(vistosPromedio.groupby([\"mes\",\"person\"])[\"event\"].size()[3].values/marzo)\n",
    "\n",
    "abrilPersons = pd.DataFrame(vistosPromedio[vistosPromedio[\"mes\"]==4].groupby(\"person\")[\"event\"].size().index)\n",
    "abrilValues =  pd.DataFrame(vistosPromedio.groupby([\"mes\",\"person\"])[\"event\"].size()[4].values/abril)\n",
    "\n",
    "mayoPersons = pd.DataFrame(vistosPromedio[vistosPromedio[\"mes\"]==5].groupby(\"person\")[\"event\"].size().index)\n",
    "mayoValues =  pd.DataFrame(vistosPromedio.groupby([\"mes\",\"person\"])[\"event\"].size()[5].values/mayo)"
   ]
  },
  {
   "cell_type": "code",
   "execution_count": 30,
   "metadata": {},
   "outputs": [],
   "source": [
    "vistosMeanEnero_test = pd.concat([eneroPersons,eneroValues], axis = 1).rename(columns = {0:'vistosPromedio_enero'})\n",
    "vistosMeanEnero_test.to_csv(\"vistosMeanEnero_test.csv\",index = False)\n",
    "\n",
    "vistosMeanFebrero_test = pd.concat([febreroPersons,febreroValues], axis = 1).rename(columns = {0:'vistosPromedio_febrero'})\n",
    "vistosMeanFebrero_test.to_csv(\"vistosMeanFebrero_test.csv\",index = False)\n",
    "\n",
    "vistosMeanMarzo_test = pd.concat([marzoPersons,marzoValues], axis = 1).rename(columns = {0:'vistosPromedio_marzo'})\n",
    "vistosMeanMarzo_test.to_csv(\"vistosMeanMarzo_test.csv\",index = False)\n",
    "\n",
    "vistosMeanAbril_test = pd.concat([abrilPersons, abrilValues], axis = 1).rename(columns = {0:'vistosPromedio_abril'})\n",
    "vistosMeanAbril_test.to_csv(\"vistosMeanAbril_test.csv\",index = False)\n",
    "\n",
    "vistosMeanMayo_test = pd.concat([mayoPersons,mayoValues], axis = 1).rename(columns = {0:'vistosPromedio_mayo'})\n",
    "vistosMeanMayo_test.to_csv(\"vistosMeanMayo_test.csv\",index = False)"
   ]
  },
  {
   "cell_type": "markdown",
   "metadata": {},
   "source": [
    "## 4:Acceso  por plataforma de campania famosa en el mes"
   ]
  },
  {
   "cell_type": "code",
   "execution_count": 31,
   "metadata": {},
   "outputs": [],
   "source": [
    "campaign_access = aPredecir[aPredecir[\"event\"] == \"ad campaign hit\"].sort_values(by= \"timestamp\")"
   ]
  },
  {
   "cell_type": "code",
   "execution_count": 33,
   "metadata": {},
   "outputs": [],
   "source": [
    "campaign_access = campaign_access[[\"timestamp\",\"mes\",\"person\",\"event\",\"campaign_source\"]]"
   ]
  },
  {
   "cell_type": "code",
   "execution_count": 34,
   "metadata": {},
   "outputs": [],
   "source": [
    "plataformasFamosas = (campaign_access[\"campaign_source\"].value_counts().nlargest(3).index)"
   ]
  },
  {
   "cell_type": "code",
   "execution_count": 35,
   "metadata": {},
   "outputs": [
    {
     "name": "stderr",
     "output_type": "stream",
     "text": [
      "/home/jonathan/anaconda3/lib/python3.6/site-packages/ipykernel_launcher.py:2: SettingWithCopyWarning: \n",
      "A value is trying to be set on a copy of a slice from a DataFrame.\n",
      "Try using .loc[row_indexer,col_indexer] = value instead\n",
      "\n",
      "See the caveats in the documentation: http://pandas.pydata.org/pandas-docs/stable/indexing.html#indexing-view-versus-copy\n",
      "  \n"
     ]
    }
   ],
   "source": [
    "for campaign_source in plataformasFamosas:\n",
    "    campaign_access[campaign_source] = (campaign_access['campaign_source'] == campaign_source).astype(bool)"
   ]
  },
  {
   "cell_type": "code",
   "execution_count": 36,
   "metadata": {},
   "outputs": [],
   "source": [
    "campaign_access = campaign_access[[\"mes\",\"person\",\"google\",\"criteo\",\"rtbhouse\"]]"
   ]
  },
  {
   "cell_type": "code",
   "execution_count": 37,
   "metadata": {},
   "outputs": [],
   "source": [
    "campaign_access[campaign_access[\"mes\"] == 1].\\\n",
    "                    rename(columns = {\"google\": \"google_enero\",\"criteo\":\"criteo_enero\",\"rtbhouse\":\"rtbhouse_enero\"})\\\n",
    "                    .to_csv(\"campaign_access_enero_test.csv\",index = False)"
   ]
  },
  {
   "cell_type": "code",
   "execution_count": 38,
   "metadata": {},
   "outputs": [],
   "source": [
    "campaign_access[campaign_access[\"mes\"] == 2].\\\n",
    "                    rename(columns = {\"google\": \"google_febrero\",\"criteo\":\"criteo_febrero\",\"rtbhouse\":\"rtbhouse_febrero\"})\\\n",
    "                    .to_csv(\"campaign_access_febrero_test.csv\",index = False)"
   ]
  },
  {
   "cell_type": "code",
   "execution_count": 39,
   "metadata": {},
   "outputs": [],
   "source": [
    "campaign_access[campaign_access[\"mes\"] == 3].\\\n",
    "                    rename(columns = {\"google\": \"google_marzo\",\"criteo\":\"criteo_marzo\",\"rtbhouse\":\"rtbhouse_marzo\"})\\\n",
    "                    .to_csv(\"campaign_access_marzo_test.csv\",index = False)"
   ]
  },
  {
   "cell_type": "code",
   "execution_count": 40,
   "metadata": {},
   "outputs": [],
   "source": [
    "campaign_access[campaign_access[\"mes\"] == 4].\\\n",
    "                    rename(columns = {\"google\": \"google_abril\",\"criteo\":\"criteo_abril\",\"rtbhouse\":\"rtbhouse_abril\"})\\\n",
    "                    .to_csv(\"campaign_access_abril_test.csv\",index = False)"
   ]
  },
  {
   "cell_type": "code",
   "execution_count": 41,
   "metadata": {},
   "outputs": [],
   "source": [
    "campaign_access[campaign_access[\"mes\"] == 5].\\\n",
    "                    rename(columns = {\"google\": \"google_mayo\",\"criteo\":\"criteo_mayo\",\"rtbhouse\":\"rtbhouse_mayo\"})\\\n",
    "                    .to_csv(\"campaign_access_mayo_test.csv\",index = False)"
   ]
  },
  {
   "cell_type": "markdown",
   "metadata": {},
   "source": [
    "## 5: Cantidad promedio de generic listing por mes"
   ]
  },
  {
   "cell_type": "code",
   "execution_count": 42,
   "metadata": {},
   "outputs": [],
   "source": [
    "visitas_HomePage = aPredecir[aPredecir[\"event\"] == \"generic listing\"].sort_values(by= \"timestamp\")"
   ]
  },
  {
   "cell_type": "code",
   "execution_count": 43,
   "metadata": {},
   "outputs": [],
   "source": [
    "enero = visitas_HomePage [visitas_HomePage [\"mes\"] == 1][\"event\"].size\n",
    "febrero = visitas_HomePage [visitas_HomePage [\"mes\"] == 2][\"event\"].size\n",
    "marzo = visitas_HomePage [visitas_HomePage [\"mes\"] == 3][\"event\"].size\n",
    "abril = visitas_HomePage [visitas_HomePage [\"mes\"] == 4][\"event\"].size\n",
    "mayo = visitas_HomePage [visitas_HomePage [\"mes\"] == 5][\"event\"].size"
   ]
  },
  {
   "cell_type": "code",
   "execution_count": 44,
   "metadata": {},
   "outputs": [],
   "source": [
    "eneroPersons = pd.DataFrame(visitas_HomePage[visitas_HomePage[\"mes\"]==1].groupby(\"person\")[\"event\"].size().index)\n",
    "eneroValues =  pd.DataFrame(visitas_HomePage.groupby([\"mes\",\"person\"])[\"event\"].size()[1].values/enero)\n",
    "\n",
    "febreroPersons = pd.DataFrame(visitas_HomePage[visitas_HomePage[\"mes\"]==2].groupby(\"person\")[\"event\"].size().index)\n",
    "febreroValues =  pd.DataFrame(visitas_HomePage.groupby([\"mes\",\"person\"])[\"event\"].size()[2].values/febrero)\n",
    "\n",
    "marzoPersons = pd.DataFrame(visitas_HomePage[visitas_HomePage[\"mes\"]==3].groupby(\"person\")[\"event\"].size().index)\n",
    "marzoValues =  pd.DataFrame(visitas_HomePage.groupby([\"mes\",\"person\"])[\"event\"].size()[3].values/marzo)\n",
    "\n",
    "abrilPersons = pd.DataFrame(visitas_HomePage[visitas_HomePage[\"mes\"]==4].groupby(\"person\")[\"event\"].size().index)\n",
    "abrilValues =  pd.DataFrame(visitas_HomePage.groupby([\"mes\",\"person\"])[\"event\"].size()[4].values/abril)\n",
    "\n",
    "mayoPersons = pd.DataFrame(visitas_HomePage[visitas_HomePage[\"mes\"]==5].groupby(\"person\")[\"event\"].size().index)\n",
    "mayoValues =  pd.DataFrame(visitas_HomePage.groupby([\"mes\",\"person\"])[\"event\"].size()[5].values/mayo)"
   ]
  },
  {
   "cell_type": "code",
   "execution_count": 45,
   "metadata": {},
   "outputs": [],
   "source": [
    "visitas_HomePageMeanEnero_test = pd.concat([eneroPersons,eneroValues], axis = 1).rename(columns = {0:'visitas_HomePagePromedio_enero'})\n",
    "visitas_HomePageMeanEnero_test.to_csv(\"visitas_HomePageMeanEnero_test.csv\",index = False)\n",
    "\n",
    "visitas_HomePageMeanFebrero_test = pd.concat([febreroPersons,febreroValues], axis = 1).rename(columns = {0:'visitas_HomePagePromedio_febrero'})\n",
    "visitas_HomePageMeanFebrero_test.to_csv(\"visitas_HomePageMeanFebrero_test.csv\",index = False)\n",
    "\n",
    "visitas_HomePageMeanMarzo_test = pd.concat([marzoPersons,marzoValues], axis = 1).rename(columns = {0:'visitas_HomePagePromedio_marzo'})\n",
    "visitas_HomePageMeanMarzo_test.to_csv(\"visitas_HomePageMeanMarzo_test.csv\",index = False)\n",
    "\n",
    "visitas_HomePageMeanAbril_test = pd.concat([abrilPersons, abrilValues], axis = 1).rename(columns = {0:'visitas_HomePagePromedio_abril'})\n",
    "visitas_HomePageMeanAbril_test.to_csv(\"visitas_HomePageMeanAbril_test.csv\",index = False)\n",
    "\n",
    "visitas_HomePageMeanMayo_test = pd.concat([mayoPersons,mayoValues], axis = 1).rename(columns = {0:'visitas_HomePagePromedio_mayo'})\n",
    "visitas_HomePageMeanMayo_test.to_csv(\"visitas_HomePageMeanMayo_test.csv\",index = False)"
   ]
  },
  {
   "cell_type": "markdown",
   "metadata": {},
   "source": [
    "## Cantidad promedio de checkouts por periodo"
   ]
  },
  {
   "cell_type": "code",
   "execution_count": 46,
   "metadata": {},
   "outputs": [],
   "source": [
    "checkouts_promedio = aPredecir[aPredecir[\"event\"] == \"checkout\"].sort_values(by= \"timestamp\")"
   ]
  },
  {
   "cell_type": "code",
   "execution_count": 47,
   "metadata": {},
   "outputs": [],
   "source": [
    "enero = checkouts_promedio [checkouts_promedio [\"mes\"] == 1][\"event\"].size\n",
    "febrero = checkouts_promedio [checkouts_promedio [\"mes\"] == 2][\"event\"].size\n",
    "marzo = checkouts_promedio [checkouts_promedio [\"mes\"] == 3][\"event\"].size\n",
    "abril = checkouts_promedio [checkouts_promedio [\"mes\"] == 4][\"event\"].size\n",
    "mayo = checkouts_promedio [checkouts_promedio [\"mes\"] == 5][\"event\"].size"
   ]
  },
  {
   "cell_type": "code",
   "execution_count": 48,
   "metadata": {},
   "outputs": [],
   "source": [
    "eneroPersons = pd.DataFrame(checkouts_promedio[checkouts_promedio[\"mes\"]==1].groupby(\"person\")[\"event\"].size().index)\n",
    "eneroValues =  pd.DataFrame(checkouts_promedio.groupby([\"mes\",\"person\"])[\"event\"].size()[1].values/enero)\n",
    "\n",
    "febreroPersons = pd.DataFrame(checkouts_promedio[checkouts_promedio[\"mes\"]==2].groupby(\"person\")[\"event\"].size().index)\n",
    "febreroValues =  pd.DataFrame(checkouts_promedio.groupby([\"mes\",\"person\"])[\"event\"].size()[2].values/febrero)\n",
    "\n",
    "marzoPersons = pd.DataFrame(checkouts_promedio[checkouts_promedio[\"mes\"]==3].groupby(\"person\")[\"event\"].size().index)\n",
    "marzoValues =  pd.DataFrame(checkouts_promedio.groupby([\"mes\",\"person\"])[\"event\"].size()[3].values/marzo)\n",
    "\n",
    "abrilPersons = pd.DataFrame(checkouts_promedio[checkouts_promedio[\"mes\"]==4].groupby(\"person\")[\"event\"].size().index)\n",
    "abrilValues =  pd.DataFrame(checkouts_promedio.groupby([\"mes\",\"person\"])[\"event\"].size()[4].values/abril)\n",
    "\n",
    "mayoPersons = pd.DataFrame(checkouts_promedio[checkouts_promedio[\"mes\"]==5].groupby(\"person\")[\"event\"].size().index)\n",
    "mayoValues =  pd.DataFrame(checkouts_promedio.groupby([\"mes\",\"person\"])[\"event\"].size()[5].values/mayo)"
   ]
  },
  {
   "cell_type": "code",
   "execution_count": 49,
   "metadata": {},
   "outputs": [],
   "source": [
    "checkoutsMeanEnero_test = pd.concat([eneroPersons,eneroValues], axis = 1).rename(columns = {0:'checkoutsMean_enero'})\n",
    "checkoutsMeanEnero_test.to_csv(\"checkoutsMeanEnero_test.csv\",index = False)\n",
    "\n",
    "checkoutsMeanFebrero_test = pd.concat([febreroPersons,febreroValues], axis = 1).rename(columns = {0:'checkoutsMean_febrero'})\n",
    "checkoutsMeanFebrero_test.to_csv(\"checkoutsMeanFebrero_test.csv\",index = False)\n",
    "\n",
    "checkoutsMeanMarzo_test = pd.concat([marzoPersons,marzoValues], axis = 1).rename(columns = {0:'checkoutsMean_marzo'})\n",
    "checkoutsMeanMarzo_test.to_csv(\"checkoutsMeanMarzo_test.csv\",index = False)\n",
    "\n",
    "checkoutsMeanAbril_test = pd.concat([abrilPersons, abrilValues], axis = 1).rename(columns = {0:'checkoutsMean_abril'})\n",
    "checkoutsMeanAbril_test.to_csv(\"checkoutsMeanAbril_test.csv\",index = False)\n",
    "\n",
    "checkoutsMeanMayo_test = pd.concat([mayoPersons,mayoValues], axis = 1).rename(columns = {0:'checkoutsMean_mayo'})\n",
    "checkoutsMeanMayo_test.to_csv(\"checkoutsMeanMayo_test.csv\",index = False)"
   ]
  },
  {
   "cell_type": "markdown",
   "metadata": {},
   "source": [
    "## Cantidad promedio de leads por periodo"
   ]
  },
  {
   "cell_type": "code",
   "execution_count": 50,
   "metadata": {},
   "outputs": [],
   "source": [
    "leads_promedio = aPredecir[aPredecir[\"event\"] == \"lead\"].sort_values(by= \"timestamp\")"
   ]
  },
  {
   "cell_type": "code",
   "execution_count": 51,
   "metadata": {},
   "outputs": [],
   "source": [
    "enero = leads_promedio [leads_promedio [\"mes\"] == 1][\"event\"].size\n",
    "febrero = leads_promedio [leads_promedio [\"mes\"] == 2][\"event\"].size\n",
    "marzo = leads_promedio [leads_promedio [\"mes\"] == 3][\"event\"].size\n",
    "abril = leads_promedio [leads_promedio [\"mes\"] == 4][\"event\"].size\n",
    "mayo = leads_promedio [leads_promedio [\"mes\"] == 5][\"event\"].size"
   ]
  },
  {
   "cell_type": "code",
   "execution_count": 52,
   "metadata": {},
   "outputs": [],
   "source": [
    "eneroPersons = pd.DataFrame(leads_promedio[leads_promedio[\"mes\"]==1].groupby(\"person\")[\"event\"].size().index)\n",
    "eneroValues =  pd.DataFrame(leads_promedio.groupby([\"mes\",\"person\"])[\"event\"].size()[1].values/enero)\n",
    "\n",
    "febreroPersons = pd.DataFrame(leads_promedio[leads_promedio[\"mes\"]==2].groupby(\"person\")[\"event\"].size().index)\n",
    "febreroValues =  pd.DataFrame(leads_promedio.groupby([\"mes\",\"person\"])[\"event\"].size()[2].values/febrero)\n",
    "\n",
    "marzoPersons = pd.DataFrame(leads_promedio[leads_promedio[\"mes\"]==3].groupby(\"person\")[\"event\"].size().index)\n",
    "marzoValues =  pd.DataFrame(leads_promedio.groupby([\"mes\",\"person\"])[\"event\"].size()[3].values/marzo)\n",
    "\n",
    "abrilPersons = pd.DataFrame(leads_promedio[leads_promedio[\"mes\"]==4].groupby(\"person\")[\"event\"].size().index)\n",
    "abrilValues =  pd.DataFrame(leads_promedio.groupby([\"mes\",\"person\"])[\"event\"].size()[4].values/abril)\n",
    "\n",
    "mayoPersons = pd.DataFrame(leads_promedio[leads_promedio[\"mes\"]==5].groupby(\"person\")[\"event\"].size().index)\n",
    "mayoValues =  pd.DataFrame(leads_promedio.groupby([\"mes\",\"person\"])[\"event\"].size()[5].values/mayo)"
   ]
  },
  {
   "cell_type": "code",
   "execution_count": 53,
   "metadata": {},
   "outputs": [],
   "source": [
    "leadsMeanEnero_test = pd.concat([eneroPersons,eneroValues], axis = 1).rename(columns = {0:'leadsMean_enero'})\n",
    "leadsMeanEnero_test.to_csv(\"leadsMeanEnero_test.csv\",index = False)\n",
    "\n",
    "leadsMeanFebrero_test = pd.concat([febreroPersons,febreroValues], axis = 1).rename(columns = {0:'leadsMean_febrero'})\n",
    "leadsMeanFebrero_test.to_csv(\"leadsMeanFebrero_test.csv\",index = False)\n",
    "\n",
    "leadsMeanMarzo_test = pd.concat([marzoPersons,marzoValues], axis = 1).rename(columns = {0:'leadsMean_marzo'})\n",
    "leadsMeanMarzo_test.to_csv(\"leadsMeanMarzo_test.csv\",index = False)\n",
    "\n",
    "leadsMeanAbril_test = pd.concat([abrilPersons, abrilValues], axis = 1).rename(columns = {0:'leadsMean_abril'})\n",
    "leadsMeanAbril_test.to_csv(\"leadsMeanAbril_test.csv\",index = False)\n",
    "\n",
    "leadsMeanMayo_test = pd.concat([mayoPersons,mayoValues], axis = 1).rename(columns = {0:'leadsMean_mayo'})\n",
    "leadsMeanMayo_test.to_csv(\"leadsMeanMayo_test.csv\",index = False)"
   ]
  },
  {
   "cell_type": "markdown",
   "metadata": {},
   "source": [
    "## Cantidad promedio de staticpage visitados"
   ]
  },
  {
   "cell_type": "code",
   "execution_count": 54,
   "metadata": {},
   "outputs": [],
   "source": [
    "static_Pages_visitados = aPredecir[aPredecir[\"event\"] == \"staticpage\"].sort_values(by= \"timestamp\")"
   ]
  },
  {
   "cell_type": "code",
   "execution_count": 55,
   "metadata": {},
   "outputs": [],
   "source": [
    "enero = static_Pages_visitados [static_Pages_visitados [\"mes\"] == 1][\"event\"].size\n",
    "febrero = static_Pages_visitados [static_Pages_visitados [\"mes\"] == 2][\"event\"].size\n",
    "marzo = static_Pages_visitados [static_Pages_visitados [\"mes\"] == 3][\"event\"].size\n",
    "abril = static_Pages_visitados [static_Pages_visitados [\"mes\"] == 4][\"event\"].size\n",
    "mayo = static_Pages_visitados [static_Pages_visitados [\"mes\"] == 5][\"event\"].size"
   ]
  },
  {
   "cell_type": "code",
   "execution_count": 56,
   "metadata": {},
   "outputs": [],
   "source": [
    "eneroPersons = pd.DataFrame(static_Pages_visitados[static_Pages_visitados[\"mes\"]==1].groupby(\"person\")[\"event\"].size().index)\n",
    "eneroValues =  pd.DataFrame(static_Pages_visitados.groupby([\"mes\",\"person\"])[\"event\"].size()[1].values/enero)\n",
    "\n",
    "febreroPersons = pd.DataFrame(static_Pages_visitados[static_Pages_visitados[\"mes\"]==2].groupby(\"person\")[\"event\"].size().index)\n",
    "febreroValues =  pd.DataFrame(static_Pages_visitados.groupby([\"mes\",\"person\"])[\"event\"].size()[2].values/febrero)\n",
    "\n",
    "marzoPersons = pd.DataFrame(static_Pages_visitados[static_Pages_visitados[\"mes\"]==3].groupby(\"person\")[\"event\"].size().index)\n",
    "marzoValues =  pd.DataFrame(static_Pages_visitados.groupby([\"mes\",\"person\"])[\"event\"].size()[3].values/marzo)\n",
    "\n",
    "abrilPersons = pd.DataFrame(static_Pages_visitados[static_Pages_visitados[\"mes\"]==4].groupby(\"person\")[\"event\"].size().index)\n",
    "abrilValues =  pd.DataFrame(static_Pages_visitados.groupby([\"mes\",\"person\"])[\"event\"].size()[4].values/abril)\n",
    "\n",
    "mayoPersons = pd.DataFrame(static_Pages_visitados[static_Pages_visitados[\"mes\"]==5].groupby(\"person\")[\"event\"].size().index)\n",
    "mayoValues =  pd.DataFrame(static_Pages_visitados.groupby([\"mes\",\"person\"])[\"event\"].size()[5].values/mayo)"
   ]
  },
  {
   "cell_type": "code",
   "execution_count": 57,
   "metadata": {},
   "outputs": [],
   "source": [
    "static_Pages_visitadosMeanEnero_test = pd.concat([eneroPersons,eneroValues], axis = 1).rename(columns = {0:'static_Pages_visitadosMean_enero'})\n",
    "static_Pages_visitadosMeanEnero_test.to_csv(\"static_Pages_visitadosMeanEnero_test.csv\",index = False)\n",
    "\n",
    "static_Pages_visitadosMeanFebrero_test = pd.concat([febreroPersons,febreroValues], axis = 1).rename(columns = {0:'static_Pages_visitadosMean_febrero'})\n",
    "static_Pages_visitadosMeanFebrero_test.to_csv(\"static_Pages_visitadosMeanFebrero_test.csv\",index = False)\n",
    "\n",
    "static_Pages_visitadosMeanMarzo_test = pd.concat([marzoPersons,marzoValues], axis = 1).rename(columns = {0:'static_Pages_visitadosMean_marzo'})\n",
    "static_Pages_visitadosMeanMarzo_test.to_csv(\"static_Pages_visitadosMeanMarzo_test.csv\",index = False)\n",
    "\n",
    "static_Pages_visitadosMeanAbril_test = pd.concat([abrilPersons, abrilValues], axis = 1).rename(columns = {0:'static_Pages_visitadosMean_abril'})\n",
    "static_Pages_visitadosMeanAbril_test.to_csv(\"static_Pages_visitadosMeanAbril_test.csv\",index = False)\n",
    "\n",
    "static_Pages_visitadosMeanMayo_test = pd.concat([mayoPersons,mayoValues], axis = 1).rename(columns = {0:'static_Pages_visitadosMean_mayo'})\n",
    "static_Pages_visitadosMeanMayo_test.to_csv(\"static_Pages_visitadosMeanMayo_test.csv\",index = False)"
   ]
  },
  {
   "cell_type": "markdown",
   "metadata": {},
   "source": [
    "## Cantidad promedio de conversiones por mes"
   ]
  },
  {
   "cell_type": "code",
   "execution_count": 58,
   "metadata": {},
   "outputs": [],
   "source": [
    "conversiones_promedio = aPredecir[aPredecir[\"event\"] == \"conversion\"].sort_values(by= \"timestamp\")"
   ]
  },
  {
   "cell_type": "code",
   "execution_count": 59,
   "metadata": {},
   "outputs": [],
   "source": [
    "enero = conversiones_promedio [conversiones_promedio [\"mes\"] == 1][\"event\"].size\n",
    "febrero = conversiones_promedio [conversiones_promedio [\"mes\"] == 2][\"event\"].size\n",
    "marzo = conversiones_promedio [conversiones_promedio [\"mes\"] == 3][\"event\"].size\n",
    "abril = conversiones_promedio [conversiones_promedio [\"mes\"] == 4][\"event\"].size\n",
    "mayo = conversiones_promedio [conversiones_promedio [\"mes\"] == 5][\"event\"].size"
   ]
  },
  {
   "cell_type": "code",
   "execution_count": 60,
   "metadata": {},
   "outputs": [],
   "source": [
    "eneroPersons = pd.DataFrame(conversiones_promedio[conversiones_promedio[\"mes\"]==1].groupby(\"person\")[\"event\"].size().index)\n",
    "eneroValues =  pd.DataFrame(conversiones_promedio.groupby([\"mes\",\"person\"])[\"event\"].size()[1].values/enero)\n",
    "\n",
    "febreroPersons = pd.DataFrame(conversiones_promedio[conversiones_promedio[\"mes\"]==2].groupby(\"person\")[\"event\"].size().index)\n",
    "febreroValues =  pd.DataFrame(conversiones_promedio.groupby([\"mes\",\"person\"])[\"event\"].size()[2].values/febrero)\n",
    "\n",
    "marzoPersons = pd.DataFrame(conversiones_promedio[conversiones_promedio[\"mes\"]==3].groupby(\"person\")[\"event\"].size().index)\n",
    "marzoValues =  pd.DataFrame(conversiones_promedio.groupby([\"mes\",\"person\"])[\"event\"].size()[3].values/marzo)\n",
    "\n",
    "abrilPersons = pd.DataFrame(conversiones_promedio[conversiones_promedio[\"mes\"]==4].groupby(\"person\")[\"event\"].size().index)\n",
    "abrilValues =  pd.DataFrame(conversiones_promedio.groupby([\"mes\",\"person\"])[\"event\"].size()[4].values/abril)\n",
    "\n",
    "mayoPersons = pd.DataFrame(conversiones_promedio[conversiones_promedio[\"mes\"]==5].groupby(\"person\")[\"event\"].size().index)\n",
    "mayoValues =  pd.DataFrame(conversiones_promedio.groupby([\"mes\",\"person\"])[\"event\"].size()[5].values/mayo)"
   ]
  },
  {
   "cell_type": "code",
   "execution_count": 61,
   "metadata": {},
   "outputs": [],
   "source": [
    "conversiones_promedioMeanEnero_test = pd.concat([eneroPersons,eneroValues], axis = 1).rename(columns = {0:'conversiones_promedioMean_enero'})\n",
    "conversiones_promedioMeanEnero_test.to_csv(\"conversiones_promedioMeanEnero_test.csv\",index = False)\n",
    "\n",
    "conversiones_promedioMeanFebrero_test = pd.concat([febreroPersons,febreroValues], axis = 1).rename(columns = {0:'conversiones_promedioMean_febrero'})\n",
    "conversiones_promedioMeanFebrero_test.to_csv(\"conversiones_promedioMeanFebrero_test.csv\",index = False)\n",
    "\n",
    "conversiones_promedioMeanMarzo_test = pd.concat([marzoPersons,marzoValues], axis = 1).rename(columns = {0:'conversiones_promedioMean_marzo'})\n",
    "conversiones_promedioMeanMarzo_test.to_csv(\"conversiones_promedioMeanMarzo_test.csv\",index = False)\n",
    "\n",
    "conversiones_promedioMeanAbril_test = pd.concat([abrilPersons, abrilValues], axis = 1).rename(columns = {0:'conversiones_promedioMean_abril'})\n",
    "conversiones_promedioMeanAbril_test.to_csv(\"conversiones_promedioMeanAbril_test.csv\",index = False)\n",
    "\n",
    "conversiones_promedioMeanMayo_test = pd.concat([mayoPersons,mayoValues], axis = 1).rename(columns = {0:'conversiones_promedioMean_mayo'})\n",
    "conversiones_promedioMeanMayo_test.to_csv(\"conversiones_promedioMeanMayo_test.csv\",index = False)"
   ]
  },
  {
   "cell_type": "markdown",
   "metadata": {},
   "source": [
    "## Cantidad promedio de checkouts y conversiones por mes"
   ]
  },
  {
   "cell_type": "code",
   "execution_count": 62,
   "metadata": {},
   "outputs": [],
   "source": [
    "personasCheckouts = aPredecir[aPredecir[\"event\"] == \"checkout\"][\"person\"].values"
   ]
  },
  {
   "cell_type": "code",
   "execution_count": 63,
   "metadata": {},
   "outputs": [],
   "source": [
    "checkoutsAndConversiones = aPredecir[aPredecir[\"event\"] == \"conversion\"]"
   ]
  },
  {
   "cell_type": "code",
   "execution_count": 64,
   "metadata": {},
   "outputs": [],
   "source": [
    "checkoutsAndConversiones = checkoutsAndConversiones[checkoutsAndConversiones[\"person\"]\\\n",
    "                                                   .isin(personasCheckouts)]\\\n",
    "                                                    .sort_values(by=\"timestamp\")"
   ]
  },
  {
   "cell_type": "code",
   "execution_count": 65,
   "metadata": {},
   "outputs": [],
   "source": [
    "enero = checkoutsAndConversiones [checkoutsAndConversiones [\"mes\"] == 1][\"event\"].size\n",
    "febrero = checkoutsAndConversiones [checkoutsAndConversiones [\"mes\"] == 2][\"event\"].size\n",
    "marzo = checkoutsAndConversiones [checkoutsAndConversiones [\"mes\"] == 3][\"event\"].size\n",
    "abril = checkoutsAndConversiones [checkoutsAndConversiones [\"mes\"] == 4][\"event\"].size\n",
    "mayo = checkoutsAndConversiones [checkoutsAndConversiones [\"mes\"] == 5][\"event\"].size"
   ]
  },
  {
   "cell_type": "code",
   "execution_count": 66,
   "metadata": {},
   "outputs": [],
   "source": [
    "eneroPersons = pd.DataFrame(checkoutsAndConversiones[checkoutsAndConversiones[\"mes\"]==1].groupby(\"person\")[\"event\"].size().index)\n",
    "eneroValues =  pd.DataFrame(checkoutsAndConversiones.groupby([\"mes\",\"person\"])[\"event\"].size()[1].values/enero)\n",
    "\n",
    "febreroPersons = pd.DataFrame(checkoutsAndConversiones[checkoutsAndConversiones[\"mes\"]==2].groupby(\"person\")[\"event\"].size().index)\n",
    "febreroValues =  pd.DataFrame(checkoutsAndConversiones.groupby([\"mes\",\"person\"])[\"event\"].size()[2].values/febrero)\n",
    "\n",
    "marzoPersons = pd.DataFrame(checkoutsAndConversiones[checkoutsAndConversiones[\"mes\"]==3].groupby(\"person\")[\"event\"].size().index)\n",
    "marzoValues =  pd.DataFrame(checkoutsAndConversiones.groupby([\"mes\",\"person\"])[\"event\"].size()[3].values/marzo)\n",
    "\n",
    "abrilPersons = pd.DataFrame(checkoutsAndConversiones[checkoutsAndConversiones[\"mes\"]==4].groupby(\"person\")[\"event\"].size().index)\n",
    "abrilValues =  pd.DataFrame(checkoutsAndConversiones.groupby([\"mes\",\"person\"])[\"event\"].size()[4].values/abril)\n",
    "\n",
    "mayoPersons = pd.DataFrame(checkoutsAndConversiones[checkoutsAndConversiones[\"mes\"]==5].groupby(\"person\")[\"event\"].size().index)\n",
    "mayoValues =  pd.DataFrame(checkoutsAndConversiones.groupby([\"mes\",\"person\"])[\"event\"].size()[5].values/mayo)"
   ]
  },
  {
   "cell_type": "code",
   "execution_count": 67,
   "metadata": {},
   "outputs": [],
   "source": [
    "checkoutsAndConversionesMeanEnero_test = pd.concat([eneroPersons,eneroValues], axis = 1).rename(columns = {0:'checkoutsAndConversionesMean_enero'})\n",
    "checkoutsAndConversionesMeanEnero_test.to_csv(\"checkoutsAndConversionesMeanEnero_test.csv\",index = False)\n",
    "\n",
    "checkoutsAndConversionesMeanFebrero_test = pd.concat([febreroPersons,febreroValues], axis = 1).rename(columns = {0:'checkoutsAndConversionesMean_febrero'})\n",
    "checkoutsAndConversionesMeanFebrero_test.to_csv(\"checkoutsAndConversionesMeanFebrero_test.csv\",index = False)\n",
    "\n",
    "checkoutsAndConversionesMeanMarzo_test = pd.concat([marzoPersons,marzoValues], axis = 1).rename(columns = {0:'checkoutsAndConversionesMean_marzo'})\n",
    "checkoutsAndConversionesMeanMarzo_test.to_csv(\"checkoutsAndConversionesMeanMarzo_test.csv\",index = False)\n",
    "\n",
    "checkoutsAndConversionesMeanAbril_test = pd.concat([abrilPersons, abrilValues], axis = 1).rename(columns = {0:'checkoutsAndConversionesMean_abril'})\n",
    "checkoutsAndConversionesMeanAbril_test.to_csv(\"checkoutsAndConversionesMeanAbril_test.csv\",index = False)\n",
    "\n",
    "checkoutsAndConversionesMeanMayo_test = pd.concat([mayoPersons,mayoValues], axis = 1).rename(columns = {0:'checkoutsAndConversionesMean_mayo'})\n",
    "checkoutsAndConversionesMeanMayo_test.to_csv(\"checkoutsAndConversionesMeanMayo_test.csv\",index = False)"
   ]
  },
  {
   "cell_type": "markdown",
   "metadata": {},
   "source": [
    "## Browser Access"
   ]
  },
  {
   "cell_type": "code",
   "execution_count": 68,
   "metadata": {},
   "outputs": [],
   "source": [
    "from sklearn.feature_extraction import FeatureHasher\n",
    "h = FeatureHasher(n_features=20,input_type='string')"
   ]
  },
  {
   "cell_type": "code",
   "execution_count": 69,
   "metadata": {},
   "outputs": [],
   "source": [
    "browser_Access = aPredecir[aPredecir[\"event\"] == \"visited site\"].sort_values(by = \"timestamp\")"
   ]
  },
  {
   "cell_type": "code",
   "execution_count": 70,
   "metadata": {},
   "outputs": [],
   "source": [
    "f = h.fit_transform(browser_Access['browser_version'])\n",
    "browser= pd.DataFrame(f.toarray())"
   ]
  },
  {
   "cell_type": "code",
   "execution_count": 71,
   "metadata": {},
   "outputs": [
    {
     "data": {
      "text/plain": [
       "array([0.15, 0.15, 0.2 , ..., 0.15, 0.3 , 0.3 ])"
      ]
     },
     "execution_count": 71,
     "metadata": {},
     "output_type": "execute_result"
    }
   ],
   "source": [
    "(browser.T.mean()).values"
   ]
  },
  {
   "cell_type": "code",
   "execution_count": 72,
   "metadata": {},
   "outputs": [],
   "source": [
    "browser_Access[\"browser_version\"] = (browser.T.mean()).values"
   ]
  },
  {
   "cell_type": "code",
   "execution_count": 73,
   "metadata": {},
   "outputs": [],
   "source": [
    "browser_Access = browser_Access[[\"mes\",\"person\",\"browser_version\"]]"
   ]
  },
  {
   "cell_type": "code",
   "execution_count": 74,
   "metadata": {},
   "outputs": [],
   "source": [
    "browser_Access[browser_Access[\"mes\"] == 1].to_csv(\"browser_version_enero_test\",index= False)"
   ]
  },
  {
   "cell_type": "code",
   "execution_count": 75,
   "metadata": {},
   "outputs": [],
   "source": [
    "browser_Access[browser_Access[\"mes\"] == 2].to_csv(\"browser_version_febrero_test\",index= False)"
   ]
  },
  {
   "cell_type": "code",
   "execution_count": 76,
   "metadata": {},
   "outputs": [],
   "source": [
    "browser_Access[browser_Access[\"mes\"] == 3].to_csv(\"browser_version_marzo_test\",index= False)"
   ]
  },
  {
   "cell_type": "code",
   "execution_count": 77,
   "metadata": {},
   "outputs": [],
   "source": [
    "browser_Access[browser_Access[\"mes\"] == 4].to_csv(\"browser_version_abril_test\",index= False)"
   ]
  },
  {
   "cell_type": "code",
   "execution_count": 78,
   "metadata": {},
   "outputs": [],
   "source": [
    "browser_Access[browser_Access[\"mes\"] == 5].to_csv(\"browser_version_mayo_test\",index= False)"
   ]
  },
  {
   "cell_type": "markdown",
   "metadata": {},
   "source": [
    "## Cantidad promedio de colores vistos por mes"
   ]
  },
  {
   "cell_type": "code",
   "execution_count": 79,
   "metadata": {},
   "outputs": [],
   "source": [
    "coloresVistos = aPredecir[aPredecir[\"event\"] == \"viewed product\"].sort_values(by = \"person\")"
   ]
  },
  {
   "cell_type": "code",
   "execution_count": 80,
   "metadata": {},
   "outputs": [],
   "source": [
    "enero = coloresVistos [coloresVistos [\"mes\"] == 1][\"event\"].size\n",
    "febrero = coloresVistos [coloresVistos [\"mes\"] == 2][\"event\"].size\n",
    "marzo = coloresVistos [coloresVistos [\"mes\"] == 3][\"event\"].size\n",
    "abril = coloresVistos [coloresVistos [\"mes\"] == 4][\"event\"].size\n",
    "mayo = coloresVistos [coloresVistos [\"mes\"] == 5][\"event\"].size"
   ]
  },
  {
   "cell_type": "code",
   "execution_count": 81,
   "metadata": {},
   "outputs": [],
   "source": [
    "eneroPersons = pd.DataFrame(coloresVistos[coloresVistos[\"mes\"]==1].groupby(\"person\")[\"event\"].size().index)\n",
    "eneroValues =  pd.DataFrame(coloresVistos.groupby([\"mes\",\"person\"])[\"event\"].size()[1].values/enero)\n",
    "\n",
    "febreroPersons = pd.DataFrame(coloresVistos[coloresVistos[\"mes\"]==2].groupby(\"person\")[\"event\"].size().index)\n",
    "febreroValues =  pd.DataFrame(coloresVistos.groupby([\"mes\",\"person\"])[\"event\"].size()[2].values/febrero)\n",
    "\n",
    "marzoPersons = pd.DataFrame(coloresVistos[coloresVistos[\"mes\"]==3].groupby(\"person\")[\"event\"].size().index)\n",
    "marzoValues =  pd.DataFrame(coloresVistos.groupby([\"mes\",\"person\"])[\"event\"].size()[3].values/marzo)\n",
    "\n",
    "abrilPersons = pd.DataFrame(coloresVistos[coloresVistos[\"mes\"]==4].groupby(\"person\")[\"event\"].size().index)\n",
    "abrilValues =  pd.DataFrame(coloresVistos.groupby([\"mes\",\"person\"])[\"event\"].size()[4].values/abril)\n",
    "\n",
    "mayoPersons = pd.DataFrame(coloresVistos[coloresVistos[\"mes\"]==5].groupby(\"person\")[\"event\"].size().index)\n",
    "mayoValues =  pd.DataFrame(coloresVistos.groupby([\"mes\",\"person\"])[\"event\"].size()[5].values/mayo)"
   ]
  },
  {
   "cell_type": "code",
   "execution_count": 82,
   "metadata": {},
   "outputs": [],
   "source": [
    "coloresVistosMeanEnero_test = pd.concat([eneroPersons,eneroValues], axis = 1).rename(columns = {0:'coloresVistosMean_enero'})\n",
    "coloresVistosMeanEnero_test.to_csv(\"coloresVistosMeanEnero_test.csv\",index = False)\n",
    "\n",
    "coloresVistosMeanFebrero_test = pd.concat([febreroPersons,febreroValues], axis = 1).rename(columns = {0:'coloresVistosMean_febrero'})\n",
    "coloresVistosMeanFebrero_test.to_csv(\"coloresVistosMeanFebrero_test.csv\",index = False)\n",
    "\n",
    "coloresVistosMeanMarzo_test = pd.concat([marzoPersons,marzoValues], axis = 1).rename(columns = {0:'coloresVistosMean_marzo'})\n",
    "coloresVistosMeanMarzo_test.to_csv(\"coloresVistosMeanMarzo_test.csv\",index = False)\n",
    "\n",
    "coloresVistosMeanAbril_test = pd.concat([abrilPersons, abrilValues], axis = 1).rename(columns = {0:'coloresVistosMean_abril'})\n",
    "coloresVistosMeanAbril_test.to_csv(\"coloresVistosMeanAbril_test.csv\",index = False)\n",
    "\n",
    "coloresVistosMeanMayo_test = pd.concat([mayoPersons,mayoValues], axis = 1).rename(columns = {0:'coloresVistosMean_mayo'})\n",
    "coloresVistosMeanMayo_test.to_csv(\"coloresVistosMeanMayo_test.csv\",index = False)"
   ]
  },
  {
   "cell_type": "markdown",
   "metadata": {},
   "source": [
    "## Si es usuario recurrente o nuevo"
   ]
  },
  {
   "cell_type": "code",
   "execution_count": 83,
   "metadata": {},
   "outputs": [],
   "source": [
    "recurrencia = aPredecir[aPredecir[\"event\"] == \"visited site\"].sort_values(by = \"person\")"
   ]
  },
  {
   "cell_type": "code",
   "execution_count": 84,
   "metadata": {},
   "outputs": [],
   "source": [
    "recurrencia[\"new_vs_returning\"] = recurrencia[\"new_vs_returning\"] == \"Returning\""
   ]
  },
  {
   "cell_type": "code",
   "execution_count": 85,
   "metadata": {},
   "outputs": [],
   "source": [
    "recurrencia[recurrencia[\"mes\"] ==1].to_csv(\"recurrencia_enero.csv\",index = False)\n",
    "recurrencia[recurrencia[\"mes\"] ==2].to_csv(\"recurrencia_febrero.csv\",index = False)\n",
    "recurrencia[recurrencia[\"mes\"] ==3].to_csv(\"recurrencia_marzo.csv\",index = False)\n",
    "recurrencia[recurrencia[\"mes\"] ==4].to_csv(\"recurrencia_abril.csv\",index = False)\n",
    "recurrencia[recurrencia[\"mes\"] ==5].to_csv(\"recurrencia_mayo.csv\",index = False)"
   ]
  },
  {
   "cell_type": "markdown",
   "metadata": {},
   "source": [
    "## Filtrado de la ciudad del usuario por periodo\n",
    " "
   ]
  },
  {
   "cell_type": "code",
   "execution_count": 86,
   "metadata": {},
   "outputs": [],
   "source": [
    "cities = aPredecir[aPredecir[\"event\"] == \"visited site\"].sort_values(by = \"timestamp\")"
   ]
  },
  {
   "cell_type": "code",
   "execution_count": 87,
   "metadata": {},
   "outputs": [],
   "source": [
    "#Filtro por las mas importantes\n",
    "citiesPopulares = cities[\"city\"].value_counts().nlargest(5).index"
   ]
  },
  {
   "cell_type": "code",
   "execution_count": 88,
   "metadata": {},
   "outputs": [],
   "source": [
    "for city in citiesPopulares:\n",
    "    cities[city] = (cities['city'] == city).astype(bool)"
   ]
  },
  {
   "cell_type": "code",
   "execution_count": 89,
   "metadata": {},
   "outputs": [],
   "source": [
    "cities = cities.rename(columns = {\"Unknown\" : \"ciudad_Nan\"})"
   ]
  },
  {
   "cell_type": "code",
   "execution_count": 90,
   "metadata": {},
   "outputs": [],
   "source": [
    "cities = pd.concat([cities[[\"mes\",\"person\"]],cities.iloc[:,26:]],axis=1)"
   ]
  },
  {
   "cell_type": "code",
   "execution_count": 91,
   "metadata": {},
   "outputs": [],
   "source": [
    "cities[cities[\"mes\"] == 1].to_csv(\"cities_enero_test.csv\",index=False)\n",
    "cities[cities[\"mes\"] == 2].to_csv(\"cities_febrero_test.csv\",index=False)\n",
    "cities[cities[\"mes\"] == 3].to_csv(\"cities_marzo_test.csv\",index=False)\n",
    "cities[cities[\"mes\"] == 4].to_csv(\"cities_abril_test.csv\",index=False)\n",
    "cities[cities[\"mes\"] == 5].to_csv(\"cities_mayo_test.csv\",index=False)"
   ]
  },
  {
   "cell_type": "markdown",
   "metadata": {},
   "source": [
    "## Filtrado del pais del usuario \n",
    " "
   ]
  },
  {
   "cell_type": "code",
   "execution_count": 28,
   "metadata": {},
   "outputs": [],
   "source": [
    "countries = aPredecir[aPredecir[\"event\"] == \"visited site\"].sort_values(by = \"timestamp\")"
   ]
  },
  {
   "cell_type": "code",
   "execution_count": 29,
   "metadata": {},
   "outputs": [],
   "source": [
    "#Filtro por los mas importantes\n",
    "countriesPopulares = countries[\"country\"].value_counts().nlargest(5).index"
   ]
  },
  {
   "cell_type": "code",
   "execution_count": 30,
   "metadata": {},
   "outputs": [],
   "source": [
    "for country in countriesPopulares:\n",
    "    countries[country] = (countries['country'] == country).astype(bool)"
   ]
  },
  {
   "cell_type": "code",
   "execution_count": 31,
   "metadata": {},
   "outputs": [],
   "source": [
    "countries = countries.rename(columns = {\"Unknown\" : \"country_Nan\"})\n"
   ]
  },
  {
   "cell_type": "code",
   "execution_count": 32,
   "metadata": {},
   "outputs": [],
   "source": [
    "countries = pd.concat([countries[[\"mes\",\"person\"]],countries.iloc[:,24:]],axis=1)"
   ]
  },
  {
   "cell_type": "code",
   "execution_count": 33,
   "metadata": {},
   "outputs": [],
   "source": [
    "countries.to_csv(\"country_test.csv\",index =False)"
   ]
  },
  {
   "cell_type": "code",
   "execution_count": null,
   "metadata": {},
   "outputs": [],
   "source": []
  },
  {
   "cell_type": "markdown",
   "metadata": {},
   "source": [
    "## Filtrado de la resolucion de telefono"
   ]
  },
  {
   "cell_type": "code",
   "execution_count": 42,
   "metadata": {},
   "outputs": [],
   "source": [
    "resolucion_telefono = aPredecir[aPredecir[\"event\"] == \"visited site\"].sort_values(by = \"timestamp\")"
   ]
  },
  {
   "cell_type": "code",
   "execution_count": 43,
   "metadata": {},
   "outputs": [],
   "source": [
    "resolucion_popular = resolucion_telefono[\"screen_resolution\"].value_counts().nlargest(10).index"
   ]
  },
  {
   "cell_type": "code",
   "execution_count": 44,
   "metadata": {},
   "outputs": [],
   "source": [
    "for reso in resolucion_popular:\n",
    "    resolucion_telefono[reso] = (resolucion_telefono['screen_resolution'] == reso).astype(bool)"
   ]
  },
  {
   "cell_type": "code",
   "execution_count": 45,
   "metadata": {},
   "outputs": [],
   "source": [
    "resolucion_telefono = pd.concat([resolucion_telefono[[\"mes\",\"person\"]],resolucion_telefono.iloc[:,24:]],axis=1)"
   ]
  },
  {
   "cell_type": "code",
   "execution_count": 46,
   "metadata": {},
   "outputs": [],
   "source": [
    "resolucion_telefono[resolucion_telefono[\"mes\"] == 1].to_csv(\"resolucion_enero_test.csv\",index = False)\n",
    "resolucion_telefono[resolucion_telefono[\"mes\"] == 2].to_csv(\"resolucion_febrero_test.csv\",index = False)\n",
    "resolucion_telefono[resolucion_telefono[\"mes\"] == 3].to_csv(\"resolucion_marzo_test.csv\",index = False)\n",
    "resolucion_telefono[resolucion_telefono[\"mes\"] == 4].to_csv(\"resolucion_abril_test.csv\",index = False)\n",
    "resolucion_telefono[resolucion_telefono[\"mes\"] == 5].to_csv(\"resolucion_mayo_test.csv\",index = False)"
   ]
  },
  {
   "cell_type": "markdown",
   "metadata": {},
   "source": [
    "## Encoding de search_term"
   ]
  },
  {
   "cell_type": "code",
   "execution_count": 103,
   "metadata": {},
   "outputs": [],
   "source": [
    "search_terms = aPredecir[aPredecir[\"event\"] == \"searched products\"].sort_values(by = \"timestamp\")"
   ]
  },
  {
   "cell_type": "code",
   "execution_count": 104,
   "metadata": {},
   "outputs": [],
   "source": [
    "search_terms[\"search_term\"] = search_terms[\"search_term\"].map(lambda x: str(x).split()[0]).str.lower()"
   ]
  },
  {
   "cell_type": "code",
   "execution_count": 105,
   "metadata": {},
   "outputs": [],
   "source": [
    "search_terms = search_terms[search_terms[\"search_term\"]!=\"nan\"]"
   ]
  },
  {
   "cell_type": "code",
   "execution_count": 106,
   "metadata": {},
   "outputs": [],
   "source": [
    "f = h.fit_transform(search_terms['search_term'])\n",
    "searchsEncode = pd.DataFrame(f.toarray())"
   ]
  },
  {
   "cell_type": "code",
   "execution_count": 107,
   "metadata": {},
   "outputs": [],
   "source": [
    "searchsEncode = searchsEncode.T.mean()+0.2"
   ]
  },
  {
   "cell_type": "code",
   "execution_count": 108,
   "metadata": {},
   "outputs": [],
   "source": [
    "search_terms[\"search_term\"] = searchsEncode.values"
   ]
  },
  {
   "cell_type": "code",
   "execution_count": 109,
   "metadata": {},
   "outputs": [],
   "source": [
    "search_terms = search_terms[[\"mes\",\"person\",\"search_term\"]]"
   ]
  },
  {
   "cell_type": "code",
   "execution_count": 110,
   "metadata": {},
   "outputs": [],
   "source": [
    "search_terms.to_csv(\"search_terms_test.csv\",index = False)"
   ]
  },
  {
   "cell_type": "markdown",
   "metadata": {},
   "source": [
    "## Encoding de model"
   ]
  },
  {
   "cell_type": "code",
   "execution_count": null,
   "metadata": {},
   "outputs": [],
   "source": []
  },
  {
   "cell_type": "markdown",
   "metadata": {},
   "source": [
    "## Encoding de storage"
   ]
  },
  {
   "cell_type": "markdown",
   "metadata": {},
   "source": []
  },
  {
   "cell_type": "code",
   "execution_count": null,
   "metadata": {},
   "outputs": [],
   "source": []
  },
  {
   "cell_type": "code",
   "execution_count": null,
   "metadata": {},
   "outputs": [],
   "source": []
  },
  {
   "cell_type": "code",
   "execution_count": null,
   "metadata": {},
   "outputs": [],
   "source": []
  },
  {
   "cell_type": "code",
   "execution_count": null,
   "metadata": {},
   "outputs": [],
   "source": []
  },
  {
   "cell_type": "code",
   "execution_count": null,
   "metadata": {},
   "outputs": [],
   "source": []
  },
  {
   "cell_type": "code",
   "execution_count": null,
   "metadata": {},
   "outputs": [],
   "source": []
  },
  {
   "cell_type": "code",
   "execution_count": null,
   "metadata": {},
   "outputs": [],
   "source": []
  },
  {
   "cell_type": "code",
   "execution_count": null,
   "metadata": {},
   "outputs": [],
   "source": []
  },
  {
   "cell_type": "code",
   "execution_count": null,
   "metadata": {},
   "outputs": [],
   "source": []
  },
  {
   "cell_type": "code",
   "execution_count": null,
   "metadata": {},
   "outputs": [],
   "source": []
  },
  {
   "cell_type": "code",
   "execution_count": null,
   "metadata": {},
   "outputs": [],
   "source": []
  },
  {
   "cell_type": "code",
   "execution_count": null,
   "metadata": {},
   "outputs": [],
   "source": []
  },
  {
   "cell_type": "code",
   "execution_count": null,
   "metadata": {},
   "outputs": [],
   "source": []
  },
  {
   "cell_type": "code",
   "execution_count": null,
   "metadata": {},
   "outputs": [],
   "source": []
  },
  {
   "cell_type": "code",
   "execution_count": null,
   "metadata": {},
   "outputs": [],
   "source": []
  },
  {
   "cell_type": "code",
   "execution_count": null,
   "metadata": {},
   "outputs": [],
   "source": []
  }
 ],
 "metadata": {
  "kernelspec": {
   "display_name": "Python 3",
   "language": "python",
   "name": "python3"
  }
 },
 "nbformat": 4,
 "nbformat_minor": 2
}

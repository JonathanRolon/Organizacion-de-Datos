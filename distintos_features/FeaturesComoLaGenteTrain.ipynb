{
 "cells": [
  {
   "cell_type": "code",
   "execution_count": 2,
   "metadata": {},
   "outputs": [],
   "source": [
    "import datetime\n",
    "import numpy as np\n",
    "import pandas as pd\n",
    "from dateutil.parser import parse\n",
    "import pytz"
   ]
  },
  {
   "cell_type": "code",
   "execution_count": 5,
   "metadata": {},
   "outputs": [],
   "source": [
    "trocafone =  pd.read_csv(\"trocafone_kaggle_test.csv\")\n",
    "events = pd.read_csv(\"events_up_to_01062018.csv\",dtype = {3: object,5: object,\n",
    "                    6: object,7: object,\n",
    "                    8: object,9: object,\n",
    "                    10: object,11: object,\n",
    "                    12: object,13: object,\n",
    "                    14: object,15: object,\n",
    "                    16: object,17: object,\n",
    "                    18: object,19: object,\n",
    "                    20: object,21: object,\n",
    "                    22: object})\n",
    "labels = pd.read_csv(\"labels_training_set.csv\")"
   ]
  },
  {
   "cell_type": "code",
   "execution_count": 6,
   "metadata": {},
   "outputs": [],
   "source": [
    "converted = pd.merge(labels,events,on=\"person\",how = \"inner\")"
   ]
  },
  {
   "cell_type": "code",
   "execution_count": 7,
   "metadata": {},
   "outputs": [],
   "source": [
    "converted[\"timestamp\"] = pd.to_datetime(converted[\"timestamp\"])"
   ]
  },
  {
   "cell_type": "code",
   "execution_count": 32,
   "metadata": {},
   "outputs": [
    {
     "name": "stderr",
     "output_type": "stream",
     "text": [
      "/home/jonathan/anaconda3/lib/python3.6/site-packages/ipykernel_launcher.py:2: FutureWarning: `weekday_name` is deprecated and will be removed in a future version. Use `day_name` instead\n",
      "  \n"
     ]
    }
   ],
   "source": [
    "converted['mes'] = converted['timestamp'].apply(lambda d: d.month)\n",
    "converted['dia_de_la_semana'] = converted['timestamp'].apply(lambda d: d.weekday_name)"
   ]
  },
  {
   "cell_type": "code",
   "execution_count": 33,
   "metadata": {},
   "outputs": [],
   "source": [
    "def change_column_order(df, col_name, index):\n",
    "    cols = df.columns.tolist()\n",
    "    cols.remove(col_name)\n",
    "    cols.insert(index, col_name)\n",
    "    return df[cols]"
   ]
  },
  {
   "cell_type": "code",
   "execution_count": null,
   "metadata": {},
   "outputs": [],
   "source": [
    "converted = change_column_order(converted,\"mes\",0)\n",
    "converted = change_column_order(converted,\"dia_de_la_semana\",1)"
   ]
  },
  {
   "cell_type": "code",
   "execution_count": 38,
   "metadata": {},
   "outputs": [],
   "source": [
    "converted = change_column_order(converted,\"label\",25)"
   ]
  },
  {
   "cell_type": "code",
   "execution_count": 4,
   "metadata": {},
   "outputs": [
    {
     "ename": "NameError",
     "evalue": "name 'converted' is not defined",
     "output_type": "error",
     "traceback": [
      "\u001b[0;31m---------------------------------------------------------------------------\u001b[0m",
      "\u001b[0;31mNameError\u001b[0m                                 Traceback (most recent call last)",
      "\u001b[0;32m<ipython-input-4-875f78a6863f>\u001b[0m in \u001b[0;36m<module>\u001b[0;34m()\u001b[0m\n\u001b[0;32m----> 1\u001b[0;31m \u001b[0mconverted\u001b[0m\u001b[0;34m.\u001b[0m\u001b[0mto_csv\u001b[0m\u001b[0;34m(\u001b[0m\u001b[0;34m\"converted.csv\"\u001b[0m\u001b[0;34m,\u001b[0m\u001b[0mindex\u001b[0m \u001b[0;34m=\u001b[0m \u001b[0;32mFalse\u001b[0m\u001b[0;34m)\u001b[0m\u001b[0;34m\u001b[0m\u001b[0m\n\u001b[0m",
      "\u001b[0;31mNameError\u001b[0m: name 'converted' is not defined"
     ]
    }
   ],
   "source": [
    "converted.to_csv(\"converted.csv\",index = False)"
   ]
  },
  {
   "cell_type": "code",
   "execution_count": 23,
   "metadata": {},
   "outputs": [],
   "source": [
    "#Promedio de conversiones pasadas por cada usuario\n",
    "#sku mas comprados\n",
    "#agregar columna date block num que indique en donde estamos parados\n",
    "#Cantidad de unidades vendidas promedio por periodo de tiempo elegido\n",
    "#ranking de celulares mas vendidos\n",
    "#ranking de colores mas vistos"
   ]
  },
  {
   "cell_type": "code",
   "execution_count": 21,
   "metadata": {},
   "outputs": [],
   "source": [
    "#converted.to_csv(\"backup_converted\",index = False)"
   ]
  },
  {
   "cell_type": "code",
   "execution_count": 24,
   "metadata": {},
   "outputs": [],
   "source": [
    "#converted = converted.sort_values(by = [\"month\",\"day of week\", \"hour\"])"
   ]
  },
  {
   "cell_type": "code",
   "execution_count": 17,
   "metadata": {},
   "outputs": [],
   "source": [
    "#converted = pd.read_csv(\"converted.csv\").drop(columns = [\"hour\"])"
   ]
  },
  {
   "cell_type": "code",
   "execution_count": 19,
   "metadata": {},
   "outputs": [],
   "source": [
    "#Solo una parte de los que convierten antes de junio convierten tambien en junio  y esto es de esperarse"
   ]
  },
  {
   "cell_type": "code",
   "execution_count": 4,
   "metadata": {},
   "outputs": [
    {
     "data": {
      "text/plain": [
       "(3564, 24)"
      ]
     },
     "execution_count": 4,
     "metadata": {},
     "output_type": "execute_result"
    }
   ],
   "source": [
    "converted[converted[\"event\"] == \"conversion\"].shape"
   ]
  },
  {
   "cell_type": "code",
   "execution_count": 1,
   "metadata": {},
   "outputs": [
    {
     "ename": "NameError",
     "evalue": "name 'pd' is not defined",
     "output_type": "error",
     "traceback": [
      "\u001b[0;31m---------------------------------------------------------------------------\u001b[0m",
      "\u001b[0;31mNameError\u001b[0m                                 Traceback (most recent call last)",
      "\u001b[0;32m<ipython-input-1-a1c5b097872e>\u001b[0m in \u001b[0;36m<module>\u001b[0;34m()\u001b[0m\n\u001b[0;32m----> 1\u001b[0;31m \u001b[0mconverted\u001b[0m \u001b[0;34m=\u001b[0m \u001b[0mpd\u001b[0m\u001b[0;34m.\u001b[0m\u001b[0mread_csv\u001b[0m\u001b[0;34m(\u001b[0m\u001b[0;34m\"converted.csv\"\u001b[0m\u001b[0;34m)\u001b[0m\u001b[0;34m\u001b[0m\u001b[0m\n\u001b[0m",
      "\u001b[0;31mNameError\u001b[0m: name 'pd' is not defined"
     ]
    }
   ],
   "source": [
    "converted = pd.read_csv(\"converted.csv\")"
   ]
  },
  {
   "cell_type": "code",
   "execution_count": 30,
   "metadata": {},
   "outputs": [
    {
     "data": {
      "text/html": [
       "<div>\n",
       "<style scoped>\n",
       "    .dataframe tbody tr th:only-of-type {\n",
       "        vertical-align: middle;\n",
       "    }\n",
       "\n",
       "    .dataframe tbody tr th {\n",
       "        vertical-align: top;\n",
       "    }\n",
       "\n",
       "    .dataframe thead th {\n",
       "        text-align: right;\n",
       "    }\n",
       "</style>\n",
       "<table border=\"1\" class=\"dataframe\">\n",
       "  <thead>\n",
       "    <tr style=\"text-align: right;\">\n",
       "      <th></th>\n",
       "      <th>mes</th>\n",
       "      <th>dia_de_la_semana</th>\n",
       "      <th>person</th>\n",
       "      <th>timestamp</th>\n",
       "      <th>event</th>\n",
       "      <th>url</th>\n",
       "      <th>sku</th>\n",
       "      <th>model</th>\n",
       "      <th>condition</th>\n",
       "      <th>storage</th>\n",
       "      <th>...</th>\n",
       "      <th>channel</th>\n",
       "      <th>new_vs_returning</th>\n",
       "      <th>city</th>\n",
       "      <th>region</th>\n",
       "      <th>country</th>\n",
       "      <th>device_type</th>\n",
       "      <th>screen_resolution</th>\n",
       "      <th>operating_system_version</th>\n",
       "      <th>browser_version</th>\n",
       "      <th>label</th>\n",
       "    </tr>\n",
       "  </thead>\n",
       "  <tbody>\n",
       "    <tr>\n",
       "      <th>542023</th>\n",
       "      <td>5</td>\n",
       "      <td>Thursday</td>\n",
       "      <td>0008ed71</td>\n",
       "      <td>2018-05-17 12:27:47</td>\n",
       "      <td>checkout</td>\n",
       "      <td>NaN</td>\n",
       "      <td>3372.0</td>\n",
       "      <td>Samsung Galaxy S6 Flat</td>\n",
       "      <td>Muito Bom</td>\n",
       "      <td>32GB</td>\n",
       "      <td>...</td>\n",
       "      <td>NaN</td>\n",
       "      <td>NaN</td>\n",
       "      <td>NaN</td>\n",
       "      <td>NaN</td>\n",
       "      <td>NaN</td>\n",
       "      <td>NaN</td>\n",
       "      <td>NaN</td>\n",
       "      <td>NaN</td>\n",
       "      <td>NaN</td>\n",
       "      <td>0</td>\n",
       "    </tr>\n",
       "    <tr>\n",
       "      <th>542026</th>\n",
       "      <td>5</td>\n",
       "      <td>Thursday</td>\n",
       "      <td>0008ed71</td>\n",
       "      <td>2018-05-17 13:44:59</td>\n",
       "      <td>visited site</td>\n",
       "      <td>NaN</td>\n",
       "      <td>NaN</td>\n",
       "      <td>NaN</td>\n",
       "      <td>NaN</td>\n",
       "      <td>NaN</td>\n",
       "      <td>...</td>\n",
       "      <td>Referral</td>\n",
       "      <td>New</td>\n",
       "      <td>Unknown</td>\n",
       "      <td>Unknown</td>\n",
       "      <td>Brazil</td>\n",
       "      <td>Computer</td>\n",
       "      <td>1920x1080</td>\n",
       "      <td>Windows 10</td>\n",
       "      <td>Chrome 66.0</td>\n",
       "      <td>0</td>\n",
       "    </tr>\n",
       "    <tr>\n",
       "      <th>542024</th>\n",
       "      <td>5</td>\n",
       "      <td>Thursday</td>\n",
       "      <td>0008ed71</td>\n",
       "      <td>2018-05-17 13:45:00</td>\n",
       "      <td>checkout</td>\n",
       "      <td>NaN</td>\n",
       "      <td>8247.0</td>\n",
       "      <td>iPhone SE</td>\n",
       "      <td>Bom</td>\n",
       "      <td>64GB</td>\n",
       "      <td>...</td>\n",
       "      <td>NaN</td>\n",
       "      <td>NaN</td>\n",
       "      <td>NaN</td>\n",
       "      <td>NaN</td>\n",
       "      <td>NaN</td>\n",
       "      <td>NaN</td>\n",
       "      <td>NaN</td>\n",
       "      <td>NaN</td>\n",
       "      <td>NaN</td>\n",
       "      <td>0</td>\n",
       "    </tr>\n",
       "    <tr>\n",
       "      <th>542027</th>\n",
       "      <td>5</td>\n",
       "      <td>Thursday</td>\n",
       "      <td>0008ed71</td>\n",
       "      <td>2018-05-17 16:21:54</td>\n",
       "      <td>visited site</td>\n",
       "      <td>NaN</td>\n",
       "      <td>NaN</td>\n",
       "      <td>NaN</td>\n",
       "      <td>NaN</td>\n",
       "      <td>NaN</td>\n",
       "      <td>...</td>\n",
       "      <td>Referral</td>\n",
       "      <td>Returning</td>\n",
       "      <td>Unknown</td>\n",
       "      <td>Unknown</td>\n",
       "      <td>Brazil</td>\n",
       "      <td>Computer</td>\n",
       "      <td>1920x1080</td>\n",
       "      <td>Windows 10</td>\n",
       "      <td>Chrome 66.0</td>\n",
       "      <td>0</td>\n",
       "    </tr>\n",
       "    <tr>\n",
       "      <th>542025</th>\n",
       "      <td>5</td>\n",
       "      <td>Thursday</td>\n",
       "      <td>0008ed71</td>\n",
       "      <td>2018-05-17 16:22:06</td>\n",
       "      <td>generic listing</td>\n",
       "      <td>NaN</td>\n",
       "      <td>NaN</td>\n",
       "      <td>NaN</td>\n",
       "      <td>NaN</td>\n",
       "      <td>NaN</td>\n",
       "      <td>...</td>\n",
       "      <td>NaN</td>\n",
       "      <td>NaN</td>\n",
       "      <td>NaN</td>\n",
       "      <td>NaN</td>\n",
       "      <td>NaN</td>\n",
       "      <td>NaN</td>\n",
       "      <td>NaN</td>\n",
       "      <td>NaN</td>\n",
       "      <td>NaN</td>\n",
       "      <td>0</td>\n",
       "    </tr>\n",
       "  </tbody>\n",
       "</table>\n",
       "<p>5 rows × 26 columns</p>\n",
       "</div>"
      ],
      "text/plain": [
       "        mes dia_de_la_semana    person            timestamp            event  \\\n",
       "542023    5         Thursday  0008ed71  2018-05-17 12:27:47         checkout   \n",
       "542026    5         Thursday  0008ed71  2018-05-17 13:44:59     visited site   \n",
       "542024    5         Thursday  0008ed71  2018-05-17 13:45:00         checkout   \n",
       "542027    5         Thursday  0008ed71  2018-05-17 16:21:54     visited site   \n",
       "542025    5         Thursday  0008ed71  2018-05-17 16:22:06  generic listing   \n",
       "\n",
       "        url     sku                   model  condition storage  ...   \\\n",
       "542023  NaN  3372.0  Samsung Galaxy S6 Flat  Muito Bom    32GB  ...    \n",
       "542026  NaN     NaN                     NaN        NaN     NaN  ...    \n",
       "542024  NaN  8247.0               iPhone SE        Bom    64GB  ...    \n",
       "542027  NaN     NaN                     NaN        NaN     NaN  ...    \n",
       "542025  NaN     NaN                     NaN        NaN     NaN  ...    \n",
       "\n",
       "         channel new_vs_returning     city   region country device_type  \\\n",
       "542023       NaN              NaN      NaN      NaN     NaN         NaN   \n",
       "542026  Referral              New  Unknown  Unknown  Brazil    Computer   \n",
       "542024       NaN              NaN      NaN      NaN     NaN         NaN   \n",
       "542027  Referral        Returning  Unknown  Unknown  Brazil    Computer   \n",
       "542025       NaN              NaN      NaN      NaN     NaN         NaN   \n",
       "\n",
       "       screen_resolution operating_system_version browser_version label  \n",
       "542023               NaN                      NaN             NaN     0  \n",
       "542026         1920x1080              Windows 10      Chrome 66.0     0  \n",
       "542024               NaN                      NaN             NaN     0  \n",
       "542027         1920x1080              Windows 10      Chrome 66.0     0  \n",
       "542025               NaN                      NaN             NaN     0  \n",
       "\n",
       "[5 rows x 26 columns]"
      ]
     },
     "execution_count": 30,
     "metadata": {},
     "output_type": "execute_result"
    }
   ],
   "source": [
    "converted.head()"
   ]
  },
  {
   "cell_type": "code",
   "execution_count": 31,
   "metadata": {},
   "outputs": [],
   "source": []
  },
  {
   "cell_type": "code",
   "execution_count": null,
   "metadata": {},
   "outputs": [],
   "source": []
  },
  {
   "cell_type": "code",
   "execution_count": null,
   "metadata": {},
   "outputs": [],
   "source": []
  },
  {
   "cell_type": "code",
   "execution_count": null,
   "metadata": {},
   "outputs": [],
   "source": []
  },
  {
   "cell_type": "code",
   "execution_count": null,
   "metadata": {},
   "outputs": [],
   "source": []
  },
  {
   "cell_type": "code",
   "execution_count": null,
   "metadata": {},
   "outputs": [],
   "source": []
  },
  {
   "cell_type": "markdown",
   "metadata": {},
   "source": [
    "## 1. Cantidad promedio de visitas al sitio por mes"
   ]
  },
  {
   "cell_type": "code",
   "execution_count": 34,
   "metadata": {},
   "outputs": [],
   "source": [
    "visitasPromedio = converted[converted[\"event\"] == \"visited site\"].sort_values(by=[\"timestamp\"])"
   ]
  },
  {
   "cell_type": "code",
   "execution_count": 35,
   "metadata": {},
   "outputs": [],
   "source": [
    "visitasPromedio = visitasPromedio[[\"timestamp\",\"mes\",\"dia_de_la_semana\",\"person\",\"event\"]]"
   ]
  },
  {
   "cell_type": "code",
   "execution_count": 43,
   "metadata": {},
   "outputs": [],
   "source": [
    "enero = visitasPromedio[visitasPromedio[\"mes\"] == 1][\"event\"].size\n",
    "febrero = visitasPromedio[visitasPromedio[\"mes\"] == 2][\"event\"].size\n",
    "marzo = visitasPromedio[visitasPromedio[\"mes\"] == 3][\"event\"].size\n",
    "abril = visitasPromedio[visitasPromedio[\"mes\"] == 4][\"event\"].size\n",
    "mayo = visitasPromedio[visitasPromedio[\"mes\"] == 5][\"event\"].size"
   ]
  },
  {
   "cell_type": "code",
   "execution_count": 134,
   "metadata": {},
   "outputs": [],
   "source": [
    "eneroPersons = pd.DataFrame(visitasPromedio[visitasPromedio[\"mes\"]==1].groupby(\"person\")[\"event\"].size().index)\n",
    "eneroValues =  pd.DataFrame(visitasPromedio.groupby([\"mes\",\"person\"])[\"event\"].size()[1].values/enero)"
   ]
  },
  {
   "cell_type": "code",
   "execution_count": 135,
   "metadata": {},
   "outputs": [],
   "source": [
    "febreroPersons = pd.DataFrame(visitasPromedio[visitasPromedio[\"mes\"]==2].groupby(\"person\")[\"event\"].size().index)\n",
    "febreroValues =  pd.DataFrame(visitasPromedio.groupby([\"mes\",\"person\"])[\"event\"].size()[2].values/febrero)"
   ]
  },
  {
   "cell_type": "code",
   "execution_count": 136,
   "metadata": {},
   "outputs": [],
   "source": [
    "marzoPersons = pd.DataFrame(visitasPromedio[visitasPromedio[\"mes\"]==3].groupby(\"person\")[\"event\"].size().index)\n",
    "marzoValues =  pd.DataFrame(visitasPromedio.groupby([\"mes\",\"person\"])[\"event\"].size()[3].values/marzo)"
   ]
  },
  {
   "cell_type": "code",
   "execution_count": 137,
   "metadata": {},
   "outputs": [],
   "source": [
    "abrilPersons = pd.DataFrame(visitasPromedio[visitasPromedio[\"mes\"]==4].groupby(\"person\")[\"event\"].size().index)\n",
    "abrilValues =  pd.DataFrame(visitasPromedio.groupby([\"mes\",\"person\"])[\"event\"].size()[4].values/abril)"
   ]
  },
  {
   "cell_type": "code",
   "execution_count": 138,
   "metadata": {},
   "outputs": [],
   "source": [
    "mayoPersons = pd.DataFrame(visitasPromedio[visitasPromedio[\"mes\"]==5].groupby(\"person\")[\"event\"].size().index)\n",
    "mayoValues =  pd.DataFrame(visitasPromedio.groupby([\"mes\",\"person\"])[\"event\"].size()[5].values/mayo)"
   ]
  },
  {
   "cell_type": "code",
   "execution_count": 139,
   "metadata": {},
   "outputs": [],
   "source": [
    "#concatenacion y guardado "
   ]
  },
  {
   "cell_type": "code",
   "execution_count": 140,
   "metadata": {},
   "outputs": [],
   "source": [
    "visitasMeanEnero_train = pd.concat([eneroPersons,eneroValues], axis = 1).rename(columns = {0:'visitasPromedio_enero'})\n",
    "visitasMeanEnero_train.to_csv(\"visitasMeanEnero_train.csv\",index = False)"
   ]
  },
  {
   "cell_type": "code",
   "execution_count": 141,
   "metadata": {},
   "outputs": [],
   "source": [
    "visitasMeanFebrero_train = pd.concat([febreroPersons,febreroValues], axis = 1).rename(columns = {0:'visitasPromedio_febrero'})\n",
    "visitasMeanFebrero_train.to_csv(\"visitasMeanFebrero_train.csv\",index = False)"
   ]
  },
  {
   "cell_type": "code",
   "execution_count": 142,
   "metadata": {},
   "outputs": [],
   "source": [
    "visitasMeanMarzo_train = pd.concat([marzoPersons,marzoValues], axis = 1).rename(columns = {0:'visitasPromedio_marzo'})\n",
    "visitasMeanMarzo_train.to_csv(\"visitasMeanMarzo_train.csv\",index = False)"
   ]
  },
  {
   "cell_type": "code",
   "execution_count": 144,
   "metadata": {},
   "outputs": [],
   "source": [
    "visitasMeanAbril_train = pd.concat([abrilPersons, abrilValues], axis = 1).rename(columns = {0:'visitasPromedio_abril'})\n",
    "visitasMeanAbril_train.to_csv(\"visitasMeanAbril_train.csv\",index = False)"
   ]
  },
  {
   "cell_type": "code",
   "execution_count": 145,
   "metadata": {},
   "outputs": [],
   "source": [
    "visitasMeanMayo_train = pd.concat([mayoPersons,mayoValues], axis = 1).rename(columns = {0:'visitasPromedio_mayo'})\n",
    "visitasMeanMayo_train.to_csv(\"visitasMeanMayo_train.csv\",index = False)"
   ]
  },
  {
   "cell_type": "markdown",
   "metadata": {},
   "source": [
    "## 2. Cantidad promedio de listados visitados por mes"
   ]
  },
  {
   "cell_type": "code",
   "execution_count": 151,
   "metadata": {},
   "outputs": [],
   "source": [
    "listadosVisitadosPromedio = converted[converted[\"event\"] == \"brand listing\"].sort_values(by= \"timestamp\")"
   ]
  },
  {
   "cell_type": "code",
   "execution_count": 152,
   "metadata": {},
   "outputs": [],
   "source": [
    "listadosVisitadosPromedio = listadosVisitadosPromedio[[\"timestamp\",\"mes\",\"dia_de_la_semana\",\"person\",\"event\"]]"
   ]
  },
  {
   "cell_type": "code",
   "execution_count": 153,
   "metadata": {},
   "outputs": [],
   "source": [
    "enero = listadosVisitadosPromedio[listadosVisitadosPromedio[\"mes\"] == 1][\"event\"].size\n",
    "febrero = listadosVisitadosPromedio[listadosVisitadosPromedio[\"mes\"] == 2][\"event\"].size\n",
    "marzo = listadosVisitadosPromedio[listadosVisitadosPromedio[\"mes\"] == 3][\"event\"].size\n",
    "abril = listadosVisitadosPromedio[listadosVisitadosPromedio[\"mes\"] == 4][\"event\"].size\n",
    "mayo = listadosVisitadosPromedio[listadosVisitadosPromedio[\"mes\"] == 5][\"event\"].size"
   ]
  },
  {
   "cell_type": "code",
   "execution_count": 154,
   "metadata": {},
   "outputs": [],
   "source": [
    "eneroPersons = pd.DataFrame(listadosVisitadosPromedio[listadosVisitadosPromedio[\"mes\"]==1].groupby(\"person\")[\"event\"].size().index)\n",
    "eneroValues =  pd.DataFrame(listadosVisitadosPromedio.groupby([\"mes\",\"person\"])[\"event\"].size()[1].values/enero)\n",
    "\n",
    "febreroPersons = pd.DataFrame(listadosVisitadosPromedio[listadosVisitadosPromedio[\"mes\"]==2].groupby(\"person\")[\"event\"].size().index)\n",
    "febreroValues =  pd.DataFrame(listadosVisitadosPromedio.groupby([\"mes\",\"person\"])[\"event\"].size()[2].values/febrero)\n",
    "\n",
    "marzoPersons = pd.DataFrame(listadosVisitadosPromedio[listadosVisitadosPromedio[\"mes\"]==3].groupby(\"person\")[\"event\"].size().index)\n",
    "marzoValues =  pd.DataFrame(listadosVisitadosPromedio.groupby([\"mes\",\"person\"])[\"event\"].size()[3].values/marzo)\n",
    "\n",
    "abrilPersons = pd.DataFrame(listadosVisitadosPromedio[listadosVisitadosPromedio[\"mes\"]==4].groupby(\"person\")[\"event\"].size().index)\n",
    "abrilValues =  pd.DataFrame(listadosVisitadosPromedio.groupby([\"mes\",\"person\"])[\"event\"].size()[4].values/abril)\n",
    "\n",
    "mayoPersons = pd.DataFrame(listadosVisitadosPromedio[listadosVisitadosPromedio[\"mes\"]==5].groupby(\"person\")[\"event\"].size().index)\n",
    "mayoValues =  pd.DataFrame(listadosVisitadosPromedio.groupby([\"mes\",\"person\"])[\"event\"].size()[5].values/mayo)"
   ]
  },
  {
   "cell_type": "code",
   "execution_count": 155,
   "metadata": {},
   "outputs": [],
   "source": [
    "listadosMeanEnero_train = pd.concat([eneroPersons,eneroValues], axis = 1).rename(columns = {0:'listadosPromedio_enero'})\n",
    "listadosMeanEnero_train.to_csv(\"listadosMeanEnero_train.csv\",index = False)\n",
    "\n",
    "listadosMeanFebrero_train = pd.concat([febreroPersons,febreroValues], axis = 1).rename(columns = {0:'listadosPromedio_febrero'})\n",
    "listadosMeanFebrero_train.to_csv(\"listadosMeanFebrero_train.csv\",index = False)\n",
    "\n",
    "listadosMeanMarzo_train = pd.concat([marzoPersons,marzoValues], axis = 1).rename(columns = {0:'listadosPromedio_marzo'})\n",
    "listadosMeanMarzo_train.to_csv(\"listadosMeanMarzo_train.csv\",index = False)\n",
    "\n",
    "listadosMeanAbril_train = pd.concat([abrilPersons, abrilValues], axis = 1).rename(columns = {0:'listadosPromedio_abril'})\n",
    "listadosMeanAbril_train.to_csv(\"listadosMeanAbril_train.csv\",index = False)\n",
    "\n",
    "listadosMeanMayo_train = pd.concat([mayoPersons,mayoValues], axis = 1).rename(columns = {0:'listadosPromedio_mayo'})\n",
    "listadosMeanMayo_train.to_csv(\"listadosMeanMayo_train.csv\",index = False)"
   ]
  },
  {
   "cell_type": "markdown",
   "metadata": {},
   "source": [
    "## 3: Cantidad promedio de productos vistos en el sitio por mes"
   ]
  },
  {
   "cell_type": "code",
   "execution_count": 156,
   "metadata": {},
   "outputs": [],
   "source": [
    "vistosPromedio = converted[converted[\"event\"] == \"viewed product\"].sort_values(by= \"timestamp\")\n",
    "\n",
    "vistosPromedio = vistosPromedio[[\"timestamp\",\"mes\",\"dia_de_la_semana\",\"person\",\"event\"]]\n"
   ]
  },
  {
   "cell_type": "code",
   "execution_count": 157,
   "metadata": {},
   "outputs": [],
   "source": [
    "enero = vistosPromedio[vistosPromedio[\"mes\"] == 1][\"event\"].size\n",
    "febrero = vistosPromedio[vistosPromedio[\"mes\"] == 2][\"event\"].size\n",
    "marzo = vistosPromedio[vistosPromedio[\"mes\"] == 3][\"event\"].size\n",
    "abril = vistosPromedio[vistosPromedio[\"mes\"] == 4][\"event\"].size\n",
    "mayo = vistosPromedio[vistosPromedio[\"mes\"] == 5][\"event\"].size"
   ]
  },
  {
   "cell_type": "code",
   "execution_count": 158,
   "metadata": {},
   "outputs": [],
   "source": [
    "eneroPersons = pd.DataFrame(vistosPromedio[vistosPromedio[\"mes\"]==1].groupby(\"person\")[\"event\"].size().index)\n",
    "eneroValues =  pd.DataFrame(vistosPromedio.groupby([\"mes\",\"person\"])[\"event\"].size()[1].values/enero)\n",
    "\n",
    "febreroPersons = pd.DataFrame(vistosPromedio[vistosPromedio[\"mes\"]==2].groupby(\"person\")[\"event\"].size().index)\n",
    "febreroValues =  pd.DataFrame(vistosPromedio.groupby([\"mes\",\"person\"])[\"event\"].size()[2].values/febrero)\n",
    "\n",
    "marzoPersons = pd.DataFrame(vistosPromedio[vistosPromedio[\"mes\"]==3].groupby(\"person\")[\"event\"].size().index)\n",
    "marzoValues =  pd.DataFrame(vistosPromedio.groupby([\"mes\",\"person\"])[\"event\"].size()[3].values/marzo)\n",
    "\n",
    "abrilPersons = pd.DataFrame(vistosPromedio[vistosPromedio[\"mes\"]==4].groupby(\"person\")[\"event\"].size().index)\n",
    "abrilValues =  pd.DataFrame(vistosPromedio.groupby([\"mes\",\"person\"])[\"event\"].size()[4].values/abril)\n",
    "\n",
    "mayoPersons = pd.DataFrame(vistosPromedio[vistosPromedio[\"mes\"]==5].groupby(\"person\")[\"event\"].size().index)\n",
    "mayoValues =  pd.DataFrame(vistosPromedio.groupby([\"mes\",\"person\"])[\"event\"].size()[5].values/mayo)"
   ]
  },
  {
   "cell_type": "code",
   "execution_count": 159,
   "metadata": {},
   "outputs": [],
   "source": [
    "vistosMeanEnero_train = pd.concat([eneroPersons,eneroValues], axis = 1).rename(columns = {0:'vistosPromedio_enero'})\n",
    "vistosMeanEnero_train.to_csv(\"vistosMeanEnero_train.csv\",index = False)\n",
    "\n",
    "vistosMeanFebrero_train = pd.concat([febreroPersons,febreroValues], axis = 1).rename(columns = {0:'vistosPromedio_febrero'})\n",
    "vistosMeanFebrero_train.to_csv(\"vistosMeanFebrero_train.csv\",index = False)\n",
    "\n",
    "vistosMeanMarzo_train = pd.concat([marzoPersons,marzoValues], axis = 1).rename(columns = {0:'vistosPromedio_marzo'})\n",
    "vistosMeanMarzo_train.to_csv(\"vistosMeanMarzo_train.csv\",index = False)\n",
    "\n",
    "vistosMeanAbril_train = pd.concat([abrilPersons, abrilValues], axis = 1).rename(columns = {0:'vistosPromedio_abril'})\n",
    "vistosMeanAbril_train.to_csv(\"vistosMeanAbril_train.csv\",index = False)\n",
    "\n",
    "vistosMeanMayo_train = pd.concat([mayoPersons,mayoValues], axis = 1).rename(columns = {0:'vistosPromedio_mayo'})\n",
    "vistosMeanMayo_train.to_csv(\"vistosMeanMayo_train.csv\",index = False)"
   ]
  },
  {
   "cell_type": "markdown",
   "metadata": {},
   "source": [
    "## 4:Acceso  por plataforma de campania famosa en el mes"
   ]
  },
  {
   "cell_type": "code",
   "execution_count": 210,
   "metadata": {},
   "outputs": [],
   "source": [
    "campaign_access = converted[converted[\"event\"] == \"ad campaign hit\"].sort_values(by= \"timestamp\")"
   ]
  },
  {
   "cell_type": "code",
   "execution_count": 211,
   "metadata": {},
   "outputs": [],
   "source": [
    "campaign_access = campaign_access[[\"timestamp\",\"mes\",\"dia_de_la_semana\",\"person\",\"event\",\"campaign_source\"]]"
   ]
  },
  {
   "cell_type": "code",
   "execution_count": 212,
   "metadata": {},
   "outputs": [],
   "source": [
    "plataformasFamosas = (campaign_access[\"campaign_source\"].value_counts().nlargest(3).index)"
   ]
  },
  {
   "cell_type": "code",
   "execution_count": 213,
   "metadata": {},
   "outputs": [],
   "source": [
    "for campaign_source in plataformasFamosas:\n",
    "    campaign_access[campaign_source] = (campaign_access['campaign_source'] == campaign_source).astype(bool)"
   ]
  },
  {
   "cell_type": "code",
   "execution_count": 214,
   "metadata": {},
   "outputs": [],
   "source": [
    "campaign_access = campaign_access[[\"mes\",\"person\",\"google\",\"criteo\",\"rtbhouse\"]]"
   ]
  },
  {
   "cell_type": "code",
   "execution_count": 220,
   "metadata": {},
   "outputs": [],
   "source": [
    "campaign_access[campaign_access[\"mes\"] == 1].\\\n",
    "                    rename(columns = {\"google\": \"google_enero\",\"criteo\":\"criteo_enero\",\"rtbhouse\":\"rtbhouse_enero\"})\\\n",
    "                    .to_csv(\"campaign_access_enero_train.csv\",index = False)"
   ]
  },
  {
   "cell_type": "code",
   "execution_count": 221,
   "metadata": {},
   "outputs": [],
   "source": [
    "campaign_access[campaign_access[\"mes\"] == 2].\\\n",
    "                    rename(columns = {\"google\": \"google_febrero\",\"criteo\":\"criteo_febrero\",\"rtbhouse\":\"rtbhouse_febrero\"})\\\n",
    "                    .to_csv(\"campaign_access_febrero_train.csv\",index = False)"
   ]
  },
  {
   "cell_type": "code",
   "execution_count": 222,
   "metadata": {},
   "outputs": [],
   "source": [
    "campaign_access[campaign_access[\"mes\"] == 3].\\\n",
    "                    rename(columns = {\"google\": \"google_marzo\",\"criteo\":\"criteo_marzo\",\"rtbhouse\":\"rtbhouse_marzo\"})\\\n",
    "                    .to_csv(\"campaign_access_marzo_train.csv\",index = False)"
   ]
  },
  {
   "cell_type": "code",
   "execution_count": 223,
   "metadata": {},
   "outputs": [],
   "source": [
    "campaign_access[campaign_access[\"mes\"] == 4].\\\n",
    "                    rename(columns = {\"google\": \"google_abril\",\"criteo\":\"criteo_abril\",\"rtbhouse\":\"rtbhouse_abril\"})\\\n",
    "                    .to_csv(\"campaign_access_abril_train.csv\",index = False)"
   ]
  },
  {
   "cell_type": "code",
   "execution_count": 224,
   "metadata": {},
   "outputs": [],
   "source": [
    "campaign_access[campaign_access[\"mes\"] == 5].\\\n",
    "                    rename(columns = {\"google\": \"google_mayo\",\"criteo\":\"criteo_mayo\",\"rtbhouse\":\"rtbhouse_mayo\"})\\\n",
    "                    .to_csv(\"campaign_access_mayo_train.csv\",index = False)"
   ]
  },
  {
   "cell_type": "markdown",
   "metadata": {},
   "source": [
    "## 5: Cantidad promedio de generic listing por mes"
   ]
  },
  {
   "cell_type": "code",
   "execution_count": 226,
   "metadata": {},
   "outputs": [],
   "source": [
    "visitas_HomePage = converted[converted[\"event\"] == \"generic listing\"].sort_values(by= \"timestamp\")"
   ]
  },
  {
   "cell_type": "code",
   "execution_count": 228,
   "metadata": {},
   "outputs": [],
   "source": [
    "enero = visitas_HomePage [visitas_HomePage [\"mes\"] == 1][\"event\"].size\n",
    "febrero = visitas_HomePage [visitas_HomePage [\"mes\"] == 2][\"event\"].size\n",
    "marzo = visitas_HomePage [visitas_HomePage [\"mes\"] == 3][\"event\"].size\n",
    "abril = visitas_HomePage [visitas_HomePage [\"mes\"] == 4][\"event\"].size\n",
    "mayo = visitas_HomePage [visitas_HomePage [\"mes\"] == 5][\"event\"].size"
   ]
  },
  {
   "cell_type": "code",
   "execution_count": 229,
   "metadata": {},
   "outputs": [],
   "source": [
    "eneroPersons = pd.DataFrame(visitas_HomePage[visitas_HomePage[\"mes\"]==1].groupby(\"person\")[\"event\"].size().index)\n",
    "eneroValues =  pd.DataFrame(visitas_HomePage.groupby([\"mes\",\"person\"])[\"event\"].size()[1].values/enero)\n",
    "\n",
    "febreroPersons = pd.DataFrame(visitas_HomePage[visitas_HomePage[\"mes\"]==2].groupby(\"person\")[\"event\"].size().index)\n",
    "febreroValues =  pd.DataFrame(visitas_HomePage.groupby([\"mes\",\"person\"])[\"event\"].size()[2].values/febrero)\n",
    "\n",
    "marzoPersons = pd.DataFrame(visitas_HomePage[visitas_HomePage[\"mes\"]==3].groupby(\"person\")[\"event\"].size().index)\n",
    "marzoValues =  pd.DataFrame(visitas_HomePage.groupby([\"mes\",\"person\"])[\"event\"].size()[3].values/marzo)\n",
    "\n",
    "abrilPersons = pd.DataFrame(visitas_HomePage[visitas_HomePage[\"mes\"]==4].groupby(\"person\")[\"event\"].size().index)\n",
    "abrilValues =  pd.DataFrame(visitas_HomePage.groupby([\"mes\",\"person\"])[\"event\"].size()[4].values/abril)\n",
    "\n",
    "mayoPersons = pd.DataFrame(visitas_HomePage[visitas_HomePage[\"mes\"]==5].groupby(\"person\")[\"event\"].size().index)\n",
    "mayoValues =  pd.DataFrame(visitas_HomePage.groupby([\"mes\",\"person\"])[\"event\"].size()[5].values/mayo)"
   ]
  },
  {
   "cell_type": "code",
   "execution_count": 231,
   "metadata": {},
   "outputs": [],
   "source": [
    "visitas_HomePageMeanEnero_train = pd.concat([eneroPersons,eneroValues], axis = 1).rename(columns = {0:'visitas_HomePagePromedio_enero'})\n",
    "visitas_HomePageMeanEnero_train.to_csv(\"visitas_HomePageMeanEnero_train.csv\",index = False)\n",
    "\n",
    "visitas_HomePageMeanFebrero_train = pd.concat([febreroPersons,febreroValues], axis = 1).rename(columns = {0:'visitas_HomePagePromedio_febrero'})\n",
    "visitas_HomePageMeanFebrero_train.to_csv(\"visitas_HomePageMeanFebrero_train.csv\",index = False)\n",
    "\n",
    "visitas_HomePageMeanMarzo_train = pd.concat([marzoPersons,marzoValues], axis = 1).rename(columns = {0:'visitas_HomePagePromedio_marzo'})\n",
    "visitas_HomePageMeanMarzo_train.to_csv(\"visitas_HomePageMeanMarzo_train.csv\",index = False)\n",
    "\n",
    "visitas_HomePageMeanAbril_train = pd.concat([abrilPersons, abrilValues], axis = 1).rename(columns = {0:'visitas_HomePagePromedio_abril'})\n",
    "visitas_HomePageMeanAbril_train.to_csv(\"visitas_HomePageMeanAbril_train.csv\",index = False)\n",
    "\n",
    "visitas_HomePageMeanMayo_train = pd.concat([mayoPersons,mayoValues], axis = 1).rename(columns = {0:'visitas_HomePagePromedio_mayo'})\n",
    "visitas_HomePageMeanMayo_train.to_csv(\"visitas_HomePageMeanMayo_train.csv\",index = False)"
   ]
  },
  {
   "cell_type": "markdown",
   "metadata": {},
   "source": [
    "## Cantidad promedio de checkouts por periodo"
   ]
  },
  {
   "cell_type": "code",
   "execution_count": 273,
   "metadata": {},
   "outputs": [],
   "source": [
    "checkouts_promedio = converted[converted[\"event\"] == \"checkout\"].sort_values(by= \"timestamp\")"
   ]
  },
  {
   "cell_type": "code",
   "execution_count": 274,
   "metadata": {},
   "outputs": [],
   "source": [
    "enero = checkouts_promedio [checkouts_promedio [\"mes\"] == 1][\"event\"].size\n",
    "febrero = checkouts_promedio [checkouts_promedio [\"mes\"] == 2][\"event\"].size\n",
    "marzo = checkouts_promedio [checkouts_promedio [\"mes\"] == 3][\"event\"].size\n",
    "abril = checkouts_promedio [checkouts_promedio [\"mes\"] == 4][\"event\"].size\n",
    "mayo = checkouts_promedio [checkouts_promedio [\"mes\"] == 5][\"event\"].size"
   ]
  },
  {
   "cell_type": "code",
   "execution_count": 275,
   "metadata": {},
   "outputs": [],
   "source": [
    "eneroPersons = pd.DataFrame(checkouts_promedio[checkouts_promedio[\"mes\"]==1].groupby(\"person\")[\"event\"].size().index)\n",
    "eneroValues =  pd.DataFrame(checkouts_promedio.groupby([\"mes\",\"person\"])[\"event\"].size()[1].values/enero)\n",
    "\n",
    "febreroPersons = pd.DataFrame(checkouts_promedio[checkouts_promedio[\"mes\"]==2].groupby(\"person\")[\"event\"].size().index)\n",
    "febreroValues =  pd.DataFrame(checkouts_promedio.groupby([\"mes\",\"person\"])[\"event\"].size()[2].values/febrero)\n",
    "\n",
    "marzoPersons = pd.DataFrame(checkouts_promedio[checkouts_promedio[\"mes\"]==3].groupby(\"person\")[\"event\"].size().index)\n",
    "marzoValues =  pd.DataFrame(checkouts_promedio.groupby([\"mes\",\"person\"])[\"event\"].size()[3].values/marzo)\n",
    "\n",
    "abrilPersons = pd.DataFrame(checkouts_promedio[checkouts_promedio[\"mes\"]==4].groupby(\"person\")[\"event\"].size().index)\n",
    "abrilValues =  pd.DataFrame(checkouts_promedio.groupby([\"mes\",\"person\"])[\"event\"].size()[4].values/abril)\n",
    "\n",
    "mayoPersons = pd.DataFrame(checkouts_promedio[checkouts_promedio[\"mes\"]==5].groupby(\"person\")[\"event\"].size().index)\n",
    "mayoValues =  pd.DataFrame(checkouts_promedio.groupby([\"mes\",\"person\"])[\"event\"].size()[5].values/mayo)"
   ]
  },
  {
   "cell_type": "code",
   "execution_count": 276,
   "metadata": {},
   "outputs": [],
   "source": [
    "checkoutsMeanEnero_train = pd.concat([eneroPersons,eneroValues], axis = 1).rename(columns = {0:'checkoutsMean_enero'})\n",
    "checkoutsMeanEnero_train.to_csv(\"checkoutsMeanEnero_train.csv\",index = False)\n",
    "\n",
    "checkoutsMeanFebrero_train = pd.concat([febreroPersons,febreroValues], axis = 1).rename(columns = {0:'checkoutsMean_febrero'})\n",
    "checkoutsMeanFebrero_train.to_csv(\"checkoutsMeanFebrero_train.csv\",index = False)\n",
    "\n",
    "checkoutsMeanMarzo_train = pd.concat([marzoPersons,marzoValues], axis = 1).rename(columns = {0:'checkoutsMean_marzo'})\n",
    "checkoutsMeanMarzo_train.to_csv(\"checkoutsMeanMarzo_train.csv\",index = False)\n",
    "\n",
    "checkoutsMeanAbril_train = pd.concat([abrilPersons, abrilValues], axis = 1).rename(columns = {0:'checkoutsMean_abril'})\n",
    "checkoutsMeanAbril_train.to_csv(\"checkoutsMeanAbril_train.csv\",index = False)\n",
    "\n",
    "checkoutsMeanMayo_train = pd.concat([mayoPersons,mayoValues], axis = 1).rename(columns = {0:'checkoutsMean_mayo'})\n",
    "checkoutsMeanMayo_train.to_csv(\"checkoutsMeanMayo_train.csv\",index = False)"
   ]
  },
  {
   "cell_type": "markdown",
   "metadata": {},
   "source": [
    "## Cantidad promedio de leads por periodo"
   ]
  },
  {
   "cell_type": "code",
   "execution_count": 277,
   "metadata": {},
   "outputs": [],
   "source": [
    "leads_promedio = converted[converted[\"event\"] == \"lead\"].sort_values(by= \"timestamp\")"
   ]
  },
  {
   "cell_type": "code",
   "execution_count": 278,
   "metadata": {},
   "outputs": [],
   "source": [
    "enero = leads_promedio [leads_promedio [\"mes\"] == 1][\"event\"].size\n",
    "febrero = leads_promedio [leads_promedio [\"mes\"] == 2][\"event\"].size\n",
    "marzo = leads_promedio [leads_promedio [\"mes\"] == 3][\"event\"].size\n",
    "abril = leads_promedio [leads_promedio [\"mes\"] == 4][\"event\"].size\n",
    "mayo = leads_promedio [leads_promedio [\"mes\"] == 5][\"event\"].size"
   ]
  },
  {
   "cell_type": "code",
   "execution_count": 279,
   "metadata": {},
   "outputs": [],
   "source": [
    "eneroPersons = pd.DataFrame(leads_promedio[leads_promedio[\"mes\"]==1].groupby(\"person\")[\"event\"].size().index)\n",
    "eneroValues =  pd.DataFrame(leads_promedio.groupby([\"mes\",\"person\"])[\"event\"].size()[1].values/enero)\n",
    "\n",
    "febreroPersons = pd.DataFrame(leads_promedio[leads_promedio[\"mes\"]==2].groupby(\"person\")[\"event\"].size().index)\n",
    "febreroValues =  pd.DataFrame(leads_promedio.groupby([\"mes\",\"person\"])[\"event\"].size()[2].values/febrero)\n",
    "\n",
    "marzoPersons = pd.DataFrame(leads_promedio[leads_promedio[\"mes\"]==3].groupby(\"person\")[\"event\"].size().index)\n",
    "marzoValues =  pd.DataFrame(leads_promedio.groupby([\"mes\",\"person\"])[\"event\"].size()[3].values/marzo)\n",
    "\n",
    "abrilPersons = pd.DataFrame(leads_promedio[leads_promedio[\"mes\"]==4].groupby(\"person\")[\"event\"].size().index)\n",
    "abrilValues =  pd.DataFrame(leads_promedio.groupby([\"mes\",\"person\"])[\"event\"].size()[4].values/abril)\n",
    "\n",
    "mayoPersons = pd.DataFrame(leads_promedio[leads_promedio[\"mes\"]==5].groupby(\"person\")[\"event\"].size().index)\n",
    "mayoValues =  pd.DataFrame(leads_promedio.groupby([\"mes\",\"person\"])[\"event\"].size()[5].values/mayo)"
   ]
  },
  {
   "cell_type": "code",
   "execution_count": 280,
   "metadata": {},
   "outputs": [],
   "source": [
    "leadsMeanEnero_train = pd.concat([eneroPersons,eneroValues], axis = 1).rename(columns = {0:'leadsMean_enero'})\n",
    "leadsMeanEnero_train.to_csv(\"leadsMeanEnero_train.csv\",index = False)\n",
    "\n",
    "leadsMeanFebrero_train = pd.concat([febreroPersons,febreroValues], axis = 1).rename(columns = {0:'leadsMean_febrero'})\n",
    "leadsMeanFebrero_train.to_csv(\"leadsMeanFebrero_train.csv\",index = False)\n",
    "\n",
    "leadsMeanMarzo_train = pd.concat([marzoPersons,marzoValues], axis = 1).rename(columns = {0:'leadsMean_marzo'})\n",
    "leadsMeanMarzo_train.to_csv(\"leadsMeanMarzo_train.csv\",index = False)\n",
    "\n",
    "leadsMeanAbril_train = pd.concat([abrilPersons, abrilValues], axis = 1).rename(columns = {0:'leadsMean_abril'})\n",
    "leadsMeanAbril_train.to_csv(\"leadsMeanAbril_train.csv\",index = False)\n",
    "\n",
    "leadsMeanMayo_train = pd.concat([mayoPersons,mayoValues], axis = 1).rename(columns = {0:'leadsMean_mayo'})\n",
    "leadsMeanMayo_train.to_csv(\"leadsMeanMayo_train.csv\",index = False)"
   ]
  },
  {
   "cell_type": "markdown",
   "metadata": {},
   "source": [
    "## Cantidad promedio de staticpage visitados"
   ]
  },
  {
   "cell_type": "code",
   "execution_count": 281,
   "metadata": {},
   "outputs": [],
   "source": [
    "static_Pages_visitados = converted[converted[\"event\"] == \"staticpage\"].sort_values(by= \"timestamp\")"
   ]
  },
  {
   "cell_type": "code",
   "execution_count": 282,
   "metadata": {},
   "outputs": [],
   "source": [
    "enero = static_Pages_visitados [static_Pages_visitados [\"mes\"] == 1][\"event\"].size\n",
    "febrero = static_Pages_visitados [static_Pages_visitados [\"mes\"] == 2][\"event\"].size\n",
    "marzo = static_Pages_visitados [static_Pages_visitados [\"mes\"] == 3][\"event\"].size\n",
    "abril = static_Pages_visitados [static_Pages_visitados [\"mes\"] == 4][\"event\"].size\n",
    "mayo = static_Pages_visitados [static_Pages_visitados [\"mes\"] == 5][\"event\"].size"
   ]
  },
  {
   "cell_type": "code",
   "execution_count": 283,
   "metadata": {},
   "outputs": [],
   "source": [
    "eneroPersons = pd.DataFrame(static_Pages_visitados[static_Pages_visitados[\"mes\"]==1].groupby(\"person\")[\"event\"].size().index)\n",
    "eneroValues =  pd.DataFrame(static_Pages_visitados.groupby([\"mes\",\"person\"])[\"event\"].size()[1].values/enero)\n",
    "\n",
    "febreroPersons = pd.DataFrame(static_Pages_visitados[static_Pages_visitados[\"mes\"]==2].groupby(\"person\")[\"event\"].size().index)\n",
    "febreroValues =  pd.DataFrame(static_Pages_visitados.groupby([\"mes\",\"person\"])[\"event\"].size()[2].values/febrero)\n",
    "\n",
    "marzoPersons = pd.DataFrame(static_Pages_visitados[static_Pages_visitados[\"mes\"]==3].groupby(\"person\")[\"event\"].size().index)\n",
    "marzoValues =  pd.DataFrame(static_Pages_visitados.groupby([\"mes\",\"person\"])[\"event\"].size()[3].values/marzo)\n",
    "\n",
    "abrilPersons = pd.DataFrame(static_Pages_visitados[static_Pages_visitados[\"mes\"]==4].groupby(\"person\")[\"event\"].size().index)\n",
    "abrilValues =  pd.DataFrame(static_Pages_visitados.groupby([\"mes\",\"person\"])[\"event\"].size()[4].values/abril)\n",
    "\n",
    "mayoPersons = pd.DataFrame(static_Pages_visitados[static_Pages_visitados[\"mes\"]==5].groupby(\"person\")[\"event\"].size().index)\n",
    "mayoValues =  pd.DataFrame(static_Pages_visitados.groupby([\"mes\",\"person\"])[\"event\"].size()[5].values/mayo)"
   ]
  },
  {
   "cell_type": "code",
   "execution_count": 284,
   "metadata": {},
   "outputs": [],
   "source": [
    "static_Pages_visitadosMeanEnero_train = pd.concat([eneroPersons,eneroValues], axis = 1).rename(columns = {0:'static_Pages_visitadosMean_enero'})\n",
    "static_Pages_visitadosMeanEnero_train.to_csv(\"static_Pages_visitadosMeanEnero_train.csv\",index = False)\n",
    "\n",
    "static_Pages_visitadosMeanFebrero_train = pd.concat([febreroPersons,febreroValues], axis = 1).rename(columns = {0:'static_Pages_visitadosMean_febrero'})\n",
    "static_Pages_visitadosMeanFebrero_train.to_csv(\"static_Pages_visitadosMeanFebrero_train.csv\",index = False)\n",
    "\n",
    "static_Pages_visitadosMeanMarzo_train = pd.concat([marzoPersons,marzoValues], axis = 1).rename(columns = {0:'static_Pages_visitadosMean_marzo'})\n",
    "static_Pages_visitadosMeanMarzo_train.to_csv(\"static_Pages_visitadosMeanMarzo_train.csv\",index = False)\n",
    "\n",
    "static_Pages_visitadosMeanAbril_train = pd.concat([abrilPersons, abrilValues], axis = 1).rename(columns = {0:'static_Pages_visitadosMean_abril'})\n",
    "static_Pages_visitadosMeanAbril_train.to_csv(\"static_Pages_visitadosMeanAbril_train.csv\",index = False)\n",
    "\n",
    "static_Pages_visitadosMeanMayo_train = pd.concat([mayoPersons,mayoValues], axis = 1).rename(columns = {0:'static_Pages_visitadosMean_mayo'})\n",
    "static_Pages_visitadosMeanMayo_train.to_csv(\"static_Pages_visitadosMeanMayo_train.csv\",index = False)"
   ]
  },
  {
   "cell_type": "markdown",
   "metadata": {},
   "source": [
    "## Cantidad promedio de conversiones por mes"
   ]
  },
  {
   "cell_type": "code",
   "execution_count": 288,
   "metadata": {},
   "outputs": [],
   "source": [
    "conversiones_promedio = converted[converted[\"event\"] == \"conversion\"].sort_values(by= \"timestamp\")"
   ]
  },
  {
   "cell_type": "code",
   "execution_count": 289,
   "metadata": {},
   "outputs": [],
   "source": [
    "enero = conversiones_promedio [conversiones_promedio [\"mes\"] == 1][\"event\"].size\n",
    "febrero = conversiones_promedio [conversiones_promedio [\"mes\"] == 2][\"event\"].size\n",
    "marzo = conversiones_promedio [conversiones_promedio [\"mes\"] == 3][\"event\"].size\n",
    "abril = conversiones_promedio [conversiones_promedio [\"mes\"] == 4][\"event\"].size\n",
    "mayo = conversiones_promedio [conversiones_promedio [\"mes\"] == 5][\"event\"].size"
   ]
  },
  {
   "cell_type": "code",
   "execution_count": 290,
   "metadata": {},
   "outputs": [],
   "source": [
    "eneroPersons = pd.DataFrame(conversiones_promedio[conversiones_promedio[\"mes\"]==1].groupby(\"person\")[\"event\"].size().index)\n",
    "eneroValues =  pd.DataFrame(conversiones_promedio.groupby([\"mes\",\"person\"])[\"event\"].size()[1].values/enero)\n",
    "\n",
    "febreroPersons = pd.DataFrame(conversiones_promedio[conversiones_promedio[\"mes\"]==2].groupby(\"person\")[\"event\"].size().index)\n",
    "febreroValues =  pd.DataFrame(conversiones_promedio.groupby([\"mes\",\"person\"])[\"event\"].size()[2].values/febrero)\n",
    "\n",
    "marzoPersons = pd.DataFrame(conversiones_promedio[conversiones_promedio[\"mes\"]==3].groupby(\"person\")[\"event\"].size().index)\n",
    "marzoValues =  pd.DataFrame(conversiones_promedio.groupby([\"mes\",\"person\"])[\"event\"].size()[3].values/marzo)\n",
    "\n",
    "abrilPersons = pd.DataFrame(conversiones_promedio[conversiones_promedio[\"mes\"]==4].groupby(\"person\")[\"event\"].size().index)\n",
    "abrilValues =  pd.DataFrame(conversiones_promedio.groupby([\"mes\",\"person\"])[\"event\"].size()[4].values/abril)\n",
    "\n",
    "mayoPersons = pd.DataFrame(conversiones_promedio[conversiones_promedio[\"mes\"]==5].groupby(\"person\")[\"event\"].size().index)\n",
    "mayoValues =  pd.DataFrame(conversiones_promedio.groupby([\"mes\",\"person\"])[\"event\"].size()[5].values/mayo)"
   ]
  },
  {
   "cell_type": "code",
   "execution_count": 291,
   "metadata": {},
   "outputs": [],
   "source": [
    "conversiones_promedioMeanEnero_train = pd.concat([eneroPersons,eneroValues], axis = 1).rename(columns = {0:'conversiones_promedioMean_enero'})\n",
    "conversiones_promedioMeanEnero_train.to_csv(\"conversiones_promedioMeanEnero_train.csv\",index = False)\n",
    "\n",
    "conversiones_promedioMeanFebrero_train = pd.concat([febreroPersons,febreroValues], axis = 1).rename(columns = {0:'conversiones_promedioMean_febrero'})\n",
    "conversiones_promedioMeanFebrero_train.to_csv(\"conversiones_promedioMeanFebrero_train.csv\",index = False)\n",
    "\n",
    "conversiones_promedioMeanMarzo_train = pd.concat([marzoPersons,marzoValues], axis = 1).rename(columns = {0:'conversiones_promedioMean_marzo'})\n",
    "conversiones_promedioMeanMarzo_train.to_csv(\"conversiones_promedioMeanMarzo_train.csv\",index = False)\n",
    "\n",
    "conversiones_promedioMeanAbril_train = pd.concat([abrilPersons, abrilValues], axis = 1).rename(columns = {0:'conversiones_promedioMean_abril'})\n",
    "conversiones_promedioMeanAbril_train.to_csv(\"conversiones_promedioMeanAbril_train.csv\",index = False)\n",
    "\n",
    "conversiones_promedioMeanMayo_train = pd.concat([mayoPersons,mayoValues], axis = 1).rename(columns = {0:'conversiones_promedioMean_mayo'})\n",
    "conversiones_promedioMeanMayo_train.to_csv(\"conversiones_promedioMeanMayo_train.csv\",index = False)"
   ]
  },
  {
   "cell_type": "markdown",
   "metadata": {},
   "source": [
    "## Cantidad promedio de checkouts y conversiones por mes"
   ]
  },
  {
   "cell_type": "code",
   "execution_count": 308,
   "metadata": {},
   "outputs": [],
   "source": [
    "personasCheckouts = converted[converted[\"event\"] == \"checkout\"][\"person\"].values"
   ]
  },
  {
   "cell_type": "code",
   "execution_count": 309,
   "metadata": {},
   "outputs": [],
   "source": [
    "checkoutsAndConversiones = converted[converted[\"event\"] == \"conversion\"]"
   ]
  },
  {
   "cell_type": "code",
   "execution_count": 310,
   "metadata": {},
   "outputs": [],
   "source": [
    "checkoutsAndConversiones = checkoutsAndConversiones[checkoutsAndConversiones[\"person\"]\\\n",
    "                                                   .isin(personasCheckouts)]\\\n",
    "                                                    .sort_values(by=\"timestamp\")"
   ]
  },
  {
   "cell_type": "code",
   "execution_count": 311,
   "metadata": {},
   "outputs": [],
   "source": [
    "enero = checkoutsAndConversiones [checkoutsAndConversiones [\"mes\"] == 1][\"event\"].size\n",
    "febrero = checkoutsAndConversiones [checkoutsAndConversiones [\"mes\"] == 2][\"event\"].size\n",
    "marzo = checkoutsAndConversiones [checkoutsAndConversiones [\"mes\"] == 3][\"event\"].size\n",
    "abril = checkoutsAndConversiones [checkoutsAndConversiones [\"mes\"] == 4][\"event\"].size\n",
    "mayo = checkoutsAndConversiones [checkoutsAndConversiones [\"mes\"] == 5][\"event\"].size"
   ]
  },
  {
   "cell_type": "code",
   "execution_count": 312,
   "metadata": {},
   "outputs": [],
   "source": [
    "eneroPersons = pd.DataFrame(checkoutsAndConversiones[checkoutsAndConversiones[\"mes\"]==1].groupby(\"person\")[\"event\"].size().index)\n",
    "eneroValues =  pd.DataFrame(checkoutsAndConversiones.groupby([\"mes\",\"person\"])[\"event\"].size()[1].values/enero)\n",
    "\n",
    "febreroPersons = pd.DataFrame(checkoutsAndConversiones[checkoutsAndConversiones[\"mes\"]==2].groupby(\"person\")[\"event\"].size().index)\n",
    "febreroValues =  pd.DataFrame(checkoutsAndConversiones.groupby([\"mes\",\"person\"])[\"event\"].size()[2].values/febrero)\n",
    "\n",
    "marzoPersons = pd.DataFrame(checkoutsAndConversiones[checkoutsAndConversiones[\"mes\"]==3].groupby(\"person\")[\"event\"].size().index)\n",
    "marzoValues =  pd.DataFrame(checkoutsAndConversiones.groupby([\"mes\",\"person\"])[\"event\"].size()[3].values/marzo)\n",
    "\n",
    "abrilPersons = pd.DataFrame(checkoutsAndConversiones[checkoutsAndConversiones[\"mes\"]==4].groupby(\"person\")[\"event\"].size().index)\n",
    "abrilValues =  pd.DataFrame(checkoutsAndConversiones.groupby([\"mes\",\"person\"])[\"event\"].size()[4].values/abril)\n",
    "\n",
    "mayoPersons = pd.DataFrame(checkoutsAndConversiones[checkoutsAndConversiones[\"mes\"]==5].groupby(\"person\")[\"event\"].size().index)\n",
    "mayoValues =  pd.DataFrame(checkoutsAndConversiones.groupby([\"mes\",\"person\"])[\"event\"].size()[5].values/mayo)"
   ]
  },
  {
   "cell_type": "code",
   "execution_count": 313,
   "metadata": {},
   "outputs": [],
   "source": [
    "checkoutsAndConversionesMeanEnero_train = pd.concat([eneroPersons,eneroValues], axis = 1).rename(columns = {0:'checkoutsAndConversionesMean_enero'})\n",
    "checkoutsAndConversionesMeanEnero_train.to_csv(\"checkoutsAndConversionesMeanEnero_train.csv\",index = False)\n",
    "\n",
    "checkoutsAndConversionesMeanFebrero_train = pd.concat([febreroPersons,febreroValues], axis = 1).rename(columns = {0:'checkoutsAndConversionesMean_febrero'})\n",
    "checkoutsAndConversionesMeanFebrero_train.to_csv(\"checkoutsAndConversionesMeanFebrero_train.csv\",index = False)\n",
    "\n",
    "checkoutsAndConversionesMeanMarzo_train = pd.concat([marzoPersons,marzoValues], axis = 1).rename(columns = {0:'checkoutsAndConversionesMean_marzo'})\n",
    "checkoutsAndConversionesMeanMarzo_train.to_csv(\"checkoutsAndConversionesMeanMarzo_train.csv\",index = False)\n",
    "\n",
    "checkoutsAndConversionesMeanAbril_train = pd.concat([abrilPersons, abrilValues], axis = 1).rename(columns = {0:'checkoutsAndConversionesMean_abril'})\n",
    "checkoutsAndConversionesMeanAbril_train.to_csv(\"checkoutsAndConversionesMeanAbril_train.csv\",index = False)\n",
    "\n",
    "checkoutsAndConversionesMeanMayo_train = pd.concat([mayoPersons,mayoValues], axis = 1).rename(columns = {0:'checkoutsAndConversionesMean_mayo'})\n",
    "checkoutsAndConversionesMeanMayo_train.to_csv(\"checkoutsAndConversionesMeanMayo_train.csv\",index = False)"
   ]
  },
  {
   "cell_type": "markdown",
   "metadata": {},
   "source": [
    "## Browser Access"
   ]
  },
  {
   "cell_type": "code",
   "execution_count": 400,
   "metadata": {},
   "outputs": [],
   "source": [
    "from sklearn.feature_extraction import FeatureHasher\n",
    "h = FeatureHasher(n_features=20,input_type='string')"
   ]
  },
  {
   "cell_type": "code",
   "execution_count": 397,
   "metadata": {},
   "outputs": [],
   "source": [
    "browser_Access = converted[converted[\"event\"] == \"visited site\"].sort_values(by = \"timestamp\")"
   ]
  },
  {
   "cell_type": "code",
   "execution_count": 401,
   "metadata": {},
   "outputs": [],
   "source": [
    "f = h.fit_transform(browser_Access['browser_version'])\n",
    "browser= pd.DataFrame(f.toarray())"
   ]
  },
  {
   "cell_type": "code",
   "execution_count": 413,
   "metadata": {},
   "outputs": [
    {
     "data": {
      "text/plain": [
       "array([0.1 , 0.15, 0.15, ..., 0.15, 0.3 , 0.2 ])"
      ]
     },
     "execution_count": 413,
     "metadata": {},
     "output_type": "execute_result"
    }
   ],
   "source": [
    "(browser.T.mean()).values"
   ]
  },
  {
   "cell_type": "code",
   "execution_count": 414,
   "metadata": {},
   "outputs": [],
   "source": [
    "browser_Access[\"browser_version\"] = (browser.T.mean()).values"
   ]
  },
  {
   "cell_type": "code",
   "execution_count": 417,
   "metadata": {},
   "outputs": [],
   "source": [
    "browser_Access = browser_Access[[\"mes\",\"person\",\"browser_version\"]]"
   ]
  },
  {
   "cell_type": "code",
   "execution_count": 420,
   "metadata": {},
   "outputs": [],
   "source": [
    "browser_Access[browser_Access[\"mes\"] == 1].to_csv(\"browser_version_enero_train\",index= False)"
   ]
  },
  {
   "cell_type": "code",
   "execution_count": 421,
   "metadata": {},
   "outputs": [],
   "source": [
    "browser_Access[browser_Access[\"mes\"] == 2].to_csv(\"browser_version_febrero_train\",index= False)"
   ]
  },
  {
   "cell_type": "code",
   "execution_count": 422,
   "metadata": {},
   "outputs": [],
   "source": [
    "browser_Access[browser_Access[\"mes\"] == 3].to_csv(\"browser_version_marzo_train\",index= False)"
   ]
  },
  {
   "cell_type": "code",
   "execution_count": 423,
   "metadata": {},
   "outputs": [],
   "source": [
    "browser_Access[browser_Access[\"mes\"] == 4].to_csv(\"browser_version_abril_train\",index= False)"
   ]
  },
  {
   "cell_type": "code",
   "execution_count": 424,
   "metadata": {},
   "outputs": [],
   "source": [
    "browser_Access[browser_Access[\"mes\"] == 5].to_csv(\"browser_version_mayo_train\",index= False)"
   ]
  },
  {
   "cell_type": "markdown",
   "metadata": {},
   "source": [
    "## Cantidad promedio de colores vistos por mes"
   ]
  },
  {
   "cell_type": "code",
   "execution_count": 427,
   "metadata": {},
   "outputs": [],
   "source": [
    "coloresVistos = converted[converted[\"event\"] == \"viewed product\"].sort_values(by = \"person\")"
   ]
  },
  {
   "cell_type": "code",
   "execution_count": 430,
   "metadata": {},
   "outputs": [],
   "source": [
    "enero = coloresVistos [coloresVistos [\"mes\"] == 1][\"event\"].size\n",
    "febrero = coloresVistos [coloresVistos [\"mes\"] == 2][\"event\"].size\n",
    "marzo = coloresVistos [coloresVistos [\"mes\"] == 3][\"event\"].size\n",
    "abril = coloresVistos [coloresVistos [\"mes\"] == 4][\"event\"].size\n",
    "mayo = coloresVistos [coloresVistos [\"mes\"] == 5][\"event\"].size"
   ]
  },
  {
   "cell_type": "code",
   "execution_count": 431,
   "metadata": {},
   "outputs": [],
   "source": [
    "eneroPersons = pd.DataFrame(coloresVistos[coloresVistos[\"mes\"]==1].groupby(\"person\")[\"event\"].size().index)\n",
    "eneroValues =  pd.DataFrame(coloresVistos.groupby([\"mes\",\"person\"])[\"event\"].size()[1].values/enero)\n",
    "\n",
    "febreroPersons = pd.DataFrame(coloresVistos[coloresVistos[\"mes\"]==2].groupby(\"person\")[\"event\"].size().index)\n",
    "febreroValues =  pd.DataFrame(coloresVistos.groupby([\"mes\",\"person\"])[\"event\"].size()[2].values/febrero)\n",
    "\n",
    "marzoPersons = pd.DataFrame(coloresVistos[coloresVistos[\"mes\"]==3].groupby(\"person\")[\"event\"].size().index)\n",
    "marzoValues =  pd.DataFrame(coloresVistos.groupby([\"mes\",\"person\"])[\"event\"].size()[3].values/marzo)\n",
    "\n",
    "abrilPersons = pd.DataFrame(coloresVistos[coloresVistos[\"mes\"]==4].groupby(\"person\")[\"event\"].size().index)\n",
    "abrilValues =  pd.DataFrame(coloresVistos.groupby([\"mes\",\"person\"])[\"event\"].size()[4].values/abril)\n",
    "\n",
    "mayoPersons = pd.DataFrame(coloresVistos[coloresVistos[\"mes\"]==5].groupby(\"person\")[\"event\"].size().index)\n",
    "mayoValues =  pd.DataFrame(coloresVistos.groupby([\"mes\",\"person\"])[\"event\"].size()[5].values/mayo)"
   ]
  },
  {
   "cell_type": "code",
   "execution_count": 432,
   "metadata": {},
   "outputs": [],
   "source": [
    "coloresVistosMeanEnero_train = pd.concat([eneroPersons,eneroValues], axis = 1).rename(columns = {0:'coloresVistosMean_enero'})\n",
    "coloresVistosMeanEnero_train.to_csv(\"coloresVistosMeanEnero_train.csv\",index = False)\n",
    "\n",
    "coloresVistosMeanFebrero_train = pd.concat([febreroPersons,febreroValues], axis = 1).rename(columns = {0:'coloresVistosMean_febrero'})\n",
    "coloresVistosMeanFebrero_train.to_csv(\"coloresVistosMeanFebrero_train.csv\",index = False)\n",
    "\n",
    "coloresVistosMeanMarzo_train = pd.concat([marzoPersons,marzoValues], axis = 1).rename(columns = {0:'coloresVistosMean_marzo'})\n",
    "coloresVistosMeanMarzo_train.to_csv(\"coloresVistosMeanMarzo_train.csv\",index = False)\n",
    "\n",
    "coloresVistosMeanAbril_train = pd.concat([abrilPersons, abrilValues], axis = 1).rename(columns = {0:'coloresVistosMean_abril'})\n",
    "coloresVistosMeanAbril_train.to_csv(\"coloresVistosMeanAbril_train.csv\",index = False)\n",
    "\n",
    "coloresVistosMeanMayo_train = pd.concat([mayoPersons,mayoValues], axis = 1).rename(columns = {0:'coloresVistosMean_mayo'})\n",
    "coloresVistosMeanMayo_train.to_csv(\"coloresVistosMeanMayo_train.csv\",index = False)"
   ]
  },
  {
   "cell_type": "markdown",
   "metadata": {},
   "source": [
    "## Si es usuario recurrente o nuevo"
   ]
  },
  {
   "cell_type": "code",
   "execution_count": 446,
   "metadata": {},
   "outputs": [],
   "source": [
    "recurrencia = converted[converted[\"event\"] == \"visited site\"].sort_values(by = \"person\")"
   ]
  },
  {
   "cell_type": "code",
   "execution_count": 447,
   "metadata": {},
   "outputs": [],
   "source": [
    "recurrencia[\"new_vs_returning\"] = recurrencia[\"new_vs_returning\"] == \"Returning\""
   ]
  },
  {
   "cell_type": "code",
   "execution_count": 449,
   "metadata": {},
   "outputs": [],
   "source": [
    "recurrencia[recurrencia[\"mes\"] ==1].to_csv(\"recurrencia_enero.csv\",index = False)\n",
    "recurrencia[recurrencia[\"mes\"] ==2].to_csv(\"recurrencia_febrero.csv\",index = False)\n",
    "recurrencia[recurrencia[\"mes\"] ==3].to_csv(\"recurrencia_marzo.csv\",index = False)\n",
    "recurrencia[recurrencia[\"mes\"] ==4].to_csv(\"recurrencia_abril.csv\",index = False)\n",
    "recurrencia[recurrencia[\"mes\"] ==5].to_csv(\"recurrencia_mayo.csv\",index = False)"
   ]
  },
  {
   "cell_type": "markdown",
   "metadata": {},
   "source": [
    "## Filtrado de la ciudad del usuario por periodo\n",
    " "
   ]
  },
  {
   "cell_type": "code",
   "execution_count": 462,
   "metadata": {},
   "outputs": [],
   "source": [
    "cities = converted[converted[\"event\"] == \"visited site\"].sort_values(by = \"timestamp\")"
   ]
  },
  {
   "cell_type": "code",
   "execution_count": 466,
   "metadata": {},
   "outputs": [],
   "source": [
    "#Filtro por las mas importantes\n",
    "citiesPopulares = cities[\"city\"].value_counts().nlargest(5).index"
   ]
  },
  {
   "cell_type": "code",
   "execution_count": 468,
   "metadata": {},
   "outputs": [],
   "source": [
    "for city in citiesPopulares:\n",
    "    cities[city] = (cities['city'] == city).astype(bool)"
   ]
  },
  {
   "cell_type": "code",
   "execution_count": 471,
   "metadata": {},
   "outputs": [],
   "source": [
    "cities = cities.rename(columns = {\"Unknown\" : \"ciudad_Nan\"})"
   ]
  },
  {
   "cell_type": "code",
   "execution_count": 477,
   "metadata": {},
   "outputs": [],
   "source": [
    "cities = pd.concat([cities[[\"mes\",\"person\"]],cities.iloc[:,26:]],axis=1)"
   ]
  },
  {
   "cell_type": "code",
   "execution_count": 480,
   "metadata": {},
   "outputs": [],
   "source": [
    "cities[cities[\"mes\"] == 1].to_csv(\"cities_enero_train.csv\",index=False)\n",
    "cities[cities[\"mes\"] == 2].to_csv(\"cities_febrero_train.csv\",index=False)\n",
    "cities[cities[\"mes\"] == 3].to_csv(\"cities_marzo_train.csv\",index=False)\n",
    "cities[cities[\"mes\"] == 4].to_csv(\"cities_abril_train.csv\",index=False)\n",
    "cities[cities[\"mes\"] == 5].to_csv(\"cities_mayo_train.csv\",index=False)"
   ]
  },
  {
   "cell_type": "markdown",
   "metadata": {},
   "source": [
    "## Filtrado del pais del usuario \n",
    " "
   ]
  },
  {
   "cell_type": "code",
   "execution_count": 483,
   "metadata": {},
   "outputs": [],
   "source": [
    "countries = converted[converted[\"event\"] == \"visited site\"].sort_values(by = \"timestamp\")"
   ]
  },
  {
   "cell_type": "code",
   "execution_count": 484,
   "metadata": {},
   "outputs": [],
   "source": [
    "#Filtro por los mas importantes\n",
    "countriesPopulares = countries[\"country\"].value_counts().nlargest(5).index"
   ]
  },
  {
   "cell_type": "code",
   "execution_count": 487,
   "metadata": {},
   "outputs": [],
   "source": [
    "for country in countriesPopulares:\n",
    "    countries[country] = (countries['country'] == country).astype(bool)"
   ]
  },
  {
   "cell_type": "code",
   "execution_count": 488,
   "metadata": {},
   "outputs": [],
   "source": [
    "countries = countries.rename(columns = {\"Unknown\" : \"country_Nan\"})"
   ]
  },
  {
   "cell_type": "code",
   "execution_count": 492,
   "metadata": {},
   "outputs": [],
   "source": [
    "countries = pd.concat([countries[[\"mes\",\"person\"]],countries.iloc[:,26:]],axis=1)"
   ]
  },
  {
   "cell_type": "code",
   "execution_count": 513,
   "metadata": {},
   "outputs": [],
   "source": [
    "countries.to_csv(\"country_train.csv\",index =False)"
   ]
  },
  {
   "cell_type": "markdown",
   "metadata": {},
   "source": [
    "## Filtrado de la resolucion de telefono"
   ]
  },
  {
   "cell_type": "code",
   "execution_count": 504,
   "metadata": {},
   "outputs": [],
   "source": [
    "resolucion_telefono = converted[converted[\"event\"] == \"visited site\"].sort_values(by = \"timestamp\")"
   ]
  },
  {
   "cell_type": "code",
   "execution_count": 505,
   "metadata": {},
   "outputs": [],
   "source": [
    "resolucion_popular = resolucion_telefono[\"screen_resolution\"].value_counts().nlargest(10).index"
   ]
  },
  {
   "cell_type": "code",
   "execution_count": 507,
   "metadata": {},
   "outputs": [],
   "source": [
    "for reso in resolucion_popular:\n",
    "    resolucion_telefono[reso] = (resolucion_telefono['screen_resolution'] == reso).astype(bool)"
   ]
  },
  {
   "cell_type": "code",
   "execution_count": 512,
   "metadata": {},
   "outputs": [],
   "source": [
    "resolucion_telefono = pd.concat([resolucion_telefono[[\"mes\",\"person\"]],resolucion_telefono.iloc[:,26:]],axis=1)"
   ]
  },
  {
   "cell_type": "code",
   "execution_count": 514,
   "metadata": {},
   "outputs": [],
   "source": [
    "resolucion_telefono[resolucion_telefono[\"mes\"] == 1].to_csv(\"resolucion_enero_train.csv\",index = False)\n",
    "resolucion_telefono[resolucion_telefono[\"mes\"] == 2].to_csv(\"resolucion_febrero_train.csv\",index = False)\n",
    "resolucion_telefono[resolucion_telefono[\"mes\"] == 3].to_csv(\"resolucion_marzo_train.csv\",index = False)\n",
    "resolucion_telefono[resolucion_telefono[\"mes\"] == 4].to_csv(\"resolucion_abril_train.csv\",index = False)\n",
    "resolucion_telefono[resolucion_telefono[\"mes\"] == 5].to_csv(\"resolucion_mayo_train.csv\",index = False)"
   ]
  },
  {
   "cell_type": "markdown",
   "metadata": {},
   "source": [
    "## Encoding de search_term"
   ]
  },
  {
   "cell_type": "code",
   "execution_count": 516,
   "metadata": {},
   "outputs": [],
   "source": [
    "search_terms = converted[converted[\"event\"] == \"searched products\"].sort_values(by = \"timestamp\")"
   ]
  },
  {
   "cell_type": "code",
   "execution_count": 537,
   "metadata": {},
   "outputs": [],
   "source": [
    "search_terms[\"search_term\"] = search_terms[\"search_term\"].map(lambda x: str(x).split()[0]).str.lower()"
   ]
  },
  {
   "cell_type": "code",
   "execution_count": 544,
   "metadata": {},
   "outputs": [],
   "source": [
    "search_terms = search_terms[search_terms[\"search_term\"]!=\"nan\"]"
   ]
  },
  {
   "cell_type": "code",
   "execution_count": 563,
   "metadata": {},
   "outputs": [],
   "source": [
    "f = h.fit_transform(search_terms['search_term'])\n",
    "searchsEncode = pd.DataFrame(f.toarray())"
   ]
  },
  {
   "cell_type": "code",
   "execution_count": 567,
   "metadata": {},
   "outputs": [],
   "source": [
    "searchsEncode = searchsEncode.T.mean()+0.2"
   ]
  },
  {
   "cell_type": "code",
   "execution_count": 571,
   "metadata": {},
   "outputs": [
    {
     "name": "stderr",
     "output_type": "stream",
     "text": [
      "/home/jonathan/anaconda3/lib/python3.6/site-packages/ipykernel_launcher.py:1: SettingWithCopyWarning: \n",
      "A value is trying to be set on a copy of a slice from a DataFrame.\n",
      "Try using .loc[row_indexer,col_indexer] = value instead\n",
      "\n",
      "See the caveats in the documentation: http://pandas.pydata.org/pandas-docs/stable/indexing.html#indexing-view-versus-copy\n",
      "  \"\"\"Entry point for launching an IPython kernel.\n"
     ]
    }
   ],
   "source": [
    "search_terms[\"search_term\"] = searchsEncode.values"
   ]
  },
  {
   "cell_type": "code",
   "execution_count": 574,
   "metadata": {},
   "outputs": [],
   "source": [
    "search_terms = search_terms[[\"mes\",\"person\",\"search_term\"]]"
   ]
  },
  {
   "cell_type": "code",
   "execution_count": 576,
   "metadata": {},
   "outputs": [],
   "source": [
    "search_terms.to_csv(\"search_terms_train.csv\",index = False)"
   ]
  },
  {
   "cell_type": "markdown",
   "metadata": {},
   "source": [
    "## Encoding de model"
   ]
  },
  {
   "cell_type": "code",
   "execution_count": null,
   "metadata": {},
   "outputs": [],
   "source": []
  },
  {
   "cell_type": "markdown",
   "metadata": {},
   "source": [
    "## Encoding de storage"
   ]
  },
  {
   "cell_type": "markdown",
   "metadata": {},
   "source": []
  },
  {
   "cell_type": "code",
   "execution_count": null,
   "metadata": {},
   "outputs": [],
   "source": []
  },
  {
   "cell_type": "code",
   "execution_count": null,
   "metadata": {},
   "outputs": [],
   "source": []
  },
  {
   "cell_type": "code",
   "execution_count": null,
   "metadata": {},
   "outputs": [],
   "source": []
  },
  {
   "cell_type": "code",
   "execution_count": null,
   "metadata": {},
   "outputs": [],
   "source": []
  },
  {
   "cell_type": "code",
   "execution_count": null,
   "metadata": {},
   "outputs": [],
   "source": []
  },
  {
   "cell_type": "code",
   "execution_count": null,
   "metadata": {},
   "outputs": [],
   "source": []
  },
  {
   "cell_type": "code",
   "execution_count": null,
   "metadata": {},
   "outputs": [],
   "source": []
  },
  {
   "cell_type": "code",
   "execution_count": null,
   "metadata": {},
   "outputs": [],
   "source": []
  },
  {
   "cell_type": "code",
   "execution_count": null,
   "metadata": {},
   "outputs": [],
   "source": []
  },
  {
   "cell_type": "code",
   "execution_count": null,
   "metadata": {},
   "outputs": [],
   "source": []
  },
  {
   "cell_type": "code",
   "execution_count": null,
   "metadata": {},
   "outputs": [],
   "source": []
  },
  {
   "cell_type": "code",
   "execution_count": null,
   "metadata": {},
   "outputs": [],
   "source": []
  },
  {
   "cell_type": "code",
   "execution_count": null,
   "metadata": {},
   "outputs": [],
   "source": []
  },
  {
   "cell_type": "code",
   "execution_count": null,
   "metadata": {},
   "outputs": [],
   "source": []
  },
  {
   "cell_type": "code",
   "execution_count": null,
   "metadata": {},
   "outputs": [],
   "source": []
  },
  {
   "cell_type": "code",
   "execution_count": null,
   "metadata": {},
   "outputs": [],
   "source": []
  }
 ],
 "metadata": {
  "kernelspec": {
   "display_name": "Python 3",
   "language": "python",
   "name": "python3"
  },
  "language_info": {
   "codemirror_mode": {
    "name": "ipython",
    "version": 3
   },
   "file_extension": ".py",
   "mimetype": "text/x-python",
   "name": "python",
   "nbconvert_exporter": "python",
   "pygments_lexer": "ipython3",
   "version": "3.6.5"
  }
 },
 "nbformat": 4,
 "nbformat_minor": 2
}

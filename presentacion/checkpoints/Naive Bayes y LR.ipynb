{
 "cells": [
  {
   "cell_type": "code",
   "execution_count": 2,
   "metadata": {},
   "outputs": [],
   "source": [
    "import pandas as pd\n",
    "import numpy as np"
   ]
  },
  {
   "cell_type": "code",
   "execution_count": 10,
   "metadata": {},
   "outputs": [],
   "source": [
    "## Manejo de datos: carga de csv"
   ]
  },
  {
   "cell_type": "code",
   "execution_count": 3,
   "metadata": {},
   "outputs": [],
   "source": [
    "train = pd.read_csv(\"train.csv\")"
   ]
  },
  {
   "cell_type": "code",
   "execution_count": 4,
   "metadata": {},
   "outputs": [],
   "source": [
    "test = pd.read_csv(\"test.csv\", low_memory = False)"
   ]
  },
  {
   "cell_type": "code",
   "execution_count": 11,
   "metadata": {},
   "outputs": [
    {
     "name": "stdout",
     "output_type": "stream",
     "text": [
      "(19414, 807)\n",
      "Primeras lineas de features:\n",
      "     person  cantidad_eventos (Enero)  Brazil (Enero)  \\\n",
      "0  0566e9c1                       0.0             0.0   \n",
      "1  6ec7ee77                       0.0             0.0   \n",
      "2  abe7a2fb                       0.0             0.0   \n",
      "3  34728364                       0.0             0.0   \n",
      "4  87ed62de                       0.0             0.0   \n",
      "\n",
      "   Unknown_country (Enero)  United States (Enero)  Argentina (Enero)  \\\n",
      "0                      0.0                    0.0                0.0   \n",
      "1                      0.0                    0.0                0.0   \n",
      "2                      0.0                    0.0                0.0   \n",
      "3                      0.0                    0.0                0.0   \n",
      "4                      0.0                    0.0                0.0   \n",
      "\n",
      "   Canada (Enero)  France (Enero)  Uruguay (Enero)  Italy (Enero)  ...    \\\n",
      "0             0.0             0.0              0.0            0.0  ...     \n",
      "1             0.0             0.0              0.0            0.0  ...     \n",
      "2             0.0             0.0              0.0            0.0  ...     \n",
      "3             0.0             0.0              0.0            0.0  ...     \n",
      "4             0.0             0.0              0.0            0.0  ...     \n",
      "\n",
      "   Ametista_checkouts_conversiones (Mayo)_y  \\\n",
      "0                                       0.0   \n",
      "1                                       0.0   \n",
      "2                                       0.0   \n",
      "3                                       0.0   \n",
      "4                                       0.0   \n",
      "\n",
      "   Cinza_checkouts_conversiones (Mayo)_y  \\\n",
      "0                                    0.0   \n",
      "1                                    0.0   \n",
      "2                                    0.0   \n",
      "3                                    0.0   \n",
      "4                                    0.0   \n",
      "\n",
      "   Ouro_checkouts_conversiones (Mayo)_y  \\\n",
      "0                                   0.0   \n",
      "1                                   0.0   \n",
      "2                                   0.0   \n",
      "3                                   0.0   \n",
      "4                                   0.0   \n",
      "\n",
      "   Preto Brilhante_checkouts_conversiones (Mayo)_y  Bom_conversiones (Mayo)_y  \\\n",
      "0                                              0.0                        1.0   \n",
      "1                                              0.0                        0.0   \n",
      "2                                              0.0                        0.0   \n",
      "3                                              0.0                        0.0   \n",
      "4                                              0.0                        0.0   \n",
      "\n",
      "   Excelente_conversiones (Mayo)_y  Muito Bom_conversiones (Mayo)_y  \\\n",
      "0                              0.0                              0.0   \n",
      "1                              0.0                              0.0   \n",
      "2                              0.0                              0.0   \n",
      "3                              0.0                              0.0   \n",
      "4                              0.0                              0.0   \n",
      "\n",
      "   Bom - Sem Touch ID_conversiones (Mayo)_y  Novo_conversiones (Mayo)_y  label  \n",
      "0                                       0.0                         0.0      0  \n",
      "1                                       0.0                         0.0      0  \n",
      "2                                       0.0                         0.0      0  \n",
      "3                                       0.0                         0.0      0  \n",
      "4                                       0.0                         0.0      0  \n",
      "\n",
      "[5 rows x 807 columns]\n",
      "describe: \n",
      "       cantidad_eventos (Enero)  Brazil (Enero)  Unknown_country (Enero)  \\\n",
      "count              19414.000000    19414.000000                  19414.0   \n",
      "mean                   1.235809        0.120429                      0.0   \n",
      "std                   14.729513        1.355488                      0.0   \n",
      "min                    0.000000        0.000000                      0.0   \n",
      "25%                    0.000000        0.000000                      0.0   \n",
      "50%                    0.000000        0.000000                      0.0   \n",
      "75%                    0.000000        0.000000                      0.0   \n",
      "max                 1028.000000       78.000000                      0.0   \n",
      "\n",
      "       United States (Enero)  Argentina (Enero)  Canada (Enero)  \\\n",
      "count           19414.000000            19414.0    19414.000000   \n",
      "mean                0.000618                0.0        0.000309   \n",
      "std                 0.050747                0.0        0.043062   \n",
      "min                 0.000000                0.0        0.000000   \n",
      "25%                 0.000000                0.0        0.000000   \n",
      "50%                 0.000000                0.0        0.000000   \n",
      "75%                 0.000000                0.0        0.000000   \n",
      "max                 6.000000                0.0        6.000000   \n",
      "\n",
      "       France (Enero)  Uruguay (Enero)  Italy (Enero)  Netherlands (Enero)  \\\n",
      "count         19414.0          19414.0        19414.0         19414.000000   \n",
      "mean              0.0              0.0            0.0             0.000052   \n",
      "std               0.0              0.0            0.0             0.007177   \n",
      "min               0.0              0.0            0.0             0.000000   \n",
      "25%               0.0              0.0            0.0             0.000000   \n",
      "50%               0.0              0.0            0.0             0.000000   \n",
      "75%               0.0              0.0            0.0             0.000000   \n",
      "max               0.0              0.0            0.0             1.000000   \n",
      "\n",
      "           ...       Ametista_checkouts_conversiones (Mayo)_y  \\\n",
      "count      ...                                        19414.0   \n",
      "mean       ...                                            0.0   \n",
      "std        ...                                            0.0   \n",
      "min        ...                                            0.0   \n",
      "25%        ...                                            0.0   \n",
      "50%        ...                                            0.0   \n",
      "75%        ...                                            0.0   \n",
      "max        ...                                            0.0   \n",
      "\n",
      "       Cinza_checkouts_conversiones (Mayo)_y  \\\n",
      "count                                19414.0   \n",
      "mean                                     0.0   \n",
      "std                                      0.0   \n",
      "min                                      0.0   \n",
      "25%                                      0.0   \n",
      "50%                                      0.0   \n",
      "75%                                      0.0   \n",
      "max                                      0.0   \n",
      "\n",
      "       Ouro_checkouts_conversiones (Mayo)_y  \\\n",
      "count                               19414.0   \n",
      "mean                                    0.0   \n",
      "std                                     0.0   \n",
      "min                                     0.0   \n",
      "25%                                     0.0   \n",
      "50%                                     0.0   \n",
      "75%                                     0.0   \n",
      "max                                     0.0   \n",
      "\n",
      "       Preto Brilhante_checkouts_conversiones (Mayo)_y  \\\n",
      "count                                          19414.0   \n",
      "mean                                               0.0   \n",
      "std                                                0.0   \n",
      "min                                                0.0   \n",
      "25%                                                0.0   \n",
      "50%                                                0.0   \n",
      "75%                                                0.0   \n",
      "max                                                0.0   \n",
      "\n",
      "       Bom_conversiones (Mayo)_y  Excelente_conversiones (Mayo)_y  \\\n",
      "count               19414.000000                     19414.000000   \n",
      "mean                    0.055424                         0.040177   \n",
      "std                     0.334672                         0.300128   \n",
      "min                     0.000000                         0.000000   \n",
      "25%                     0.000000                         0.000000   \n",
      "50%                     0.000000                         0.000000   \n",
      "75%                     0.000000                         0.000000   \n",
      "max                     9.000000                        13.000000   \n",
      "\n",
      "       Muito Bom_conversiones (Mayo)_y  \\\n",
      "count                     19414.000000   \n",
      "mean                          0.042341   \n",
      "std                           0.359948   \n",
      "min                           0.000000   \n",
      "25%                           0.000000   \n",
      "50%                           0.000000   \n",
      "75%                           0.000000   \n",
      "max                          30.000000   \n",
      "\n",
      "       Bom - Sem Touch ID_conversiones (Mayo)_y  Novo_conversiones (Mayo)_y  \\\n",
      "count                              19414.000000                19414.000000   \n",
      "mean                                   0.002936                    0.000052   \n",
      "std                                    0.074874                    0.007177   \n",
      "min                                    0.000000                    0.000000   \n",
      "25%                                    0.000000                    0.000000   \n",
      "50%                                    0.000000                    0.000000   \n",
      "75%                                    0.000000                    0.000000   \n",
      "max                                    6.000000                    1.000000   \n",
      "\n",
      "              label  \n",
      "count  19414.000000  \n",
      "mean       0.050479  \n",
      "std        0.218937  \n",
      "min        0.000000  \n",
      "25%        0.000000  \n",
      "50%        0.000000  \n",
      "75%        0.000000  \n",
      "max        1.000000  \n",
      "\n",
      "[8 rows x 806 columns]\n",
      "info: \n",
      "<class 'pandas.core.frame.DataFrame'>\n",
      "RangeIndex: 19414 entries, 0 to 19413\n",
      "Columns: 807 entries, person to label\n",
      "dtypes: float64(805), int64(1), object(1)\n",
      "memory usage: 119.5+ MB\n",
      "None\n"
     ]
    }
   ],
   "source": [
    "import matplotlib.pyplot as plt\n",
    "from sklearn.metrics import confusion_matrix,auc,roc_auc_score\n",
    "from sklearn.metrics import recall_score, precision_score, accuracy_score, f1_score\n",
    "\n",
    "print(train.shape)\n",
    "\n",
    "print(\"Primeras lineas de features:\")\n",
    "print(train.head(5))\n",
    "\n",
    "print(\"describe: \")\n",
    "print(train.describe())\n",
    "\n",
    "print(\"info: \")\n",
    "print(train.info())"
   ]
  },
  {
   "cell_type": "code",
   "execution_count": 12,
   "metadata": {},
   "outputs": [
    {
     "name": "stdout",
     "output_type": "stream",
     "text": [
      "Clase en pie chart:\n"
     ]
    },
    {
     "data": {
      "text/plain": [
       "Text(0,0.5,'')"
      ]
     },
     "execution_count": 12,
     "metadata": {},
     "output_type": "execute_result"
    },
    {
     "data": {
      "image/png": "[encoded data removed]",
      "text/plain": [
       "<Figure size 432x288 with 1 Axes>"
      ]
     },
     "metadata": {},
     "output_type": "display_data"
    }
   ],
   "source": [
    "# Chequeo de clases que contienen 1 como conversion y 0 como no conversion\n",
    "print(\"Clase en pie chart:\")\n",
    "fig, ax = plt.subplots(1, 1)\n",
    "ax.pie(train.label.value_counts(),autopct='%1.1f%%', labels=['No_conversion','conversion'], colors=['yellowgreen','r'])\n",
    "plt.axis('equal')\n",
    "plt.ylabel('')"
   ]
  },
  {
   "cell_type": "markdown",
   "metadata": {},
   "source": [
    "\n",
    "Ahora es el momento de dividir los datos en conjunto de prueba (20%) y conjunto de entrenamiento (80%). Defino una funcion "
   ]
  },
  {
   "cell_type": "code",
   "execution_count": 42,
   "metadata": {},
   "outputs": [],
   "source": [
    "def split_data(train, drop_list):\n",
    "    train = train.drop(drop_list,axis=1)\n",
    "    print(train.columns)\n",
    "    \n",
    "    #test train split time\n",
    "    from sklearn.model_selection import train_test_split\n",
    "    y = train['label'].values #target\n",
    "    X = train.drop(['person','label'],axis=1).values #features\n",
    "    X_train, X_test, y_train, y_test = train_test_split(X, y, test_size=0.2,\n",
    "                                                    random_state=42, stratify=y)\n",
    "\n",
    "    print(\"train-set size: \", len(y_train),\n",
    "      \"\\ntest-set size: \", len(y_test))\n",
    "    print(\"conversiones en set de testeo: \", sum(y_test))\n",
    "    return X_train, X_test, y_train, y_test"
   ]
  },
  {
   "cell_type": "markdown",
   "metadata": {},
   "source": [
    "A continuación se muestra la función para definir el clasificador y obtener predicciones. Podemos usar el método \"predict ()\" que verifica si un registro debe pertenecer a la clase \"conversion\" o \"no_conversion\". Hay otro método \"predict_proba ()\" que da las probabilidades para cada clase. Nos ayuda a aprender la idea de cambiar el umbral que asigna una instancia a la clase 1 o 0, por lo que podemos controlar la precisión y las puntuaciones de recuperación. Esto se usaría para calcular el área bajo ROC."
   ]
  },
  {
   "cell_type": "code",
   "execution_count": 43,
   "metadata": {},
   "outputs": [],
   "source": [
    "def get_predictions(clasiffier, X_train, y_train, X_test):\n",
    "    # crear clasificador\n",
    "    clf = clasiffier\n",
    "    # ajustarlo a los datos de entrenamiento\n",
    "    clf.fit(X_train,y_train)\n",
    "    # predecir utilizando datos de test\n",
    "    y_pred = clf.predict(X_test)\n",
    "    # Calcular probabilidades pronosticadas: y_pred_prob\n",
    "    y_pred_prob = clf.predict_proba(X_test)\n",
    "    #por diversión: predicciones de train-set\n",
    "    train_pred = clf.predict(X_train)\n",
    "    print('train-set confusion matrix:\\n', confusion_matrix(y_train,train_pred)) \n",
    "    return y_pred, y_pred_prob"
   ]
  },
  {
   "cell_type": "markdown",
   "metadata": {},
   "source": [
    "Función para imprimir los puntajes del clasificador."
   ]
  },
  {
   "cell_type": "code",
   "execution_count": 44,
   "metadata": {},
   "outputs": [],
   "source": [
    "def print_scores(y_test,y_pred,y_pred_prob):\n",
    "    print('test-set confusion matrix:\\n', confusion_matrix(y_test,y_pred)) \n",
    "    print(\"recall score: \", recall_score(y_test,y_pred))\n",
    "    print(\"precision score: \", precision_score(y_test,y_pred))\n",
    "    print(\"f1 score: \", f1_score(y_test,y_pred))\n",
    "    print(\"accuracy score: \", accuracy_score(y_test,y_pred))\n",
    "    print(\"ROC AUC: {}\".format(roc_auc_score(y_test, y_pred_prob[:,1])))"
   ]
  },
  {
   "cell_type": "code",
   "execution_count": 45,
   "metadata": {},
   "outputs": [],
   "source": [
    "from sklearn.naive_bayes import GaussianNB\n",
    "from sklearn.linear_model import LogisticRegression"
   ]
  },
  {
   "cell_type": "code",
   "execution_count": 49,
   "metadata": {},
   "outputs": [
    {
     "name": "stdout",
     "output_type": "stream",
     "text": [
      "Index(['person', 'cantidad_eventos (Enero)', 'Brazil (Enero)',\n",
      "       'Unknown_country (Enero)', 'United States (Enero)', 'Argentina (Enero)',\n",
      "       'Canada (Enero)', 'France (Enero)', 'Uruguay (Enero)', 'Italy (Enero)',\n",
      "       ...\n",
      "       'Ametista_checkouts_conversiones (Mayo)_y',\n",
      "       'Cinza_checkouts_conversiones (Mayo)_y',\n",
      "       'Ouro_checkouts_conversiones (Mayo)_y',\n",
      "       'Preto Brilhante_checkouts_conversiones (Mayo)_y',\n",
      "       'Bom_conversiones (Mayo)_y', 'Excelente_conversiones (Mayo)_y',\n",
      "       'Muito Bom_conversiones (Mayo)_y',\n",
      "       'Bom - Sem Touch ID_conversiones (Mayo)_y',\n",
      "       'Novo_conversiones (Mayo)_y', 'label'],\n",
      "      dtype='object', length=807)\n",
      "train-set size:  15531 \n",
      "test-set size:  3883\n",
      "conversiones en set de testeo:  196\n",
      "train-set confusion matrix:\n",
      " [[ 1238 13509]\n",
      " [   27   757]]\n",
      "test-set confusion matrix:\n",
      " [[ 277 3410]\n",
      " [  25  171]]\n",
      "recall score:  0.8724489795918368\n",
      "precision score:  0.0477520245741413\n",
      "f1 score:  0.09054805401111993\n",
      "accuracy score:  0.11537471027556014\n",
      "ROC AUC: 0.4649499344082629\n"
     ]
    }
   ],
   "source": [
    "#NB\n",
    "drop_list = []\n",
    "X_train, X_test, y_train, y_test = split_data(train, drop_list)\n",
    "y_pred, y_pred_prob = get_predictions(GaussianNB(), X_train, y_train, X_test)\n",
    "print_scores(y_test,y_pred,y_pred_prob)\n"
   ]
  },
  {
   "cell_type": "code",
   "execution_count": null,
   "metadata": {},
   "outputs": [],
   "source": [
    "y_pred, y_pred_prob = get_predictions(GaussianNB(), X_train, y_train, X_test)"
   ]
  },
  {
   "cell_type": "markdown",
   "metadata": {},
   "source": [
    "\n",
    "Hagamos ahora las predicciones con otro clasificador: regresión logística.\n",
    "\n",
    "Mi objetivo es comparar el rendimiento, es decir, recordar la puntuación de GaussianNB () con la puntuación de recuperación del regresor logístico para el conjunto de datos de prueba (que es el 20% del conjunto de datos completo, seleccionado arriba).\n",
    "\n",
    "Voy a empezar con correr\n",
    "\n",
    "Regresor logístico predeterminado\n",
    "para el conjunto de datos completo desequilibrado (sé que es un mal enfoque, pero esto es solo para obtener una estimación aproximada)\n",
    "  - que se ha dividido en subconjuntos de prueba de train (80:20)"
   ]
  },
  {
   "cell_type": "code",
   "execution_count": 55,
   "metadata": {},
   "outputs": [
    {
     "name": "stderr",
     "output_type": "stream",
     "text": [
      "/home/jonathan/anaconda3/lib/python3.6/site-packages/sklearn/linear_model/logistic.py:433: FutureWarning: Default solver will be changed to 'lbfgs' in 0.22. Specify a solver to silence this warning.\n",
      "  FutureWarning)\n"
     ]
    },
    {
     "name": "stdout",
     "output_type": "stream",
     "text": [
      "train-set confusion matrix:\n",
      " [[14745     2]\n",
      " [  784     0]]\n",
      "test-set confusion matrix:\n",
      " [[3685    2]\n",
      " [ 196    0]]\n",
      "recall score:  0.0\n",
      "precision score:  0.0\n",
      "f1 score:  0.0\n",
      "accuracy score:  0.9490084985835694\n",
      "ROC AUC: 0.716404991614221\n"
     ]
    }
   ],
   "source": [
    "#Caso 1 LR por default\n",
    "y_pred, y_pred_prob = get_predictions(LogisticRegression(C = 0.01, penalty = 'l1')\n",
    "                                      , X_train, y_train, X_test)\n",
    "print_scores(y_test,y_pred,y_pred_prob)"
   ]
  },
  {
   "cell_type": "markdown",
   "metadata": {},
   "source": [
    "Al aprender de un conjunto de datos totalmente desequilibrado, este regresor logístico predeterminado funciona muy mal. Así que intentemos entrenarlo de manera tradicional, es decir, a partir de datos de muestra inferior."
   ]
  },
  {
   "cell_type": "code",
   "execution_count": 52,
   "metadata": {},
   "outputs": [],
   "source": [
    "# obtener indices para conversiones\n",
    "conversions_ind = np.array(train[train.label == 1].index)\n",
    "no_conversiones_ind = train[train.label == 0].index\n",
    "n_conv = len(train[train.label == 1])\n",
    "# random selection from no_conversion class\n",
    "random_no_conv_ind = np.random.choice(no_conversiones_ind, n_conv, replace = False)\n",
    "random_no_conv_ind = np.array(random_no_conv_ind)\n",
    "# merge two class indices: random no_conv + original conv\n",
    "under_sample_ind = np.concatenate([conversions_ind,random_no_conv_ind])\n",
    "# Under sample dataset\n",
    "undersample_df = train.iloc[under_sample_ind,:]\n",
    "y_undersample  = undersample_df['label'].values #target\n",
    "X_undersample = undersample_df.drop(['person','label'],axis=1).values #features"
   ]
  },
  {
   "cell_type": "code",
   "execution_count": 54,
   "metadata": {},
   "outputs": [
    {
     "name": "stdout",
     "output_type": "stream",
     "text": [
      "Index(['person', 'cantidad_eventos (Enero)', 'Brazil (Enero)',\n",
      "       'Unknown_country (Enero)', 'United States (Enero)', 'Argentina (Enero)',\n",
      "       'Canada (Enero)', 'France (Enero)', 'Uruguay (Enero)', 'Italy (Enero)',\n",
      "       ...\n",
      "       'Ametista_checkouts_conversiones (Mayo)_y',\n",
      "       'Cinza_checkouts_conversiones (Mayo)_y',\n",
      "       'Ouro_checkouts_conversiones (Mayo)_y',\n",
      "       'Preto Brilhante_checkouts_conversiones (Mayo)_y',\n",
      "       'Bom_conversiones (Mayo)_y', 'Excelente_conversiones (Mayo)_y',\n",
      "       'Muito Bom_conversiones (Mayo)_y',\n",
      "       'Bom - Sem Touch ID_conversiones (Mayo)_y',\n",
      "       'Novo_conversiones (Mayo)_y', 'label'],\n",
      "      dtype='object', length=807)\n",
      "train-set size:  1568 \n",
      "test-set size:  392\n",
      "conversiones en set de testeo:  196\n",
      "train-set confusion matrix:\n",
      " [[532 252]\n",
      " [308 476]]\n",
      "test-set confusion matrix:\n",
      " [[121  75]\n",
      " [ 75 121]]\n",
      "recall score:  0.6173469387755102\n",
      "precision score:  0.6173469387755102\n",
      "f1 score:  0.6173469387755102\n",
      "accuracy score:  0.6173469387755102\n",
      "ROC AUC: 0.6565623698458974\n"
     ]
    },
    {
     "name": "stderr",
     "output_type": "stream",
     "text": [
      "/home/jonathan/anaconda3/lib/python3.6/site-packages/sklearn/linear_model/logistic.py:433: FutureWarning: Default solver will be changed to 'lbfgs' in 0.22. Specify a solver to silence this warning.\n",
      "  FutureWarning)\n"
     ]
    }
   ],
   "source": [
    " #entrenando logistic regression con under sample data\n",
    "# Caso-LR-2\n",
    "\n",
    "drop_list = []\n",
    "X_und_train, X_und_test, y_und_train, y_und_test = split_data(undersample_df, drop_list)\n",
    "y_und_pred, y_und_pred_prob = get_predictions(LogisticRegression(C = 0.01, penalty = 'l1'), X_und_train, y_und_train, X_und_test)\n",
    "print_scores(y_und_test,y_und_pred,y_und_pred_prob)"
   ]
  },
  {
   "cell_type": "code",
   "execution_count": null,
   "metadata": {},
   "outputs": [],
   "source": []
  },
  {
   "cell_type": "code",
   "execution_count": null,
   "metadata": {},
   "outputs": [],
   "source": []
  },
  {
   "cell_type": "code",
   "execution_count": null,
   "metadata": {},
   "outputs": [],
   "source": []
  },
  {
   "cell_type": "code",
   "execution_count": null,
   "metadata": {},
   "outputs": [],
   "source": []
  }
 ],
 "metadata": {
  "kernelspec": {
   "display_name": "Python 3",
   "language": "python",
   "name": "python3"
  },
  "language_info": {
   "codemirror_mode": {
    "name": "ipython",
    "version": 3
   },
   "file_extension": ".py",
   "mimetype": "text/x-python",
   "name": "python",
   "nbconvert_exporter": "python",
   "pygments_lexer": "ipython3",
   "version": "3.6.5"
  }
 },
 "nbformat": 4,
 "nbformat_minor": 2
}

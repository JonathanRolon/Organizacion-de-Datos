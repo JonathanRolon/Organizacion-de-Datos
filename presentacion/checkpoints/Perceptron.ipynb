{
 "cells": [
  {
   "cell_type": "code",
   "execution_count": 5,
   "metadata": {},
   "outputs": [],
   "source": [
    "import pandas as pd\n",
    "import numpy as np\n",
    "import datetime as DT\n",
    "from sklearn.model_selection import train_test_split\n",
    "from sklearn.preprocessing import StandardScaler\n",
    "from sklearn.linear_model import Perceptron\n",
    "from sklearn.metrics import accuracy_score"
   ]
  },
  {
   "cell_type": "code",
   "execution_count": 7,
   "metadata": {},
   "outputs": [],
   "source": [
    "dataTrain = pd.read_csv(\"datosNumericosTrain.csv\").drop(columns = \"Unnamed: 0\")\n",
    "\n",
    "dataTest = pd.read_csv(\"datosNumericosTest.csv\").drop(columns = \"Unnamed: 0\")"
   ]
  },
  {
   "cell_type": "code",
   "execution_count": 8,
   "metadata": {},
   "outputs": [
    {
     "data": {
      "text/html": [
       "<div>\n",
       "<style scoped>\n",
       "    .dataframe tbody tr th:only-of-type {\n",
       "        vertical-align: middle;\n",
       "    }\n",
       "\n",
       "    .dataframe tbody tr th {\n",
       "        vertical-align: top;\n",
       "    }\n",
       "\n",
       "    .dataframe thead th {\n",
       "        text-align: right;\n",
       "    }\n",
       "</style>\n",
       "<table border=\"1\" class=\"dataframe\">\n",
       "  <thead>\n",
       "    <tr style=\"text-align: right;\">\n",
       "      <th></th>\n",
       "      <th>person</th>\n",
       "      <th>Enero - cantidadEventos</th>\n",
       "      <th>Enero - checkouts</th>\n",
       "      <th>Enero - leads</th>\n",
       "      <th>Enero - conversiones</th>\n",
       "      <th>Enero - staticPageVisitadas</th>\n",
       "      <th>Enero - ProductosVistosPorUser</th>\n",
       "      <th>Enero - productosBuscados</th>\n",
       "      <th>Enero - accesos por marketing online</th>\n",
       "      <th>Enero - searchEngine</th>\n",
       "      <th>...</th>\n",
       "      <th>Mayo - leads</th>\n",
       "      <th>Mayo - conversiones</th>\n",
       "      <th>Mayo - staticPageVisitadas</th>\n",
       "      <th>Mayo - ProductosVistosPorUser</th>\n",
       "      <th>Mayo - productosBuscados</th>\n",
       "      <th>Mayo - accesos por marketing online</th>\n",
       "      <th>Mayo - searchEngine</th>\n",
       "      <th>Mayo - accesos a la homepage</th>\n",
       "      <th>Mayo - listadosVisitados</th>\n",
       "      <th>label</th>\n",
       "    </tr>\n",
       "  </thead>\n",
       "  <tbody>\n",
       "    <tr>\n",
       "      <th>0</th>\n",
       "      <td>0008ed71</td>\n",
       "      <td>0</td>\n",
       "      <td>0.0</td>\n",
       "      <td>0.0</td>\n",
       "      <td>0.0</td>\n",
       "      <td>0.0</td>\n",
       "      <td>0.0</td>\n",
       "      <td>0.0</td>\n",
       "      <td>0.0</td>\n",
       "      <td>0.0</td>\n",
       "      <td>...</td>\n",
       "      <td>0.0</td>\n",
       "      <td>0.0</td>\n",
       "      <td>0.0</td>\n",
       "      <td>0.0</td>\n",
       "      <td>0.0</td>\n",
       "      <td>0.0</td>\n",
       "      <td>0.0</td>\n",
       "      <td>0.0</td>\n",
       "      <td>0.0</td>\n",
       "      <td>0</td>\n",
       "    </tr>\n",
       "    <tr>\n",
       "      <th>1</th>\n",
       "      <td>000c79fe</td>\n",
       "      <td>0</td>\n",
       "      <td>0.0</td>\n",
       "      <td>0.0</td>\n",
       "      <td>0.0</td>\n",
       "      <td>0.0</td>\n",
       "      <td>0.0</td>\n",
       "      <td>0.0</td>\n",
       "      <td>0.0</td>\n",
       "      <td>0.0</td>\n",
       "      <td>...</td>\n",
       "      <td>0.0</td>\n",
       "      <td>0.0</td>\n",
       "      <td>0.0</td>\n",
       "      <td>0.0</td>\n",
       "      <td>0.0</td>\n",
       "      <td>0.0</td>\n",
       "      <td>1.0</td>\n",
       "      <td>1.0</td>\n",
       "      <td>0.0</td>\n",
       "      <td>0</td>\n",
       "    </tr>\n",
       "    <tr>\n",
       "      <th>2</th>\n",
       "      <td>001802e4</td>\n",
       "      <td>0</td>\n",
       "      <td>0.0</td>\n",
       "      <td>0.0</td>\n",
       "      <td>0.0</td>\n",
       "      <td>0.0</td>\n",
       "      <td>0.0</td>\n",
       "      <td>0.0</td>\n",
       "      <td>0.0</td>\n",
       "      <td>0.0</td>\n",
       "      <td>...</td>\n",
       "      <td>0.0</td>\n",
       "      <td>0.0</td>\n",
       "      <td>0.0</td>\n",
       "      <td>0.0</td>\n",
       "      <td>0.0</td>\n",
       "      <td>0.0</td>\n",
       "      <td>0.0</td>\n",
       "      <td>0.0</td>\n",
       "      <td>0.0</td>\n",
       "      <td>0</td>\n",
       "    </tr>\n",
       "    <tr>\n",
       "      <th>3</th>\n",
       "      <td>0019e639</td>\n",
       "      <td>1</td>\n",
       "      <td>0.0</td>\n",
       "      <td>0.0</td>\n",
       "      <td>0.0</td>\n",
       "      <td>0.0</td>\n",
       "      <td>0.0</td>\n",
       "      <td>0.0</td>\n",
       "      <td>0.0</td>\n",
       "      <td>1.0</td>\n",
       "      <td>...</td>\n",
       "      <td>0.0</td>\n",
       "      <td>0.0</td>\n",
       "      <td>0.0</td>\n",
       "      <td>0.0</td>\n",
       "      <td>0.0</td>\n",
       "      <td>0.0</td>\n",
       "      <td>5.0</td>\n",
       "      <td>5.0</td>\n",
       "      <td>8.0</td>\n",
       "      <td>0</td>\n",
       "    </tr>\n",
       "    <tr>\n",
       "      <th>4</th>\n",
       "      <td>001b0bf9</td>\n",
       "      <td>0</td>\n",
       "      <td>0.0</td>\n",
       "      <td>0.0</td>\n",
       "      <td>0.0</td>\n",
       "      <td>0.0</td>\n",
       "      <td>0.0</td>\n",
       "      <td>0.0</td>\n",
       "      <td>0.0</td>\n",
       "      <td>0.0</td>\n",
       "      <td>...</td>\n",
       "      <td>0.0</td>\n",
       "      <td>0.0</td>\n",
       "      <td>0.0</td>\n",
       "      <td>0.0</td>\n",
       "      <td>0.0</td>\n",
       "      <td>0.0</td>\n",
       "      <td>0.0</td>\n",
       "      <td>0.0</td>\n",
       "      <td>0.0</td>\n",
       "      <td>0</td>\n",
       "    </tr>\n",
       "  </tbody>\n",
       "</table>\n",
       "<p>5 rows × 57 columns</p>\n",
       "</div>"
      ],
      "text/plain": [
       "     person  Enero - cantidadEventos  Enero - checkouts  Enero - leads  \\\n",
       "0  0008ed71                        0                0.0            0.0   \n",
       "1  000c79fe                        0                0.0            0.0   \n",
       "2  001802e4                        0                0.0            0.0   \n",
       "3  0019e639                        1                0.0            0.0   \n",
       "4  001b0bf9                        0                0.0            0.0   \n",
       "\n",
       "   Enero - conversiones  Enero - staticPageVisitadas  \\\n",
       "0                   0.0                          0.0   \n",
       "1                   0.0                          0.0   \n",
       "2                   0.0                          0.0   \n",
       "3                   0.0                          0.0   \n",
       "4                   0.0                          0.0   \n",
       "\n",
       "   Enero - ProductosVistosPorUser  Enero - productosBuscados  \\\n",
       "0                             0.0                        0.0   \n",
       "1                             0.0                        0.0   \n",
       "2                             0.0                        0.0   \n",
       "3                             0.0                        0.0   \n",
       "4                             0.0                        0.0   \n",
       "\n",
       "   Enero - accesos por marketing online  Enero - searchEngine  ...    \\\n",
       "0                                   0.0                   0.0  ...     \n",
       "1                                   0.0                   0.0  ...     \n",
       "2                                   0.0                   0.0  ...     \n",
       "3                                   0.0                   1.0  ...     \n",
       "4                                   0.0                   0.0  ...     \n",
       "\n",
       "   Mayo - leads  Mayo - conversiones  Mayo - staticPageVisitadas  \\\n",
       "0           0.0                  0.0                         0.0   \n",
       "1           0.0                  0.0                         0.0   \n",
       "2           0.0                  0.0                         0.0   \n",
       "3           0.0                  0.0                         0.0   \n",
       "4           0.0                  0.0                         0.0   \n",
       "\n",
       "   Mayo - ProductosVistosPorUser  Mayo - productosBuscados  \\\n",
       "0                            0.0                       0.0   \n",
       "1                            0.0                       0.0   \n",
       "2                            0.0                       0.0   \n",
       "3                            0.0                       0.0   \n",
       "4                            0.0                       0.0   \n",
       "\n",
       "   Mayo - accesos por marketing online  Mayo - searchEngine  \\\n",
       "0                                  0.0                  0.0   \n",
       "1                                  0.0                  1.0   \n",
       "2                                  0.0                  0.0   \n",
       "3                                  0.0                  5.0   \n",
       "4                                  0.0                  0.0   \n",
       "\n",
       "   Mayo - accesos a la homepage  Mayo - listadosVisitados  label  \n",
       "0                           0.0                       0.0      0  \n",
       "1                           1.0                       0.0      0  \n",
       "2                           0.0                       0.0      0  \n",
       "3                           5.0                       8.0      0  \n",
       "4                           0.0                       0.0      0  \n",
       "\n",
       "[5 rows x 57 columns]"
      ]
     },
     "execution_count": 8,
     "metadata": {},
     "output_type": "execute_result"
    }
   ],
   "source": [
    "#Para el de train\n",
    "df1 = dataTrain.loc[:, dataTrain.columns.str.contains(\"Enero\")] \n",
    "df2 = dataTrain.loc[:, dataTrain.columns.str.contains(\"Febrero\")]\n",
    "df3 = dataTrain.loc[:, dataTrain.columns.str.contains(\"Marzo\")]\n",
    "df4 = dataTrain.loc[:, dataTrain.columns.str.contains(\"Abril\")]\n",
    "df5 = dataTrain.loc[:, dataTrain.columns.str.contains(\"Mayo\")]\n",
    "labels = dataTrain.loc[:, dataTrain.columns.str.contains(\"label\")]\n",
    "persons = dataTrain.loc[:, dataTrain.columns.str.contains(\"person\")]\n",
    "train = pd.concat([persons, df1, df2, df3, df4, df5, labels], axis=1, sort=False)\n",
    "train.head()"
   ]
  },
  {
   "cell_type": "code",
   "execution_count": 9,
   "metadata": {},
   "outputs": [
    {
     "data": {
      "text/html": [
       "<div>\n",
       "<style scoped>\n",
       "    .dataframe tbody tr th:only-of-type {\n",
       "        vertical-align: middle;\n",
       "    }\n",
       "\n",
       "    .dataframe tbody tr th {\n",
       "        vertical-align: top;\n",
       "    }\n",
       "\n",
       "    .dataframe thead th {\n",
       "        text-align: right;\n",
       "    }\n",
       "</style>\n",
       "<table border=\"1\" class=\"dataframe\">\n",
       "  <thead>\n",
       "    <tr style=\"text-align: right;\">\n",
       "      <th></th>\n",
       "      <th>person</th>\n",
       "      <th>Enero_cantEventos</th>\n",
       "      <th>Enero_checkouts</th>\n",
       "      <th>Enero_leads</th>\n",
       "      <th>Enero_conversiones</th>\n",
       "      <th>Enero_staticPageVisitadas</th>\n",
       "      <th>Enero_ProductosVistosPorUser</th>\n",
       "      <th>Enero_productosBuscados</th>\n",
       "      <th>Enero_accesos por marketing online</th>\n",
       "      <th>Enero_searchEngine</th>\n",
       "      <th>...</th>\n",
       "      <th>Mayo_checkouts</th>\n",
       "      <th>Mayo_leads</th>\n",
       "      <th>Mayo_conversiones</th>\n",
       "      <th>Mayo_staticPageVisitadas</th>\n",
       "      <th>Mayo_ProductosVistosPorUser</th>\n",
       "      <th>Mayo_productosBuscados</th>\n",
       "      <th>Mayo_accesos por marketing online</th>\n",
       "      <th>Mayo_searchEngine</th>\n",
       "      <th>Mayo_accesos a la homepage</th>\n",
       "      <th>Mayo_listadosVisitados</th>\n",
       "    </tr>\n",
       "  </thead>\n",
       "  <tbody>\n",
       "    <tr>\n",
       "      <th>0</th>\n",
       "      <td>00091926</td>\n",
       "      <td>0</td>\n",
       "      <td>0.0</td>\n",
       "      <td>0.0</td>\n",
       "      <td>0.0</td>\n",
       "      <td>0.0</td>\n",
       "      <td>0.0</td>\n",
       "      <td>0.0</td>\n",
       "      <td>0.0</td>\n",
       "      <td>0.0</td>\n",
       "      <td>...</td>\n",
       "      <td>2.0</td>\n",
       "      <td>0.0</td>\n",
       "      <td>0.0</td>\n",
       "      <td>0.0</td>\n",
       "      <td>0.0</td>\n",
       "      <td>0.0</td>\n",
       "      <td>0.0</td>\n",
       "      <td>0.0</td>\n",
       "      <td>0.0</td>\n",
       "      <td>0.0</td>\n",
       "    </tr>\n",
       "    <tr>\n",
       "      <th>1</th>\n",
       "      <td>00091a7a</td>\n",
       "      <td>0</td>\n",
       "      <td>0.0</td>\n",
       "      <td>0.0</td>\n",
       "      <td>0.0</td>\n",
       "      <td>0.0</td>\n",
       "      <td>0.0</td>\n",
       "      <td>0.0</td>\n",
       "      <td>0.0</td>\n",
       "      <td>0.0</td>\n",
       "      <td>...</td>\n",
       "      <td>0.0</td>\n",
       "      <td>0.0</td>\n",
       "      <td>0.0</td>\n",
       "      <td>0.0</td>\n",
       "      <td>0.0</td>\n",
       "      <td>0.0</td>\n",
       "      <td>0.0</td>\n",
       "      <td>0.0</td>\n",
       "      <td>0.0</td>\n",
       "      <td>0.0</td>\n",
       "    </tr>\n",
       "    <tr>\n",
       "      <th>2</th>\n",
       "      <td>000ba417</td>\n",
       "      <td>0</td>\n",
       "      <td>0.0</td>\n",
       "      <td>0.0</td>\n",
       "      <td>0.0</td>\n",
       "      <td>0.0</td>\n",
       "      <td>0.0</td>\n",
       "      <td>0.0</td>\n",
       "      <td>0.0</td>\n",
       "      <td>0.0</td>\n",
       "      <td>...</td>\n",
       "      <td>3.0</td>\n",
       "      <td>0.0</td>\n",
       "      <td>0.0</td>\n",
       "      <td>0.0</td>\n",
       "      <td>0.0</td>\n",
       "      <td>0.0</td>\n",
       "      <td>0.0</td>\n",
       "      <td>1.0</td>\n",
       "      <td>3.0</td>\n",
       "      <td>3.0</td>\n",
       "    </tr>\n",
       "    <tr>\n",
       "      <th>3</th>\n",
       "      <td>000e4d9e</td>\n",
       "      <td>0</td>\n",
       "      <td>0.0</td>\n",
       "      <td>0.0</td>\n",
       "      <td>0.0</td>\n",
       "      <td>0.0</td>\n",
       "      <td>0.0</td>\n",
       "      <td>0.0</td>\n",
       "      <td>0.0</td>\n",
       "      <td>0.0</td>\n",
       "      <td>...</td>\n",
       "      <td>1.0</td>\n",
       "      <td>0.0</td>\n",
       "      <td>0.0</td>\n",
       "      <td>0.0</td>\n",
       "      <td>0.0</td>\n",
       "      <td>0.0</td>\n",
       "      <td>0.0</td>\n",
       "      <td>3.0</td>\n",
       "      <td>1.0</td>\n",
       "      <td>4.0</td>\n",
       "    </tr>\n",
       "    <tr>\n",
       "      <th>4</th>\n",
       "      <td>000e619d</td>\n",
       "      <td>0</td>\n",
       "      <td>0.0</td>\n",
       "      <td>0.0</td>\n",
       "      <td>0.0</td>\n",
       "      <td>0.0</td>\n",
       "      <td>0.0</td>\n",
       "      <td>0.0</td>\n",
       "      <td>0.0</td>\n",
       "      <td>0.0</td>\n",
       "      <td>...</td>\n",
       "      <td>1.0</td>\n",
       "      <td>0.0</td>\n",
       "      <td>0.0</td>\n",
       "      <td>0.0</td>\n",
       "      <td>0.0</td>\n",
       "      <td>0.0</td>\n",
       "      <td>0.0</td>\n",
       "      <td>2.0</td>\n",
       "      <td>4.0</td>\n",
       "      <td>2.0</td>\n",
       "    </tr>\n",
       "  </tbody>\n",
       "</table>\n",
       "<p>5 rows × 56 columns</p>\n",
       "</div>"
      ],
      "text/plain": [
       "     person  Enero_cantEventos  Enero_checkouts  Enero_leads  \\\n",
       "0  00091926                  0              0.0          0.0   \n",
       "1  00091a7a                  0              0.0          0.0   \n",
       "2  000ba417                  0              0.0          0.0   \n",
       "3  000e4d9e                  0              0.0          0.0   \n",
       "4  000e619d                  0              0.0          0.0   \n",
       "\n",
       "   Enero_conversiones  Enero_staticPageVisitadas  \\\n",
       "0                 0.0                        0.0   \n",
       "1                 0.0                        0.0   \n",
       "2                 0.0                        0.0   \n",
       "3                 0.0                        0.0   \n",
       "4                 0.0                        0.0   \n",
       "\n",
       "   Enero_ProductosVistosPorUser  Enero_productosBuscados  \\\n",
       "0                           0.0                      0.0   \n",
       "1                           0.0                      0.0   \n",
       "2                           0.0                      0.0   \n",
       "3                           0.0                      0.0   \n",
       "4                           0.0                      0.0   \n",
       "\n",
       "   Enero_accesos por marketing online  Enero_searchEngine  \\\n",
       "0                                 0.0                 0.0   \n",
       "1                                 0.0                 0.0   \n",
       "2                                 0.0                 0.0   \n",
       "3                                 0.0                 0.0   \n",
       "4                                 0.0                 0.0   \n",
       "\n",
       "            ...            Mayo_checkouts  Mayo_leads  Mayo_conversiones  \\\n",
       "0           ...                       2.0         0.0                0.0   \n",
       "1           ...                       0.0         0.0                0.0   \n",
       "2           ...                       3.0         0.0                0.0   \n",
       "3           ...                       1.0         0.0                0.0   \n",
       "4           ...                       1.0         0.0                0.0   \n",
       "\n",
       "   Mayo_staticPageVisitadas  Mayo_ProductosVistosPorUser  \\\n",
       "0                       0.0                          0.0   \n",
       "1                       0.0                          0.0   \n",
       "2                       0.0                          0.0   \n",
       "3                       0.0                          0.0   \n",
       "4                       0.0                          0.0   \n",
       "\n",
       "   Mayo_productosBuscados  Mayo_accesos por marketing online  \\\n",
       "0                     0.0                                0.0   \n",
       "1                     0.0                                0.0   \n",
       "2                     0.0                                0.0   \n",
       "3                     0.0                                0.0   \n",
       "4                     0.0                                0.0   \n",
       "\n",
       "   Mayo_searchEngine  Mayo_accesos a la homepage  Mayo_listadosVisitados  \n",
       "0                0.0                         0.0                     0.0  \n",
       "1                0.0                         0.0                     0.0  \n",
       "2                1.0                         3.0                     3.0  \n",
       "3                3.0                         1.0                     4.0  \n",
       "4                2.0                         4.0                     2.0  \n",
       "\n",
       "[5 rows x 56 columns]"
      ]
     },
     "execution_count": 9,
     "metadata": {},
     "output_type": "execute_result"
    }
   ],
   "source": [
    "#Para el de test\n",
    "df1 = dataTest.loc[:, dataTest.columns.str.contains(\"Enero\")] \n",
    "df2 = dataTest.loc[:, dataTest.columns.str.contains(\"Febrero\")]\n",
    "df3 = dataTest.loc[:, dataTest.columns.str.contains(\"Marzo\")]\n",
    "df4 = dataTest.loc[:, dataTest.columns.str.contains(\"Abril\")]\n",
    "df5 = dataTest.loc[:, dataTest.columns.str.contains(\"Mayo\")]\n",
    "persons = dataTest.loc[:, dataTest.columns.str.contains(\"person\")]\n",
    "testSet = pd.concat([persons, df1, df2, df3, df4, df5], axis=1, sort=False)\n",
    "testSet.head()"
   ]
  },
  {
   "cell_type": "code",
   "execution_count": 10,
   "metadata": {},
   "outputs": [],
   "source": [
    "T = testSet.iloc[:,1:].values"
   ]
  },
  {
   "cell_type": "code",
   "execution_count": 11,
   "metadata": {},
   "outputs": [],
   "source": [
    "#1.Encuentra el número de muestras que son conversiones\n",
    "sizeConversiones = len(train[train['label'] == 1])"
   ]
  },
  {
   "cell_type": "code",
   "execution_count": 12,
   "metadata": {},
   "outputs": [],
   "source": [
    "#2. Obtener índices de muestras de no conversiones.\n",
    "no_conversiones_indices = train[train.label == 0].index "
   ]
  },
  {
   "cell_type": "code",
   "execution_count": 13,
   "metadata": {},
   "outputs": [],
   "source": [
    "#Muestras aleatorias de índices de no conversiones,con una semilla cualquiera\n",
    "np.random.seed(seed = 123)\n",
    "random_indices_no_conversiones = np.random.choice(no_conversiones_indices,sizeConversiones, replace=False)"
   ]
  },
  {
   "cell_type": "code",
   "execution_count": 14,
   "metadata": {},
   "outputs": [],
   "source": [
    "#4. Encuentra los índices de muestras de conversiones.\n",
    "conversiones = train[train.label == 1].index"
   ]
  },
  {
   "cell_type": "code",
   "execution_count": 15,
   "metadata": {},
   "outputs": [],
   "source": [
    "#5. Índices de conversiones concat con muestras de no conversiones.\n",
    "under_sample_indices = np.concatenate([conversiones,random_indices_no_conversiones])"
   ]
  },
  {
   "cell_type": "code",
   "execution_count": 16,
   "metadata": {},
   "outputs": [],
   "source": [
    "#6 Obtener Balance Dataframe\n",
    "under_sample = train.loc[under_sample_indices]"
   ]
  },
  {
   "cell_type": "code",
   "execution_count": 17,
   "metadata": {},
   "outputs": [],
   "source": [
    "under_sample = under_sample.sort_values(by=\"person\")"
   ]
  },
  {
   "cell_type": "code",
   "execution_count": 18,
   "metadata": {},
   "outputs": [
    {
     "data": {
      "text/plain": [
       "<matplotlib.axes._subplots.AxesSubplot at 0x7f5b49a041d0>"
      ]
     },
     "execution_count": 18,
     "metadata": {},
     "output_type": "execute_result"
    }
   ],
   "source": [
    "import matplotlib.pyplot as plt\n",
    "under_sample['label'].value_counts().plot(kind='bar')"
   ]
  },
  {
   "cell_type": "code",
   "execution_count": 124,
   "metadata": {},
   "outputs": [],
   "source": [
    "X = under_sample.iloc[:,1:-1].values\n",
    "y = under_sample['label'].values"
   ]
  },
  {
   "cell_type": "code",
   "execution_count": 125,
   "metadata": {},
   "outputs": [],
   "source": [
    "import numpy as np\n",
    "from sklearn.model_selection import train_test_split\n",
    "#Spliteo con shuffle=False es decir ordenado\n",
    "X_train, X_test, y_train, y_test =\\\n",
    "train_test_split(X,y,test_size = 0.4,shuffle = False)"
   ]
  },
  {
   "cell_type": "code",
   "execution_count": 126,
   "metadata": {},
   "outputs": [],
   "source": [
    "sc = StandardScaler()\n",
    "sc.fit(X_train)\n",
    "X_train_std = sc.transform(X_train)\n",
    "X_test_std = sc.transform(X_test)\n",
    "T_std = sc.transform(T)"
   ]
  },
  {
   "cell_type": "code",
   "execution_count": 127,
   "metadata": {},
   "outputs": [],
   "source": []
  },
  {
   "cell_type": "code",
   "execution_count": 141,
   "metadata": {},
   "outputs": [
    {
     "name": "stderr",
     "output_type": "stream",
     "text": [
      "/home/jonathan/anaconda3/lib/python3.6/site-packages/sklearn/linear_model/stochastic_gradient.py:152: DeprecationWarning: n_iter parameter is deprecated in 0.19 and will be removed in 0.21. Use max_iter and tol instead.\n",
      "  DeprecationWarning)\n"
     ]
    },
    {
     "data": {
      "text/plain": [
       "Perceptron(alpha=0.0001, class_weight=None, early_stopping=False, eta0=0.1,\n",
       "      fit_intercept=True, max_iter=None, n_iter=40, n_iter_no_change=5,\n",
       "      n_jobs=None, penalty=None, random_state=0, shuffle=False, tol=None,\n",
       "      validation_fraction=0.1, verbose=0, warm_start=False)"
      ]
     },
     "execution_count": 141,
     "metadata": {},
     "output_type": "execute_result"
    }
   ],
   "source": [
    "ppn = Perceptron(n_iter=40, eta0=0.1, shuffle = False, random_state=0)\n",
    "ppn.fit(X_train_std, y_train)"
   ]
  },
  {
   "cell_type": "code",
   "execution_count": 142,
   "metadata": {},
   "outputs": [
    {
     "name": "stdout",
     "output_type": "stream",
     "text": [
      "accuracy: 69.13%\n"
     ]
    }
   ],
   "source": [
    "y_pred = ppn.predict(X_test_std)\n",
    "\n",
    "print('accuracy: {0:.2f}%'.format(accuracy_score(y_test,y_pred)*100))"
   ]
  },
  {
   "cell_type": "code",
   "execution_count": 145,
   "metadata": {},
   "outputs": [
    {
     "name": "stdout",
     "output_type": "stream",
     "text": [
      "0.6311881188118812\n",
      "0.6913265306122449\n"
     ]
    }
   ],
   "source": [
    "from sklearn.metrics import recall_score\n",
    "from sklearn.metrics import accuracy_score\n",
    "print(recall_score(y_test, y_pred))\n",
    "print(accuracy_score(y_test, y_pred))"
   ]
  },
  {
   "cell_type": "code",
   "execution_count": 143,
   "metadata": {},
   "outputs": [
    {
     "data": {
      "text/plain": [
       "0.2564511975276848"
      ]
     },
     "execution_count": 143,
     "metadata": {},
     "output_type": "execute_result"
    }
   ],
   "source": [
    "prediccion = ppn.predict(T_std)\n",
    "prediccion.mean()"
   ]
  },
  {
   "cell_type": "code",
   "execution_count": 151,
   "metadata": {},
   "outputs": [
    {
     "ename": "NameError",
     "evalue": "name 'test' is not defined",
     "output_type": "error",
     "traceback": [
      "\u001b[0;31m---------------------------------------------------------------------------\u001b[0m",
      "\u001b[0;31mNameError\u001b[0m                                 Traceback (most recent call last)",
      "\u001b[0;32m<ipython-input-151-d5b4675e937c>\u001b[0m in \u001b[0;36m<module>\u001b[0;34m()\u001b[0m\n\u001b[0;32m----> 1\u001b[0;31m \u001b[0mtest\u001b[0m\u001b[0;34m[\u001b[0m\u001b[0;34m\"person\"\u001b[0m\u001b[0;34m]\u001b[0m\u001b[0;34m\u001b[0m\u001b[0m\n\u001b[0m",
      "\u001b[0;31mNameError\u001b[0m: name 'test' is not defined"
     ]
    }
   ],
   "source": []
  },
  {
   "cell_type": "code",
   "execution_count": null,
   "metadata": {},
   "outputs": [],
   "source": []
  }
 ],
 "metadata": {
  "kernelspec": {
   "display_name": "Python 3",
   "language": "python",
   "name": "python3"
  },
  "language_info": {
   "codemirror_mode": {
    "name": "ipython",
    "version": 3
   },
   "file_extension": ".py",
   "mimetype": "text/x-python",
   "name": "python",
   "nbconvert_exporter": "python",
   "pygments_lexer": "ipython3",
   "version": "3.6.5"
  }
 },
 "nbformat": 4,
 "nbformat_minor": 2
}

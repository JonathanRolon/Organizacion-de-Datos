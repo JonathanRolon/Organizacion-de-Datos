{
 "cells": [
  {
   "cell_type": "code",
   "execution_count": 1,
   "metadata": {},
   "outputs": [],
   "source": [
    "#importacion de libraries\n",
    "import pandas as pd \n",
    "import numpy as np\n",
    "import matplotlib.pyplot as plt\n",
    "import seaborn as sns\n",
    "from sklearn.feature_extraction import FeatureHasher"
   ]
  },
  {
   "cell_type": "code",
   "execution_count": 2,
   "metadata": {},
   "outputs": [],
   "source": [
    "#carga de datasets\n",
    "#Le especifico el tipo a algunas columnas porque sino me tira un warning, podria especificar el verdadero tipo tambien\n",
    "todoSet = pd.read_csv(\"events_up_to_01062018.csv\",\\\n",
    "                   dtype = {3: object,5: object,\n",
    "                    6: object,7: object,\n",
    "                    8: object,9: object,\n",
    "                    10: object,11: object,\n",
    "                    12: object,13: object,\n",
    "                    14: object,15: object,\n",
    "                    16: object,17: object,\n",
    "                    18: object,19: object,\n",
    "                    20: object,21: object,\n",
    "                    22: object})\n",
    "trainSet = pd.read_csv(\"labels_training_set.csv\")\n",
    "usersJunioSet = pd.read_csv(\"trocafone_kaggle_test.csv\")"
   ]
  },
  {
   "cell_type": "code",
   "execution_count": 3,
   "metadata": {},
   "outputs": [
    {
     "data": {
      "text/html": [
       "<div>\n",
       "<style scoped>\n",
       "    .dataframe tbody tr th:only-of-type {\n",
       "        vertical-align: middle;\n",
       "    }\n",
       "\n",
       "    .dataframe tbody tr th {\n",
       "        vertical-align: top;\n",
       "    }\n",
       "\n",
       "    .dataframe thead th {\n",
       "        text-align: right;\n",
       "    }\n",
       "</style>\n",
       "<table border=\"1\" class=\"dataframe\">\n",
       "  <thead>\n",
       "    <tr style=\"text-align: right;\">\n",
       "      <th></th>\n",
       "      <th>timestamp</th>\n",
       "      <th>event</th>\n",
       "      <th>person</th>\n",
       "      <th>url</th>\n",
       "      <th>sku</th>\n",
       "      <th>model</th>\n",
       "      <th>condition</th>\n",
       "      <th>storage</th>\n",
       "      <th>color</th>\n",
       "      <th>skus</th>\n",
       "      <th>...</th>\n",
       "      <th>search_engine</th>\n",
       "      <th>channel</th>\n",
       "      <th>new_vs_returning</th>\n",
       "      <th>city</th>\n",
       "      <th>region</th>\n",
       "      <th>country</th>\n",
       "      <th>device_type</th>\n",
       "      <th>screen_resolution</th>\n",
       "      <th>operating_system_version</th>\n",
       "      <th>browser_version</th>\n",
       "    </tr>\n",
       "  </thead>\n",
       "  <tbody>\n",
       "    <tr>\n",
       "      <th>0</th>\n",
       "      <td>2018-05-18 00:11:59</td>\n",
       "      <td>viewed product</td>\n",
       "      <td>4886f805</td>\n",
       "      <td>NaN</td>\n",
       "      <td>9288.0</td>\n",
       "      <td>Samsung Galaxy J7 Prime</td>\n",
       "      <td>Excelente</td>\n",
       "      <td>32GB</td>\n",
       "      <td>Dourado</td>\n",
       "      <td>NaN</td>\n",
       "      <td>...</td>\n",
       "      <td>NaN</td>\n",
       "      <td>NaN</td>\n",
       "      <td>NaN</td>\n",
       "      <td>NaN</td>\n",
       "      <td>NaN</td>\n",
       "      <td>NaN</td>\n",
       "      <td>NaN</td>\n",
       "      <td>NaN</td>\n",
       "      <td>NaN</td>\n",
       "      <td>NaN</td>\n",
       "    </tr>\n",
       "    <tr>\n",
       "      <th>1</th>\n",
       "      <td>2018-05-18 00:11:27</td>\n",
       "      <td>viewed product</td>\n",
       "      <td>ad93850f</td>\n",
       "      <td>NaN</td>\n",
       "      <td>304.0</td>\n",
       "      <td>iPhone 5s</td>\n",
       "      <td>Muito Bom</td>\n",
       "      <td>32GB</td>\n",
       "      <td>Cinza espacial</td>\n",
       "      <td>NaN</td>\n",
       "      <td>...</td>\n",
       "      <td>NaN</td>\n",
       "      <td>NaN</td>\n",
       "      <td>NaN</td>\n",
       "      <td>NaN</td>\n",
       "      <td>NaN</td>\n",
       "      <td>NaN</td>\n",
       "      <td>NaN</td>\n",
       "      <td>NaN</td>\n",
       "      <td>NaN</td>\n",
       "      <td>NaN</td>\n",
       "    </tr>\n",
       "    <tr>\n",
       "      <th>2</th>\n",
       "      <td>2018-05-18 00:11:16</td>\n",
       "      <td>viewed product</td>\n",
       "      <td>0297fc1e</td>\n",
       "      <td>NaN</td>\n",
       "      <td>6888.0</td>\n",
       "      <td>iPhone 6S</td>\n",
       "      <td>Muito Bom</td>\n",
       "      <td>64GB</td>\n",
       "      <td>Prateado</td>\n",
       "      <td>NaN</td>\n",
       "      <td>...</td>\n",
       "      <td>NaN</td>\n",
       "      <td>NaN</td>\n",
       "      <td>NaN</td>\n",
       "      <td>NaN</td>\n",
       "      <td>NaN</td>\n",
       "      <td>NaN</td>\n",
       "      <td>NaN</td>\n",
       "      <td>NaN</td>\n",
       "      <td>NaN</td>\n",
       "      <td>NaN</td>\n",
       "    </tr>\n",
       "    <tr>\n",
       "      <th>3</th>\n",
       "      <td>2018-05-18 00:11:14</td>\n",
       "      <td>viewed product</td>\n",
       "      <td>2d681dd8</td>\n",
       "      <td>NaN</td>\n",
       "      <td>11890.0</td>\n",
       "      <td>iPhone 7</td>\n",
       "      <td>Bom</td>\n",
       "      <td>128GB</td>\n",
       "      <td>Vermelho</td>\n",
       "      <td>NaN</td>\n",
       "      <td>...</td>\n",
       "      <td>NaN</td>\n",
       "      <td>NaN</td>\n",
       "      <td>NaN</td>\n",
       "      <td>NaN</td>\n",
       "      <td>NaN</td>\n",
       "      <td>NaN</td>\n",
       "      <td>NaN</td>\n",
       "      <td>NaN</td>\n",
       "      <td>NaN</td>\n",
       "      <td>NaN</td>\n",
       "    </tr>\n",
       "    <tr>\n",
       "      <th>4</th>\n",
       "      <td>2018-05-18 00:11:09</td>\n",
       "      <td>viewed product</td>\n",
       "      <td>cccea85e</td>\n",
       "      <td>NaN</td>\n",
       "      <td>7517.0</td>\n",
       "      <td>LG G4 H818P</td>\n",
       "      <td>Excelente</td>\n",
       "      <td>32GB</td>\n",
       "      <td>Branco</td>\n",
       "      <td>NaN</td>\n",
       "      <td>...</td>\n",
       "      <td>NaN</td>\n",
       "      <td>NaN</td>\n",
       "      <td>NaN</td>\n",
       "      <td>NaN</td>\n",
       "      <td>NaN</td>\n",
       "      <td>NaN</td>\n",
       "      <td>NaN</td>\n",
       "      <td>NaN</td>\n",
       "      <td>NaN</td>\n",
       "      <td>NaN</td>\n",
       "    </tr>\n",
       "  </tbody>\n",
       "</table>\n",
       "<p>5 rows × 23 columns</p>\n",
       "</div>"
      ],
      "text/plain": [
       "             timestamp           event    person  url      sku  \\\n",
       "0  2018-05-18 00:11:59  viewed product  4886f805  NaN   9288.0   \n",
       "1  2018-05-18 00:11:27  viewed product  ad93850f  NaN    304.0   \n",
       "2  2018-05-18 00:11:16  viewed product  0297fc1e  NaN   6888.0   \n",
       "3  2018-05-18 00:11:14  viewed product  2d681dd8  NaN  11890.0   \n",
       "4  2018-05-18 00:11:09  viewed product  cccea85e  NaN   7517.0   \n",
       "\n",
       "                     model  condition storage           color skus  \\\n",
       "0  Samsung Galaxy J7 Prime  Excelente    32GB         Dourado  NaN   \n",
       "1                iPhone 5s  Muito Bom    32GB  Cinza espacial  NaN   \n",
       "2                iPhone 6S  Muito Bom    64GB        Prateado  NaN   \n",
       "3                 iPhone 7        Bom   128GB        Vermelho  NaN   \n",
       "4              LG G4 H818P  Excelente    32GB          Branco  NaN   \n",
       "\n",
       "        ...       search_engine channel new_vs_returning city region country  \\\n",
       "0       ...                 NaN     NaN              NaN  NaN    NaN     NaN   \n",
       "1       ...                 NaN     NaN              NaN  NaN    NaN     NaN   \n",
       "2       ...                 NaN     NaN              NaN  NaN    NaN     NaN   \n",
       "3       ...                 NaN     NaN              NaN  NaN    NaN     NaN   \n",
       "4       ...                 NaN     NaN              NaN  NaN    NaN     NaN   \n",
       "\n",
       "  device_type screen_resolution operating_system_version browser_version  \n",
       "0         NaN               NaN                      NaN             NaN  \n",
       "1         NaN               NaN                      NaN             NaN  \n",
       "2         NaN               NaN                      NaN             NaN  \n",
       "3         NaN               NaN                      NaN             NaN  \n",
       "4         NaN               NaN                      NaN             NaN  \n",
       "\n",
       "[5 rows x 23 columns]"
      ]
     },
     "execution_count": 3,
     "metadata": {},
     "output_type": "execute_result"
    }
   ],
   "source": [
    "todoSet.head()"
   ]
  },
  {
   "cell_type": "code",
   "execution_count": 4,
   "metadata": {},
   "outputs": [
    {
     "data": {
      "text/html": [
       "<div>\n",
       "<style scoped>\n",
       "    .dataframe tbody tr th:only-of-type {\n",
       "        vertical-align: middle;\n",
       "    }\n",
       "\n",
       "    .dataframe tbody tr th {\n",
       "        vertical-align: top;\n",
       "    }\n",
       "\n",
       "    .dataframe thead th {\n",
       "        text-align: right;\n",
       "    }\n",
       "</style>\n",
       "<table border=\"1\" class=\"dataframe\">\n",
       "  <thead>\n",
       "    <tr style=\"text-align: right;\">\n",
       "      <th></th>\n",
       "      <th>person</th>\n",
       "      <th>label</th>\n",
       "    </tr>\n",
       "  </thead>\n",
       "  <tbody>\n",
       "    <tr>\n",
       "      <th>0</th>\n",
       "      <td>0566e9c1</td>\n",
       "      <td>0</td>\n",
       "    </tr>\n",
       "    <tr>\n",
       "      <th>1</th>\n",
       "      <td>6ec7ee77</td>\n",
       "      <td>0</td>\n",
       "    </tr>\n",
       "    <tr>\n",
       "      <th>2</th>\n",
       "      <td>abe7a2fb</td>\n",
       "      <td>0</td>\n",
       "    </tr>\n",
       "    <tr>\n",
       "      <th>3</th>\n",
       "      <td>34728364</td>\n",
       "      <td>0</td>\n",
       "    </tr>\n",
       "    <tr>\n",
       "      <th>4</th>\n",
       "      <td>87ed62de</td>\n",
       "      <td>0</td>\n",
       "    </tr>\n",
       "  </tbody>\n",
       "</table>\n",
       "</div>"
      ],
      "text/plain": [
       "     person  label\n",
       "0  0566e9c1      0\n",
       "1  6ec7ee77      0\n",
       "2  abe7a2fb      0\n",
       "3  34728364      0\n",
       "4  87ed62de      0"
      ]
     },
     "execution_count": 4,
     "metadata": {},
     "output_type": "execute_result"
    }
   ],
   "source": [
    "trainSet.head()"
   ]
  },
  {
   "cell_type": "code",
   "execution_count": 5,
   "metadata": {},
   "outputs": [
    {
     "data": {
      "text/html": [
       "<div>\n",
       "<style scoped>\n",
       "    .dataframe tbody tr th:only-of-type {\n",
       "        vertical-align: middle;\n",
       "    }\n",
       "\n",
       "    .dataframe tbody tr th {\n",
       "        vertical-align: top;\n",
       "    }\n",
       "\n",
       "    .dataframe thead th {\n",
       "        text-align: right;\n",
       "    }\n",
       "</style>\n",
       "<table border=\"1\" class=\"dataframe\">\n",
       "  <thead>\n",
       "    <tr style=\"text-align: right;\">\n",
       "      <th></th>\n",
       "      <th>person</th>\n",
       "    </tr>\n",
       "  </thead>\n",
       "  <tbody>\n",
       "    <tr>\n",
       "      <th>0</th>\n",
       "      <td>4886f805</td>\n",
       "    </tr>\n",
       "    <tr>\n",
       "      <th>1</th>\n",
       "      <td>0297fc1e</td>\n",
       "    </tr>\n",
       "    <tr>\n",
       "      <th>2</th>\n",
       "      <td>2d681dd8</td>\n",
       "    </tr>\n",
       "    <tr>\n",
       "      <th>3</th>\n",
       "      <td>cccea85e</td>\n",
       "    </tr>\n",
       "    <tr>\n",
       "      <th>4</th>\n",
       "      <td>4c8a8b93</td>\n",
       "    </tr>\n",
       "  </tbody>\n",
       "</table>\n",
       "</div>"
      ],
      "text/plain": [
       "     person\n",
       "0  4886f805\n",
       "1  0297fc1e\n",
       "2  2d681dd8\n",
       "3  cccea85e\n",
       "4  4c8a8b93"
      ]
     },
     "execution_count": 5,
     "metadata": {},
     "output_type": "execute_result"
    }
   ],
   "source": [
    "usersJunioSet.head()"
   ]
  },
  {
   "cell_type": "code",
   "execution_count": 6,
   "metadata": {},
   "outputs": [
    {
     "data": {
      "text/plain": [
       "timestamp                    object\n",
       "event                        object\n",
       "person                       object\n",
       "url                          object\n",
       "sku                         float64\n",
       "model                        object\n",
       "condition                    object\n",
       "storage                      object\n",
       "color                        object\n",
       "skus                         object\n",
       "search_term                  object\n",
       "staticpage                   object\n",
       "campaign_source              object\n",
       "search_engine                object\n",
       "channel                      object\n",
       "new_vs_returning             object\n",
       "city                         object\n",
       "region                       object\n",
       "country                      object\n",
       "device_type                  object\n",
       "screen_resolution            object\n",
       "operating_system_version     object\n",
       "browser_version              object\n",
       "dtype: object"
      ]
     },
     "execution_count": 6,
     "metadata": {},
     "output_type": "execute_result"
    }
   ],
   "source": [
    "todoSet.dtypes"
   ]
  },
  {
   "cell_type": "code",
   "execution_count": 3,
   "metadata": {},
   "outputs": [],
   "source": [
    "#conversion de Object a datetime\n",
    "todoSet['timestamp'] = pd.to_datetime(todoSet['timestamp'])"
   ]
  },
  {
   "cell_type": "markdown",
   "metadata": {},
   "source": [
    "# Feature Engineering"
   ]
  },
  {
   "cell_type": "code",
   "execution_count": 4,
   "metadata": {},
   "outputs": [],
   "source": [
    "#Me quedo con los usuarios que convirtieron en junio(los de train)\n",
    "usersTrain = todoSet[todoSet['person'].isin(trainSet['person'])].sort_values(by = 'timestamp')"
   ]
  },
  {
   "cell_type": "code",
   "execution_count": 5,
   "metadata": {},
   "outputs": [],
   "source": [
    "#Creo una columna con solo fecha sin tiempo\n",
    "usersTrain['fecha'] = usersTrain['timestamp'].dt.date\n",
    "usersTrain['meses'] = usersTrain['timestamp'].dt.month\n"
   ]
  },
  {
   "cell_type": "markdown",
   "metadata": {},
   "source": [
    "# Features Numericos se realizaran en otro archivo"
   ]
  },
  {
   "cell_type": "markdown",
   "metadata": {},
   "source": [
    "### Entiendo tiene mas sentido tomar peridos mensuales en lugar de diariamente entonces tendria n columnas de features numericos multiplicado por m donde m=cantidad de periodos tomados en este caso m=5"
   ]
  },
  {
   "cell_type": "markdown",
   "metadata": {},
   "source": [
    "# Features categoricos"
   ]
  },
  {
   "cell_type": "code",
   "execution_count": 6,
   "metadata": {},
   "outputs": [
    {
     "data": {
      "text/plain": [
       "1417490    2018-01-01\n",
       "2020472    2018-01-01\n",
       "2275734    2018-01-01\n",
       "2305584    2018-01-01\n",
       "1753252    2018-01-01\n",
       "Name: fecha, dtype: object"
      ]
     },
     "execution_count": 6,
     "metadata": {},
     "output_type": "execute_result"
    }
   ],
   "source": [
    "usersTrain['fecha'].head()"
   ]
  },
  {
   "cell_type": "code",
   "execution_count": 7,
   "metadata": {},
   "outputs": [
    {
     "data": {
      "text/plain": [
       "19414"
      ]
     },
     "execution_count": 7,
     "metadata": {},
     "output_type": "execute_result"
    }
   ],
   "source": [
    "usersTrain['person'].nunique()"
   ]
  },
  {
   "cell_type": "code",
   "execution_count": 8,
   "metadata": {},
   "outputs": [],
   "source": [
    "#ARMO EL DICCIONARIO PARA USAR PARA EL TEST CON LAS DIMENSIONES\n",
    "dict_df_cant_col={}"
   ]
  },
  {
   "cell_type": "code",
   "execution_count": 9,
   "metadata": {},
   "outputs": [],
   "source": [
    "#GENERO FEATURE SEPARADOS POR MES\n",
    "\n",
    "def acomodar_dataframe(dataframe):\n",
    "    dataframe=dataframe.pivot_table(index='person',columns='meses').reset_index()\n",
    "    #dataframe.replace([np.inf, -np.inf], 0,inplace=True)\n",
    "    dataframe.fillna(0, inplace=True)\n",
    "    columns = dataframe.columns.tolist()\n",
    "    columns_name=[]\n",
    "    for x in columns:\n",
    "        columns_name=columns_name+[str(x[0])+'-'+str(x[1])]\n",
    "    columns_name[0]='person'\n",
    "    #columns_name[1]='label'\n",
    "    dataframe.columns=columns_name\n",
    "    dataframe.columns = dataframe.columns.str.replace('-1', \"-Enero\")\n",
    "    dataframe.columns = dataframe.columns.str.replace('-2', \"-Febrero\")\n",
    "    dataframe.columns = dataframe.columns.str.replace('-3', \"-Marzo\")\n",
    "    dataframe.columns = dataframe.columns.str.replace('-4', \"-Abril\")\n",
    "    dataframe.columns = dataframe.columns.str.replace('-5', \"-Mayo\")\n",
    "#DROPEANDO COLUMNAS NULAS\n",
    "    #    dataframe= dataframe.loc[:, (dataframe != 0).any(axis=0)]\n",
    "    return dataframe\n"
   ]
  },
  {
   "cell_type": "code",
   "execution_count": 10,
   "metadata": {},
   "outputs": [],
   "source": [
    "#GENERO EL FEATURE A PARTIR DE UN DF PREPROCESADO\n",
    "def armar_feature(feature,nombre_columna):\n",
    "    \n",
    "    #GENERO PARAMETRO FEATURE HASHING\n",
    "    col=[]\n",
    "    columna=nombre_columna\n",
    "    cant_elem=(feature[columna].unique().size) + 1\n",
    "    #GENERO NOMBRE DE LAS COLUMNAS\n",
    "    for x in range(1,cant_elem+1):\n",
    "        col.append(\"F13_\"+columna+\"_fh\"+str(x))\n",
    "    #APLICO FEATURE HASHING Y CONCATENO\n",
    "    fh = FeatureHasher(n_features=cant_elem, input_type='string')\n",
    "    sp = fh.fit_transform(feature[columna])\n",
    "    sp=sp.toarray().astype('int8')\n",
    "    df = pd.DataFrame(sp, columns=col)\n",
    "    df.reset_index(drop=True, inplace=True)\n",
    "    feature.reset_index(drop=True, inplace=True)\n",
    "    #TODA LA DATA JUNTA\n",
    "    feature=pd.concat([feature, df], axis=1)    \n",
    "    \n",
    "    return [feature,cant_elem]"
   ]
  },
  {
   "cell_type": "code",
   "execution_count": 11,
   "metadata": {},
   "outputs": [],
   "source": [
    "def armar_feature2(feature,nombre_columna,numero_de_columnas):\n",
    "    \n",
    "    #GENERO PARAMETRO FEATURE HASHING\n",
    "    col=[]\n",
    "    columna=nombre_columna\n",
    "    cant_elem=numero_de_columnas\n",
    "    #GENERO NOMBRE DE LAS COLUMNAS\n",
    "    for x in range(1,cant_elem+1):\n",
    "        col.append(\"F13_\"+columna+\"_fh\"+str(x))\n",
    "    #APLICO FEATURE HASHING Y CONCATENO\n",
    "    fh = FeatureHasher(n_features=cant_elem, input_type='string')\n",
    "    sp = fh.fit_transform(feature[columna])\n",
    "    sp=sp.toarray().astype('int8')\n",
    "    df = pd.DataFrame(sp, columns=col)\n",
    "    df.reset_index(drop=True, inplace=True)\n",
    "    feature.reset_index(drop=True, inplace=True)\n",
    "    #TODA LA DATA JUNTA\n",
    "    feature=pd.concat([feature, df], axis=1)    \n",
    "    \n",
    "    return [feature,cant_elem]"
   ]
  },
  {
   "cell_type": "markdown",
   "metadata": {},
   "source": [
    "### COMENZAMOS CON EL ARMADO DE LOS FEATURES"
   ]
  },
  {
   "cell_type": "code",
   "execution_count": 12,
   "metadata": {},
   "outputs": [
    {
     "data": {
      "text/plain": [
       "(18570, 321)"
      ]
     },
     "execution_count": 12,
     "metadata": {},
     "output_type": "execute_result"
    }
   ],
   "source": [
    "#13mo feature: colores vistos por el usuario por dia\n",
    "usersColors = usersTrain[usersTrain['event'] == 'viewed product']\\\n",
    "              [['fecha','meses','person','color']].drop_duplicates()\n",
    "\n",
    "usersColors=armar_feature(usersColors,'color')\n",
    "dict_df_cant_col['usersColors']=usersColors[1]\n",
    "usersColors=acomodar_dataframe(usersColors[0])\n",
    "usersColors.shape"
   ]
  },
  {
   "cell_type": "code",
   "execution_count": 13,
   "metadata": {},
   "outputs": [
    {
     "data": {
      "text/plain": [
       "(2164, 176)"
      ]
     },
     "execution_count": 13,
     "metadata": {},
     "output_type": "execute_result"
    }
   ],
   "source": [
    "#14mo feature: colores comprados por el usuario por dia\n",
    "usersColorsConversions = usersTrain[usersTrain['event'] == 'conversion']\\\n",
    "                         [['fecha','meses','person','color']].drop_duplicates()\n",
    "\n",
    "usersColorsConversions=armar_feature(usersColorsConversions,'color')\n",
    "dict_df_cant_col['usersColorsConversions']=usersColorsConversions[1]\n",
    "usersColorsConversions=acomodar_dataframe(usersColorsConversions[0])\n",
    "usersColorsConversions.shape"
   ]
  },
  {
   "cell_type": "code",
   "execution_count": 14,
   "metadata": {},
   "outputs": [
    {
     "data": {
      "text/plain": [
       "(16452, 261)"
      ]
     },
     "execution_count": 14,
     "metadata": {},
     "output_type": "execute_result"
    }
   ],
   "source": [
    "#15mo feature: colores que llegan al checkout por usuario por dia\n",
    "usersColorsCheckouts = usersTrain[usersTrain['event'] == 'checkout']\\\n",
    "                         [['fecha','meses','person','color']].drop_duplicates()\n",
    "\n",
    "usersColorsCheckouts=armar_feature(usersColorsCheckouts,'color')\n",
    "dict_df_cant_col['usersColorsCheckouts']=usersColorsCheckouts[1]\n",
    "usersColorsCheckouts=acomodar_dataframe(usersColorsCheckouts[0])\n",
    "usersColorsCheckouts.shape"
   ]
  },
  {
   "cell_type": "code",
   "execution_count": null,
   "metadata": {},
   "outputs": [],
   "source": []
  },
  {
   "cell_type": "code",
   "execution_count": 15,
   "metadata": {},
   "outputs": [
    {
     "data": {
      "text/plain": [
       "(16452, 31)"
      ]
     },
     "execution_count": 15,
     "metadata": {},
     "output_type": "execute_result"
    }
   ],
   "source": [
    "#16mo feature: condition de modelos con checkouts por usuario por dia\n",
    "usersConditionCheckouts = usersTrain[usersTrain['event'] == 'checkout']\\\n",
    "                         [['fecha','meses','person','condition']].drop_duplicates()\n",
    "\n",
    "usersConditionCheckouts=armar_feature(usersConditionCheckouts,'condition')\n",
    "dict_df_cant_col['usersConditionCheckouts']=usersConditionCheckouts[1]\n",
    "usersConditionCheckouts=acomodar_dataframe(usersConditionCheckouts[0])\n",
    "usersConditionCheckouts.shape"
   ]
  },
  {
   "cell_type": "code",
   "execution_count": 16,
   "metadata": {},
   "outputs": [
    {
     "data": {
      "text/plain": [
       "(2164, 31)"
      ]
     },
     "execution_count": 16,
     "metadata": {},
     "output_type": "execute_result"
    }
   ],
   "source": [
    "#17mo feature: condition de modelos con conversiones por usuario por dia\n",
    "usersConditionConversions = usersTrain[usersTrain['event'] == 'conversion']\\\n",
    "                         [['fecha','meses','person','condition']].drop_duplicates()\n",
    "\n",
    "usersConditionConversions=armar_feature(usersConditionConversions,'condition')\n",
    "dict_df_cant_col['usersConditionConversions']=usersConditionConversions[1]\n",
    "usersConditionConversions=acomodar_dataframe(usersConditionConversions[0])\n",
    "usersConditionConversions.shape"
   ]
  },
  {
   "cell_type": "code",
   "execution_count": 17,
   "metadata": {},
   "outputs": [
    {
     "data": {
      "text/plain": [
       "(18570, 31)"
      ]
     },
     "execution_count": 17,
     "metadata": {},
     "output_type": "execute_result"
    }
   ],
   "source": [
    "#18mo feature: condition de modelos vistos por usuario por dia\n",
    "usersConditionViewed = usersTrain[usersTrain['event'] == 'viewed product']\\\n",
    "                         [['fecha','meses','person','condition']].drop_duplicates()\n",
    "\n",
    "usersConditionViewed=armar_feature(usersConditionViewed,'condition')\n",
    "dict_df_cant_col['usersConditionViewed']=usersConditionViewed[1]\n",
    "usersConditionViewed=acomodar_dataframe(usersConditionViewed[0])\n",
    "usersConditionViewed.shape"
   ]
  },
  {
   "cell_type": "code",
   "execution_count": 18,
   "metadata": {},
   "outputs": [
    {
     "data": {
      "text/plain": [
       "(18570, 971)"
      ]
     },
     "execution_count": 18,
     "metadata": {},
     "output_type": "execute_result"
    }
   ],
   "source": [
    "#19mo feature: modelo visto por usuario por dia \n",
    "usersModelosVistos = usersTrain[usersTrain['event'] == 'viewed product']\\\n",
    "                         [['fecha','meses','person','model']].drop_duplicates()\n",
    "\n",
    "usersModelosVistos=armar_feature(usersModelosVistos,'model')\n",
    "dict_df_cant_col['usersModelosVistos']=usersModelosVistos[1]\n",
    "usersModelosVistos=acomodar_dataframe(usersModelosVistos[0])\n",
    "usersModelosVistos.shape\n"
   ]
  },
  {
   "cell_type": "code",
   "execution_count": 19,
   "metadata": {},
   "outputs": [
    {
     "data": {
      "text/plain": [
       "(16452, 846)"
      ]
     },
     "execution_count": 19,
     "metadata": {},
     "output_type": "execute_result"
    }
   ],
   "source": [
    "#20mo feature: modelo con checkouts por usuario por dia\n",
    "usersModelsCheckouts = usersTrain[usersTrain['event'] == 'checkout']\\\n",
    "                         [['fecha','meses','person','model']].drop_duplicates()\n",
    "\n",
    "usersModelsCheckouts=armar_feature(usersModelsCheckouts,'model')\n",
    "dict_df_cant_col['usersModelsCheckouts']=usersModelsCheckouts[1]\n",
    "usersModelsCheckouts=acomodar_dataframe(usersModelsCheckouts[0])\n",
    "usersModelsCheckouts.shape"
   ]
  },
  {
   "cell_type": "code",
   "execution_count": 20,
   "metadata": {},
   "outputs": [
    {
     "data": {
      "text/plain": [
       "(2164, 691)"
      ]
     },
     "execution_count": 20,
     "metadata": {},
     "output_type": "execute_result"
    }
   ],
   "source": [
    "#21mo feature: modelo con conversiones por usuario por dia\n",
    "usersModelsConversions = usersTrain[usersTrain['event'] == 'conversion']\\\n",
    "                         [['fecha','meses','person','model']].drop_duplicates()\n",
    "\n",
    "usersModelsConversions=armar_feature(usersModelsConversions,'model')\n",
    "dict_df_cant_col['usersModelsConversions']=usersModelsConversions[1]\n",
    "usersModelsConversions=acomodar_dataframe(usersModelsConversions[0])\n",
    "usersModelsConversions.shape"
   ]
  },
  {
   "cell_type": "code",
   "execution_count": 21,
   "metadata": {},
   "outputs": [
    {
     "data": {
      "text/plain": [
       "(5802, 556)"
      ]
     },
     "execution_count": 21,
     "metadata": {},
     "output_type": "execute_result"
    }
   ],
   "source": [
    "#22mo feature: skus vistos en cierta busqueda en el site por usuario por dia\n",
    "usersSkusViewedInSearchedProducts = usersTrain[usersTrain['event'] == 'searched products']\\\n",
    "                 [['fecha','meses','person','skus']].dropna().drop_duplicates()\n",
    "\n",
    "cant_column=int(round(np.sqrt((usersSkusViewedInSearchedProducts['skus'].unique().size))))\n",
    "usersSkusViewedInSearchedProducts=armar_feature2(usersSkusViewedInSearchedProducts,'skus',cant_column)\n",
    "dict_df_cant_col['usersSkusViewedInSearchedProducts']=usersSkusViewedInSearchedProducts[1]\n",
    "usersSkusViewedInSearchedProducts=acomodar_dataframe(usersSkusViewedInSearchedProducts[0])\n",
    "usersSkusViewedInSearchedProducts.shape"
   ]
  },
  {
   "cell_type": "code",
   "execution_count": 22,
   "metadata": {},
   "outputs": [
    {
     "data": {
      "text/plain": [
       "(12601, 291)"
      ]
     },
     "execution_count": 22,
     "metadata": {},
     "output_type": "execute_result"
    }
   ],
   "source": [
    "#23mo feature: skus vistos en la home page por user por dia\n",
    "usersSkusViewedHomePage = usersTrain[usersTrain['event'] == 'generic listing']\\\n",
    "                 [['fecha','meses','person','skus']].dropna().drop_duplicates()\n",
    "\n",
    "cant_column=int(round(np.sqrt((usersSkusViewedHomePage['skus'].unique().size))))\n",
    "usersSkusViewedHomePage=armar_feature2(usersSkusViewedHomePage,'skus',cant_column)\n",
    "dict_df_cant_col['usersSkusViewedHomePage']=usersSkusViewedHomePage[1]\n",
    "usersSkusViewedHomePage=acomodar_dataframe(usersSkusViewedHomePage[0])\n",
    "usersSkusViewedHomePage.shape"
   ]
  },
  {
   "cell_type": "code",
   "execution_count": 23,
   "metadata": {},
   "outputs": [
    {
     "data": {
      "text/plain": [
       "(9589, 686)"
      ]
     },
     "execution_count": 23,
     "metadata": {},
     "output_type": "execute_result"
    }
   ],
   "source": [
    "#24mo feature: skus vistos en un listado especifico de una marca por user por dia\n",
    "usersSkusViewedBrandListing = usersTrain[usersTrain['event'] == 'brand listing']\\\n",
    "                              [['fecha','meses','person','skus']].dropna().drop_duplicates()\n",
    "\n",
    "\n",
    "cant_column=int(round(np.sqrt((usersSkusViewedBrandListing['skus'].unique().size))))\n",
    "usersSkusViewedBrandListing=armar_feature2(usersSkusViewedBrandListing,'skus',cant_column)\n",
    "dict_df_cant_col['usersSkusViewedBrandListing']=usersSkusViewedBrandListing[1]\n",
    "usersSkusViewedBrandListing=acomodar_dataframe(usersSkusViewedBrandListing[0])\n",
    "usersSkusViewedBrandListing.shape"
   ]
  },
  {
   "cell_type": "code",
   "execution_count": 24,
   "metadata": {},
   "outputs": [
    {
     "data": {
      "text/plain": [
       "(6273, 401)"
      ]
     },
     "execution_count": 24,
     "metadata": {},
     "output_type": "execute_result"
    }
   ],
   "source": [
    "#25mo feature: search terms por usuario por dia\n",
    "usersSearchTerms = usersTrain[usersTrain['event'] == 'searched products']\\\n",
    "                 [['fecha','meses','person','search_term']].dropna().drop_duplicates()\n",
    "\n",
    "cant_column=int(round(np.sqrt((usersSearchTerms['search_term'].unique().size))))\n",
    "usersSearchTerms=armar_feature2(usersSearchTerms,'search_term',cant_column)\n",
    "dict_df_cant_col['usersSearchTerms']=usersSearchTerms[1]\n",
    "usersSearchTerms=acomodar_dataframe(usersSearchTerms[0])\n",
    "usersSearchTerms.shape\n"
   ]
  },
  {
   "cell_type": "code",
   "execution_count": 25,
   "metadata": {},
   "outputs": [
    {
     "data": {
      "text/plain": [
       "(19126, 1431)"
      ]
     },
     "execution_count": 25,
     "metadata": {},
     "output_type": "execute_result"
    }
   ],
   "source": [
    "#26mo feature: screen resolution por usuario por dia \n",
    "usersScreenResolution = usersTrain[usersTrain['event'] == 'visited site']\\\n",
    "                 [['fecha','meses','person','screen_resolution']].dropna().drop_duplicates()\n",
    "\n",
    "usersScreenResolution=armar_feature(usersScreenResolution,'screen_resolution')\n",
    "dict_df_cant_col['usersScreenResolution']=usersScreenResolution[1]\n",
    "usersScreenResolution=acomodar_dataframe(usersScreenResolution[0])\n",
    "usersScreenResolution.shape"
   ]
  },
  {
   "cell_type": "code",
   "execution_count": 26,
   "metadata": {},
   "outputs": [
    {
     "data": {
      "text/plain": [
       "(2164, 46)"
      ]
     },
     "execution_count": 26,
     "metadata": {},
     "output_type": "execute_result"
    }
   ],
   "source": [
    "#27mo feature: storage de dispositivos convertidos por usuario por dia\n",
    "usersStorageConversion = usersTrain[usersTrain['event'] == 'conversion']\\\n",
    "                 [['fecha','meses','person','storage']].dropna().drop_duplicates()\n",
    "\n",
    "usersStorageConversion=armar_feature(usersStorageConversion,'storage')\n",
    "dict_df_cant_col['usersStorageConversion']=usersStorageConversion[1]\n",
    "usersStorageConversion=acomodar_dataframe(usersStorageConversion[0])\n",
    "usersStorageConversion.shape"
   ]
  },
  {
   "cell_type": "code",
   "execution_count": 27,
   "metadata": {},
   "outputs": [
    {
     "data": {
      "text/plain": [
       "(15884, 121)"
      ]
     },
     "execution_count": 27,
     "metadata": {},
     "output_type": "execute_result"
    }
   ],
   "source": [
    "#28mo feature: campaign source por user por dia\n",
    "usersCampaignSource =  usersTrain[usersTrain['event'] == 'ad campaign hit']\\\n",
    "                 [['fecha','meses','person','campaign_source']].dropna().drop_duplicates()\n",
    "\n",
    "usersCampaignSource=armar_feature(usersCampaignSource,'campaign_source')\n",
    "dict_df_cant_col['usersCampaignSource']=usersCampaignSource[1]\n",
    "usersCampaignSource=acomodar_dataframe(usersCampaignSource[0])\n",
    "usersCampaignSource.shape"
   ]
  },
  {
   "cell_type": "code",
   "execution_count": 28,
   "metadata": {},
   "outputs": [
    {
     "data": {
      "text/plain": [
       "(19126, 201)"
      ]
     },
     "execution_count": 28,
     "metadata": {},
     "output_type": "execute_result"
    }
   ],
   "source": [
    "#29mo feature: country access user\n",
    "usersCountry = usersTrain[usersTrain['event'] == 'visited site']\\\n",
    "                 [['fecha','meses','person','country']].dropna().drop_duplicates()\n",
    "\n",
    "usersCountry=armar_feature(usersCountry,'country')\n",
    "dict_df_cant_col['usersCountry']=usersCountry[1]\n",
    "usersCountry=acomodar_dataframe(usersCountry[0])\n",
    "usersCountry.shape"
   ]
  },
  {
   "cell_type": "code",
   "execution_count": null,
   "metadata": {},
   "outputs": [],
   "source": [
    "#30mo feature: city access user\n",
    "usersCity = usersTrain[usersTrain['event'] == 'visited site']\\\n",
    "                 [['fecha','meses','person','city']].dropna().drop_duplicates()\n",
    "\n",
    "usersCity=armar_feature(usersCity,'city')\n",
    "dict_df_cant_col['usersCity']=usersCity[1]\n",
    "usersCity=acomodar_dataframe(usersCity[0])\n",
    "usersCity.shape"
   ]
  },
  {
   "cell_type": "code",
   "execution_count": 34,
   "metadata": {},
   "outputs": [
    {
     "data": {
      "text/plain": [
       "(19126, 426)"
      ]
     },
     "execution_count": 34,
     "metadata": {},
     "output_type": "execute_result"
    }
   ],
   "source": [
    "#31mo feature: region access user\n",
    "usersRegionAccess = usersTrain[usersTrain['event'] == 'visited site']\\\n",
    "                 [['fecha','meses','person','region']].dropna().drop_duplicates()\n",
    "\n",
    "\n",
    "usersRegionAccess=armar_feature(usersRegionAccess,'region')\n",
    "dict_df_cant_col['usersRegionAccess']=usersRegionAccess[1]\n",
    "usersRegionAccess=acomodar_dataframe(usersRegionAccess[0])\n",
    "usersRegionAccess.shape"
   ]
  },
  {
   "cell_type": "code",
   "execution_count": 35,
   "metadata": {},
   "outputs": [
    {
     "data": {
      "text/plain": [
       "(19126, 26)"
      ]
     },
     "execution_count": 35,
     "metadata": {},
     "output_type": "execute_result"
    }
   ],
   "source": [
    "#32mo feature: device type visited site users\n",
    "usersDevicesTypes = usersTrain[usersTrain['event'] == 'visited site']\\\n",
    "                 [['fecha','meses','person','device_type']].dropna().drop_duplicates()\n",
    "\n",
    "usersDevicesTypes=armar_feature(usersDevicesTypes,'device_type')\n",
    "dict_df_cant_col['usersDevicesTypes']=usersDevicesTypes[1]\n",
    "usersDevicesTypes=acomodar_dataframe(usersDevicesTypes[0])\n",
    "usersDevicesTypes.shape"
   ]
  },
  {
   "cell_type": "code",
   "execution_count": 36,
   "metadata": {},
   "outputs": [
    {
     "data": {
      "text/html": [
       "<div>\n",
       "<style scoped>\n",
       "    .dataframe tbody tr th:only-of-type {\n",
       "        vertical-align: middle;\n",
       "    }\n",
       "\n",
       "    .dataframe tbody tr th {\n",
       "        vertical-align: top;\n",
       "    }\n",
       "\n",
       "    .dataframe thead th {\n",
       "        text-align: right;\n",
       "    }\n",
       "</style>\n",
       "<table border=\"1\" class=\"dataframe\">\n",
       "  <thead>\n",
       "    <tr style=\"text-align: right;\">\n",
       "      <th></th>\n",
       "      <th>fecha</th>\n",
       "      <th>meses</th>\n",
       "      <th>person</th>\n",
       "      <th>device_type</th>\n",
       "    </tr>\n",
       "  </thead>\n",
       "  <tbody>\n",
       "  </tbody>\n",
       "</table>\n",
       "</div>"
      ],
      "text/plain": [
       "Empty DataFrame\n",
       "Columns: [fecha, meses, person, device_type]\n",
       "Index: []"
      ]
     },
     "execution_count": 36,
     "metadata": {},
     "output_type": "execute_result"
    }
   ],
   "source": [
    "#33mo feature: device type checkout user\n",
    "usersDeviceTypeCheckouts = usersTrain[usersTrain['event'] == 'checkout']\\\n",
    "                 [['fecha','meses','person','device_type']].dropna().drop_duplicates()\n",
    "\n",
    "\n",
    "#usersDeviceTypeCheckouts=armar_feature(usersTrain,usersDeviceTypeCheckouts,'device_type')\n",
    "#usersDeviceTypeCheckouts=acomodar_dataframe(usersDeviceTypeCheckouts)\n",
    "#print usersDeviceTypeCheckouts.shape\n",
    "#usersDeviceTypeCheckouts['person'].nunique()\n",
    "usersDeviceTypeCheckouts.head()\n"
   ]
  },
  {
   "cell_type": "code",
   "execution_count": 37,
   "metadata": {},
   "outputs": [
    {
     "data": {
      "text/html": [
       "<div>\n",
       "<style scoped>\n",
       "    .dataframe tbody tr th:only-of-type {\n",
       "        vertical-align: middle;\n",
       "    }\n",
       "\n",
       "    .dataframe tbody tr th {\n",
       "        vertical-align: top;\n",
       "    }\n",
       "\n",
       "    .dataframe thead th {\n",
       "        text-align: right;\n",
       "    }\n",
       "</style>\n",
       "<table border=\"1\" class=\"dataframe\">\n",
       "  <thead>\n",
       "    <tr style=\"text-align: right;\">\n",
       "      <th></th>\n",
       "      <th>fecha</th>\n",
       "      <th>meses</th>\n",
       "      <th>person</th>\n",
       "      <th>device_type</th>\n",
       "    </tr>\n",
       "  </thead>\n",
       "  <tbody>\n",
       "  </tbody>\n",
       "</table>\n",
       "</div>"
      ],
      "text/plain": [
       "Empty DataFrame\n",
       "Columns: [fecha, meses, person, device_type]\n",
       "Index: []"
      ]
     },
     "execution_count": 37,
     "metadata": {},
     "output_type": "execute_result"
    }
   ],
   "source": [
    "#34mo feature: device type conversion user\n",
    "usersDeviceTypeConversion = usersTrain[usersTrain['event'] == 'conversion']\\\n",
    "                 [['fecha','meses','person','device_type']].dropna().drop_duplicates()\n",
    "\n",
    "#usersDeviceTypeConversion=armar_feature(usersTrain,usersDeviceTypeConversion,'device_type')\n",
    "#usersDeviceTypeConversion=acomodar_dataframe(usersDeviceTypeConversion)\n",
    "#print usersDeviceTypeConversion.shape\n",
    "#usersDeviceTypeConversion['person'].nunique()\n",
    "\n",
    "usersDeviceTypeConversion.head()\n",
    "\n"
   ]
  },
  {
   "cell_type": "markdown",
   "metadata": {},
   "source": [
    "### COMENZAMOS CON EL JOIN DE LOS FEATURES CATEGORICOS\n",
    "### PRIMERO GENERAMOS EL DF DONDE REALIZAREMOS EL MERGE"
   ]
  },
  {
   "cell_type": "code",
   "execution_count": 38,
   "metadata": {},
   "outputs": [
    {
     "data": {
      "text/html": [
       "<div>\n",
       "<style scoped>\n",
       "    .dataframe tbody tr th:only-of-type {\n",
       "        vertical-align: middle;\n",
       "    }\n",
       "\n",
       "    .dataframe tbody tr th {\n",
       "        vertical-align: top;\n",
       "    }\n",
       "\n",
       "    .dataframe thead th {\n",
       "        text-align: right;\n",
       "    }\n",
       "</style>\n",
       "<table border=\"1\" class=\"dataframe\">\n",
       "  <thead>\n",
       "    <tr style=\"text-align: right;\">\n",
       "      <th></th>\n",
       "      <th>person</th>\n",
       "      <th>label</th>\n",
       "    </tr>\n",
       "  </thead>\n",
       "  <tbody>\n",
       "    <tr>\n",
       "      <th>0</th>\n",
       "      <td>0566e9c1</td>\n",
       "      <td>0</td>\n",
       "    </tr>\n",
       "    <tr>\n",
       "      <th>1</th>\n",
       "      <td>6ec7ee77</td>\n",
       "      <td>0</td>\n",
       "    </tr>\n",
       "    <tr>\n",
       "      <th>2</th>\n",
       "      <td>abe7a2fb</td>\n",
       "      <td>0</td>\n",
       "    </tr>\n",
       "    <tr>\n",
       "      <th>3</th>\n",
       "      <td>34728364</td>\n",
       "      <td>0</td>\n",
       "    </tr>\n",
       "    <tr>\n",
       "      <th>4</th>\n",
       "      <td>87ed62de</td>\n",
       "      <td>0</td>\n",
       "    </tr>\n",
       "  </tbody>\n",
       "</table>\n",
       "</div>"
      ],
      "text/plain": [
       "     person  label\n",
       "0  0566e9c1      0\n",
       "1  6ec7ee77      0\n",
       "2  abe7a2fb      0\n",
       "3  34728364      0\n",
       "4  87ed62de      0"
      ]
     },
     "execution_count": 38,
     "metadata": {},
     "output_type": "execute_result"
    }
   ],
   "source": [
    "#GENERO EL DF CON PERSON Y LABEL PARA EL MERGE\n",
    "join_features_categoricos=trainSet.loc[:,['person','label']].drop_duplicates()\n",
    "join_features_categoricos.head()"
   ]
  },
  {
   "cell_type": "code",
   "execution_count": 39,
   "metadata": {},
   "outputs": [
    {
     "name": "stdout",
     "output_type": "stream",
     "text": [
      "('Cantidad de features categoricos', 20)\n"
     ]
    }
   ],
   "source": [
    "#GENERO UNA LISTA DE DF PARA REALIZAR EL MERGE\n",
    "features_categoricos=[usersColors,usersColorsConversions,usersColorsCheckouts,usersConditionCheckouts,usersConditionConversions,usersConditionViewed,usersModelosVistos,usersModelsCheckouts,usersModelsConversions,usersSkusViewedInSearchedProducts,usersSkusViewedHomePage,usersSkusViewedBrandListing,usersSearchTerms,usersScreenResolution,usersStorageConversion,usersCampaignSource,usersCountry,usersCity,usersRegionAccess,usersDevicesTypes]\n",
    "print (\"Cantidad de features categoricos\",len(features_categoricos))#32-13+1=20"
   ]
  },
  {
   "cell_type": "code",
   "execution_count": 40,
   "metadata": {},
   "outputs": [],
   "source": [
    "#HAGO EL MERGE CON EL DF CREADO CON PERSON Y LABEL\n",
    "for feature_to_merge in features_categoricos:\n",
    "    join_features_categoricos=pd.merge(join_features_categoricos,feature_to_merge, on=['person'],how='left')"
   ]
  },
  {
   "cell_type": "code",
   "execution_count": 41,
   "metadata": {},
   "outputs": [
    {
     "name": "stdout",
     "output_type": "stream",
     "text": [
      "(19414, 16802)\n"
     ]
    },
    {
     "data": {
      "text/html": [
       "<div>\n",
       "<style scoped>\n",
       "    .dataframe tbody tr th:only-of-type {\n",
       "        vertical-align: middle;\n",
       "    }\n",
       "\n",
       "    .dataframe tbody tr th {\n",
       "        vertical-align: top;\n",
       "    }\n",
       "\n",
       "    .dataframe thead th {\n",
       "        text-align: right;\n",
       "    }\n",
       "</style>\n",
       "<table border=\"1\" class=\"dataframe\">\n",
       "  <thead>\n",
       "    <tr style=\"text-align: right;\">\n",
       "      <th></th>\n",
       "      <th>person</th>\n",
       "      <th>label</th>\n",
       "      <th>F13_color_fh1-Enero</th>\n",
       "      <th>F13_color_fh1-Febrero</th>\n",
       "      <th>F13_color_fh1-Marzo</th>\n",
       "      <th>F13_color_fh1-Abril</th>\n",
       "      <th>F13_color_fh1-Mayo</th>\n",
       "      <th>F13_color_fh10-Enero</th>\n",
       "      <th>F13_color_fh10-Febrero</th>\n",
       "      <th>F13_color_fh10-Marzo</th>\n",
       "      <th>...</th>\n",
       "      <th>F13_device_type_fh4-Enero</th>\n",
       "      <th>F13_device_type_fh4-Febrero</th>\n",
       "      <th>F13_device_type_fh4-Marzo</th>\n",
       "      <th>F13_device_type_fh4-Abril</th>\n",
       "      <th>F13_device_type_fh4-Mayo</th>\n",
       "      <th>F13_device_type_fh5-Enero</th>\n",
       "      <th>F13_device_type_fh5-Febrero</th>\n",
       "      <th>F13_device_type_fh5-Marzo</th>\n",
       "      <th>F13_device_type_fh5-Abril</th>\n",
       "      <th>F13_device_type_fh5-Mayo</th>\n",
       "    </tr>\n",
       "  </thead>\n",
       "  <tbody>\n",
       "    <tr>\n",
       "      <th>0</th>\n",
       "      <td>0566e9c1</td>\n",
       "      <td>0</td>\n",
       "      <td>0.0</td>\n",
       "      <td>0.0</td>\n",
       "      <td>0.0</td>\n",
       "      <td>0.0</td>\n",
       "      <td>0.0</td>\n",
       "      <td>0.0</td>\n",
       "      <td>0.0</td>\n",
       "      <td>0.0</td>\n",
       "      <td>...</td>\n",
       "      <td>0.0</td>\n",
       "      <td>0.0</td>\n",
       "      <td>0.0</td>\n",
       "      <td>0.0</td>\n",
       "      <td>0.0</td>\n",
       "      <td>0.0</td>\n",
       "      <td>0.0</td>\n",
       "      <td>0.0</td>\n",
       "      <td>0.0</td>\n",
       "      <td>-1.0</td>\n",
       "    </tr>\n",
       "    <tr>\n",
       "      <th>1</th>\n",
       "      <td>6ec7ee77</td>\n",
       "      <td>0</td>\n",
       "      <td>0.0</td>\n",
       "      <td>0.0</td>\n",
       "      <td>0.0</td>\n",
       "      <td>0.0</td>\n",
       "      <td>0.0</td>\n",
       "      <td>0.0</td>\n",
       "      <td>0.0</td>\n",
       "      <td>0.0</td>\n",
       "      <td>...</td>\n",
       "      <td>0.0</td>\n",
       "      <td>0.0</td>\n",
       "      <td>0.0</td>\n",
       "      <td>0.0</td>\n",
       "      <td>0.0</td>\n",
       "      <td>0.0</td>\n",
       "      <td>0.0</td>\n",
       "      <td>0.0</td>\n",
       "      <td>0.0</td>\n",
       "      <td>-1.0</td>\n",
       "    </tr>\n",
       "    <tr>\n",
       "      <th>2</th>\n",
       "      <td>abe7a2fb</td>\n",
       "      <td>0</td>\n",
       "      <td>0.0</td>\n",
       "      <td>0.0</td>\n",
       "      <td>0.0</td>\n",
       "      <td>0.0</td>\n",
       "      <td>0.0</td>\n",
       "      <td>0.0</td>\n",
       "      <td>0.0</td>\n",
       "      <td>0.0</td>\n",
       "      <td>...</td>\n",
       "      <td>0.0</td>\n",
       "      <td>0.0</td>\n",
       "      <td>0.0</td>\n",
       "      <td>0.0</td>\n",
       "      <td>0.0</td>\n",
       "      <td>0.0</td>\n",
       "      <td>-1.0</td>\n",
       "      <td>-1.0</td>\n",
       "      <td>-1.0</td>\n",
       "      <td>-1.0</td>\n",
       "    </tr>\n",
       "    <tr>\n",
       "      <th>3</th>\n",
       "      <td>34728364</td>\n",
       "      <td>0</td>\n",
       "      <td>0.0</td>\n",
       "      <td>0.0</td>\n",
       "      <td>0.0</td>\n",
       "      <td>0.0</td>\n",
       "      <td>0.0</td>\n",
       "      <td>0.0</td>\n",
       "      <td>0.0</td>\n",
       "      <td>0.0</td>\n",
       "      <td>...</td>\n",
       "      <td>0.0</td>\n",
       "      <td>0.0</td>\n",
       "      <td>0.0</td>\n",
       "      <td>0.0</td>\n",
       "      <td>0.0</td>\n",
       "      <td>0.0</td>\n",
       "      <td>0.0</td>\n",
       "      <td>0.0</td>\n",
       "      <td>0.0</td>\n",
       "      <td>-1.0</td>\n",
       "    </tr>\n",
       "    <tr>\n",
       "      <th>4</th>\n",
       "      <td>87ed62de</td>\n",
       "      <td>0</td>\n",
       "      <td>0.0</td>\n",
       "      <td>0.0</td>\n",
       "      <td>0.0</td>\n",
       "      <td>0.0</td>\n",
       "      <td>0.0</td>\n",
       "      <td>0.0</td>\n",
       "      <td>0.0</td>\n",
       "      <td>0.0</td>\n",
       "      <td>...</td>\n",
       "      <td>0.0</td>\n",
       "      <td>0.0</td>\n",
       "      <td>0.0</td>\n",
       "      <td>0.0</td>\n",
       "      <td>1.0</td>\n",
       "      <td>0.0</td>\n",
       "      <td>0.0</td>\n",
       "      <td>0.0</td>\n",
       "      <td>0.0</td>\n",
       "      <td>0.0</td>\n",
       "    </tr>\n",
       "  </tbody>\n",
       "</table>\n",
       "<p>5 rows × 16802 columns</p>\n",
       "</div>"
      ],
      "text/plain": [
       "     person  label  F13_color_fh1-Enero  F13_color_fh1-Febrero  \\\n",
       "0  0566e9c1      0                  0.0                    0.0   \n",
       "1  6ec7ee77      0                  0.0                    0.0   \n",
       "2  abe7a2fb      0                  0.0                    0.0   \n",
       "3  34728364      0                  0.0                    0.0   \n",
       "4  87ed62de      0                  0.0                    0.0   \n",
       "\n",
       "   F13_color_fh1-Marzo  F13_color_fh1-Abril  F13_color_fh1-Mayo  \\\n",
       "0                  0.0                  0.0                 0.0   \n",
       "1                  0.0                  0.0                 0.0   \n",
       "2                  0.0                  0.0                 0.0   \n",
       "3                  0.0                  0.0                 0.0   \n",
       "4                  0.0                  0.0                 0.0   \n",
       "\n",
       "   F13_color_fh10-Enero  F13_color_fh10-Febrero  F13_color_fh10-Marzo  \\\n",
       "0                   0.0                     0.0                   0.0   \n",
       "1                   0.0                     0.0                   0.0   \n",
       "2                   0.0                     0.0                   0.0   \n",
       "3                   0.0                     0.0                   0.0   \n",
       "4                   0.0                     0.0                   0.0   \n",
       "\n",
       "             ...             F13_device_type_fh4-Enero  \\\n",
       "0            ...                                   0.0   \n",
       "1            ...                                   0.0   \n",
       "2            ...                                   0.0   \n",
       "3            ...                                   0.0   \n",
       "4            ...                                   0.0   \n",
       "\n",
       "   F13_device_type_fh4-Febrero  F13_device_type_fh4-Marzo  \\\n",
       "0                          0.0                        0.0   \n",
       "1                          0.0                        0.0   \n",
       "2                          0.0                        0.0   \n",
       "3                          0.0                        0.0   \n",
       "4                          0.0                        0.0   \n",
       "\n",
       "   F13_device_type_fh4-Abril  F13_device_type_fh4-Mayo  \\\n",
       "0                        0.0                       0.0   \n",
       "1                        0.0                       0.0   \n",
       "2                        0.0                       0.0   \n",
       "3                        0.0                       0.0   \n",
       "4                        0.0                       1.0   \n",
       "\n",
       "   F13_device_type_fh5-Enero  F13_device_type_fh5-Febrero  \\\n",
       "0                        0.0                          0.0   \n",
       "1                        0.0                          0.0   \n",
       "2                        0.0                         -1.0   \n",
       "3                        0.0                          0.0   \n",
       "4                        0.0                          0.0   \n",
       "\n",
       "   F13_device_type_fh5-Marzo  F13_device_type_fh5-Abril  \\\n",
       "0                        0.0                        0.0   \n",
       "1                        0.0                        0.0   \n",
       "2                       -1.0                       -1.0   \n",
       "3                        0.0                        0.0   \n",
       "4                        0.0                        0.0   \n",
       "\n",
       "   F13_device_type_fh5-Mayo  \n",
       "0                      -1.0  \n",
       "1                      -1.0  \n",
       "2                      -1.0  \n",
       "3                      -1.0  \n",
       "4                       0.0  \n",
       "\n",
       "[5 rows x 16802 columns]"
      ]
     },
     "execution_count": 41,
     "metadata": {},
     "output_type": "execute_result"
    }
   ],
   "source": [
    "#QUITO LOS NA Y COLOCO 0 Y RENOMBRO LAS COLUMNAS Y GUARDO EL ARCHIVO\n",
    "print join_features_categoricos.shape\n",
    "join_features_categoricos=join_features_categoricos.fillna(0)\n",
    "join_features_categoricos.columns = list (join_features_categoricos.columns.str.replace('_x',''))\n",
    "join_features_categoricos.columns = list (join_features_categoricos.columns.str.replace('_y',''))\n",
    "join_features_categoricos.to_csv('join_features_categoricos_train_final.csv')\n",
    "join_features_categoricos.head()"
   ]
  },
  {
   "cell_type": "code",
   "execution_count": 42,
   "metadata": {},
   "outputs": [
    {
     "data": {
      "text/html": [
       "<div>\n",
       "<style scoped>\n",
       "    .dataframe tbody tr th:only-of-type {\n",
       "        vertical-align: middle;\n",
       "    }\n",
       "\n",
       "    .dataframe tbody tr th {\n",
       "        vertical-align: top;\n",
       "    }\n",
       "\n",
       "    .dataframe thead th {\n",
       "        text-align: right;\n",
       "    }\n",
       "</style>\n",
       "<table border=\"1\" class=\"dataframe\">\n",
       "  <thead>\n",
       "    <tr style=\"text-align: right;\">\n",
       "      <th></th>\n",
       "      <th>feature</th>\n",
       "      <th>columns</th>\n",
       "    </tr>\n",
       "  </thead>\n",
       "  <tbody>\n",
       "    <tr>\n",
       "      <th>0</th>\n",
       "      <td>usersColorsConversions</td>\n",
       "      <td>35</td>\n",
       "    </tr>\n",
       "    <tr>\n",
       "      <th>1</th>\n",
       "      <td>usersCountry</td>\n",
       "      <td>40</td>\n",
       "    </tr>\n",
       "    <tr>\n",
       "      <th>2</th>\n",
       "      <td>usersRegionAccess</td>\n",
       "      <td>85</td>\n",
       "    </tr>\n",
       "    <tr>\n",
       "      <th>3</th>\n",
       "      <td>usersSkusViewedBrandListing</td>\n",
       "      <td>137</td>\n",
       "    </tr>\n",
       "    <tr>\n",
       "      <th>4</th>\n",
       "      <td>usersConditionViewed</td>\n",
       "      <td>6</td>\n",
       "    </tr>\n",
       "  </tbody>\n",
       "</table>\n",
       "</div>"
      ],
      "text/plain": [
       "                       feature  columns\n",
       "0       usersColorsConversions       35\n",
       "1                 usersCountry       40\n",
       "2            usersRegionAccess       85\n",
       "3  usersSkusViewedBrandListing      137\n",
       "4         usersConditionViewed        6"
      ]
     },
     "execution_count": 42,
     "metadata": {},
     "output_type": "execute_result"
    }
   ],
   "source": [
    "#GENERO UN DF CON EL DICCIONARIO PARA PASARLE LOS PARAMETROS A TEST\n",
    "#GUARDO EL DF QUE CONTIENE EN DICCIONARIO\n",
    "df_with_dict_df_cant_col=pd.DataFrame(dict_df_cant_col.items())\n",
    "df_with_dict_df_cant_col.columns=['feature','columns']\n",
    "df_with_dict_df_cant_col.to_csv('dict_with_feature_and_number_of_columns.csv')\n",
    "df_with_dict_df_cant_col.head()"
   ]
  }
 ],
 "metadata": {
  "kernelspec": {
   "display_name": "Python 3",
   "language": "python",
   "name": "python3"
  },
  "language_info": {
   "codemirror_mode": {
    "name": "ipython",
    "version": 3
   },
   "file_extension": ".py",
   "mimetype": "text/x-python",
   "name": "python",
   "nbconvert_exporter": "python",
   "pygments_lexer": "ipython3",
   "version": "3.6.5"
  }
 },
 "nbformat": 4,
 "nbformat_minor": 2
}

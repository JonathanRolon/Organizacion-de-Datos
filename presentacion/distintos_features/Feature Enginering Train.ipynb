{
 "cells": [
  {
   "cell_type": "code",
   "execution_count": 3,
   "metadata": {},
   "outputs": [],
   "source": [
    "#importacion de libraries\n",
    "import pandas as pd \n",
    "import numpy as np\n",
    "import matplotlib.pyplot as plt\n",
    "import seaborn as sns"
   ]
  },
  {
   "cell_type": "code",
   "execution_count": 4,
   "metadata": {},
   "outputs": [],
   "source": [
    "#carga de datasets\n",
    "#Le especifico el tipo a algunas columnas porque sino me tira un warning, podria especificar el verdadero tipo tambien\n",
    "todoSet = pd.read_csv(\"/home/jonathan/Escritorio/orgaDeDatos/fiuba-trocafone-tp2-final-set/events_up_to_01062018.csv\",\\\n",
    "                   dtype = {3: object,5: object,\n",
    "                    6: object,7: object,\n",
    "                    8: object,9: object,\n",
    "                    10: object,11: object,\n",
    "                    12: object,13: object,\n",
    "                    14: object,15: object,\n",
    "                    16: object,17: object,\n",
    "                    18: object,19: object,\n",
    "                    20: object,21: object,\n",
    "                    22: object})\n",
    "trainSet = pd.read_csv(\"/home/jonathan/Escritorio/orgaDeDatos/fiuba-trocafone-tp2-final-set/labels_training_set.csv\")\n",
    "#usersJunioSet = pd.read_csv(\"/home/jonathan/Escritorio/orgaDeDatos/fiuba-trocafone-tp2-final-set/trocafone_kaggle_test.csv\")"
   ]
  },
  {
   "cell_type": "markdown",
   "metadata": {},
   "source": [
    "### Conclusiones a tener en cuenta del TP1\n",
    "\n",
    "1. static page conversion y leads son muy inferiores en cantidad respecto a los demas eventos no influirian tanto en la conversion.\n",
    "2. la cantidad de personas en los dias principio de mes al 15 del mes es mayor en promedio que llegando al final del mes\n",
    "3. United States, United Kingdom, Switzerland, Rusia, Romania, \n",
    "    Portugal, Poland, Paraguay, NetherLands, Mozambique, Japan, \n",
    "    Italy, Guadeloupe, Germany,French Guiana, France, Dominican Republic,\n",
    "    Colombia, Canada, Brazil, Bangladesh, Argentina, India\n",
    "4. onsite, Google Social, socialmedia,\n",
    "5. 256GB y 512MB tienen poca cantidad de conversiones\n",
    "6. todo lo que contenga Iphone, iPhone, Samsung, Moto, Galaxy son relevantes\n",
    "17. Colores menos vistos: Branco Verde , Ônix, Preto Tabaco, Verde Petroleo, Couro Vinho, Preto Branco, Preto Bambu, Cromo, Preto Asfalto, Silver                  "
   ]
  },
  {
   "cell_type": "code",
   "execution_count": 6,
   "metadata": {},
   "outputs": [
    {
     "data": {
      "text/html": [
       "<div>\n",
       "<style scoped>\n",
       "    .dataframe tbody tr th:only-of-type {\n",
       "        vertical-align: middle;\n",
       "    }\n",
       "\n",
       "    .dataframe tbody tr th {\n",
       "        vertical-align: top;\n",
       "    }\n",
       "\n",
       "    .dataframe thead th {\n",
       "        text-align: right;\n",
       "    }\n",
       "</style>\n",
       "<table border=\"1\" class=\"dataframe\">\n",
       "  <thead>\n",
       "    <tr style=\"text-align: right;\">\n",
       "      <th></th>\n",
       "      <th>person</th>\n",
       "      <th>label</th>\n",
       "    </tr>\n",
       "  </thead>\n",
       "  <tbody>\n",
       "    <tr>\n",
       "      <th>0</th>\n",
       "      <td>0566e9c1</td>\n",
       "      <td>0</td>\n",
       "    </tr>\n",
       "    <tr>\n",
       "      <th>1</th>\n",
       "      <td>6ec7ee77</td>\n",
       "      <td>0</td>\n",
       "    </tr>\n",
       "    <tr>\n",
       "      <th>2</th>\n",
       "      <td>abe7a2fb</td>\n",
       "      <td>0</td>\n",
       "    </tr>\n",
       "    <tr>\n",
       "      <th>3</th>\n",
       "      <td>34728364</td>\n",
       "      <td>0</td>\n",
       "    </tr>\n",
       "    <tr>\n",
       "      <th>4</th>\n",
       "      <td>87ed62de</td>\n",
       "      <td>0</td>\n",
       "    </tr>\n",
       "  </tbody>\n",
       "</table>\n",
       "</div>"
      ],
      "text/plain": [
       "     person  label\n",
       "0  0566e9c1      0\n",
       "1  6ec7ee77      0\n",
       "2  abe7a2fb      0\n",
       "3  34728364      0\n",
       "4  87ed62de      0"
      ]
     },
     "execution_count": 6,
     "metadata": {},
     "output_type": "execute_result"
    }
   ],
   "source": [
    "trainSet.head()"
   ]
  },
  {
   "cell_type": "code",
   "execution_count": 5,
   "metadata": {},
   "outputs": [
    {
     "data": {
      "text/html": [
       "<div>\n",
       "<style scoped>\n",
       "    .dataframe tbody tr th:only-of-type {\n",
       "        vertical-align: middle;\n",
       "    }\n",
       "\n",
       "    .dataframe tbody tr th {\n",
       "        vertical-align: top;\n",
       "    }\n",
       "\n",
       "    .dataframe thead th {\n",
       "        text-align: right;\n",
       "    }\n",
       "</style>\n",
       "<table border=\"1\" class=\"dataframe\">\n",
       "  <thead>\n",
       "    <tr style=\"text-align: right;\">\n",
       "      <th></th>\n",
       "      <th>person</th>\n",
       "    </tr>\n",
       "  </thead>\n",
       "  <tbody>\n",
       "    <tr>\n",
       "      <th>0</th>\n",
       "      <td>4886f805</td>\n",
       "    </tr>\n",
       "    <tr>\n",
       "      <th>1</th>\n",
       "      <td>0297fc1e</td>\n",
       "    </tr>\n",
       "    <tr>\n",
       "      <th>2</th>\n",
       "      <td>2d681dd8</td>\n",
       "    </tr>\n",
       "    <tr>\n",
       "      <th>3</th>\n",
       "      <td>cccea85e</td>\n",
       "    </tr>\n",
       "    <tr>\n",
       "      <th>4</th>\n",
       "      <td>4c8a8b93</td>\n",
       "    </tr>\n",
       "  </tbody>\n",
       "</table>\n",
       "</div>"
      ],
      "text/plain": [
       "     person\n",
       "0  4886f805\n",
       "1  0297fc1e\n",
       "2  2d681dd8\n",
       "3  cccea85e\n",
       "4  4c8a8b93"
      ]
     },
     "execution_count": 5,
     "metadata": {},
     "output_type": "execute_result"
    }
   ],
   "source": [
    "#usersJunioSet.head()"
   ]
  },
  {
   "cell_type": "code",
   "execution_count": 8,
   "metadata": {},
   "outputs": [
    {
     "data": {
      "text/plain": [
       "timestamp                    object\n",
       "event                        object\n",
       "person                       object\n",
       "url                          object\n",
       "sku                         float64\n",
       "model                        object\n",
       "condition                    object\n",
       "storage                      object\n",
       "color                        object\n",
       "skus                         object\n",
       "search_term                  object\n",
       "staticpage                   object\n",
       "campaign_source              object\n",
       "search_engine                object\n",
       "channel                      object\n",
       "new_vs_returning             object\n",
       "city                         object\n",
       "region                       object\n",
       "country                      object\n",
       "device_type                  object\n",
       "screen_resolution            object\n",
       "operating_system_version     object\n",
       "browser_version              object\n",
       "dtype: object"
      ]
     },
     "execution_count": 8,
     "metadata": {},
     "output_type": "execute_result"
    }
   ],
   "source": [
    "todoSet.dtypes"
   ]
  },
  {
   "cell_type": "code",
   "execution_count": 10,
   "metadata": {},
   "outputs": [],
   "source": [
    "#conversion de Object a datetime\n",
    "todoSet['timestamp'] = pd.to_datetime(todoSet['timestamp'])"
   ]
  },
  {
   "cell_type": "markdown",
   "metadata": {},
   "source": [
    "# Feature Engineering"
   ]
  },
  {
   "cell_type": "code",
   "execution_count": 7,
   "metadata": {},
   "outputs": [],
   "source": [
    "#Comienzo buscando features sobre la cantidad de eventos por usuario"
   ]
  },
  {
   "cell_type": "code",
   "execution_count": 11,
   "metadata": {},
   "outputs": [],
   "source": [
    "#Me quedo con los usuarios que convirtieron en junio(los de train)\n",
    "usersTrain = pd.merge(todoSet,trainSet,how = 'inner',on='person')"
   ]
  },
  {
   "cell_type": "code",
   "execution_count": 12,
   "metadata": {},
   "outputs": [],
   "source": [
    "#Creo una columna con solo fecha sin tiempo\n",
    "usersTrain['fecha'] = usersTrain['timestamp'].dt.date"
   ]
  },
  {
   "cell_type": "markdown",
   "metadata": {},
   "source": [
    "### Features numericos"
   ]
  },
  {
   "cell_type": "code",
   "execution_count": 13,
   "metadata": {},
   "outputs": [
    {
     "data": {
      "text/plain": [
       "viewed product       629233\n",
       "brand listing        105993\n",
       "visited site         102299\n",
       "ad campaign hit       94998\n",
       "generic listing       80453\n",
       "searched products     63887\n",
       "search engine hit     52829\n",
       "checkout              32539\n",
       "staticpage             5660\n",
       "conversion             3564\n",
       "lead                    431\n",
       "Name: event, dtype: int64"
      ]
     },
     "execution_count": 13,
     "metadata": {},
     "output_type": "execute_result"
    }
   ],
   "source": [
    "usersTrain['event'].value_counts()"
   ]
  },
  {
   "cell_type": "code",
   "execution_count": 14,
   "metadata": {},
   "outputs": [],
   "source": [
    "def agruparPorPersonaFecha(dataframe,evento,nuevoNombreEvento):\n",
    "    feature = dataframe[dataframe['event'] == evento].sort_values(by = 'fecha')\n",
    "    feature = feature.groupby(['fecha','person'])['event'].size()\n",
    "    feature = pd.DataFrame(data = feature)\\\n",
    "                        .rename(columns = {'event' : nuevoNombreEvento})\n",
    "    feature = feature.sort_values(by = ['fecha','person']).reset_index()\n",
    "    feature['fecha'] = pd.to_datetime(feature['fecha'])\n",
    "    feature['mes'] = feature['fecha'].dt.month\n",
    "    feature = feature[['mes','person',nuevoNombreEvento]]\n",
    "    feature = pd.DataFrame(data = feature.groupby(['mes','person'])[nuevoNombreEvento]\\\n",
    "                             .size()).unstack('mes',0).reset_index('person')\n",
    "    feature = pd.merge(feature,trainSet,on='person',how='inner')\\\n",
    "                             .drop(('person', ''),1).rename(columns = {\\\n",
    "                                (nuevoNombreEvento, 1) : 'Enero - ' + nuevoNombreEvento,\\\n",
    "                                (nuevoNombreEvento, 2) : 'Febrero - ' + nuevoNombreEvento,\\\n",
    "                                 (nuevoNombreEvento, 3) : 'Marzo - ' + nuevoNombreEvento,\\\n",
    "                                 (nuevoNombreEvento, 4) : 'Abril - ' + nuevoNombreEvento,\\\n",
    "                                (nuevoNombreEvento, 5) : 'Mayo - ' + nuevoNombreEvento})\n",
    "    return feature"
   ]
  },
  {
   "cell_type": "code",
   "execution_count": 15,
   "metadata": {},
   "outputs": [
    {
     "name": "stderr",
     "output_type": "stream",
     "text": [
      "/home/jonathan/anaconda3/lib/python3.6/site-packages/pandas/core/reshape/merge.py:543: UserWarning: merging between different levels can give an unintended result (2 levels on the left, 1 on the right)\n",
      "  warnings.warn(msg, UserWarning)\n"
     ]
    },
    {
     "data": {
      "text/html": [
       "<div>\n",
       "<style scoped>\n",
       "    .dataframe tbody tr th:only-of-type {\n",
       "        vertical-align: middle;\n",
       "    }\n",
       "\n",
       "    .dataframe tbody tr th {\n",
       "        vertical-align: top;\n",
       "    }\n",
       "\n",
       "    .dataframe thead th {\n",
       "        text-align: right;\n",
       "    }\n",
       "</style>\n",
       "<table border=\"1\" class=\"dataframe\">\n",
       "  <thead>\n",
       "    <tr style=\"text-align: right;\">\n",
       "      <th></th>\n",
       "      <th>person</th>\n",
       "      <th>Enero - cantidadEventos</th>\n",
       "      <th>Febrero - cantidadEventos</th>\n",
       "      <th>Marzo - cantidadEventos</th>\n",
       "      <th>Abril - cantidadEventos</th>\n",
       "      <th>Mayo - cantidadEventos</th>\n",
       "      <th>label</th>\n",
       "    </tr>\n",
       "  </thead>\n",
       "  <tbody>\n",
       "    <tr>\n",
       "      <th>0</th>\n",
       "      <td>0008ed71</td>\n",
       "      <td>0</td>\n",
       "      <td>0</td>\n",
       "      <td>0</td>\n",
       "      <td>0</td>\n",
       "      <td>1</td>\n",
       "      <td>0</td>\n",
       "    </tr>\n",
       "    <tr>\n",
       "      <th>1</th>\n",
       "      <td>000c79fe</td>\n",
       "      <td>0</td>\n",
       "      <td>0</td>\n",
       "      <td>0</td>\n",
       "      <td>0</td>\n",
       "      <td>1</td>\n",
       "      <td>0</td>\n",
       "    </tr>\n",
       "    <tr>\n",
       "      <th>2</th>\n",
       "      <td>001802e4</td>\n",
       "      <td>0</td>\n",
       "      <td>0</td>\n",
       "      <td>0</td>\n",
       "      <td>0</td>\n",
       "      <td>1</td>\n",
       "      <td>0</td>\n",
       "    </tr>\n",
       "    <tr>\n",
       "      <th>3</th>\n",
       "      <td>0019e639</td>\n",
       "      <td>1</td>\n",
       "      <td>3</td>\n",
       "      <td>0</td>\n",
       "      <td>1</td>\n",
       "      <td>9</td>\n",
       "      <td>0</td>\n",
       "    </tr>\n",
       "    <tr>\n",
       "      <th>4</th>\n",
       "      <td>001b0bf9</td>\n",
       "      <td>0</td>\n",
       "      <td>0</td>\n",
       "      <td>0</td>\n",
       "      <td>0</td>\n",
       "      <td>1</td>\n",
       "      <td>0</td>\n",
       "    </tr>\n",
       "  </tbody>\n",
       "</table>\n",
       "</div>"
      ],
      "text/plain": [
       "     person  Enero - cantidadEventos  Febrero - cantidadEventos  \\\n",
       "0  0008ed71                        0                          0   \n",
       "1  000c79fe                        0                          0   \n",
       "2  001802e4                        0                          0   \n",
       "3  0019e639                        1                          3   \n",
       "4  001b0bf9                        0                          0   \n",
       "\n",
       "   Marzo - cantidadEventos  Abril - cantidadEventos  Mayo - cantidadEventos  \\\n",
       "0                        0                        0                       1   \n",
       "1                        0                        0                       1   \n",
       "2                        0                        0                       1   \n",
       "3                        0                        1                       9   \n",
       "4                        0                        0                       1   \n",
       "\n",
       "   label  \n",
       "0      0  \n",
       "1      0  \n",
       "2      0  \n",
       "3      0  \n",
       "4      0  "
      ]
     },
     "execution_count": 15,
     "metadata": {},
     "output_type": "execute_result"
    }
   ],
   "source": [
    "# 1er feature: Cantidad de eventos por usuario\n",
    "eventosPorUserTrain = usersTrain.groupby(['fecha','person'])['event'].size()\n",
    "eventosPorUserTrain = pd.DataFrame(data = eventosPorUserTrain)\\\n",
    "                        .rename(columns = {'event' : 'cantEventos'})\n",
    "eventosPorFechaTrain = eventosPorUserTrain.sort_values(by = ['fecha','person']).reset_index()\n",
    "eventosPorFechaTrain['fecha'] = pd.to_datetime(eventosPorFechaTrain['fecha'])\n",
    "eventosPorFechaTrain['mes'] = eventosPorFechaTrain['fecha'].dt.month\n",
    "eventosPorFechaTrain = eventosPorFechaTrain[['mes','person','cantEventos']]\n",
    "eventosPorFechaTrain = pd.DataFrame(data = eventosPorFechaTrain.groupby(['mes','person'])['cantEventos']\\\n",
    "                             .size()).unstack('mes',0).reset_index('person')\n",
    "eventosPorFechaTrain = pd.merge(eventosPorFechaTrain,trainSet,on='person',how='inner').drop(('person', ''),1)\\\n",
    "    .rename(columns = {\\\n",
    "                        ('cantEventos', 1) : 'Enero - cantidadEventos',\\\n",
    "                        ('cantEventos', 2) : 'Febrero - cantidadEventos',\\\n",
    "                         ('cantEventos', 3) : 'Marzo - cantidadEventos',\\\n",
    "                         ('cantEventos', 4) : 'Abril - cantidadEventos',\\\n",
    "                        ('cantEventos', 5) : 'Mayo - cantidadEventos'\\\n",
    "})\n",
    "eventosPorFechaTrain.head()"
   ]
  },
  {
   "cell_type": "code",
   "execution_count": 16,
   "metadata": {},
   "outputs": [
    {
     "name": "stderr",
     "output_type": "stream",
     "text": [
      "/home/jonathan/anaconda3/lib/python3.6/site-packages/pandas/core/reshape/merge.py:543: UserWarning: merging between different levels can give an unintended result (2 levels on the left, 1 on the right)\n",
      "  warnings.warn(msg, UserWarning)\n"
     ]
    }
   ],
   "source": [
    "#2do feature: cantidad de checkouts por user\n",
    "\n",
    "usersChecks = agruparPorPersonaFecha(usersTrain,'checkout','checkouts')"
   ]
  },
  {
   "cell_type": "code",
   "execution_count": 33,
   "metadata": {},
   "outputs": [
    {
     "name": "stderr",
     "output_type": "stream",
     "text": [
      "/home/jonathan/anaconda3/lib/python3.6/site-packages/pandas/core/reshape/merge.py:543: UserWarning: merging between different levels can give an unintended result (2 levels on the left, 1 on the right)\n",
      "  warnings.warn(msg, UserWarning)\n"
     ]
    }
   ],
   "source": [
    "#3 feature: cantidad de conversiones por user\n",
    "usersConversions = agruparPorPersonaFecha(usersTrain,'conversion','staticPageVisitadas')\n"
   ]
  },
  {
   "cell_type": "code",
   "execution_count": 18,
   "metadata": {},
   "outputs": [
    {
     "name": "stderr",
     "output_type": "stream",
     "text": [
      "/home/jonathan/anaconda3/lib/python3.6/site-packages/pandas/core/reshape/merge.py:543: UserWarning: merging between different levels can give an unintended result (2 levels on the left, 1 on the right)\n",
      "  warnings.warn(msg, UserWarning)\n"
     ]
    }
   ],
   "source": [
    "#4 feature: cantidad de viewed product por mes por usuario\n",
    "usersViewedProducts = agruparPorPersonaFecha(usersTrain,'viewed product','ProductosVistosPorUser')\n"
   ]
  },
  {
   "cell_type": "code",
   "execution_count": 28,
   "metadata": {},
   "outputs": [
    {
     "name": "stderr",
     "output_type": "stream",
     "text": [
      "/home/jonathan/anaconda3/lib/python3.6/site-packages/pandas/core/reshape/merge.py:543: UserWarning: merging between different levels can give an unintended result (2 levels on the left, 1 on the right)\n",
      "  warnings.warn(msg, UserWarning)\n"
     ]
    }
   ],
   "source": [
    "#5 feature: cantidad de listados visitados por usuario por mes\n",
    "usersBrandListing = agruparPorPersonaFecha(usersTrain,'brand listing','listadosVisitados')"
   ]
  },
  {
   "cell_type": "code",
   "execution_count": 29,
   "metadata": {},
   "outputs": [
    {
     "name": "stderr",
     "output_type": "stream",
     "text": [
      "/home/jonathan/anaconda3/lib/python3.6/site-packages/pandas/core/reshape/merge.py:543: UserWarning: merging between different levels can give an unintended result (2 levels on the left, 1 on the right)\n",
      "  warnings.warn(msg, UserWarning)\n"
     ]
    }
   ],
   "source": [
    "#6 feature: cantidad de searched products\n",
    "usersSearchProduct = agruparPorPersonaFecha(usersTrain,'searched products','productosBuscados')"
   ]
  },
  {
   "cell_type": "code",
   "execution_count": 30,
   "metadata": {},
   "outputs": [
    {
     "name": "stderr",
     "output_type": "stream",
     "text": [
      "/home/jonathan/anaconda3/lib/python3.6/site-packages/pandas/core/reshape/merge.py:543: UserWarning: merging between different levels can give an unintended result (2 levels on the left, 1 on the right)\n",
      "  warnings.warn(msg, UserWarning)\n"
     ]
    }
   ],
   "source": [
    "#7 feature: cantidad de veces que el usuario ingresa al sitio mediante campania de marketing online\n",
    "usersCampaignMarketing = agruparPorPersonaFecha(usersTrain,'ad campaign hit','accesos por marketing online')\n"
   ]
  },
  {
   "cell_type": "code",
   "execution_count": 31,
   "metadata": {},
   "outputs": [
    {
     "name": "stderr",
     "output_type": "stream",
     "text": [
      "/home/jonathan/anaconda3/lib/python3.6/site-packages/pandas/core/reshape/merge.py:543: UserWarning: merging between different levels can give an unintended result (2 levels on the left, 1 on the right)\n",
      "  warnings.warn(msg, UserWarning)\n"
     ]
    }
   ],
   "source": [
    "#8 feature: cantidad de veces que el user ingresa al sitio mediante search engine\n",
    "usersSearchEngine =  agruparPorPersonaFecha(usersTrain,'search engine hit','searchEngine')\n"
   ]
  },
  {
   "cell_type": "code",
   "execution_count": 34,
   "metadata": {},
   "outputs": [
    {
     "name": "stderr",
     "output_type": "stream",
     "text": [
      "/home/jonathan/anaconda3/lib/python3.6/site-packages/pandas/core/reshape/merge.py:543: UserWarning: merging between different levels can give an unintended result (2 levels on the left, 1 on the right)\n",
      "  warnings.warn(msg, UserWarning)\n"
     ]
    }
   ],
   "source": [
    "#9 feature: cantidad de veces que el usuario visita la homepage\n",
    "usersHomePage = agruparPorPersonaFecha(usersTrain,'generic listing','accesos a la homepage')"
   ]
  },
  {
   "cell_type": "markdown",
   "metadata": {},
   "source": [
    "#### Armado de la matriz de features numericos\n",
    "Entiendo tiene mas sentido tomar peridos mensuales en lugar de diariamente entonces tendria n columnas de features numericos multiplicado por m donde m=cantidad de periodos tomados en este caso m=5"
   ]
  },
  {
   "cell_type": "code",
   "execution_count": 36,
   "metadata": {},
   "outputs": [],
   "source": [
    "#Hago el join \n",
    "join1 = pd.merge(eventosPorFechaTrain,usersChecks, on=['person','label'],how='left')\n",
    "join2 = pd.merge(usersViewedProducts, usersConversions, on=['person','label'],how='left')\n",
    "join3 = pd.merge(usersBrandListing, usersSearchProduct, on=['person','label'],how='left')\n",
    "join4 = pd.merge(usersCampaignMarketing, usersSearchEngine, on=['person','label'],how='left')\n",
    "join5 = pd.merge(join4, usersHomePage, on=['person','label'],how='left')\n",
    "\n",
    "join12 = pd.merge(join1,join2, on=['person','label'],how='left')\n",
    "join34 = pd.merge(join3,join4, on=['person','label'],how='left')\n",
    "join45 = pd.merge(join34,join5, on=['person','label'],how='left')\n",
    "\n",
    "join12n34 = pd.merge(join12,join34, on=['person','label'],how='left')\n",
    "\n",
    "matrizDatosNumericos = pd.merge(join12n34,join45, on=['person','label'],how='left').fillna(0)\n"
   ]
  },
  {
   "cell_type": "markdown",
   "metadata": {},
   "source": [
    "### Conclusiones a tener en cuenta del TP1\n",
    "\n",
    "1. static page conversion y leads son muy inferiores en cantidad respecto a los demas eventos no influirian tanto en la conversion.\n",
    "2. la cantidad de personas en los dias principio de mes al 15 del mes es mayor en promedio que llegando al final del mes\n",
    "3. United States, United Kingdom, Switzerland, Rusia, Romania, \n",
    "    Portugal, Poland, Paraguay, NetherLands, Mozambique, Japan, \n",
    "    Italy, Guadeloupe, Germany,French Guiana, France, Dominican Republic,\n",
    "    Colombia, Canada, Brazil, Bangladesh, Argentina, India\n",
    "4. onsite, Google Social, socialmedia,\n",
    "5. 256GB y 512MB tienen poca cantidad de conversiones\n",
    "6. todo lo que contenga Iphone, iPhone, Samsung, Moto, Galaxy son relevantes\n",
    "17. Colores menos vistos: Branco Verde , Ônix, Preto Tabaco, Verde Petroleo, Couro Vinho, Preto Branco, Preto Bambu, Cromo, Preto Asfalto, Silver                  "
   ]
  },
  {
   "cell_type": "code",
   "execution_count": 53,
   "metadata": {},
   "outputs": [
    {
     "data": {
      "text/html": [
       "<div>\n",
       "<style scoped>\n",
       "    .dataframe tbody tr th:only-of-type {\n",
       "        vertical-align: middle;\n",
       "    }\n",
       "\n",
       "    .dataframe tbody tr th {\n",
       "        vertical-align: top;\n",
       "    }\n",
       "\n",
       "    .dataframe thead th {\n",
       "        text-align: right;\n",
       "    }\n",
       "</style>\n",
       "<table border=\"1\" class=\"dataframe\">\n",
       "  <thead>\n",
       "    <tr style=\"text-align: right;\">\n",
       "      <th></th>\n",
       "      <th>person</th>\n",
       "      <th>Enero - cantidadEventos</th>\n",
       "      <th>Febrero - cantidadEventos</th>\n",
       "      <th>Marzo - cantidadEventos</th>\n",
       "      <th>Abril - cantidadEventos</th>\n",
       "      <th>Mayo - cantidadEventos</th>\n",
       "      <th>Enero - checkouts</th>\n",
       "      <th>Febrero - checkouts</th>\n",
       "      <th>Marzo - checkouts</th>\n",
       "      <th>Abril - checkouts</th>\n",
       "      <th>...</th>\n",
       "      <th>Febrero - searchEngine_y</th>\n",
       "      <th>Marzo - searchEngine_y</th>\n",
       "      <th>Abril - searchEngine_y</th>\n",
       "      <th>Mayo - searchEngine_y</th>\n",
       "      <th>Enero - accesos a la homepage</th>\n",
       "      <th>Febrero - accesos a la homepage</th>\n",
       "      <th>Marzo - accesos a la homepage</th>\n",
       "      <th>Abril - accesos a la homepage</th>\n",
       "      <th>Mayo - accesos a la homepage</th>\n",
       "      <th>label</th>\n",
       "    </tr>\n",
       "  </thead>\n",
       "  <tbody>\n",
       "    <tr>\n",
       "      <th>0</th>\n",
       "      <td>0008ed71</td>\n",
       "      <td>0</td>\n",
       "      <td>0</td>\n",
       "      <td>0</td>\n",
       "      <td>0</td>\n",
       "      <td>1</td>\n",
       "      <td>0.0</td>\n",
       "      <td>0.0</td>\n",
       "      <td>0.0</td>\n",
       "      <td>0.0</td>\n",
       "      <td>...</td>\n",
       "      <td>0.0</td>\n",
       "      <td>0.0</td>\n",
       "      <td>0.0</td>\n",
       "      <td>0.0</td>\n",
       "      <td>0.0</td>\n",
       "      <td>0.0</td>\n",
       "      <td>0.0</td>\n",
       "      <td>0.0</td>\n",
       "      <td>0.0</td>\n",
       "      <td>0</td>\n",
       "    </tr>\n",
       "    <tr>\n",
       "      <th>1</th>\n",
       "      <td>000c79fe</td>\n",
       "      <td>0</td>\n",
       "      <td>0</td>\n",
       "      <td>0</td>\n",
       "      <td>0</td>\n",
       "      <td>1</td>\n",
       "      <td>0.0</td>\n",
       "      <td>0.0</td>\n",
       "      <td>0.0</td>\n",
       "      <td>0.0</td>\n",
       "      <td>...</td>\n",
       "      <td>0.0</td>\n",
       "      <td>0.0</td>\n",
       "      <td>0.0</td>\n",
       "      <td>0.0</td>\n",
       "      <td>0.0</td>\n",
       "      <td>0.0</td>\n",
       "      <td>0.0</td>\n",
       "      <td>0.0</td>\n",
       "      <td>0.0</td>\n",
       "      <td>0</td>\n",
       "    </tr>\n",
       "    <tr>\n",
       "      <th>2</th>\n",
       "      <td>001802e4</td>\n",
       "      <td>0</td>\n",
       "      <td>0</td>\n",
       "      <td>0</td>\n",
       "      <td>0</td>\n",
       "      <td>1</td>\n",
       "      <td>0.0</td>\n",
       "      <td>0.0</td>\n",
       "      <td>0.0</td>\n",
       "      <td>0.0</td>\n",
       "      <td>...</td>\n",
       "      <td>0.0</td>\n",
       "      <td>0.0</td>\n",
       "      <td>0.0</td>\n",
       "      <td>0.0</td>\n",
       "      <td>0.0</td>\n",
       "      <td>0.0</td>\n",
       "      <td>0.0</td>\n",
       "      <td>0.0</td>\n",
       "      <td>0.0</td>\n",
       "      <td>0</td>\n",
       "    </tr>\n",
       "    <tr>\n",
       "      <th>3</th>\n",
       "      <td>0019e639</td>\n",
       "      <td>1</td>\n",
       "      <td>3</td>\n",
       "      <td>0</td>\n",
       "      <td>1</td>\n",
       "      <td>9</td>\n",
       "      <td>0.0</td>\n",
       "      <td>2.0</td>\n",
       "      <td>0.0</td>\n",
       "      <td>1.0</td>\n",
       "      <td>...</td>\n",
       "      <td>1.0</td>\n",
       "      <td>0.0</td>\n",
       "      <td>1.0</td>\n",
       "      <td>5.0</td>\n",
       "      <td>1.0</td>\n",
       "      <td>1.0</td>\n",
       "      <td>0.0</td>\n",
       "      <td>1.0</td>\n",
       "      <td>5.0</td>\n",
       "      <td>0</td>\n",
       "    </tr>\n",
       "    <tr>\n",
       "      <th>4</th>\n",
       "      <td>001b0bf9</td>\n",
       "      <td>0</td>\n",
       "      <td>0</td>\n",
       "      <td>0</td>\n",
       "      <td>0</td>\n",
       "      <td>1</td>\n",
       "      <td>0.0</td>\n",
       "      <td>0.0</td>\n",
       "      <td>0.0</td>\n",
       "      <td>0.0</td>\n",
       "      <td>...</td>\n",
       "      <td>0.0</td>\n",
       "      <td>0.0</td>\n",
       "      <td>0.0</td>\n",
       "      <td>0.0</td>\n",
       "      <td>0.0</td>\n",
       "      <td>0.0</td>\n",
       "      <td>0.0</td>\n",
       "      <td>0.0</td>\n",
       "      <td>0.0</td>\n",
       "      <td>0</td>\n",
       "    </tr>\n",
       "  </tbody>\n",
       "</table>\n",
       "<p>5 rows × 77 columns</p>\n",
       "</div>"
      ],
      "text/plain": [
       "     person  Enero - cantidadEventos  Febrero - cantidadEventos  \\\n",
       "0  0008ed71                        0                          0   \n",
       "1  000c79fe                        0                          0   \n",
       "2  001802e4                        0                          0   \n",
       "3  0019e639                        1                          3   \n",
       "4  001b0bf9                        0                          0   \n",
       "\n",
       "   Marzo - cantidadEventos  Abril - cantidadEventos  Mayo - cantidadEventos  \\\n",
       "0                        0                        0                       1   \n",
       "1                        0                        0                       1   \n",
       "2                        0                        0                       1   \n",
       "3                        0                        1                       9   \n",
       "4                        0                        0                       1   \n",
       "\n",
       "   Enero - checkouts  Febrero - checkouts  Marzo - checkouts  \\\n",
       "0                0.0                  0.0                0.0   \n",
       "1                0.0                  0.0                0.0   \n",
       "2                0.0                  0.0                0.0   \n",
       "3                0.0                  2.0                0.0   \n",
       "4                0.0                  0.0                0.0   \n",
       "\n",
       "   Abril - checkouts  ...    Febrero - searchEngine_y  Marzo - searchEngine_y  \\\n",
       "0                0.0  ...                         0.0                     0.0   \n",
       "1                0.0  ...                         0.0                     0.0   \n",
       "2                0.0  ...                         0.0                     0.0   \n",
       "3                1.0  ...                         1.0                     0.0   \n",
       "4                0.0  ...                         0.0                     0.0   \n",
       "\n",
       "   Abril - searchEngine_y  Mayo - searchEngine_y  \\\n",
       "0                     0.0                    0.0   \n",
       "1                     0.0                    0.0   \n",
       "2                     0.0                    0.0   \n",
       "3                     1.0                    5.0   \n",
       "4                     0.0                    0.0   \n",
       "\n",
       "   Enero - accesos a la homepage  Febrero - accesos a la homepage  \\\n",
       "0                            0.0                              0.0   \n",
       "1                            0.0                              0.0   \n",
       "2                            0.0                              0.0   \n",
       "3                            1.0                              1.0   \n",
       "4                            0.0                              0.0   \n",
       "\n",
       "   Marzo - accesos a la homepage  Abril - accesos a la homepage  \\\n",
       "0                            0.0                            0.0   \n",
       "1                            0.0                            0.0   \n",
       "2                            0.0                            0.0   \n",
       "3                            0.0                            1.0   \n",
       "4                            0.0                            0.0   \n",
       "\n",
       "   Mayo - accesos a la homepage  label  \n",
       "0                           0.0      0  \n",
       "1                           0.0      0  \n",
       "2                           0.0      0  \n",
       "3                           5.0      0  \n",
       "4                           0.0      0  \n",
       "\n",
       "[5 rows x 77 columns]"
      ]
     },
     "execution_count": 53,
     "metadata": {},
     "output_type": "execute_result"
    }
   ],
   "source": [
    "def change_column_order(df, col_name, index):\n",
    "    cols = df.columns.tolist()\n",
    "    cols.remove(col_name)\n",
    "    cols.insert(index, col_name)\n",
    "    return df[cols]\n",
    "\n",
    "matrizDatosNumericos = change_column_order(matrizDatosNumericos, 'label', 76)\n",
    "matrizDatosNumericos.head()"
   ]
  },
  {
   "cell_type": "code",
   "execution_count": 48,
   "metadata": {},
   "outputs": [],
   "source": [
    "matrizDatosNumericos.to_csv('matrizDatosNumericos.csv')"
   ]
  },
  {
   "cell_type": "markdown",
   "metadata": {},
   "source": [
    "### Features categoricos"
   ]
  },
  {
   "cell_type": "code",
   "execution_count": 50,
   "metadata": {},
   "outputs": [],
   "source": [
    "usersTrain['fecha'] = pd.to_datetime(usersTrain['fecha'])\n"
   ]
  },
  {
   "cell_type": "code",
   "execution_count": 51,
   "metadata": {},
   "outputs": [
    {
     "data": {
      "text/plain": [
       "Index(['timestamp', 'event', 'person', 'url', 'sku', 'model', 'condition',\n",
       "       'storage', 'color', 'skus', 'search_term', 'staticpage',\n",
       "       'campaign_source', 'search_engine', 'channel', 'new_vs_returning',\n",
       "       'city', 'region', 'country', 'device_type', 'screen_resolution',\n",
       "       'operating_system_version', 'browser_version', 'label', 'fecha'],\n",
       "      dtype='object')"
      ]
     },
     "execution_count": 51,
     "metadata": {},
     "output_type": "execute_result"
    }
   ],
   "source": [
    "usersTrain.columns"
   ]
  },
  {
   "cell_type": "markdown",
   "metadata": {},
   "source": [
    "### Encoding : Expanding Mean"
   ]
  },
  {
   "cell_type": "code",
   "execution_count": 52,
   "metadata": {},
   "outputs": [],
   "source": [
    "\n",
    "def agruparYaplicarExpandingMean(train, evento, feature, nuevoNombre):\n",
    "    dataframe = train[train['event'] == evento]\\\n",
    "              [['fecha','person',feature,'label']].rename(columns = {feature: nuevoNombre})\\\n",
    "            .sort_values(by=['fecha','person'])\n",
    "\n",
    "    cumsum = dataframe.groupby(nuevoNombre)['label'].cumsum() - dataframe['label']\n",
    "    cumcount = dataframe.groupby(nuevoNombre).cumcount()\n",
    "    dataframe[nuevoNombre+'_mean_target'] = cumsum/cumcount\n",
    "    dataframe.fecha = dataframe.fecha.dt.month\n",
    "    dataframe = dataframe.rename(columns = {'fecha' : 'mes'}).drop(columns = nuevoNombre)\n",
    "    return dataframe\n"
   ]
  },
  {
   "cell_type": "code",
   "execution_count": 54,
   "metadata": {},
   "outputs": [],
   "source": [
    "#10mo feature: colores vistos por usuarios\n",
    "usersColors = agruparYaplicarExpandingMean(usersTrain,'viewed product','color','colorViewed')"
   ]
  },
  {
   "cell_type": "code",
   "execution_count": 59,
   "metadata": {},
   "outputs": [
    {
     "data": {
      "text/html": [
       "<div>\n",
       "<style scoped>\n",
       "    .dataframe tbody tr th:only-of-type {\n",
       "        vertical-align: middle;\n",
       "    }\n",
       "\n",
       "    .dataframe tbody tr th {\n",
       "        vertical-align: top;\n",
       "    }\n",
       "\n",
       "    .dataframe thead th {\n",
       "        text-align: right;\n",
       "    }\n",
       "</style>\n",
       "<table border=\"1\" class=\"dataframe\">\n",
       "  <thead>\n",
       "    <tr style=\"text-align: right;\">\n",
       "      <th></th>\n",
       "      <th>mes</th>\n",
       "      <th>person</th>\n",
       "      <th>label</th>\n",
       "      <th>colorViewed_mean_target</th>\n",
       "    </tr>\n",
       "  </thead>\n",
       "  <tbody>\n",
       "    <tr>\n",
       "      <th>428924</th>\n",
       "      <td>1</td>\n",
       "      <td>53a01f1e</td>\n",
       "      <td>0</td>\n",
       "      <td>NaN</td>\n",
       "    </tr>\n",
       "    <tr>\n",
       "      <th>428928</th>\n",
       "      <td>1</td>\n",
       "      <td>53a01f1e</td>\n",
       "      <td>0</td>\n",
       "      <td>0.000000</td>\n",
       "    </tr>\n",
       "    <tr>\n",
       "      <th>366226</th>\n",
       "      <td>1</td>\n",
       "      <td>8af11dbc</td>\n",
       "      <td>1</td>\n",
       "      <td>NaN</td>\n",
       "    </tr>\n",
       "    <tr>\n",
       "      <th>366227</th>\n",
       "      <td>1</td>\n",
       "      <td>8af11dbc</td>\n",
       "      <td>1</td>\n",
       "      <td>0.000000</td>\n",
       "    </tr>\n",
       "    <tr>\n",
       "      <th>366229</th>\n",
       "      <td>1</td>\n",
       "      <td>8af11dbc</td>\n",
       "      <td>1</td>\n",
       "      <td>0.250000</td>\n",
       "    </tr>\n",
       "    <tr>\n",
       "      <th>366230</th>\n",
       "      <td>1</td>\n",
       "      <td>8af11dbc</td>\n",
       "      <td>1</td>\n",
       "      <td>0.400000</td>\n",
       "    </tr>\n",
       "    <tr>\n",
       "      <th>366231</th>\n",
       "      <td>1</td>\n",
       "      <td>8af11dbc</td>\n",
       "      <td>1</td>\n",
       "      <td>1.000000</td>\n",
       "    </tr>\n",
       "    <tr>\n",
       "      <th>366233</th>\n",
       "      <td>1</td>\n",
       "      <td>8af11dbc</td>\n",
       "      <td>1</td>\n",
       "      <td>0.500000</td>\n",
       "    </tr>\n",
       "    <tr>\n",
       "      <th>366235</th>\n",
       "      <td>1</td>\n",
       "      <td>8af11dbc</td>\n",
       "      <td>1</td>\n",
       "      <td>0.571429</td>\n",
       "    </tr>\n",
       "    <tr>\n",
       "      <th>366237</th>\n",
       "      <td>1</td>\n",
       "      <td>8af11dbc</td>\n",
       "      <td>1</td>\n",
       "      <td>0.625000</td>\n",
       "    </tr>\n",
       "    <tr>\n",
       "      <th>366238</th>\n",
       "      <td>1</td>\n",
       "      <td>8af11dbc</td>\n",
       "      <td>1</td>\n",
       "      <td>0.666667</td>\n",
       "    </tr>\n",
       "    <tr>\n",
       "      <th>366239</th>\n",
       "      <td>1</td>\n",
       "      <td>8af11dbc</td>\n",
       "      <td>1</td>\n",
       "      <td>0.700000</td>\n",
       "    </tr>\n",
       "    <tr>\n",
       "      <th>366240</th>\n",
       "      <td>1</td>\n",
       "      <td>8af11dbc</td>\n",
       "      <td>1</td>\n",
       "      <td>0.727273</td>\n",
       "    </tr>\n",
       "    <tr>\n",
       "      <th>366242</th>\n",
       "      <td>1</td>\n",
       "      <td>8af11dbc</td>\n",
       "      <td>1</td>\n",
       "      <td>0.750000</td>\n",
       "    </tr>\n",
       "    <tr>\n",
       "      <th>366243</th>\n",
       "      <td>1</td>\n",
       "      <td>8af11dbc</td>\n",
       "      <td>1</td>\n",
       "      <td>0.769231</td>\n",
       "    </tr>\n",
       "    <tr>\n",
       "      <th>366245</th>\n",
       "      <td>1</td>\n",
       "      <td>8af11dbc</td>\n",
       "      <td>1</td>\n",
       "      <td>0.785714</td>\n",
       "    </tr>\n",
       "    <tr>\n",
       "      <th>366246</th>\n",
       "      <td>1</td>\n",
       "      <td>8af11dbc</td>\n",
       "      <td>1</td>\n",
       "      <td>0.800000</td>\n",
       "    </tr>\n",
       "    <tr>\n",
       "      <th>366247</th>\n",
       "      <td>1</td>\n",
       "      <td>8af11dbc</td>\n",
       "      <td>1</td>\n",
       "      <td>0.812500</td>\n",
       "    </tr>\n",
       "    <tr>\n",
       "      <th>366248</th>\n",
       "      <td>1</td>\n",
       "      <td>8af11dbc</td>\n",
       "      <td>1</td>\n",
       "      <td>0.823529</td>\n",
       "    </tr>\n",
       "    <tr>\n",
       "      <th>366249</th>\n",
       "      <td>1</td>\n",
       "      <td>8af11dbc</td>\n",
       "      <td>1</td>\n",
       "      <td>0.833333</td>\n",
       "    </tr>\n",
       "    <tr>\n",
       "      <th>366252</th>\n",
       "      <td>1</td>\n",
       "      <td>8af11dbc</td>\n",
       "      <td>1</td>\n",
       "      <td>0.842105</td>\n",
       "    </tr>\n",
       "    <tr>\n",
       "      <th>366260</th>\n",
       "      <td>1</td>\n",
       "      <td>8af11dbc</td>\n",
       "      <td>1</td>\n",
       "      <td>0.850000</td>\n",
       "    </tr>\n",
       "    <tr>\n",
       "      <th>366261</th>\n",
       "      <td>1</td>\n",
       "      <td>8af11dbc</td>\n",
       "      <td>1</td>\n",
       "      <td>0.857143</td>\n",
       "    </tr>\n",
       "    <tr>\n",
       "      <th>366262</th>\n",
       "      <td>1</td>\n",
       "      <td>8af11dbc</td>\n",
       "      <td>1</td>\n",
       "      <td>0.863636</td>\n",
       "    </tr>\n",
       "    <tr>\n",
       "      <th>366264</th>\n",
       "      <td>1</td>\n",
       "      <td>8af11dbc</td>\n",
       "      <td>1</td>\n",
       "      <td>0.869565</td>\n",
       "    </tr>\n",
       "    <tr>\n",
       "      <th>366265</th>\n",
       "      <td>1</td>\n",
       "      <td>8af11dbc</td>\n",
       "      <td>1</td>\n",
       "      <td>0.875000</td>\n",
       "    </tr>\n",
       "    <tr>\n",
       "      <th>366267</th>\n",
       "      <td>1</td>\n",
       "      <td>8af11dbc</td>\n",
       "      <td>1</td>\n",
       "      <td>0.880000</td>\n",
       "    </tr>\n",
       "    <tr>\n",
       "      <th>366269</th>\n",
       "      <td>1</td>\n",
       "      <td>8af11dbc</td>\n",
       "      <td>1</td>\n",
       "      <td>0.884615</td>\n",
       "    </tr>\n",
       "    <tr>\n",
       "      <th>366270</th>\n",
       "      <td>1</td>\n",
       "      <td>8af11dbc</td>\n",
       "      <td>1</td>\n",
       "      <td>0.888889</td>\n",
       "    </tr>\n",
       "    <tr>\n",
       "      <th>366277</th>\n",
       "      <td>1</td>\n",
       "      <td>8af11dbc</td>\n",
       "      <td>1</td>\n",
       "      <td>0.892857</td>\n",
       "    </tr>\n",
       "    <tr>\n",
       "      <th>...</th>\n",
       "      <td>...</td>\n",
       "      <td>...</td>\n",
       "      <td>...</td>\n",
       "      <td>...</td>\n",
       "    </tr>\n",
       "    <tr>\n",
       "      <th>1090396</th>\n",
       "      <td>5</td>\n",
       "      <td>ff841773</td>\n",
       "      <td>0</td>\n",
       "      <td>0.092053</td>\n",
       "    </tr>\n",
       "    <tr>\n",
       "      <th>1090397</th>\n",
       "      <td>5</td>\n",
       "      <td>ff841773</td>\n",
       "      <td>0</td>\n",
       "      <td>0.092052</td>\n",
       "    </tr>\n",
       "    <tr>\n",
       "      <th>1090398</th>\n",
       "      <td>5</td>\n",
       "      <td>ff841773</td>\n",
       "      <td>0</td>\n",
       "      <td>0.092051</td>\n",
       "    </tr>\n",
       "    <tr>\n",
       "      <th>1090399</th>\n",
       "      <td>5</td>\n",
       "      <td>ff841773</td>\n",
       "      <td>0</td>\n",
       "      <td>0.092051</td>\n",
       "    </tr>\n",
       "    <tr>\n",
       "      <th>1090400</th>\n",
       "      <td>5</td>\n",
       "      <td>ff841773</td>\n",
       "      <td>0</td>\n",
       "      <td>0.086498</td>\n",
       "    </tr>\n",
       "    <tr>\n",
       "      <th>1090401</th>\n",
       "      <td>5</td>\n",
       "      <td>ff841773</td>\n",
       "      <td>0</td>\n",
       "      <td>0.079863</td>\n",
       "    </tr>\n",
       "    <tr>\n",
       "      <th>1090402</th>\n",
       "      <td>5</td>\n",
       "      <td>ff841773</td>\n",
       "      <td>0</td>\n",
       "      <td>0.092050</td>\n",
       "    </tr>\n",
       "    <tr>\n",
       "      <th>1090403</th>\n",
       "      <td>5</td>\n",
       "      <td>ff841773</td>\n",
       "      <td>0</td>\n",
       "      <td>0.092050</td>\n",
       "    </tr>\n",
       "    <tr>\n",
       "      <th>1090404</th>\n",
       "      <td>5</td>\n",
       "      <td>ff841773</td>\n",
       "      <td>0</td>\n",
       "      <td>0.092049</td>\n",
       "    </tr>\n",
       "    <tr>\n",
       "      <th>1090405</th>\n",
       "      <td>5</td>\n",
       "      <td>ff841773</td>\n",
       "      <td>0</td>\n",
       "      <td>0.103462</td>\n",
       "    </tr>\n",
       "    <tr>\n",
       "      <th>1090406</th>\n",
       "      <td>5</td>\n",
       "      <td>ff841773</td>\n",
       "      <td>0</td>\n",
       "      <td>0.103456</td>\n",
       "    </tr>\n",
       "    <tr>\n",
       "      <th>1090407</th>\n",
       "      <td>5</td>\n",
       "      <td>ff841773</td>\n",
       "      <td>0</td>\n",
       "      <td>0.092048</td>\n",
       "    </tr>\n",
       "    <tr>\n",
       "      <th>1090408</th>\n",
       "      <td>5</td>\n",
       "      <td>ff841773</td>\n",
       "      <td>0</td>\n",
       "      <td>0.092048</td>\n",
       "    </tr>\n",
       "    <tr>\n",
       "      <th>1090409</th>\n",
       "      <td>5</td>\n",
       "      <td>ff841773</td>\n",
       "      <td>0</td>\n",
       "      <td>0.092047</td>\n",
       "    </tr>\n",
       "    <tr>\n",
       "      <th>1090411</th>\n",
       "      <td>5</td>\n",
       "      <td>ff841773</td>\n",
       "      <td>0</td>\n",
       "      <td>0.092046</td>\n",
       "    </tr>\n",
       "    <tr>\n",
       "      <th>1090413</th>\n",
       "      <td>5</td>\n",
       "      <td>ff841773</td>\n",
       "      <td>0</td>\n",
       "      <td>0.092046</td>\n",
       "    </tr>\n",
       "    <tr>\n",
       "      <th>1090414</th>\n",
       "      <td>5</td>\n",
       "      <td>ff841773</td>\n",
       "      <td>0</td>\n",
       "      <td>0.092045</td>\n",
       "    </tr>\n",
       "    <tr>\n",
       "      <th>923079</th>\n",
       "      <td>5</td>\n",
       "      <td>ff8a9723</td>\n",
       "      <td>0</td>\n",
       "      <td>0.086498</td>\n",
       "    </tr>\n",
       "    <tr>\n",
       "      <th>663035</th>\n",
       "      <td>5</td>\n",
       "      <td>ffe066cc</td>\n",
       "      <td>0</td>\n",
       "      <td>0.086497</td>\n",
       "    </tr>\n",
       "    <tr>\n",
       "      <th>663039</th>\n",
       "      <td>5</td>\n",
       "      <td>ffe066cc</td>\n",
       "      <td>0</td>\n",
       "      <td>0.086496</td>\n",
       "    </tr>\n",
       "    <tr>\n",
       "      <th>663040</th>\n",
       "      <td>5</td>\n",
       "      <td>ffe066cc</td>\n",
       "      <td>0</td>\n",
       "      <td>0.086496</td>\n",
       "    </tr>\n",
       "    <tr>\n",
       "      <th>663055</th>\n",
       "      <td>5</td>\n",
       "      <td>ffe066cc</td>\n",
       "      <td>0</td>\n",
       "      <td>0.086495</td>\n",
       "    </tr>\n",
       "    <tr>\n",
       "      <th>663056</th>\n",
       "      <td>5</td>\n",
       "      <td>ffe066cc</td>\n",
       "      <td>0</td>\n",
       "      <td>0.070651</td>\n",
       "    </tr>\n",
       "    <tr>\n",
       "      <th>663058</th>\n",
       "      <td>5</td>\n",
       "      <td>ffe066cc</td>\n",
       "      <td>0</td>\n",
       "      <td>0.086494</td>\n",
       "    </tr>\n",
       "    <tr>\n",
       "      <th>663060</th>\n",
       "      <td>5</td>\n",
       "      <td>ffe066cc</td>\n",
       "      <td>0</td>\n",
       "      <td>0.086494</td>\n",
       "    </tr>\n",
       "    <tr>\n",
       "      <th>663074</th>\n",
       "      <td>5</td>\n",
       "      <td>ffe066cc</td>\n",
       "      <td>0</td>\n",
       "      <td>0.086493</td>\n",
       "    </tr>\n",
       "    <tr>\n",
       "      <th>401227</th>\n",
       "      <td>5</td>\n",
       "      <td>fff1659c</td>\n",
       "      <td>0</td>\n",
       "      <td>0.092045</td>\n",
       "    </tr>\n",
       "    <tr>\n",
       "      <th>401228</th>\n",
       "      <td>5</td>\n",
       "      <td>fff1659c</td>\n",
       "      <td>0</td>\n",
       "      <td>0.098271</td>\n",
       "    </tr>\n",
       "    <tr>\n",
       "      <th>401229</th>\n",
       "      <td>5</td>\n",
       "      <td>fff1659c</td>\n",
       "      <td>0</td>\n",
       "      <td>0.098269</td>\n",
       "    </tr>\n",
       "    <tr>\n",
       "      <th>401232</th>\n",
       "      <td>5</td>\n",
       "      <td>fff1659c</td>\n",
       "      <td>0</td>\n",
       "      <td>0.092044</td>\n",
       "    </tr>\n",
       "  </tbody>\n",
       "</table>\n",
       "<p>628262 rows × 4 columns</p>\n",
       "</div>"
      ],
      "text/plain": [
       "         mes    person  label  colorViewed_mean_target\n",
       "428924     1  53a01f1e      0                      NaN\n",
       "428928     1  53a01f1e      0                 0.000000\n",
       "366226     1  8af11dbc      1                      NaN\n",
       "366227     1  8af11dbc      1                 0.000000\n",
       "366229     1  8af11dbc      1                 0.250000\n",
       "366230     1  8af11dbc      1                 0.400000\n",
       "366231     1  8af11dbc      1                 1.000000\n",
       "366233     1  8af11dbc      1                 0.500000\n",
       "366235     1  8af11dbc      1                 0.571429\n",
       "366237     1  8af11dbc      1                 0.625000\n",
       "366238     1  8af11dbc      1                 0.666667\n",
       "366239     1  8af11dbc      1                 0.700000\n",
       "366240     1  8af11dbc      1                 0.727273\n",
       "366242     1  8af11dbc      1                 0.750000\n",
       "366243     1  8af11dbc      1                 0.769231\n",
       "366245     1  8af11dbc      1                 0.785714\n",
       "366246     1  8af11dbc      1                 0.800000\n",
       "366247     1  8af11dbc      1                 0.812500\n",
       "366248     1  8af11dbc      1                 0.823529\n",
       "366249     1  8af11dbc      1                 0.833333\n",
       "366252     1  8af11dbc      1                 0.842105\n",
       "366260     1  8af11dbc      1                 0.850000\n",
       "366261     1  8af11dbc      1                 0.857143\n",
       "366262     1  8af11dbc      1                 0.863636\n",
       "366264     1  8af11dbc      1                 0.869565\n",
       "366265     1  8af11dbc      1                 0.875000\n",
       "366267     1  8af11dbc      1                 0.880000\n",
       "366269     1  8af11dbc      1                 0.884615\n",
       "366270     1  8af11dbc      1                 0.888889\n",
       "366277     1  8af11dbc      1                 0.892857\n",
       "...      ...       ...    ...                      ...\n",
       "1090396    5  ff841773      0                 0.092053\n",
       "1090397    5  ff841773      0                 0.092052\n",
       "1090398    5  ff841773      0                 0.092051\n",
       "1090399    5  ff841773      0                 0.092051\n",
       "1090400    5  ff841773      0                 0.086498\n",
       "1090401    5  ff841773      0                 0.079863\n",
       "1090402    5  ff841773      0                 0.092050\n",
       "1090403    5  ff841773      0                 0.092050\n",
       "1090404    5  ff841773      0                 0.092049\n",
       "1090405    5  ff841773      0                 0.103462\n",
       "1090406    5  ff841773      0                 0.103456\n",
       "1090407    5  ff841773      0                 0.092048\n",
       "1090408    5  ff841773      0                 0.092048\n",
       "1090409    5  ff841773      0                 0.092047\n",
       "1090411    5  ff841773      0                 0.092046\n",
       "1090413    5  ff841773      0                 0.092046\n",
       "1090414    5  ff841773      0                 0.092045\n",
       "923079     5  ff8a9723      0                 0.086498\n",
       "663035     5  ffe066cc      0                 0.086497\n",
       "663039     5  ffe066cc      0                 0.086496\n",
       "663040     5  ffe066cc      0                 0.086496\n",
       "663055     5  ffe066cc      0                 0.086495\n",
       "663056     5  ffe066cc      0                 0.070651\n",
       "663058     5  ffe066cc      0                 0.086494\n",
       "663060     5  ffe066cc      0                 0.086494\n",
       "663074     5  ffe066cc      0                 0.086493\n",
       "401227     5  fff1659c      0                 0.092045\n",
       "401228     5  fff1659c      0                 0.098271\n",
       "401229     5  fff1659c      0                 0.098269\n",
       "401232     5  fff1659c      0                 0.092044\n",
       "\n",
       "[628262 rows x 4 columns]"
      ]
     },
     "execution_count": 59,
     "metadata": {},
     "output_type": "execute_result"
    }
   ],
   "source": [
    "usersColors.drop_duplicates()"
   ]
  },
  {
   "cell_type": "code",
   "execution_count": 38,
   "metadata": {},
   "outputs": [],
   "source": [
    "#14mo feature: colores comprados por el usuario por dia\n",
    "usersColorsConversions = agruparYaplicarExpandingMean(usersTrain,'conversion','color','colorConversions')"
   ]
  },
  {
   "cell_type": "code",
   "execution_count": 40,
   "metadata": {},
   "outputs": [],
   "source": [
    "#15mo feature: colores que llegan al checkout por usuario por dia\n",
    "usersColorsCheckouts = agruparYaplicarExpandingMean(usersTrain,'checkout','color','colorCheckouts')"
   ]
  },
  {
   "cell_type": "code",
   "execution_count": 46,
   "metadata": {},
   "outputs": [],
   "source": [
    "#16mo feature: condition de modelos con checkouts por usuario por dia\n",
    "usersConditionCheckouts =  agruparYaplicarExpandingMean(usersTrain,'checkout','condition','conditionCheckouts')"
   ]
  },
  {
   "cell_type": "code",
   "execution_count": 47,
   "metadata": {},
   "outputs": [],
   "source": [
    "#17mo feature: condition de modelos con conversiones por usuario por dia\n",
    "usersConditionConversions = agruparYaplicarExpandingMean(usersTrain,'conversion','condition','conditionConversions')            "
   ]
  },
  {
   "cell_type": "code",
   "execution_count": 48,
   "metadata": {},
   "outputs": [],
   "source": [
    "#18mo feature: condition de modelos vistos por usuario por dia\n",
    "usersConditionViewed = agruparYaplicarExpandingMean(usersTrain,'viewed product','condition','conditionViewed') "
   ]
  },
  {
   "cell_type": "code",
   "execution_count": 49,
   "metadata": {},
   "outputs": [],
   "source": [
    "#19mo feature: modelo visto por usuario por dia \n",
    "usersModelosVistos = agruparYaplicarExpandingMean(usersTrain,'viewed product','model','modelViewed') "
   ]
  },
  {
   "cell_type": "code",
   "execution_count": 17,
   "metadata": {},
   "outputs": [],
   "source": [
    "#20mo feature: modelo con checkouts por usuario por dia\n",
    "usersModelsCheckouts = agruparYaplicarExpandingMean(usersTrain,'checkout','model','modelCheckout') "
   ]
  },
  {
   "cell_type": "code",
   "execution_count": 50,
   "metadata": {},
   "outputs": [],
   "source": [
    "#21mo feature: modelo con conversiones por usuario por dia\n",
    "usersModelsConversions =  agruparYaplicarExpandingMean(usersTrain,'conversion','model','modelConversion') \n"
   ]
  },
  {
   "cell_type": "code",
   "execution_count": 53,
   "metadata": {},
   "outputs": [],
   "source": [
    "#22mo feature: skus vistos en cierta busqueda en el site por usuario por dia\n",
    "usersSkusViewedInSearchedProducts = agruparYaplicarExpandingMean(usersTrain,'searched products','skus','skusViewed')"
   ]
  },
  {
   "cell_type": "code",
   "execution_count": 54,
   "metadata": {},
   "outputs": [],
   "source": [
    "#23mo feature: skus vistos en la home page por user por dia\n",
    "usersSkusViewedHomePage = agruparYaplicarExpandingMean(usersTrain,'generic listing','skus','skuViewedGenericListing')"
   ]
  },
  {
   "cell_type": "code",
   "execution_count": 55,
   "metadata": {},
   "outputs": [],
   "source": [
    "#24mo feature: skus vistos en un listado especifico de una marca por user por dia\n",
    "usersSkusViewedBrandListing = agruparYaplicarExpandingMean(usersTrain,'brand listing','skus','skusViewedBrandListing')"
   ]
  },
  {
   "cell_type": "code",
   "execution_count": 56,
   "metadata": {},
   "outputs": [],
   "source": [
    "#25mo feature: search terms por usuario por dia\n",
    "usersSearchTerms = agruparYaplicarExpandingMean(usersTrain,'searched products','search_term','searchs')\n"
   ]
  },
  {
   "cell_type": "code",
   "execution_count": 59,
   "metadata": {},
   "outputs": [],
   "source": [
    "#26mo feature: screen resolution por usuario por dia \n",
    "usersScreenResolution = agruparYaplicarExpandingMean(usersTrain,'visited site','screen_resolution','screen_resolution')"
   ]
  },
  {
   "cell_type": "code",
   "execution_count": 60,
   "metadata": {},
   "outputs": [],
   "source": [
    "#27mo feature: storage de dispositivos convertidos por usuario por dia\n",
    "usersStorageConversion =agruparYaplicarExpandingMean(usersTrain,'conversion','storage','storageConverted')\n"
   ]
  },
  {
   "cell_type": "code",
   "execution_count": 61,
   "metadata": {},
   "outputs": [],
   "source": [
    "#28mo feature: campaign source por user por dia\n",
    "usersCampaignSource =  agruparYaplicarExpandingMean(usersTrain,'ad campaign hit','campaign_source','campaign_source')"
   ]
  },
  {
   "cell_type": "code",
   "execution_count": 62,
   "metadata": {},
   "outputs": [],
   "source": [
    "#29mo feature: country access user\n",
    "usersCountry = agruparYaplicarExpandingMean(usersTrain, 'visited site','country','countryAccess')"
   ]
  },
  {
   "cell_type": "code",
   "execution_count": 27,
   "metadata": {},
   "outputs": [],
   "source": [
    "#30mo feature: city access user\n",
    "usersCity = agruparYaplicarExpandingMean(usersTrain,'visited site','city','cityAccess')\n"
   ]
  },
  {
   "cell_type": "code",
   "execution_count": 28,
   "metadata": {},
   "outputs": [],
   "source": [
    "#31mo feature: region access user\n",
    "usersRegionAccess = agruparYaplicarExpandingMean(usersTrain,'visited site','region','skusViewed')"
   ]
  },
  {
   "cell_type": "code",
   "execution_count": 63,
   "metadata": {},
   "outputs": [],
   "source": [
    "#32mo feature: device type visited site users\n",
    "usersDevicesTypes = agruparYaplicarExpandingMean(usersTrain,'visited site','device_type','device_type_Visitantes')"
   ]
  },
  {
   "cell_type": "markdown",
   "metadata": {},
   "source": []
  },
  {
   "cell_type": "code",
   "execution_count": 30,
   "metadata": {},
   "outputs": [],
   "source": []
  },
  {
   "cell_type": "code",
   "execution_count": null,
   "metadata": {},
   "outputs": [],
   "source": []
  },
  {
   "cell_type": "code",
   "execution_count": null,
   "metadata": {},
   "outputs": [],
   "source": []
  },
  {
   "cell_type": "code",
   "execution_count": null,
   "metadata": {},
   "outputs": [],
   "source": []
  },
  {
   "cell_type": "code",
   "execution_count": null,
   "metadata": {},
   "outputs": [],
   "source": []
  },
  {
   "cell_type": "code",
   "execution_count": null,
   "metadata": {},
   "outputs": [],
   "source": []
  },
  {
   "cell_type": "code",
   "execution_count": null,
   "metadata": {},
   "outputs": [],
   "source": []
  },
  {
   "cell_type": "code",
   "execution_count": null,
   "metadata": {},
   "outputs": [],
   "source": []
  },
  {
   "cell_type": "code",
   "execution_count": null,
   "metadata": {},
   "outputs": [],
   "source": []
  },
  {
   "cell_type": "code",
   "execution_count": null,
   "metadata": {},
   "outputs": [],
   "source": []
  },
  {
   "cell_type": "code",
   "execution_count": null,
   "metadata": {},
   "outputs": [],
   "source": []
  },
  {
   "cell_type": "code",
   "execution_count": null,
   "metadata": {},
   "outputs": [],
   "source": []
  }
 ],
 "metadata": {
  "kernelspec": {
   "display_name": "Python 3",
   "language": "python",
   "name": "python3"
  },
  "language_info": {
   "codemirror_mode": {
    "name": "ipython",
    "version": 3
   },
   "file_extension": ".py",
   "mimetype": "text/x-python",
   "name": "python",
   "nbconvert_exporter": "python",
   "pygments_lexer": "ipython3",
   "version": "3.6.5"
  }
 },
 "nbformat": 4,
 "nbformat_minor": 2
}
